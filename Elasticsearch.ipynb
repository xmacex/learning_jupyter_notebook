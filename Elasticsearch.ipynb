{
 "cells": [
  {
   "cell_type": "markdown",
   "metadata": {},
   "source": [
    "# Let's tinker with Elasticsearch\n",
    "\n",
    "<img src=\"https://static-www.elastic.co/assets/bltfdc1abb6ea9e2157/icon-elasticsearch.svg\" style=\"width: 100px; float: right; drop-shadow: black 10px;\"/>\n",
    "\n",
    "I have [Elasticsearch locally](http://localhost:9200), let's learn a little bit and work with Python. For Python, the `elasticsearch` module is a low-level client, and [`elasticsearch_dsl`](http://elasticsearch-dsl.readthedocs.io) is a higher level thing.\n",
    "\n",
    "DSL is the Elasticsearch *Domain specific language* (or whatever), the query language. There Elasticsearch API contains all kinds of things for requesting the engine to analyze (to understand how it interprets input), explaining how queries are interpreted and responded to, mappings, NLP at indexing time etc."
   ]
  },
  {
   "cell_type": "code",
   "execution_count": 109,
   "metadata": {
    "collapsed": false
   },
   "outputs": [],
   "source": [
    "import elasticsearch\n",
    "import elasticsearch_dsl\n",
    "import json\n",
    "import pandas as pd"
   ]
  },
  {
   "cell_type": "code",
   "execution_count": 12,
   "metadata": {
    "collapsed": false
   },
   "outputs": [
    {
     "data": {
      "text/plain": [
       "{'cluster_name': 'elasticsearch',\n",
       " 'name': 'Malice',\n",
       " 'tagline': 'You Know, for Search',\n",
       " 'version': {'build_date': '2016-06-27T16:23:46.861Z',\n",
       "  'build_hash': '3f5b994',\n",
       "  'build_snapshot': False,\n",
       "  'lucene_version': '6.1.0',\n",
       "  'number': '5.0.0-alpha4'}}"
      ]
     },
     "execution_count": 12,
     "metadata": {},
     "output_type": "execute_result"
    }
   ],
   "source": [
    "client = elasticsearch.Elasticsearch()\n",
    "client.info()"
   ]
  },
  {
   "cell_type": "code",
   "execution_count": 142,
   "metadata": {
    "collapsed": false
   },
   "outputs": [
    {
     "name": "stdout",
     "output_type": "stream",
     "text": [
      "Smith\n",
      "Smith\n",
      "Fir\n"
     ]
    }
   ],
   "source": [
    "s = elasticsearch_dsl.Search(using=client)\n",
    "s.query(query=\"last_name:Smith\")\n",
    "resp = s.execute()\n",
    "for h in resp.hits.hits:\n",
    "    print(h['_source']['last_name'])"
   ]
  },
  {
   "cell_type": "markdown",
   "metadata": {},
   "source": [
    "An early [sketch for loading an Elasticsearch response to Pandas dataframe](http://stackoverflow.com/questions/25186148/creating-dataframe-from-elasticsearch-results):"
   ]
  },
  {
   "cell_type": "code",
   "execution_count": 138,
   "metadata": {
    "collapsed": false
   },
   "outputs": [
    {
     "data": {
      "text/html": [
       "<div>\n",
       "<table border=\"1\" class=\"dataframe\">\n",
       "  <thead>\n",
       "    <tr style=\"text-align: right;\">\n",
       "      <th></th>\n",
       "      <th>about</th>\n",
       "      <th>age</th>\n",
       "      <th>first_name</th>\n",
       "      <th>interests</th>\n",
       "      <th>last_name</th>\n",
       "    </tr>\n",
       "  </thead>\n",
       "  <tbody>\n",
       "    <tr>\n",
       "      <th>0</th>\n",
       "      <td>I like to collect rock albums</td>\n",
       "      <td>32</td>\n",
       "      <td>Jane</td>\n",
       "      <td>[music]</td>\n",
       "      <td>Smith</td>\n",
       "    </tr>\n",
       "    <tr>\n",
       "      <th>1</th>\n",
       "      <td>I love to go rock climbing</td>\n",
       "      <td>25</td>\n",
       "      <td>John</td>\n",
       "      <td>[sports, music]</td>\n",
       "      <td>Smith</td>\n",
       "    </tr>\n",
       "    <tr>\n",
       "      <th>2</th>\n",
       "      <td>I like to build cabinets</td>\n",
       "      <td>35</td>\n",
       "      <td>Douglas</td>\n",
       "      <td>[forestry]</td>\n",
       "      <td>Fir</td>\n",
       "    </tr>\n",
       "  </tbody>\n",
       "</table>\n",
       "</div>"
      ],
      "text/plain": [
       "                           about age first_name        interests last_name\n",
       "0  I like to collect rock albums  32       Jane          [music]     Smith\n",
       "1     I love to go rock climbing  25       John  [sports, music]     Smith\n",
       "2       I like to build cabinets  35    Douglas       [forestry]       Fir"
      ]
     },
     "execution_count": 138,
     "metadata": {},
     "output_type": "execute_result"
    }
   ],
   "source": [
    "#pd.DataFrame.from_dict(resp.hits.hits)\n",
    "pd.concat(map(pd.DataFrame.from_dict, resp.hits.hits), axis=1)['_source'].T.reset_index(drop=True)"
   ]
  },
  {
   "cell_type": "markdown",
   "metadata": {},
   "source": [
    "Note, we ask for explanations here too."
   ]
  },
  {
   "cell_type": "code",
   "execution_count": 217,
   "metadata": {
    "collapsed": false
   },
   "outputs": [
    {
     "name": "stdout",
     "output_type": "stream",
     "text": [
      "Jane 32\n",
      "John 25\n",
      "28.5\n"
     ]
    }
   ],
   "source": [
    "s = elasticsearch_dsl.Search(using=client, index=\"megacorp\") \\\n",
    "    .query(\"match\", last_name='Smith') \\\n",
    "    .aggs.metric('avg_age', 'avg', field='age')\n",
    "\n",
    "resp = s.extra(explain=True).execute()\n",
    "\n",
    "for hit in resp:\n",
    "    print(hit.first_name, hit.age)\n",
    "\n",
    "print(resp.aggregations.avg_age.value)"
   ]
  },
  {
   "cell_type": "markdown",
   "metadata": {},
   "source": [
    "Let's look at the rew response, which should now include the explanation too."
   ]
  },
  {
   "cell_type": "code",
   "execution_count": 224,
   "metadata": {
    "collapsed": false
   },
   "outputs": [
    {
     "data": {
      "text/plain": [
       "{'_shards': {'failed': 0, 'successful': 5, 'total': 5},\n",
       " 'aggregations': {'avg_age': {'value': 28.5}},\n",
       " 'hits': {'hits': [{'_explanation': {'description': 'weight(last_name:smith in 0) [PerFieldSimilarity], result of:',\n",
       "     'details': [{'description': 'score(doc=0,freq=1.0 = termFreq=1.0\\n), product of:',\n",
       "       'details': [{'description': 'idf(docFreq=1, docCount=1)',\n",
       "         'details': [],\n",
       "         'value': 0.2876821},\n",
       "        {'description': 'tfNorm, computed from:',\n",
       "         'details': [{'description': 'termFreq=1.0',\n",
       "           'details': [],\n",
       "           'value': 1.0},\n",
       "          {'description': 'parameter k1', 'details': [], 'value': 1.2},\n",
       "          {'description': 'parameter b', 'details': [], 'value': 0.75},\n",
       "          {'description': 'avgFieldLength', 'details': [], 'value': 1.0},\n",
       "          {'description': 'fieldLength', 'details': [], 'value': 1.0}],\n",
       "         'value': 1.0}],\n",
       "       'value': 0.2876821}],\n",
       "     'value': 0.2876821},\n",
       "    '_id': '2',\n",
       "    '_index': 'megacorp',\n",
       "    '_node': 'hcXn4V_SReyfLJFoEF996w',\n",
       "    '_score': 0.2876821,\n",
       "    '_shard': '[megacorp][2]',\n",
       "    '_source': {'about': 'I like to collect rock albums',\n",
       "     'age': 32,\n",
       "     'first_name': 'Jane',\n",
       "     'interests': ['music'],\n",
       "     'last_name': 'Smith'},\n",
       "    '_type': 'employee'},\n",
       "   {'_explanation': {'description': 'weight(last_name:smith in 0) [PerFieldSimilarity], result of:',\n",
       "     'details': [{'description': 'score(doc=0,freq=1.0 = termFreq=1.0\\n), product of:',\n",
       "       'details': [{'description': 'idf(docFreq=1, docCount=1)',\n",
       "         'details': [],\n",
       "         'value': 0.2876821},\n",
       "        {'description': 'tfNorm, computed from:',\n",
       "         'details': [{'description': 'termFreq=1.0',\n",
       "           'details': [],\n",
       "           'value': 1.0},\n",
       "          {'description': 'parameter k1', 'details': [], 'value': 1.2},\n",
       "          {'description': 'parameter b', 'details': [], 'value': 0.75},\n",
       "          {'description': 'avgFieldLength', 'details': [], 'value': 1.0},\n",
       "          {'description': 'fieldLength', 'details': [], 'value': 1.0}],\n",
       "         'value': 1.0}],\n",
       "       'value': 0.2876821}],\n",
       "     'value': 0.2876821},\n",
       "    '_id': '1',\n",
       "    '_index': 'megacorp',\n",
       "    '_node': 'hcXn4V_SReyfLJFoEF996w',\n",
       "    '_score': 0.2876821,\n",
       "    '_shard': '[megacorp][3]',\n",
       "    '_source': {'about': 'I love to go rock climbing',\n",
       "     'age': 25,\n",
       "     'first_name': 'John',\n",
       "     'interests': ['sports', 'music'],\n",
       "     'last_name': 'Smith'},\n",
       "    '_type': 'employee'}],\n",
       "  'max_score': 0.2876821,\n",
       "  'total': 2},\n",
       " 'timed_out': False,\n",
       " 'took': 36}"
      ]
     },
     "execution_count": 224,
     "metadata": {},
     "output_type": "execute_result"
    }
   ],
   "source": [
    "resp.to_dict()"
   ]
  },
  {
   "cell_type": "markdown",
   "metadata": {},
   "source": [
    "Also the `Search` object is iterable, with the results. Weird."
   ]
  },
  {
   "cell_type": "code",
   "execution_count": 226,
   "metadata": {
    "collapsed": false
   },
   "outputs": [
    {
     "name": "stdout",
     "output_type": "stream",
     "text": [
      "Jane\n",
      "John\n"
     ]
    }
   ],
   "source": [
    "for t in s:\n",
    "    print(t.first_name)"
   ]
  },
  {
   "cell_type": "markdown",
   "metadata": {},
   "source": [
    "The object is serializable like so:"
   ]
  },
  {
   "cell_type": "code",
   "execution_count": 227,
   "metadata": {
    "collapsed": false
   },
   "outputs": [
    {
     "data": {
      "text/plain": [
       "{'aggs': {'avg_age': {'avg': {'field': 'age'}}},\n",
       " 'query': {'match': {'last_name': 'Smith'}}}"
      ]
     },
     "execution_count": 227,
     "metadata": {},
     "output_type": "execute_result"
    }
   ],
   "source": [
    "s.to_dict()"
   ]
  }
 ],
 "metadata": {
  "kernelspec": {
   "display_name": "Python 3",
   "language": "python",
   "name": "python3"
  },
  "language_info": {
   "codemirror_mode": {
    "name": "ipython",
    "version": 3
   },
   "file_extension": ".py",
   "mimetype": "text/x-python",
   "name": "python",
   "nbconvert_exporter": "python",
   "pygments_lexer": "ipython3",
   "version": "3.5.2"
  },
  "widgets": {
   "state": {},
   "version": "1.1.2"
  }
 },
 "nbformat": 4,
 "nbformat_minor": 0
}
