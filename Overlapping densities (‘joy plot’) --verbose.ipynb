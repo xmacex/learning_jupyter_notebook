{
 "cells": [
  {
   "cell_type": "markdown",
   "metadata": {},
   "source": [
    "# Overlapping densities (‘joy plot’) --verbose\n",
    "\n",
    "[Seaborn](https://seaborn.pydata.org/) website provides [an example for making overlapping densities](https://seaborn.pydata.org/examples/kde_joyplot.html), aka [the trendy *joyplot*](https://twitter.com/search?q=%23joyplot), I believe by [Michael Waskom](http://www.cns.nyu.edu/~mwaskom/) ([@michaelwaskom](https://twitter.com/michaelwaskom)). But it is just an example program with a couple of trivial lines of descriptive, (c.f. motivating) code commentary, which does not qualify as a tutorial in my books. I would not have figured it out on my own, though, so a bit of a struggle with the example was very beneficial to me.\n",
    "\n",
    "I personally struggle with example code listings, and benefit from some conceptual guidance and context. I wanted to learn to do joyplots and struggled with the example for a day, so thought I'd better re-write it more verbosely for myself to better understand how it works, and perhaps for others to enjoy too :)"
   ]
  },
  {
   "cell_type": "markdown",
   "metadata": {},
   "source": [
    "# The original example\n",
    "\n",
    "The [original example](https://seaborn.pydata.org/examples/kde_joyplot.html) is as follows:\n",
    "\n",
    "![](https://seaborn.pydata.org/_images/kde_joyplot.png)\n",
    "\n",
    "```\n",
    "import numpy as np\n",
    "import pandas as pd\n",
    "import seaborn as sns\n",
    "import matplotlib.pyplot as plt\n",
    "sns.set(style=\"white\", rc={\"axes.facecolor\": (0, 0, 0, 0)})\n",
    "\n",
    "# Create the data\n",
    "rs = np.random.RandomState(1979)\n",
    "x = rs.randn(500)\n",
    "g = np.tile(list(\"ABCDEFGHIJ\"), 50)\n",
    "df = pd.DataFrame(dict(x=x, g=g))\n",
    "m = df.g.map(ord)\n",
    "df[\"x\"] += m\n",
    "\n",
    "# Initialize the FacetGrid object\n",
    "pal = sns.cubehelix_palette(10, rot=-.25, light=.7)\n",
    "g = sns.FacetGrid(df, row=\"g\", hue=\"g\", aspect=15, size=.5, palette=pal)\n",
    "\n",
    "# Draw the densities in a few steps\n",
    "g.map(sns.kdeplot, \"x\", clip_on=False, shade=True, alpha=1, lw=1.5, bw=.2)\n",
    "g.map(sns.kdeplot, \"x\", clip_on=False, color=\"w\", lw=2, bw=.2)\n",
    "g.map(plt.axhline, y=0, lw=2, clip_on=False)\n",
    "\n",
    "# Define and use a simple function to label the plot in axes coordinates\n",
    "def label(x, color, label):\n",
    "    ax = plt.gca()\n",
    "    ax.text(0, .2, label, fontweight=\"bold\", color=color, \n",
    "            ha=\"left\", va=\"center\", transform=ax.transAxes)\n",
    "\n",
    "g.map(label, \"x\")\n",
    "\n",
    "# Set the subplots to overlap\n",
    "g.fig.subplots_adjust(hspace=-.25)\n",
    "\n",
    "# Remove axes details that don't play will with overlap\n",
    "g.set_titles(\"\")\n",
    "g.set(yticks=[])\n",
    "g.despine(bottom=True, left=True)\n",
    "```"
   ]
  },
  {
   "cell_type": "markdown",
   "metadata": {},
   "source": [
    "# --verbose\n",
    "\n",
    "Let's¹ walk through the above example and try to understand what is happening, and how seaborn interacts with the data to produce a visualization.\n",
    "\n",
    "¹ by \"let's\" I mean \"Let me, and you too if you feel like it\""
   ]
  },
  {
   "cell_type": "markdown",
   "metadata": {},
   "source": [
    "## Imports and setup\n",
    "\n",
    "First, the original example imports relevant libraries."
   ]
  },
  {
   "cell_type": "code",
   "execution_count": 1,
   "metadata": {},
   "outputs": [],
   "source": [
    "import numpy as np\n",
    "import pandas as pd\n",
    "import seaborn as sns\n",
    "import matplotlib.pyplot as plt"
   ]
  },
  {
   "cell_type": "markdown",
   "metadata": {},
   "source": [
    "We are working in a Jupyter Notebook here, so we want to either give the Jupyter Notebook magic for matplotlib to plot inline, or alternatively we could use seaborn specific `seaborn.set_context(\"notebook\")`. Let's go for the most generic way to do it and set the for matplotlib."
   ]
  },
  {
   "cell_type": "code",
   "execution_count": 2,
   "metadata": {},
   "outputs": [],
   "source": [
    "%matplotlib inline"
   ]
  },
  {
   "cell_type": "markdown",
   "metadata": {},
   "source": [
    "Next, one of [the seaborn styles](https://seaborn.pydata.org/tutorial/aesthetics.html#seaborn-figure-styles) is selected, and the field color `axes.facecolor` is overridden to be white, with zero opacity by providing a dict for `rc`."
   ]
  },
  {
   "cell_type": "code",
   "execution_count": 3,
   "metadata": {},
   "outputs": [],
   "source": [
    "sns.set(style=\"white\", rc={\"axes.facecolor\": (0, 0, 0, 0)})"
   ]
  },
  {
   "cell_type": "markdown",
   "metadata": {},
   "source": [
    "## Constructing data for the example\n",
    "\n",
    "It is crucial to understand what is happenin in the data creation to see how the eventual joyplot is created. The data is stored a `pandas.DataFrame` in the so-called [narrow shape](https://en.wikipedia.org/wiki/Wide_and_narrow_data), popular in e.g. [tidyverse](https://tidyverse.org) and described in Hadley Wickham's paper [*Tidy Data*](https://www.jstatsoft.org/article/view/v059i10/v59i10.pdf) (Journal of Statistical Software, 2014. Vol 59, issue 10) but which I am not personally used to.\n",
    "\n",
    "The narrow data shape looks like this:\n",
    "\n",
    "|index $I$|variable $A$|value $V$|\n",
    "|---------|------------|---------|\n",
    "|1        | $a_1$      | $v_1$   |\n",
    "|2        | $a_2$      | $v_2$   |\n",
    "|3        | $a_3$      | $v_3$   |\n",
    "|4        | $a_1$      | $v_4$   |\n",
    "|5        | $a_2$      | $v_5$   |\n",
    "|6        | $a_3$      | $v_6$   |\n",
    "|7        | $a_1$      | $v_7$   |\n",
    "|⋮        |⋮           |⋮         |\n",
    "|$n$      | $a_3$      | $v_n$   |\n",
    "\n",
    "With index $I$ (here a natural number $\\mathbb{N}$), variables $A = (a_1, a_2, a_3)$, and values $V = v_1, v_2, \\dots v_n$. Note how the tuple $V$ recycles.\n",
    "\n",
    "Compare this with the *wide shape* of data:\n",
    "\n",
    "|index $I$|variable $a_1$|variable $a_2$|variable $a_3$|\n",
    "|---------|--------------|--------------|--------------|\n",
    "|1        |$v_1$         |$v_2$         |$v_3$         |\n",
    "|2        |$v_4$         |$v_5$         |$v_6$         |\n",
    "|3        |$v_7$         |$\\dots$       |$\\dots$       |\n",
    "|⋮        |⋮             |⋮              |⋮             |\n",
    "|$n$      |$v^{a_1}_n$   |$v^{a_2}_n$   |$v^{a_3}_n$   |"
   ]
  },
  {
   "cell_type": "code",
   "execution_count": 4,
   "metadata": {},
   "outputs": [],
   "source": [
    "# Create the data\n",
    "rs = np.random.RandomState(1979)\n",
    "x = rs.randn(500)\n",
    "g = np.tile(list(\"ABCDEFGHIJ\"), 50)\n",
    "df = pd.DataFrame(dict(x=x, g=g))\n",
    "m = df.g.map(ord)\n",
    "df[\"x\"] += m"
   ]
  },
  {
   "cell_type": "markdown",
   "metadata": {},
   "source": [
    "Above, `np.random.RandomState` is a random number generator, which is given seed *1979*. Then 500 normally (Gaussian) distributed $\\phi = \\mathcal{N}(\\mu, \\sigma^2)$, with $\\mu=0$ and $\\sigma=1$, samples are drawn from it with `randn()`.\n",
    "\n",
    "Next, `numpy.tile` is used create to ten variable A...J, fifty times, as required by the narrow data shape above. This is conceptually the same as\n",
    "\n",
    "    ['A', 'B', 'C', 'D', 'E', 'F', 'G', 'H', 'I', 'J'] * 50\n",
    "\n",
    "in plain Python, as we can see:"
   ]
  },
  {
   "cell_type": "code",
   "execution_count": 5,
   "metadata": {},
   "outputs": [
    {
     "data": {
      "text/plain": [
       "array(['A', 'B', 'C', 'D', 'E', 'F', 'G', 'H', 'I', 'J', 'A', 'B', 'C',\n",
       "       'D', 'E'],\n",
       "      dtype='<U1')"
      ]
     },
     "execution_count": 5,
     "metadata": {},
     "output_type": "execute_result"
    }
   ],
   "source": [
    "g[:15]"
   ]
  },
  {
   "cell_type": "markdown",
   "metadata": {},
   "source": [
    "Next the `pandas.DataFrame` is constructed from a dict, with the variable column titled *g* and populated from the variable `g`, and the data column titled *x*, populated from `x`."
   ]
  },
  {
   "cell_type": "code",
   "execution_count": 6,
   "metadata": {},
   "outputs": [
    {
     "data": {
      "text/html": [
       "<div>\n",
       "<style>\n",
       "    .dataframe thead tr:only-child th {\n",
       "        text-align: right;\n",
       "    }\n",
       "\n",
       "    .dataframe thead th {\n",
       "        text-align: left;\n",
       "    }\n",
       "\n",
       "    .dataframe tbody tr th {\n",
       "        vertical-align: top;\n",
       "    }\n",
       "</style>\n",
       "<table border=\"1\" class=\"dataframe\">\n",
       "  <thead>\n",
       "    <tr style=\"text-align: right;\">\n",
       "      <th></th>\n",
       "      <th>g</th>\n",
       "      <th>x</th>\n",
       "    </tr>\n",
       "  </thead>\n",
       "  <tbody>\n",
       "    <tr>\n",
       "      <th>0</th>\n",
       "      <td>A</td>\n",
       "      <td>64.038123</td>\n",
       "    </tr>\n",
       "    <tr>\n",
       "      <th>1</th>\n",
       "      <td>B</td>\n",
       "      <td>66.147050</td>\n",
       "    </tr>\n",
       "    <tr>\n",
       "      <th>2</th>\n",
       "      <td>C</td>\n",
       "      <td>66.370011</td>\n",
       "    </tr>\n",
       "    <tr>\n",
       "      <th>3</th>\n",
       "      <td>D</td>\n",
       "      <td>68.791019</td>\n",
       "    </tr>\n",
       "    <tr>\n",
       "      <th>4</th>\n",
       "      <td>E</td>\n",
       "      <td>70.583534</td>\n",
       "    </tr>\n",
       "    <tr>\n",
       "      <th>5</th>\n",
       "      <td>F</td>\n",
       "      <td>69.135114</td>\n",
       "    </tr>\n",
       "    <tr>\n",
       "      <th>6</th>\n",
       "      <td>G</td>\n",
       "      <td>72.390092</td>\n",
       "    </tr>\n",
       "    <tr>\n",
       "      <th>7</th>\n",
       "      <td>H</td>\n",
       "      <td>73.822191</td>\n",
       "    </tr>\n",
       "    <tr>\n",
       "      <th>8</th>\n",
       "      <td>I</td>\n",
       "      <td>73.868785</td>\n",
       "    </tr>\n",
       "    <tr>\n",
       "      <th>9</th>\n",
       "      <td>J</td>\n",
       "      <td>72.938377</td>\n",
       "    </tr>\n",
       "    <tr>\n",
       "      <th>10</th>\n",
       "      <td>A</td>\n",
       "      <td>65.723433</td>\n",
       "    </tr>\n",
       "  </tbody>\n",
       "</table>\n",
       "</div>"
      ],
      "text/plain": [
       "    g          x\n",
       "0   A  64.038123\n",
       "1   B  66.147050\n",
       "2   C  66.370011\n",
       "3   D  68.791019\n",
       "4   E  70.583534\n",
       "5   F  69.135114\n",
       "6   G  72.390092\n",
       "7   H  73.822191\n",
       "8   I  73.868785\n",
       "9   J  72.938377\n",
       "10  A  65.723433"
      ]
     },
     "execution_count": 6,
     "metadata": {},
     "output_type": "execute_result"
    }
   ],
   "source": [
    "df.head(11)"
   ]
  },
  {
   "cell_type": "markdown",
   "metadata": {},
   "source": [
    "Finally a `m` is defined by running `ord` function over the dataframe variable column `g`, and then added to the values of x. The `ord` function returns the Unicode point of it's argument, with 'A' = 65, 'B' = 66 etc. This purpose of this here is to create the cascade of values visible in the example visualization, and create interesting structure in the data to look at. For each of the normally distributed $\\phi = \\mathcal{N}(\\mu, \\sigma^2)$ random variables $A \\dots I$, this will give us $\\mu_{A} = 65$, $\\mu_{B} = 66$, $\\mu_{C} = 67$ ... $\\mu_{J} = 74$, and $\\sigma = 1$ for all of them.\n",
    "\n",
    "There are 50 samples for each of A...I.\n",
    "\n",
    "One could imagine a time series or something like that."
   ]
  },
  {
   "cell_type": "markdown",
   "metadata": {},
   "source": [
    "## Setting up the plot\n",
    "\n",
    "First, a palette is defined, with ten distinct colors because we have 10 variables A...I in the data, with some rotation around the hue wheel. -0.25 gives us a deep blue. The lightest color in the ten-color palette is set to 0.7, *ie.* some distance apart from no color intensity, which would be white.\n",
    "\n",
    "Second, with the palette created, a `seaborn.FacetGrid` object is instantiated, and bound to the dataframe `df`. The `row` argument points to the name of the variable column in our narrow form data. This gives us a `FacetGrid` with 10 axes (ie. subplots), because we have 10 different values in the `g` of `df`.\n",
    "\n",
    "The same column `g` is also used for color, so that each stacked subgraph is of one colour from our palette. Additionally `size` is used to set the height of the axes in inches (argh Imperial units), and `aspect` it's visual aspect ratio.\n",
    "\n",
    "Please note the confusing re-use of variable name `g` in the example; the same name is given to the variable name array and then to the column in `df`, and here it is re-defined as a pointer to the `FacetGrid` object."
   ]
  },
  {
   "cell_type": "code",
   "execution_count": 7,
   "metadata": {},
   "outputs": [
    {
     "data": {
      "image/png": "[encoded data removed]",
      "text/plain": [
       "<matplotlib.figure.Figure at 0x109fbbcf8>"
      ]
     },
     "metadata": {},
     "output_type": "display_data"
    }
   ],
   "source": [
    "# Initialize the FacetGrid object\n",
    "pal = sns.cubehelix_palette(10, rot=-.25, light=.7)\n",
    "g = sns.FacetGrid(df, row=\"g\", hue=\"g\", aspect=15, size=.5, palette=pal)"
   ]
  },
  {
   "cell_type": "markdown",
   "metadata": {},
   "source": [
    "The `FacetGrid` called `g` has ten axes (=subplots), one per value in `df.g`, as we can see. At this stage of the (--verbose) tutorial nothing is plotted onto them."
   ]
  },
  {
   "cell_type": "markdown",
   "metadata": {},
   "source": [
    "## Plot the joyplot\n",
    "\n",
    "Now, to actually draw the plot, the example maps a *kernel density estimate* plot across the ten subplots using `sns.kdeplot`, specifying the `x` column of the tied dataframe as the data. I struggled to understand how this works, until the required narrow data shape made sense to my brain.\n",
    "\n",
    "Three plots are done for each subplot:\n",
    "\n",
    "1. A coloured shade\n",
    "1. A white outline\n",
    "1. A straight horizontal line at the bottom\n",
    "\n",
    "The palette does not need to be specified for the subplots, since the palette is already a property of the containing superobject `g`.\n",
    "\n",
    "A custom function `label` places the variable name at the left edge of the plot, and is called for each subplot.\n",
    "\n",
    "Then the subplots are moved upwards a quarter of a unit with `seaborn.FacetGrid.fig.subplots_adjust` to create the overlap characteristic of joyplots. Here the transparent background set with `sns.set(style=\"white\", rc={\"axes.facecolor\": (0, 0, 0, 0)})` at the very beginning of the program is important, since the horizontally lower subplot background would obstruct the plot above it (ie. *J* would partially obstruct *I*, *I* would partially obstruct *H* etc). You can set the last of the four 0's to a small value to see the partial overlap to learn about it.\n",
    "\n",
    "Finally titles and yticks are cleared since they are non-relevant for joyplots, and `seaborn.despine` is used to remove parts of the default borders of the plot."
   ]
  },
  {
   "cell_type": "code",
   "execution_count": 8,
   "metadata": {},
   "outputs": [
    {
     "data": {
      "text/plain": [
       "<seaborn.axisgrid.FacetGrid at 0x109efcf60>"
      ]
     },
     "execution_count": 8,
     "metadata": {},
     "output_type": "execute_result"
    },
    {
     "data": {
      "image/png": "[encoded data removed]",
      "text/plain": [
       "<matplotlib.figure.Figure at 0x10add3c50>"
      ]
     },
     "metadata": {},
     "output_type": "display_data"
    }
   ],
   "source": [
    "# repeated here to facilitate matplotlib/seaborn to keep it's plotting context in the cell\n",
    "g = sns.FacetGrid(df, row=\"g\", hue=\"g\", aspect=15, size=.5, palette=pal)\n",
    "\n",
    "# Draw the densities in a few steps\n",
    "g.map(sns.kdeplot, \"x\", clip_on=False, shade=True, alpha=1, lw=1.5, bw=.2)\n",
    "g.map(sns.kdeplot, \"x\", clip_on=False, color=\"w\", lw=2, bw=.2)\n",
    "g.map(plt.axhline, y=0, lw=2, clip_on=False)\n",
    "\n",
    "# Define and use a simple function to label the plot in axes coordinates\n",
    "def label(x, color, label):\n",
    "    ax = plt.gca()\n",
    "    ax.text(0, .2, label, fontweight=\"bold\", color=color, \n",
    "            ha=\"left\", va=\"center\", transform=ax.transAxes)\n",
    "\n",
    "g.map(label, \"x\")\n",
    "\n",
    "# Set the subplots to overlap\n",
    "g.fig.subplots_adjust(hspace=-.25)\n",
    "\n",
    "# Remove axes details that don't play will with overlap\n",
    "g.set_titles(\"\")\n",
    "g.set(yticks=[])\n",
    "g.despine(bottom=True, left=True)"
   ]
  }
 ],
 "metadata": {
  "kernelspec": {
   "display_name": "Python 3",
   "language": "python",
   "name": "python3"
  },
  "language_info": {
   "codemirror_mode": {
    "name": "ipython",
    "version": 3
   },
   "file_extension": ".py",
   "mimetype": "text/x-python",
   "name": "python",
   "nbconvert_exporter": "python",
   "pygments_lexer": "ipython3",
   "version": "3.6.2"
  }
 },
 "nbformat": 4,
 "nbformat_minor": 2
}
