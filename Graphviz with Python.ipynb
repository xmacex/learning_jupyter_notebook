{
 "cells": [
  {
   "cell_type": "markdown",
   "metadata": {},
   "source": [
    "# Graphviz with Python\n",
    "\n",
    "Graphviz is a set of domain specific languages for graphs. I am yet unsure what exactly is meant by the term *graph* here, does it mean $G = \\langle N, E\\rangle$ where $N$ is a set of nodes, and $E$ is a set of edges $\\lbrace \\langle n_{source}, n_{target} \\rangle | n_{source}, n_{target} \\in N \\rbrace$, or graphical things in general.\n",
    "\n",
    "At the core is the domain specific [DOT language](https://en.wikipedia.org/wiki/DOT_(graph_description_language), and then there is [Graphviz software](https://graphviz.gitlab.io) itself which process DOT.\n",
    "\n",
    "* `dot`: a command-line tool to produce layered drawings of directed graphs in a variety of output formats (PostScript, PDF, SVG, annotated text and so on).\n",
    "* `neato`: for \"spring model\" layout (in Mac OS version called \"energy minimised\")\n",
    "* `sfdp`: a layout engine for undirected graphs that scales to very large graphs.\n",
    "* `fdp`: another layout engine for undirected graphs.\n",
    "* `twopi`: for radial graph layouts.\n",
    "* `circo`: for circular graph layouts.\n",
    "* `dotty`: a graphical user interface to visualize and edit graphs.\n",
    "* `lefty`: a programmable (in a language inspired by EZ) widget that displays DOT graphs and allows the user to perform actions on them with the mouse. Lefty can therefore be used as the view in a model-view-controller GUI application that uses graphs. \n",
    "\n",
    "A couple of Python libraries exist, one of them is `pygraphviz` which I hope is the one I want to use.\n",
    "\n",
    "There is also a [web interface called Webgraphviz](http://www.webgraphviz.com/), which might be helpful for sketching."
   ]
  },
  {
   "cell_type": "code",
   "execution_count": 1,
   "metadata": {},
   "outputs": [],
   "source": [
    "import pygraphviz as pgv"
   ]
  },
  {
   "cell_type": "markdown",
   "metadata": {},
   "source": [
    "## A simple graph\n",
    "\n",
    "The `pygraphviz.AGraph` class is a start"
   ]
  },
  {
   "cell_type": "code",
   "execution_count": 2,
   "metadata": {},
   "outputs": [],
   "source": [
    "d = {'1': {'2': None}, '2': {'1': None, '3': None}, '3': {'2': None}}\n",
    "A = pgv.AGraph(d)\n",
    "A.add_node('kitten')\n",
    "A.add_edge('2', 'kitten')"
   ]
  },
  {
   "cell_type": "markdown",
   "metadata": {},
   "source": [
    "Ok that immidiately tastes like NetworkX."
   ]
  },
  {
   "cell_type": "code",
   "execution_count": 3,
   "metadata": {},
   "outputs": [
    {
     "data": {
      "text/plain": [
       "pygraphviz.agraph.AGraph"
      ]
     },
     "execution_count": 3,
     "metadata": {},
     "output_type": "execute_result"
    }
   ],
   "source": [
    "type(A)"
   ]
  },
  {
   "cell_type": "markdown",
   "metadata": {},
   "source": [
    "Let's see it in DOT"
   ]
  },
  {
   "cell_type": "code",
   "execution_count": 4,
   "metadata": {},
   "outputs": [
    {
     "name": "stdout",
     "output_type": "stream",
     "text": [
      "strict graph {\n",
      "\t2 -- 1;\n",
      "\t2 -- 3;\n",
      "\t2 -- kitten;\n",
      "}\n",
      "\n"
     ]
    }
   ],
   "source": [
    "print(A.string()) # also __repr__, so print(A) does the same thing"
   ]
  },
  {
   "cell_type": "markdown",
   "metadata": {},
   "source": [
    "As we know, graphs have not layout. So let's lay it out with `layout`. Default is *neato*, ie spring model."
   ]
  },
  {
   "cell_type": "code",
   "execution_count": 5,
   "metadata": {},
   "outputs": [],
   "source": [
    "A.layout()"
   ]
  },
  {
   "cell_type": "code",
   "execution_count": 6,
   "metadata": {
    "scrolled": true
   },
   "outputs": [
    {
     "name": "stdout",
     "output_type": "stream",
     "text": [
      "strict graph {\n",
      "\tgraph [bb=\"-86.384,-89.725,102.73,77.975\"];\n",
      "\tnode [label=\"\\N\"];\n",
      "\t2\t [height=0.5,\n",
      "\t\tpos=\"-0.15571,-0.013475\",\n",
      "\t\twidth=0.75];\n",
      "\t1\t [height=0.5,\n",
      "\t\tpos=\"75.725,11.764\",\n",
      "\t\twidth=0.75];\n",
      "\t2 -- 1\t [pos=\"26.384,4.1057 33.82,5.2599 41.901,6.5141 49.329,7.667\"];\n",
      "\t3\t [height=0.5,\n",
      "\t\tpos=\"-27.532,-71.725\",\n",
      "\t\twidth=0.75];\n",
      "\t2 -- 3\t [pos=\"-6.923,-17.74 -11.166,-28.856 -16.614,-43.126 -20.843,-54.203\"];\n",
      "\tkitten\t [height=0.5,\n",
      "\t\tpos=\"-48.037,59.975\",\n",
      "\t\twidth=1.0652];\n",
      "\t2 -- kitten\t [pos=\"-12.987,16.062 -19.635,24.392 -27.752,34.561 -34.5,43.015\"];\n",
      "}\n",
      "\n"
     ]
    }
   ],
   "source": [
    "print(A) # told you so"
   ]
  },
  {
   "cell_type": "markdown",
   "metadata": {},
   "source": [
    "Now let's render this into a file, and display in the Notebook."
   ]
  },
  {
   "cell_type": "code",
   "execution_count": 7,
   "metadata": {},
   "outputs": [],
   "source": [
    "A.draw('a_graph.png')"
   ]
  },
  {
   "cell_type": "code",
   "execution_count": 8,
   "metadata": {},
   "outputs": [
    {
     "data": {
      "image/png": "[encoded data removed]",
      "text/plain": [
       "<IPython.core.display.Image object>"
      ]
     },
     "execution_count": 8,
     "metadata": {},
     "output_type": "execute_result"
    }
   ],
   "source": [
    "from IPython.display import Image\n",
    "Image('a_graph.png')"
   ]
  },
  {
   "cell_type": "markdown",
   "metadata": {},
   "source": [
    "Very much like NetworkX. Turns out that we can render DOT graphs to Notepad directly, assuming we have set up Matplotlib to render inline, with Networkx like so."
   ]
  },
  {
   "cell_type": "code",
   "execution_count": 9,
   "metadata": {
    "scrolled": true
   },
   "outputs": [],
   "source": [
    "import networkx as nx\n",
    "import matplotlib.pyplot as plt\n",
    "%matplotlib inline\n",
    "plt.style.use('seaborn')"
   ]
  },
  {
   "cell_type": "markdown",
   "metadata": {},
   "source": [
    "I am learning to insist myself to use the OOP, not the stateful Matplotlib interface."
   ]
  },
  {
   "cell_type": "code",
   "execution_count": 10,
   "metadata": {},
   "outputs": [
    {
     "data": {
      "image/png": "[encoded data removed]",
      "text/plain": [
       "<matplotlib.figure.Figure at 0x6d36ca70>"
      ]
     },
     "metadata": {},
     "output_type": "display_data"
    }
   ],
   "source": [
    "fig, ax = plt.subplots()\n",
    "nx.draw(A, ax=ax)"
   ]
  },
  {
   "cell_type": "markdown",
   "metadata": {},
   "source": [
    "Maybe there is a way to change default node and edge attributes too (`graph_attr`, `node_attr`, `edge_attr` maybe), and we can set attributes while creating a graph. Let's see about editing node attributes..."
   ]
  },
  {
   "cell_type": "code",
   "execution_count": 11,
   "metadata": {},
   "outputs": [],
   "source": [
    "for n in A.nodes():\n",
    "    n.attr['shape'] = 'square'\n",
    "\n",
    "for e in A.edges():\n",
    "    e.attr['color'] = 'gray'"
   ]
  },
  {
   "cell_type": "markdown",
   "metadata": {},
   "source": [
    "We can set them while adding them too, and recalculate layout."
   ]
  },
  {
   "cell_type": "code",
   "execution_count": 12,
   "metadata": {},
   "outputs": [],
   "source": [
    "A.add_node('snakie', color='green')\n",
    "A.add_edges_from([['1', 'snakie'],\n",
    "                  ['kitten', 'snakie']],\n",
    "                  color='green')\n",
    "A.layout()"
   ]
  },
  {
   "cell_type": "code",
   "execution_count": 13,
   "metadata": {},
   "outputs": [
    {
     "data": {
      "image/png": "[encoded data removed]",
      "text/plain": [
       "<IPython.core.display.Image object>"
      ]
     },
     "execution_count": 13,
     "metadata": {},
     "output_type": "execute_result"
    }
   ],
   "source": [
    "A.draw('a_graph_with_viz.png')\n",
    "Image('a_graph_with_viz.png')"
   ]
  }
 ],
 "metadata": {
  "kernelspec": {
   "display_name": "Python 3",
   "language": "python",
   "name": "python3"
  },
  "language_info": {
   "codemirror_mode": {
    "name": "ipython",
    "version": 3
   },
   "file_extension": ".py",
   "mimetype": "text/x-python",
   "name": "python",
   "nbconvert_exporter": "python",
   "pygments_lexer": "ipython3",
   "version": "3.5.3"
  }
 },
 "nbformat": 4,
 "nbformat_minor": 2
}
