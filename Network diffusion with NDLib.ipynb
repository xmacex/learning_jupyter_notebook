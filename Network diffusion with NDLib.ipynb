{
 "cells": [
  {
   "cell_type": "markdown",
   "metadata": {},
   "source": [
    "# Network diffusion with NDlib\n",
    "\n",
    "Ok so I learned that [`NDlib`](https://github.com/GiulioRossetti/ndlib) exists, and the research publication is on my to-read list.\n",
    "\n",
    "* G. Rossetti, L. Milli, S. Rinzivillo, A. Sirbu, D. Pedreschi, F. Giannotti. NDlib: a Python Library to Model and Analyze Diffusion Processes Over Complex Networks. *Journal of Data Science and Analytics*. 2017. DOI:0.1007/s41060-017-0086-6\n",
    "\n",
    "Looks pretty nice, I will want to get the hang of it. I read the tutorial already, and will want to do a bit of simulations to get experience."
   ]
  },
  {
   "cell_type": "markdown",
   "metadata": {},
   "source": [
    "## Key concepts\n",
    "\n",
    "* Simulation $S = \\langle G, M_C\\rangle$\n",
    "* Graph $G = \\langle N, \\langle G \\rangle \\rangle$ with nodes N and edges E\n",
    "* Model $M$ describes a discrete-time agent-based simulation\n",
    "* Configuration $C$ describe initial status and configuration of $M$"
   ]
  },
  {
   "cell_type": "code",
   "execution_count": 1,
   "metadata": {},
   "outputs": [],
   "source": [
    "import ndlib\n",
    "import networkx as nx"
   ]
  },
  {
   "cell_type": "markdown",
   "metadata": {},
   "source": [
    "## Basic tutorial"
   ]
  },
  {
   "cell_type": "markdown",
   "metadata": {},
   "source": [
    "An example graph"
   ]
  },
  {
   "cell_type": "code",
   "execution_count": 2,
   "metadata": {},
   "outputs": [],
   "source": [
    "G = nx.erdos_renyi_graph(2000, 0.15)"
   ]
  },
  {
   "cell_type": "markdown",
   "metadata": {},
   "source": [
    "The model, let's use [`VoterModel`](http://ndlib.readthedocs.io/en/latest/reference/models/opinion/Voter.html)\n",
    "\n",
    "> The Voter model is one of the simplest models of opinion dynamics, originally introduced to analyse competition of species and soon after applied to model elections.\n",
    ">\n",
    "> The state of the population varies based on a very simple update rule: at each iteration, a random individual is selected, who then copies the opinion of one random neighbour."
   ]
  },
  {
   "cell_type": "code",
   "execution_count": 3,
   "metadata": {},
   "outputs": [],
   "source": [
    "import ndlib.models.opinions.VoterModel\n",
    "vm = ndlib.models.opinions.VoterModel.VoterModel(G)"
   ]
  },
  {
   "cell_type": "markdown",
   "metadata": {},
   "source": [
    "Set the configuration, the Voter model has two possible parameters: float [0, 1] `percentage_infected` and set of nodes `Infected`."
   ]
  },
  {
   "cell_type": "code",
   "execution_count": 4,
   "metadata": {},
   "outputs": [],
   "source": [
    "import ndlib.models.ModelConfig\n",
    "c = ndlib.models.ModelConfig.Configuration()\n",
    "c.add_model_parameter('percentage_infected', 0.1)\n",
    "vm.set_initial_status(c)"
   ]
  },
  {
   "cell_type": "markdown",
   "metadata": {},
   "source": [
    "Four kinds of parameters for the models.\n",
    "\n",
    "* Model parameters\n",
    "* Node parameters\n",
    "* Edge parameters\n",
    "* Simulation initial status"
   ]
  },
  {
   "cell_type": "markdown",
   "metadata": {},
   "source": [
    "### Modelling\n",
    "\n",
    "First one iteration"
   ]
  },
  {
   "cell_type": "code",
   "execution_count": 5,
   "metadata": {},
   "outputs": [],
   "source": [
    "it_id, _, it_status, _ = vm.iteration()"
   ]
  },
  {
   "cell_type": "markdown",
   "metadata": {},
   "source": [
    "Then a couple of iterations"
   ]
  },
  {
   "cell_type": "code",
   "execution_count": 6,
   "metadata": {},
   "outputs": [],
   "source": [
    "it_bunch = vm.iteration_bunch(bunch_size=1000)"
   ]
  },
  {
   "cell_type": "markdown",
   "metadata": {},
   "source": [
    "### Visualization\n",
    "\n",
    "With `ndlib.viz.bokeh.DiffusionTrend` and `ndlib.viz.mpl.DiffusionTrend`, using Bokeh and Matplotlib, respectively."
   ]
  },
  {
   "cell_type": "code",
   "execution_count": 7,
   "metadata": {},
   "outputs": [
    {
     "data": {
      "text/html": [
       "\n",
       "    <div class=\"bk-root\">\n",
       "        <a href=\"https://bokeh.pydata.org\" target=\"_blank\" class=\"bk-logo bk-logo-small bk-logo-notebook\"></a>\n",
       "        <span id=\"bc9b52cd-47d5-4adf-9a49-18deb993ba9a\">Loading BokehJS ...</span>\n",
       "    </div>"
      ]
     },
     "metadata": {},
     "output_type": "display_data"
    },
    {
     "data": {
      "application/javascript": [
       "\n",
       "(function(root) {\n",
       "  function now() {\n",
       "    return new Date();\n",
       "  }\n",
       "\n",
       "  var force = true;\n",
       "\n",
       "  if (typeof (root._bokeh_onload_callbacks) === \"undefined\" || force === true) {\n",
       "    root._bokeh_onload_callbacks = [];\n",
       "    root._bokeh_is_loading = undefined;\n",
       "  }\n",
       "\n",
       "  var JS_MIME_TYPE = 'application/javascript';\n",
       "  var HTML_MIME_TYPE = 'text/html';\n",
       "  var EXEC_MIME_TYPE = 'application/vnd.bokehjs_exec.v0+json';\n",
       "  var CLASS_NAME = 'output_bokeh rendered_html';\n",
       "\n",
       "  /**\n",
       "   * Render data to the DOM node\n",
       "   */\n",
       "  function render(props, node) {\n",
       "    var script = document.createElement(\"script\");\n",
       "    node.appendChild(script);\n",
       "  }\n",
       "\n",
       "  /**\n",
       "   * Handle when an output is cleared or removed\n",
       "   */\n",
       "  function handleClearOutput(event, handle) {\n",
       "    var cell = handle.cell;\n",
       "\n",
       "    var id = cell.output_area._bokeh_element_id;\n",
       "    var server_id = cell.output_area._bokeh_server_id;\n",
       "    // Clean up Bokeh references\n",
       "    if (id !== undefined) {\n",
       "      Bokeh.index[id].model.document.clear();\n",
       "      delete Bokeh.index[id];\n",
       "    }\n",
       "\n",
       "    if (server_id !== undefined) {\n",
       "      // Clean up Bokeh references\n",
       "      var cmd = \"from bokeh.io.state import curstate; print(curstate().uuid_to_server['\" + server_id + \"'].get_sessions()[0].document.roots[0]._id)\";\n",
       "      cell.notebook.kernel.execute(cmd, {\n",
       "        iopub: {\n",
       "          output: function(msg) {\n",
       "            var element_id = msg.content.text.trim();\n",
       "            Bokeh.index[element_id].model.document.clear();\n",
       "            delete Bokeh.index[element_id];\n",
       "          }\n",
       "        }\n",
       "      });\n",
       "      // Destroy server and session\n",
       "      var cmd = \"import bokeh.io.notebook as ion; ion.destroy_server('\" + server_id + \"')\";\n",
       "      cell.notebook.kernel.execute(cmd);\n",
       "    }\n",
       "  }\n",
       "\n",
       "  /**\n",
       "   * Handle when a new output is added\n",
       "   */\n",
       "  function handleAddOutput(event, handle) {\n",
       "    var output_area = handle.output_area;\n",
       "    var output = handle.output;\n",
       "\n",
       "    // limit handleAddOutput to display_data with EXEC_MIME_TYPE content only\n",
       "    if ((output.output_type != \"display_data\") || (!output.data.hasOwnProperty(EXEC_MIME_TYPE))) {\n",
       "      return\n",
       "    }\n",
       "\n",
       "    var toinsert = output_area.element.find(\".\" + CLASS_NAME.split(' ')[0]);\n",
       "\n",
       "    if (output.metadata[EXEC_MIME_TYPE][\"id\"] !== undefined) {\n",
       "      toinsert[0].firstChild.textContent = output.data[JS_MIME_TYPE];\n",
       "      // store reference to embed id on output_area\n",
       "      output_area._bokeh_element_id = output.metadata[EXEC_MIME_TYPE][\"id\"];\n",
       "    }\n",
       "    if (output.metadata[EXEC_MIME_TYPE][\"server_id\"] !== undefined) {\n",
       "      var bk_div = document.createElement(\"div\");\n",
       "      bk_div.innerHTML = output.data[HTML_MIME_TYPE];\n",
       "      var script_attrs = bk_div.children[0].attributes;\n",
       "      for (var i = 0; i < script_attrs.length; i++) {\n",
       "        toinsert[0].firstChild.setAttribute(script_attrs[i].name, script_attrs[i].value);\n",
       "      }\n",
       "      // store reference to server id on output_area\n",
       "      output_area._bokeh_server_id = output.metadata[EXEC_MIME_TYPE][\"server_id\"];\n",
       "    }\n",
       "  }\n",
       "\n",
       "  function register_renderer(events, OutputArea) {\n",
       "\n",
       "    function append_mime(data, metadata, element) {\n",
       "      // create a DOM node to render to\n",
       "      var toinsert = this.create_output_subarea(\n",
       "        metadata,\n",
       "        CLASS_NAME,\n",
       "        EXEC_MIME_TYPE\n",
       "      );\n",
       "      this.keyboard_manager.register_events(toinsert);\n",
       "      // Render to node\n",
       "      var props = {data: data, metadata: metadata[EXEC_MIME_TYPE]};\n",
       "      render(props, toinsert[0]);\n",
       "      element.append(toinsert);\n",
       "      return toinsert\n",
       "    }\n",
       "\n",
       "    /* Handle when an output is cleared or removed */\n",
       "    events.on('clear_output.CodeCell', handleClearOutput);\n",
       "    events.on('delete.Cell', handleClearOutput);\n",
       "\n",
       "    /* Handle when a new output is added */\n",
       "    events.on('output_added.OutputArea', handleAddOutput);\n",
       "\n",
       "    /**\n",
       "     * Register the mime type and append_mime function with output_area\n",
       "     */\n",
       "    OutputArea.prototype.register_mime_type(EXEC_MIME_TYPE, append_mime, {\n",
       "      /* Is output safe? */\n",
       "      safe: true,\n",
       "      /* Index of renderer in `output_area.display_order` */\n",
       "      index: 0\n",
       "    });\n",
       "  }\n",
       "\n",
       "  // register the mime type if in Jupyter Notebook environment and previously unregistered\n",
       "  if (root.Jupyter !== undefined) {\n",
       "    var events = require('base/js/events');\n",
       "    var OutputArea = require('notebook/js/outputarea').OutputArea;\n",
       "\n",
       "    if (OutputArea.prototype.mime_types().indexOf(EXEC_MIME_TYPE) == -1) {\n",
       "      register_renderer(events, OutputArea);\n",
       "    }\n",
       "  }\n",
       "\n",
       "  \n",
       "  if (typeof (root._bokeh_timeout) === \"undefined\" || force === true) {\n",
       "    root._bokeh_timeout = Date.now() + 5000;\n",
       "    root._bokeh_failed_load = false;\n",
       "  }\n",
       "\n",
       "  var NB_LOAD_WARNING = {'data': {'text/html':\n",
       "     \"<div style='background-color: #fdd'>\\n\"+\n",
       "     \"<p>\\n\"+\n",
       "     \"BokehJS does not appear to have successfully loaded. If loading BokehJS from CDN, this \\n\"+\n",
       "     \"may be due to a slow or bad network connection. Possible fixes:\\n\"+\n",
       "     \"</p>\\n\"+\n",
       "     \"<ul>\\n\"+\n",
       "     \"<li>re-rerun `output_notebook()` to attempt to load from CDN again, or</li>\\n\"+\n",
       "     \"<li>use INLINE resources instead, as so:</li>\\n\"+\n",
       "     \"</ul>\\n\"+\n",
       "     \"<code>\\n\"+\n",
       "     \"from bokeh.resources import INLINE\\n\"+\n",
       "     \"output_notebook(resources=INLINE)\\n\"+\n",
       "     \"</code>\\n\"+\n",
       "     \"</div>\"}};\n",
       "\n",
       "  function display_loaded() {\n",
       "    var el = document.getElementById(\"bc9b52cd-47d5-4adf-9a49-18deb993ba9a\");\n",
       "    if (el != null) {\n",
       "      el.textContent = \"BokehJS is loading...\";\n",
       "    }\n",
       "    if (root.Bokeh !== undefined) {\n",
       "      if (el != null) {\n",
       "        el.textContent = \"BokehJS \" + root.Bokeh.version + \" successfully loaded.\";\n",
       "      }\n",
       "    } else if (Date.now() < root._bokeh_timeout) {\n",
       "      setTimeout(display_loaded, 100)\n",
       "    }\n",
       "  }\n",
       "\n",
       "\n",
       "  function run_callbacks() {\n",
       "    try {\n",
       "      root._bokeh_onload_callbacks.forEach(function(callback) { callback() });\n",
       "    }\n",
       "    finally {\n",
       "      delete root._bokeh_onload_callbacks\n",
       "    }\n",
       "    console.info(\"Bokeh: all callbacks have finished\");\n",
       "  }\n",
       "\n",
       "  function load_libs(js_urls, callback) {\n",
       "    root._bokeh_onload_callbacks.push(callback);\n",
       "    if (root._bokeh_is_loading > 0) {\n",
       "      console.log(\"Bokeh: BokehJS is being loaded, scheduling callback at\", now());\n",
       "      return null;\n",
       "    }\n",
       "    if (js_urls == null || js_urls.length === 0) {\n",
       "      run_callbacks();\n",
       "      return null;\n",
       "    }\n",
       "    console.log(\"Bokeh: BokehJS not loaded, scheduling load and callback at\", now());\n",
       "    root._bokeh_is_loading = js_urls.length;\n",
       "    for (var i = 0; i < js_urls.length; i++) {\n",
       "      var url = js_urls[i];\n",
       "      var s = document.createElement('script');\n",
       "      s.src = url;\n",
       "      s.async = false;\n",
       "      s.onreadystatechange = s.onload = function() {\n",
       "        root._bokeh_is_loading--;\n",
       "        if (root._bokeh_is_loading === 0) {\n",
       "          console.log(\"Bokeh: all BokehJS libraries loaded\");\n",
       "          run_callbacks()\n",
       "        }\n",
       "      };\n",
       "      s.onerror = function() {\n",
       "        console.warn(\"failed to load library \" + url);\n",
       "      };\n",
       "      console.log(\"Bokeh: injecting script tag for BokehJS library: \", url);\n",
       "      document.getElementsByTagName(\"head\")[0].appendChild(s);\n",
       "    }\n",
       "  };var element = document.getElementById(\"bc9b52cd-47d5-4adf-9a49-18deb993ba9a\");\n",
       "  if (element == null) {\n",
       "    console.log(\"Bokeh: ERROR: autoload.js configured with elementid 'bc9b52cd-47d5-4adf-9a49-18deb993ba9a' but no matching script tag was found. \")\n",
       "    return false;\n",
       "  }\n",
       "\n",
       "  var js_urls = [\"https://cdn.pydata.org/bokeh/release/bokeh-0.12.13.min.js\", \"https://cdn.pydata.org/bokeh/release/bokeh-widgets-0.12.13.min.js\", \"https://cdn.pydata.org/bokeh/release/bokeh-tables-0.12.13.min.js\", \"https://cdn.pydata.org/bokeh/release/bokeh-gl-0.12.13.min.js\"];\n",
       "\n",
       "  var inline_js = [\n",
       "    function(Bokeh) {\n",
       "      Bokeh.set_log_level(\"info\");\n",
       "    },\n",
       "    \n",
       "    function(Bokeh) {\n",
       "      \n",
       "    },\n",
       "    function(Bokeh) {\n",
       "      console.log(\"Bokeh: injecting CSS: https://cdn.pydata.org/bokeh/release/bokeh-0.12.13.min.css\");\n",
       "      Bokeh.embed.inject_css(\"https://cdn.pydata.org/bokeh/release/bokeh-0.12.13.min.css\");\n",
       "      console.log(\"Bokeh: injecting CSS: https://cdn.pydata.org/bokeh/release/bokeh-widgets-0.12.13.min.css\");\n",
       "      Bokeh.embed.inject_css(\"https://cdn.pydata.org/bokeh/release/bokeh-widgets-0.12.13.min.css\");\n",
       "      console.log(\"Bokeh: injecting CSS: https://cdn.pydata.org/bokeh/release/bokeh-tables-0.12.13.min.css\");\n",
       "      Bokeh.embed.inject_css(\"https://cdn.pydata.org/bokeh/release/bokeh-tables-0.12.13.min.css\");\n",
       "    }\n",
       "  ];\n",
       "\n",
       "  function run_inline_js() {\n",
       "    \n",
       "    if ((root.Bokeh !== undefined) || (force === true)) {\n",
       "      for (var i = 0; i < inline_js.length; i++) {\n",
       "        inline_js[i].call(root, root.Bokeh);\n",
       "      }if (force === true) {\n",
       "        display_loaded();\n",
       "      }} else if (Date.now() < root._bokeh_timeout) {\n",
       "      setTimeout(run_inline_js, 100);\n",
       "    } else if (!root._bokeh_failed_load) {\n",
       "      console.log(\"Bokeh: BokehJS failed to load within specified timeout.\");\n",
       "      root._bokeh_failed_load = true;\n",
       "    } else if (force !== true) {\n",
       "      var cell = $(document.getElementById(\"bc9b52cd-47d5-4adf-9a49-18deb993ba9a\")).parents('.cell').data().cell;\n",
       "      cell.output_area.append_execute_result(NB_LOAD_WARNING)\n",
       "    }\n",
       "\n",
       "  }\n",
       "\n",
       "  if (root._bokeh_is_loading === 0) {\n",
       "    console.log(\"Bokeh: BokehJS loaded, going straight to plotting\");\n",
       "    run_inline_js();\n",
       "  } else {\n",
       "    load_libs(js_urls, function() {\n",
       "      console.log(\"Bokeh: BokehJS plotting callback run at\", now());\n",
       "      run_inline_js();\n",
       "    });\n",
       "  }\n",
       "}(window));"
      ],
      "application/vnd.bokehjs_load.v0+json": "\n(function(root) {\n  function now() {\n    return new Date();\n  }\n\n  var force = true;\n\n  if (typeof (root._bokeh_onload_callbacks) === \"undefined\" || force === true) {\n    root._bokeh_onload_callbacks = [];\n    root._bokeh_is_loading = undefined;\n  }\n\n  \n\n  \n  if (typeof (root._bokeh_timeout) === \"undefined\" || force === true) {\n    root._bokeh_timeout = Date.now() + 5000;\n    root._bokeh_failed_load = false;\n  }\n\n  var NB_LOAD_WARNING = {'data': {'text/html':\n     \"<div style='background-color: #fdd'>\\n\"+\n     \"<p>\\n\"+\n     \"BokehJS does not appear to have successfully loaded. If loading BokehJS from CDN, this \\n\"+\n     \"may be due to a slow or bad network connection. Possible fixes:\\n\"+\n     \"</p>\\n\"+\n     \"<ul>\\n\"+\n     \"<li>re-rerun `output_notebook()` to attempt to load from CDN again, or</li>\\n\"+\n     \"<li>use INLINE resources instead, as so:</li>\\n\"+\n     \"</ul>\\n\"+\n     \"<code>\\n\"+\n     \"from bokeh.resources import INLINE\\n\"+\n     \"output_notebook(resources=INLINE)\\n\"+\n     \"</code>\\n\"+\n     \"</div>\"}};\n\n  function display_loaded() {\n    var el = document.getElementById(\"bc9b52cd-47d5-4adf-9a49-18deb993ba9a\");\n    if (el != null) {\n      el.textContent = \"BokehJS is loading...\";\n    }\n    if (root.Bokeh !== undefined) {\n      if (el != null) {\n        el.textContent = \"BokehJS \" + root.Bokeh.version + \" successfully loaded.\";\n      }\n    } else if (Date.now() < root._bokeh_timeout) {\n      setTimeout(display_loaded, 100)\n    }\n  }\n\n\n  function run_callbacks() {\n    try {\n      root._bokeh_onload_callbacks.forEach(function(callback) { callback() });\n    }\n    finally {\n      delete root._bokeh_onload_callbacks\n    }\n    console.info(\"Bokeh: all callbacks have finished\");\n  }\n\n  function load_libs(js_urls, callback) {\n    root._bokeh_onload_callbacks.push(callback);\n    if (root._bokeh_is_loading > 0) {\n      console.log(\"Bokeh: BokehJS is being loaded, scheduling callback at\", now());\n      return null;\n    }\n    if (js_urls == null || js_urls.length === 0) {\n      run_callbacks();\n      return null;\n    }\n    console.log(\"Bokeh: BokehJS not loaded, scheduling load and callback at\", now());\n    root._bokeh_is_loading = js_urls.length;\n    for (var i = 0; i < js_urls.length; i++) {\n      var url = js_urls[i];\n      var s = document.createElement('script');\n      s.src = url;\n      s.async = false;\n      s.onreadystatechange = s.onload = function() {\n        root._bokeh_is_loading--;\n        if (root._bokeh_is_loading === 0) {\n          console.log(\"Bokeh: all BokehJS libraries loaded\");\n          run_callbacks()\n        }\n      };\n      s.onerror = function() {\n        console.warn(\"failed to load library \" + url);\n      };\n      console.log(\"Bokeh: injecting script tag for BokehJS library: \", url);\n      document.getElementsByTagName(\"head\")[0].appendChild(s);\n    }\n  };var element = document.getElementById(\"bc9b52cd-47d5-4adf-9a49-18deb993ba9a\");\n  if (element == null) {\n    console.log(\"Bokeh: ERROR: autoload.js configured with elementid 'bc9b52cd-47d5-4adf-9a49-18deb993ba9a' but no matching script tag was found. \")\n    return false;\n  }\n\n  var js_urls = [\"https://cdn.pydata.org/bokeh/release/bokeh-0.12.13.min.js\", \"https://cdn.pydata.org/bokeh/release/bokeh-widgets-0.12.13.min.js\", \"https://cdn.pydata.org/bokeh/release/bokeh-tables-0.12.13.min.js\", \"https://cdn.pydata.org/bokeh/release/bokeh-gl-0.12.13.min.js\"];\n\n  var inline_js = [\n    function(Bokeh) {\n      Bokeh.set_log_level(\"info\");\n    },\n    \n    function(Bokeh) {\n      \n    },\n    function(Bokeh) {\n      console.log(\"Bokeh: injecting CSS: https://cdn.pydata.org/bokeh/release/bokeh-0.12.13.min.css\");\n      Bokeh.embed.inject_css(\"https://cdn.pydata.org/bokeh/release/bokeh-0.12.13.min.css\");\n      console.log(\"Bokeh: injecting CSS: https://cdn.pydata.org/bokeh/release/bokeh-widgets-0.12.13.min.css\");\n      Bokeh.embed.inject_css(\"https://cdn.pydata.org/bokeh/release/bokeh-widgets-0.12.13.min.css\");\n      console.log(\"Bokeh: injecting CSS: https://cdn.pydata.org/bokeh/release/bokeh-tables-0.12.13.min.css\");\n      Bokeh.embed.inject_css(\"https://cdn.pydata.org/bokeh/release/bokeh-tables-0.12.13.min.css\");\n    }\n  ];\n\n  function run_inline_js() {\n    \n    if ((root.Bokeh !== undefined) || (force === true)) {\n      for (var i = 0; i < inline_js.length; i++) {\n        inline_js[i].call(root, root.Bokeh);\n      }if (force === true) {\n        display_loaded();\n      }} else if (Date.now() < root._bokeh_timeout) {\n      setTimeout(run_inline_js, 100);\n    } else if (!root._bokeh_failed_load) {\n      console.log(\"Bokeh: BokehJS failed to load within specified timeout.\");\n      root._bokeh_failed_load = true;\n    } else if (force !== true) {\n      var cell = $(document.getElementById(\"bc9b52cd-47d5-4adf-9a49-18deb993ba9a\")).parents('.cell').data().cell;\n      cell.output_area.append_execute_result(NB_LOAD_WARNING)\n    }\n\n  }\n\n  if (root._bokeh_is_loading === 0) {\n    console.log(\"Bokeh: BokehJS loaded, going straight to plotting\");\n    run_inline_js();\n  } else {\n    load_libs(js_urls, function() {\n      console.log(\"Bokeh: BokehJS plotting callback run at\", now());\n      run_inline_js();\n    });\n  }\n}(window));"
     },
     "metadata": {},
     "output_type": "display_data"
    }
   ],
   "source": [
    "import bokeh\n",
    "import ndlib.viz.bokeh.DiffusionTrend\n",
    "\n",
    "bokeh.plotting.output_notebook()"
   ]
  },
  {
   "cell_type": "code",
   "execution_count": 8,
   "metadata": {},
   "outputs": [
    {
     "data": {
      "text/html": [
       "\n",
       "<div class=\"bk-root\">\n",
       "    <div class=\"bk-plotdiv\" id=\"ba73eba6-4393-40d7-9b69-91b4ae325bb0\"></div>\n",
       "</div>"
      ]
     },
     "metadata": {},
     "output_type": "display_data"
    },
    {
     "data": {
      "application/javascript": [
       "(function(root) {\n",
       "  function embed_document(root) {\n",
       "    \n",
       "  var docs_json = {\"cf8d29bf-9d02-4d8a-86d2-c38677cf432e\":{\"roots\":{\"references\":[{\"attributes\":{\"callback\":null,\"column_names\":[\"x\",\"y\"],\"data\":{\"x\":[0,1,2,3,4,5,6,7,8,9,10,11,12,13,14,15,16,17,18,19,20,21,22,23,24,25,26,27,28,29,30,31,32,33,34,35,36,37,38,39,40,41,42,43,44,45,46,47,48,49,50,51,52,53,54,55,56,57,58,59,60,61,62,63,64,65,66,67,68,69,70,71,72,73,74,75,76,77,78,79,80,81,82,83,84,85,86,87,88,89,90,91,92,93,94,95,96,97,98,99,100,101,102,103,104,105,106,107,108,109,110,111,112,113,114,115,116,117,118,119,120,121,122,123,124,125,126,127,128,129,130,131,132,133,134,135,136,137,138,139,140,141,142,143,144,145,146,147,148,149,150,151,152,153,154,155,156,157,158,159,160,161,162,163,164,165,166,167,168,169,170,171,172,173,174,175,176,177,178,179,180,181,182,183,184,185,186,187,188,189,190,191,192,193,194,195,196,197,198,199,200,201,202,203,204,205,206,207,208,209,210,211,212,213,214,215,216,217,218,219,220,221,222,223,224,225,226,227,228,229,230,231,232,233,234,235,236,237,238,239,240,241,242,243,244,245,246,247,248,249,250,251,252,253,254,255,256,257,258,259,260,261,262,263,264,265,266,267,268,269,270,271,272,273,274,275,276,277,278,279,280,281,282,283,284,285,286,287,288,289,290,291,292,293,294,295,296,297,298,299,300,301,302,303,304,305,306,307,308,309,310,311,312,313,314,315,316,317,318,319,320,321,322,323,324,325,326,327,328,329,330,331,332,333,334,335,336,337,338,339,340,341,342,343,344,345,346,347,348,349,350,351,352,353,354,355,356,357,358,359,360,361,362,363,364,365,366,367,368,369,370,371,372,373,374,375,376,377,378,379,380,381,382,383,384,385,386,387,388,389,390,391,392,393,394,395,396,397,398,399,400,401,402,403,404,405,406,407,408,409,410,411,412,413,414,415,416,417,418,419,420,421,422,423,424,425,426,427,428,429,430,431,432,433,434,435,436,437,438,439,440,441,442,443,444,445,446,447,448,449,450,451,452,453,454,455,456,457,458,459,460,461,462,463,464,465,466,467,468,469,470,471,472,473,474,475,476,477,478,479,480,481,482,483,484,485,486,487,488,489,490,491,492,493,494,495,496,497,498,499,500,501,502,503,504,505,506,507,508,509,510,511,512,513,514,515,516,517,518,519,520,521,522,523,524,525,526,527,528,529,530,531,532,533,534,535,536,537,538,539,540,541,542,543,544,545,546,547,548,549,550,551,552,553,554,555,556,557,558,559,560,561,562,563,564,565,566,567,568,569,570,571,572,573,574,575,576,577,578,579,580,581,582,583,584,585,586,587,588,589,590,591,592,593,594,595,596,597,598,599,600,601,602,603,604,605,606,607,608,609,610,611,612,613,614,615,616,617,618,619,620,621,622,623,624,625,626,627,628,629,630,631,632,633,634,635,636,637,638,639,640,641,642,643,644,645,646,647,648,649,650,651,652,653,654,655,656,657,658,659,660,661,662,663,664,665,666,667,668,669,670,671,672,673,674,675,676,677,678,679,680,681,682,683,684,685,686,687,688,689,690,691,692,693,694,695,696,697,698,699,700,701,702,703,704,705,706,707,708,709,710,711,712,713,714,715,716,717,718,719,720,721,722,723,724,725,726,727,728,729,730,731,732,733,734,735,736,737,738,739,740,741,742,743,744,745,746,747,748,749,750,751,752,753,754,755,756,757,758,759,760,761,762,763,764,765,766,767,768,769,770,771,772,773,774,775,776,777,778,779,780,781,782,783,784,785,786,787,788,789,790,791,792,793,794,795,796,797,798,799,800,801,802,803,804,805,806,807,808,809,810,811,812,813,814,815,816,817,818,819,820,821,822,823,824,825,826,827,828,829,830,831,832,833,834,835,836,837,838,839,840,841,842,843,844,845,846,847,848,849,850,851,852,853,854,855,856,857,858,859,860,861,862,863,864,865,866,867,868,869,870,871,872,873,874,875,876,877,878,879,880,881,882,883,884,885,886,887,888,889,890,891,892,893,894,895,896,897,898,899,900,901,902,903,904,905,906,907,908,909,910,911,912,913,914,915,916,917,918,919,920,921,922,923,924,925,926,927,928,929,930,931,932,933,934,935,936,937,938,939,940,941,942,943,944,945,946,947,948,949,950,951,952,953,954,955,956,957,958,959,960,961,962,963,964,965,966,967,968,969,970,971,972,973,974,975,976,977,978,979,980,981,982,983,984,985,986,987,988,989,990,991,992,993,994,995,996,997,998,999],\"y\":{\"__ndarray__\":\"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\",\"dtype\":\"float64\",\"shape\":[1000]}}},\"id\":\"c0fc6deb-e88d-43e1-8b80-57429b186fe2\",\"type\":\"ColumnDataSource\"},{\"attributes\":{},\"id\":\"8e1c18da-17e0-4716-905d-8061ec6310b1\",\"type\":\"BasicTickFormatter\"},{\"attributes\":{\"line_alpha\":0.5,\"line_color\":\"#aec7e8\",\"line_width\":2,\"x\":{\"field\":\"x\"},\"y\":{\"field\":\"y\"}},\"id\":\"fd13fa35-7c7e-4887-b312-16fe6c207711\",\"type\":\"Line\"},{\"attributes\":{\"items\":[{\"id\":\"076846a3-2696-456f-8152-1fa4cb47f5cb\",\"type\":\"LegendItem\"},{\"id\":\"237f73a6-d17c-4364-b658-e1e9d38f417a\",\"type\":\"LegendItem\"}],\"orientation\":\"horizontal\",\"plot\":{\"id\":\"e7a811a8-022a-413e-8a0c-f6afcb57e791\",\"subtype\":\"Figure\",\"type\":\"Plot\"}},\"id\":\"dd1376fb-a4e2-4e85-aac3-75269ee0d827\",\"type\":\"Legend\"},{\"attributes\":{\"label\":{\"value\":\"Infected\"},\"renderers\":[{\"id\":\"54f91bd4-8638-4669-997c-257d13040f9e\",\"type\":\"GlyphRenderer\"}]},\"id\":\"237f73a6-d17c-4364-b658-e1e9d38f417a\",\"type\":\"LegendItem\"},{\"attributes\":{\"label\":{\"value\":\"Susceptible\"},\"renderers\":[{\"id\":\"aa9ec9c2-b33a-4f70-97c4-2e80a315786e\",\"type\":\"GlyphRenderer\"}]},\"id\":\"076846a3-2696-456f-8152-1fa4cb47f5cb\",\"type\":\"LegendItem\"},{\"attributes\":{\"align\":\"center\",\"plot\":{\"id\":\"e7a811a8-022a-413e-8a0c-f6afcb57e791\",\"subtype\":\"Figure\",\"type\":\"Plot\"},\"text\":\"percentage infected: 0.1\"},\"id\":\"c9259496-8ef7-4ea4-b87a-a3dd7d28c91e\",\"type\":\"Title\"},{\"attributes\":{\"source\":{\"id\":\"c0fc6deb-e88d-43e1-8b80-57429b186fe2\",\"type\":\"ColumnDataSource\"}},\"id\":\"0cbbaf51-9300-4c28-9306-0ade13a0a13c\",\"type\":\"CDSView\"},{\"attributes\":{\"below\":[{\"id\":\"1c0d757e-209c-435d-9f5c-9db15c35697b\",\"type\":\"LinearAxis\"},{\"id\":\"c9259496-8ef7-4ea4-b87a-a3dd7d28c91e\",\"type\":\"Title\"}],\"left\":[{\"id\":\"ce9fb752-1943-4085-b620-2c0b159923bd\",\"type\":\"LinearAxis\"}],\"plot_height\":500,\"plot_width\":500,\"renderers\":[{\"id\":\"1c0d757e-209c-435d-9f5c-9db15c35697b\",\"type\":\"LinearAxis\"},{\"id\":\"d641b480-d7a8-41ae-a4b5-8cc4936b2d47\",\"type\":\"Grid\"},{\"id\":\"ce9fb752-1943-4085-b620-2c0b159923bd\",\"type\":\"LinearAxis\"},{\"id\":\"d3e52c91-b581-433a-a15f-f69eab93eaeb\",\"type\":\"Grid\"},{\"id\":\"384f3fa4-419b-4316-9772-b47401497fcd\",\"type\":\"BoxAnnotation\"},{\"id\":\"dd1376fb-a4e2-4e85-aac3-75269ee0d827\",\"type\":\"Legend\"},{\"id\":\"aa9ec9c2-b33a-4f70-97c4-2e80a315786e\",\"type\":\"GlyphRenderer\"},{\"id\":\"54f91bd4-8638-4669-997c-257d13040f9e\",\"type\":\"GlyphRenderer\"},{\"id\":\"c9259496-8ef7-4ea4-b87a-a3dd7d28c91e\",\"type\":\"Title\"}],\"title\":{\"id\":\"3c689e36-fa08-47af-846e-bdc331314d63\",\"type\":\"Title\"},\"toolbar\":{\"id\":\"642f9ce8-aa99-4656-8412-c1b8da97920b\",\"type\":\"Toolbar\"},\"x_range\":{\"id\":\"47b05690-8698-461a-85f7-2e6b2966758e\",\"type\":\"DataRange1d\"},\"x_scale\":{\"id\":\"e6043f59-4d28-48e4-b01e-ea142651b51a\",\"type\":\"LinearScale\"},\"y_range\":{\"id\":\"bd00db16-f233-42c3-9ba7-3e319d7cea94\",\"type\":\"DataRange1d\"},\"y_scale\":{\"id\":\"95d9db73-251b-46ad-89ec-71b2f0dcd6f3\",\"type\":\"LinearScale\"}},\"id\":\"e7a811a8-022a-413e-8a0c-f6afcb57e791\",\"subtype\":\"Figure\",\"type\":\"Plot\"},{\"attributes\":{\"line_alpha\":0.1,\"line_color\":\"#1f77b4\",\"line_width\":2,\"x\":{\"field\":\"x\"},\"y\":{\"field\":\"y\"}},\"id\":\"a7bb3e02-71b6-4263-b632-5b08049f2518\",\"type\":\"Line\"},{\"attributes\":{\"data_source\":{\"id\":\"c0fc6deb-e88d-43e1-8b80-57429b186fe2\",\"type\":\"ColumnDataSource\"},\"glyph\":{\"id\":\"fd13fa35-7c7e-4887-b312-16fe6c207711\",\"type\":\"Line\"},\"hover_glyph\":null,\"muted_glyph\":null,\"nonselection_glyph\":{\"id\":\"a7bb3e02-71b6-4263-b632-5b08049f2518\",\"type\":\"Line\"},\"selection_glyph\":null,\"view\":{\"id\":\"0cbbaf51-9300-4c28-9306-0ade13a0a13c\",\"type\":\"CDSView\"}},\"id\":\"54f91bd4-8638-4669-997c-257d13040f9e\",\"type\":\"GlyphRenderer\"},{\"attributes\":{\"active_drag\":\"auto\",\"active_inspect\":\"auto\",\"active_scroll\":\"auto\",\"active_tap\":\"auto\",\"tools\":[{\"id\":\"889fc84c-78fe-4a38-8138-c6d2076577b3\",\"type\":\"PanTool\"},{\"id\":\"5967954e-eff0-427c-b607-caeb37b20af7\",\"type\":\"WheelZoomTool\"},{\"id\":\"4b12a7c8-2649-417e-a9f0-346c37684963\",\"type\":\"BoxZoomTool\"},{\"id\":\"898ead67-e03b-4bf0-8ff2-973dcb244861\",\"type\":\"SaveTool\"},{\"id\":\"3be5b63a-cdc8-47e4-8d43-2fbe7e01caca\",\"type\":\"ResetTool\"},{\"id\":\"c364ce12-4b2a-4364-bb8b-db4e4f511e2e\",\"type\":\"HelpTool\"}]},\"id\":\"642f9ce8-aa99-4656-8412-c1b8da97920b\",\"type\":\"Toolbar\"},{\"attributes\":{\"callback\":null},\"id\":\"47b05690-8698-461a-85f7-2e6b2966758e\",\"type\":\"DataRange1d\"},{\"attributes\":{\"source\":{\"id\":\"03bdad08-ce86-4b17-9b98-a0e7f058bed7\",\"type\":\"ColumnDataSource\"}},\"id\":\"5a5fcd89-06a6-456d-8577-82e1dde69cf0\",\"type\":\"CDSView\"},{\"attributes\":{},\"id\":\"3be5b63a-cdc8-47e4-8d43-2fbe7e01caca\",\"type\":\"ResetTool\"},{\"attributes\":{\"callback\":null},\"id\":\"bd00db16-f233-42c3-9ba7-3e319d7cea94\",\"type\":\"DataRange1d\"},{\"attributes\":{},\"id\":\"e6043f59-4d28-48e4-b01e-ea142651b51a\",\"type\":\"LinearScale\"},{\"attributes\":{},\"id\":\"95d9db73-251b-46ad-89ec-71b2f0dcd6f3\",\"type\":\"LinearScale\"},{\"attributes\":{\"line_alpha\":0.5,\"line_color\":\"#1f77b4\",\"line_width\":2,\"x\":{\"field\":\"x\"},\"y\":{\"field\":\"y\"}},\"id\":\"5f6a845c-0672-4c4a-83dd-49835e1f72a8\",\"type\":\"Line\"},{\"attributes\":{\"axis_label\":\"Iterations\",\"formatter\":{\"id\":\"6f64f642-fd98-4ad7-97ef-e76a5f4a19a7\",\"type\":\"BasicTickFormatter\"},\"plot\":{\"id\":\"e7a811a8-022a-413e-8a0c-f6afcb57e791\",\"subtype\":\"Figure\",\"type\":\"Plot\"},\"ticker\":{\"id\":\"f9047c73-af70-4236-bf4b-5bbeebee5982\",\"type\":\"BasicTicker\"}},\"id\":\"1c0d757e-209c-435d-9f5c-9db15c35697b\",\"type\":\"LinearAxis\"},{\"attributes\":{\"plot\":null,\"text\":\"Voter - Diffusion Trend\"},\"id\":\"3c689e36-fa08-47af-846e-bdc331314d63\",\"type\":\"Title\"},{\"attributes\":{},\"id\":\"f9047c73-af70-4236-bf4b-5bbeebee5982\",\"type\":\"BasicTicker\"},{\"attributes\":{\"grid_line_alpha\":{\"value\":0.5},\"plot\":{\"id\":\"e7a811a8-022a-413e-8a0c-f6afcb57e791\",\"subtype\":\"Figure\",\"type\":\"Plot\"},\"ticker\":{\"id\":\"f9047c73-af70-4236-bf4b-5bbeebee5982\",\"type\":\"BasicTicker\"}},\"id\":\"d641b480-d7a8-41ae-a4b5-8cc4936b2d47\",\"type\":\"Grid\"},{\"attributes\":{},\"id\":\"6f64f642-fd98-4ad7-97ef-e76a5f4a19a7\",\"type\":\"BasicTickFormatter\"},{\"attributes\":{\"axis_label\":\"#Nodes\",\"formatter\":{\"id\":\"8e1c18da-17e0-4716-905d-8061ec6310b1\",\"type\":\"BasicTickFormatter\"},\"plot\":{\"id\":\"e7a811a8-022a-413e-8a0c-f6afcb57e791\",\"subtype\":\"Figure\",\"type\":\"Plot\"},\"ticker\":{\"id\":\"c317edf9-a1bd-442f-94a8-af4e9e44ca62\",\"type\":\"BasicTicker\"}},\"id\":\"ce9fb752-1943-4085-b620-2c0b159923bd\",\"type\":\"LinearAxis\"},{\"attributes\":{},\"id\":\"c317edf9-a1bd-442f-94a8-af4e9e44ca62\",\"type\":\"BasicTicker\"},{\"attributes\":{\"dimension\":1,\"grid_line_alpha\":{\"value\":0.5},\"plot\":{\"id\":\"e7a811a8-022a-413e-8a0c-f6afcb57e791\",\"subtype\":\"Figure\",\"type\":\"Plot\"},\"ticker\":{\"id\":\"c317edf9-a1bd-442f-94a8-af4e9e44ca62\",\"type\":\"BasicTicker\"}},\"id\":\"d3e52c91-b581-433a-a15f-f69eab93eaeb\",\"type\":\"Grid\"},{\"attributes\":{\"data_source\":{\"id\":\"03bdad08-ce86-4b17-9b98-a0e7f058bed7\",\"type\":\"ColumnDataSource\"},\"glyph\":{\"id\":\"5f6a845c-0672-4c4a-83dd-49835e1f72a8\",\"type\":\"Line\"},\"hover_glyph\":null,\"muted_glyph\":null,\"nonselection_glyph\":{\"id\":\"5bf29a3a-c477-4e73-8e6c-53f49b8f8aa4\",\"type\":\"Line\"},\"selection_glyph\":null,\"view\":{\"id\":\"5a5fcd89-06a6-456d-8577-82e1dde69cf0\",\"type\":\"CDSView\"}},\"id\":\"aa9ec9c2-b33a-4f70-97c4-2e80a315786e\",\"type\":\"GlyphRenderer\"},{\"attributes\":{\"callback\":null,\"column_names\":[\"x\",\"y\"],\"data\":{\"x\":[0,1,2,3,4,5,6,7,8,9,10,11,12,13,14,15,16,17,18,19,20,21,22,23,24,25,26,27,28,29,30,31,32,33,34,35,36,37,38,39,40,41,42,43,44,45,46,47,48,49,50,51,52,53,54,55,56,57,58,59,60,61,62,63,64,65,66,67,68,69,70,71,72,73,74,75,76,77,78,79,80,81,82,83,84,85,86,87,88,89,90,91,92,93,94,95,96,97,98,99,100,101,102,103,104,105,106,107,108,109,110,111,112,113,114,115,116,117,118,119,120,121,122,123,124,125,126,127,128,129,130,131,132,133,134,135,136,137,138,139,140,141,142,143,144,145,146,147,148,149,150,151,152,153,154,155,156,157,158,159,160,161,162,163,164,165,166,167,168,169,170,171,172,173,174,175,176,177,178,179,180,181,182,183,184,185,186,187,188,189,190,191,192,193,194,195,196,197,198,199,200,201,202,203,204,205,206,207,208,209,210,211,212,213,214,215,216,217,218,219,220,221,222,223,224,225,226,227,228,229,230,231,232,233,234,235,236,237,238,239,240,241,242,243,244,245,246,247,248,249,250,251,252,253,254,255,256,257,258,259,260,261,262,263,264,265,266,267,268,269,270,271,272,273,274,275,276,277,278,279,280,281,282,283,284,285,286,287,288,289,290,291,292,293,294,295,296,297,298,299,300,301,302,303,304,305,306,307,308,309,310,311,312,313,314,315,316,317,318,319,320,321,322,323,324,325,326,327,328,329,330,331,332,333,334,335,336,337,338,339,340,341,342,343,344,345,346,347,348,349,350,351,352,353,354,355,356,357,358,359,360,361,362,363,364,365,366,367,368,369,370,371,372,373,374,375,376,377,378,379,380,381,382,383,384,385,386,387,388,389,390,391,392,393,394,395,396,397,398,399,400,401,402,403,404,405,406,407,408,409,410,411,412,413,414,415,416,417,418,419,420,421,422,423,424,425,426,427,428,429,430,431,432,433,434,435,436,437,438,439,440,441,442,443,444,445,446,447,448,449,450,451,452,453,454,455,456,457,458,459,460,461,462,463,464,465,466,467,468,469,470,471,472,473,474,475,476,477,478,479,480,481,482,483,484,485,486,487,488,489,490,491,492,493,494,495,496,497,498,499,500,501,502,503,504,505,506,507,508,509,510,511,512,513,514,515,516,517,518,519,520,521,522,523,524,525,526,527,528,529,530,531,532,533,534,535,536,537,538,539,540,541,542,543,544,545,546,547,548,549,550,551,552,553,554,555,556,557,558,559,560,561,562,563,564,565,566,567,568,569,570,571,572,573,574,575,576,577,578,579,580,581,582,583,584,585,586,587,588,589,590,591,592,593,594,595,596,597,598,599,600,601,602,603,604,605,606,607,608,609,610,611,612,613,614,615,616,617,618,619,620,621,622,623,624,625,626,627,628,629,630,631,632,633,634,635,636,637,638,639,640,641,642,643,644,645,646,647,648,649,650,651,652,653,654,655,656,657,658,659,660,661,662,663,664,665,666,667,668,669,670,671,672,673,674,675,676,677,678,679,680,681,682,683,684,685,686,687,688,689,690,691,692,693,694,695,696,697,698,699,700,701,702,703,704,705,706,707,708,709,710,711,712,713,714,715,716,717,718,719,720,721,722,723,724,725,726,727,728,729,730,731,732,733,734,735,736,737,738,739,740,741,742,743,744,745,746,747,748,749,750,751,752,753,754,755,756,757,758,759,760,761,762,763,764,765,766,767,768,769,770,771,772,773,774,775,776,777,778,779,780,781,782,783,784,785,786,787,788,789,790,791,792,793,794,795,796,797,798,799,800,801,802,803,804,805,806,807,808,809,810,811,812,813,814,815,816,817,818,819,820,821,822,823,824,825,826,827,828,829,830,831,832,833,834,835,836,837,838,839,840,841,842,843,844,845,846,847,848,849,850,851,852,853,854,855,856,857,858,859,860,861,862,863,864,865,866,867,868,869,870,871,872,873,874,875,876,877,878,879,880,881,882,883,884,885,886,887,888,889,890,891,892,893,894,895,896,897,898,899,900,901,902,903,904,905,906,907,908,909,910,911,912,913,914,915,916,917,918,919,920,921,922,923,924,925,926,927,928,929,930,931,932,933,934,935,936,937,938,939,940,941,942,943,944,945,946,947,948,949,950,951,952,953,954,955,956,957,958,959,960,961,962,963,964,965,966,967,968,969,970,971,972,973,974,975,976,977,978,979,980,981,982,983,984,985,986,987,988,989,990,991,992,993,994,995,996,997,998,999],\"y\":{\"__ndarray__\":\"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\",\"dtype\":\"float64\",\"shape\":[1000]}}},\"id\":\"03bdad08-ce86-4b17-9b98-a0e7f058bed7\",\"type\":\"ColumnDataSource\"},{\"attributes\":{},\"id\":\"889fc84c-78fe-4a38-8138-c6d2076577b3\",\"type\":\"PanTool\"},{\"attributes\":{\"line_alpha\":0.1,\"line_color\":\"#1f77b4\",\"line_width\":2,\"x\":{\"field\":\"x\"},\"y\":{\"field\":\"y\"}},\"id\":\"5bf29a3a-c477-4e73-8e6c-53f49b8f8aa4\",\"type\":\"Line\"},{\"attributes\":{},\"id\":\"c364ce12-4b2a-4364-bb8b-db4e4f511e2e\",\"type\":\"HelpTool\"},{\"attributes\":{},\"id\":\"5967954e-eff0-427c-b607-caeb37b20af7\",\"type\":\"WheelZoomTool\"},{\"attributes\":{\"overlay\":{\"id\":\"384f3fa4-419b-4316-9772-b47401497fcd\",\"type\":\"BoxAnnotation\"}},\"id\":\"4b12a7c8-2649-417e-a9f0-346c37684963\",\"type\":\"BoxZoomTool\"},{\"attributes\":{},\"id\":\"898ead67-e03b-4bf0-8ff2-973dcb244861\",\"type\":\"SaveTool\"},{\"attributes\":{\"bottom_units\":\"screen\",\"fill_alpha\":{\"value\":0.5},\"fill_color\":{\"value\":\"lightgrey\"},\"left_units\":\"screen\",\"level\":\"overlay\",\"line_alpha\":{\"value\":1.0},\"line_color\":{\"value\":\"black\"},\"line_dash\":[4,4],\"line_width\":{\"value\":2},\"plot\":null,\"render_mode\":\"css\",\"right_units\":\"screen\",\"top_units\":\"screen\"},\"id\":\"384f3fa4-419b-4316-9772-b47401497fcd\",\"type\":\"BoxAnnotation\"}],\"root_ids\":[\"e7a811a8-022a-413e-8a0c-f6afcb57e791\"]},\"title\":\"Bokeh Application\",\"version\":\"0.12.13\"}};\n",
       "  var render_items = [{\"docid\":\"cf8d29bf-9d02-4d8a-86d2-c38677cf432e\",\"elementid\":\"ba73eba6-4393-40d7-9b69-91b4ae325bb0\",\"modelid\":\"e7a811a8-022a-413e-8a0c-f6afcb57e791\"}];\n",
       "  root.Bokeh.embed.embed_items_notebook(docs_json, render_items);\n",
       "\n",
       "  }\n",
       "  if (root.Bokeh !== undefined) {\n",
       "    embed_document(root);\n",
       "  } else {\n",
       "    var attempts = 0;\n",
       "    var timer = setInterval(function(root) {\n",
       "      if (root.Bokeh !== undefined) {\n",
       "        embed_document(root);\n",
       "        clearInterval(timer);\n",
       "      }\n",
       "      attempts++;\n",
       "      if (attempts > 100) {\n",
       "        console.log(\"Bokeh: ERROR: Unable to run BokehJS code because BokehJS library is missing\")\n",
       "        clearInterval(timer);\n",
       "      }\n",
       "    }, 10, root)\n",
       "  }\n",
       "})(window);"
      ],
      "application/vnd.bokehjs_exec.v0+json": ""
     },
     "metadata": {
      "application/vnd.bokehjs_exec.v0+json": {
       "id": "e7a811a8-022a-413e-8a0c-f6afcb57e791"
      }
     },
     "output_type": "display_data"
    }
   ],
   "source": [
    "trends = vm.build_trends(it_bunch)\n",
    "viz = ndlib.viz.bokeh.DiffusionTrend.DiffusionTrend(vm, trends)\n",
    "p = viz.plot()\n",
    "bokeh.plotting.show(p)"
   ]
  },
  {
   "cell_type": "markdown",
   "metadata": {},
   "source": [
    "# SIR model\n",
    "\n",
    "[SIR model](http://ndlib.readthedocs.io/en/latest/reference/models/epidemics/SIR.html) parameters are infection probability *β*, and removal probability *γ*, and *percentage_infected*."
   ]
  },
  {
   "cell_type": "code",
   "execution_count": 11,
   "metadata": {},
   "outputs": [],
   "source": [
    "import ndlib.models.epidemics.SIRModel\n",
    "\n",
    "sir_m = ndlib.models.epidemics.SIRModel.SIRModel(G)\n",
    "sir_c = ndlib.models.ModelConfig.Configuration()\n",
    "sir_c.add_model_parameter('beta', 0.015)\n",
    "sir_c.add_model_parameter('gamma', 0.01)\n",
    "sir_c.add_model_parameter('percentage_infected', 0.1)\n",
    "sir_m.set_initial_status(sir_c)"
   ]
  },
  {
   "cell_type": "markdown",
   "metadata": {},
   "source": [
    "Run simulation"
   ]
  },
  {
   "cell_type": "code",
   "execution_count": 12,
   "metadata": {},
   "outputs": [],
   "source": [
    "sir_iters = sir_m.iteration_bunch(500)\n",
    "sir_trends = sir_m.build_trends(sir_iters)"
   ]
  },
  {
   "cell_type": "markdown",
   "metadata": {},
   "source": [
    "Visualization, this time with Matploblib"
   ]
  },
  {
   "cell_type": "code",
   "execution_count": 16,
   "metadata": {},
   "outputs": [],
   "source": [
    "import matplotlib.pyplot as plt\n",
    "import ndlib.viz.mpl.DiffusionTrend\n",
    "%matplotlib inline"
   ]
  },
  {
   "cell_type": "code",
   "execution_count": 29,
   "metadata": {},
   "outputs": [],
   "source": [
    "sir_viz = ndlib.viz.mpl.DiffusionTrend.DiffusionTrend(sir_m, sir_trends)"
   ]
  },
  {
   "cell_type": "markdown",
   "metadata": {},
   "source": [
    "The `DiffusionTrend` object has all kinds of methods, one of them is for plotting"
   ]
  },
  {
   "cell_type": "code",
   "execution_count": 31,
   "metadata": {},
   "outputs": [
    {
     "data": {
      "image/png": "[encoded data removed]",
      "text/plain": [
       "<matplotlib.figure.Figure at 0x11a1f6a20>"
      ]
     },
     "metadata": {},
     "output_type": "display_data"
    }
   ],
   "source": [
    "sir_viz.plot(percentile=10)"
   ]
  }
 ],
 "metadata": {
  "kernelspec": {
   "display_name": "Python 3",
   "language": "python",
   "name": "python3"
  },
  "language_info": {
   "codemirror_mode": {
    "name": "ipython",
    "version": 3
   },
   "file_extension": ".py",
   "mimetype": "text/x-python",
   "name": "python",
   "nbconvert_exporter": "python",
   "pygments_lexer": "ipython3",
   "version": "3.6.3"
  }
 },
 "nbformat": 4,
 "nbformat_minor": 2
}
