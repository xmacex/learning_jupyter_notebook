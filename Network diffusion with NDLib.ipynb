{
 "cells": [
  {
   "cell_type": "markdown",
   "metadata": {},
   "source": [
    "# Network diffusion with NDlib\n",
    "\n",
    "Ok so I learned that [`NDlib`](https://github.com/GiulioRossetti/ndlib) exists, and the research publication is on my to-read list.\n",
    "\n",
    "* G. Rossetti, L. Milli, S. Rinzivillo, A. Sirbu, D. Pedreschi, F. Giannotti. NDlib: a Python Library to Model and Analyze Diffusion Processes Over Complex Networks. *Journal of Data Science and Analytics*. 2017. DOI:0.1007/s41060-017-0086-6\n",
    "\n",
    "Looks pretty nice, I will want to get the hang of it. I read the tutorial already, and will want to do a bit of simulations to get experience."
   ]
  },
  {
   "cell_type": "markdown",
   "metadata": {},
   "source": [
    "## Key concepts\n",
    "\n",
    "* Simulation $S = \\langle G, M_C\\rangle$\n",
    "* Graph $G = \\langle N, \\langle G \\rangle \\rangle$ with nodes N and edges E\n",
    "* Model $M$ describes a discrete-time agent-based simulation\n",
    "* Configuration $C$ describe initial status and configuration of $M$"
   ]
  },
  {
   "cell_type": "code",
   "execution_count": 3,
   "metadata": {},
   "outputs": [],
   "source": [
    "import ndlib\n",
    "import networkx as nx"
   ]
  },
  {
   "cell_type": "markdown",
   "metadata": {},
   "source": [
    "## Basic tutorial"
   ]
  },
  {
   "cell_type": "markdown",
   "metadata": {},
   "source": [
    "An example graph"
   ]
  },
  {
   "cell_type": "code",
   "execution_count": 14,
   "metadata": {},
   "outputs": [],
   "source": [
    "G = nx.erdos_renyi_graph(2000, 0.15)"
   ]
  },
  {
   "cell_type": "markdown",
   "metadata": {},
   "source": [
    "The model, let's use [`VoterModel`](http://ndlib.readthedocs.io/en/latest/reference/models/opinion/Voter.html)\n",
    "\n",
    "> The Voter model is one of the simplest models of opinion dynamics, originally introduced to analyse competition of species and soon after applied to model elections.\n",
    ">\n",
    "> The state of the population varies based on a very simple update rule: at each iteration, a random individual is selected, who then copies the opinion of one random neighbour."
   ]
  },
  {
   "cell_type": "code",
   "execution_count": 59,
   "metadata": {},
   "outputs": [],
   "source": [
    "import ndlib.models.opinions.VoterModel\n",
    "vm = ndlib.models.opinions.VoterModel.VoterModel(G)"
   ]
  },
  {
   "cell_type": "markdown",
   "metadata": {},
   "source": [
    "Set the configuration, the Voter model has two possible parameters: float [0, 1] `percentage_infected` and set of nodes `Infected`."
   ]
  },
  {
   "cell_type": "code",
   "execution_count": 89,
   "metadata": {},
   "outputs": [],
   "source": [
    "import ndlib.models.ModelConfig\n",
    "c = ndlib.models.ModelConfig.Configuration()\n",
    "c.add_model_parameter('percentage_infected', 0.1)\n",
    "vm.set_initial_status(c)"
   ]
  },
  {
   "cell_type": "markdown",
   "metadata": {},
   "source": [
    "Four kinds of parameters for the models.\n",
    "\n",
    "* Model parameters\n",
    "* Node parameters\n",
    "* Edge parameters\n",
    "* Simulation initial status"
   ]
  },
  {
   "cell_type": "markdown",
   "metadata": {},
   "source": [
    "### Modelling\n",
    "\n",
    "First one iteration"
   ]
  },
  {
   "cell_type": "code",
   "execution_count": 66,
   "metadata": {},
   "outputs": [],
   "source": [
    "it_id, _, it_status, _ = vm.iteration()"
   ]
  },
  {
   "cell_type": "markdown",
   "metadata": {},
   "source": [
    "Then a couple of iterations"
   ]
  },
  {
   "cell_type": "code",
   "execution_count": 93,
   "metadata": {},
   "outputs": [],
   "source": [
    "it_bunch = vm.iteration_bunch(bunch_size=1000)"
   ]
  },
  {
   "cell_type": "markdown",
   "metadata": {},
   "source": [
    "### Visualization\n",
    "\n",
    "With `ndlib.viz.bokeh.DiffusionTrend` and `ndlib.viz.mpl.DiffusionTrend`, using Bokeh and Matplotlib, respectively."
   ]
  },
  {
   "cell_type": "code",
   "execution_count": 91,
   "metadata": {},
   "outputs": [
    {
     "data": {
      "text/html": [
       "\n",
       "    <div class=\"bk-root\">\n",
       "        <a href=\"https://bokeh.pydata.org\" target=\"_blank\" class=\"bk-logo bk-logo-small bk-logo-notebook\"></a>\n",
       "        <span id=\"054bdef3-dcd4-4538-91d9-05c3b2b44349\">Loading BokehJS ...</span>\n",
       "    </div>"
      ]
     },
     "metadata": {},
     "output_type": "display_data"
    },
    {
     "data": {
      "application/javascript": [
       "\n",
       "(function(root) {\n",
       "  function now() {\n",
       "    return new Date();\n",
       "  }\n",
       "\n",
       "  var force = true;\n",
       "\n",
       "  if (typeof (root._bokeh_onload_callbacks) === \"undefined\" || force === true) {\n",
       "    root._bokeh_onload_callbacks = [];\n",
       "    root._bokeh_is_loading = undefined;\n",
       "  }\n",
       "\n",
       "  var JS_MIME_TYPE = 'application/javascript';\n",
       "  var HTML_MIME_TYPE = 'text/html';\n",
       "  var EXEC_MIME_TYPE = 'application/vnd.bokehjs_exec.v0+json';\n",
       "  var CLASS_NAME = 'output_bokeh rendered_html';\n",
       "\n",
       "  /**\n",
       "   * Render data to the DOM node\n",
       "   */\n",
       "  function render(props, node) {\n",
       "    var script = document.createElement(\"script\");\n",
       "    node.appendChild(script);\n",
       "  }\n",
       "\n",
       "  /**\n",
       "   * Handle when an output is cleared or removed\n",
       "   */\n",
       "  function handleClearOutput(event, handle) {\n",
       "    var cell = handle.cell;\n",
       "\n",
       "    var id = cell.output_area._bokeh_element_id;\n",
       "    var server_id = cell.output_area._bokeh_server_id;\n",
       "    // Clean up Bokeh references\n",
       "    if (id !== undefined) {\n",
       "      Bokeh.index[id].model.document.clear();\n",
       "      delete Bokeh.index[id];\n",
       "    }\n",
       "\n",
       "    if (server_id !== undefined) {\n",
       "      // Clean up Bokeh references\n",
       "      var cmd = \"from bokeh.io.state import curstate; print(curstate().uuid_to_server['\" + server_id + \"'].get_sessions()[0].document.roots[0]._id)\";\n",
       "      cell.notebook.kernel.execute(cmd, {\n",
       "        iopub: {\n",
       "          output: function(msg) {\n",
       "            var element_id = msg.content.text.trim();\n",
       "            Bokeh.index[element_id].model.document.clear();\n",
       "            delete Bokeh.index[element_id];\n",
       "          }\n",
       "        }\n",
       "      });\n",
       "      // Destroy server and session\n",
       "      var cmd = \"import bokeh.io.notebook as ion; ion.destroy_server('\" + server_id + \"')\";\n",
       "      cell.notebook.kernel.execute(cmd);\n",
       "    }\n",
       "  }\n",
       "\n",
       "  /**\n",
       "   * Handle when a new output is added\n",
       "   */\n",
       "  function handleAddOutput(event, handle) {\n",
       "    var output_area = handle.output_area;\n",
       "    var output = handle.output;\n",
       "\n",
       "    // limit handleAddOutput to display_data with EXEC_MIME_TYPE content only\n",
       "    if ((output.output_type != \"display_data\") || (!output.data.hasOwnProperty(EXEC_MIME_TYPE))) {\n",
       "      return\n",
       "    }\n",
       "\n",
       "    var toinsert = output_area.element.find(\".\" + CLASS_NAME.split(' ')[0]);\n",
       "\n",
       "    if (output.metadata[EXEC_MIME_TYPE][\"id\"] !== undefined) {\n",
       "      toinsert[0].firstChild.textContent = output.data[JS_MIME_TYPE];\n",
       "      // store reference to embed id on output_area\n",
       "      output_area._bokeh_element_id = output.metadata[EXEC_MIME_TYPE][\"id\"];\n",
       "    }\n",
       "    if (output.metadata[EXEC_MIME_TYPE][\"server_id\"] !== undefined) {\n",
       "      var bk_div = document.createElement(\"div\");\n",
       "      bk_div.innerHTML = output.data[HTML_MIME_TYPE];\n",
       "      var script_attrs = bk_div.children[0].attributes;\n",
       "      for (var i = 0; i < script_attrs.length; i++) {\n",
       "        toinsert[0].firstChild.setAttribute(script_attrs[i].name, script_attrs[i].value);\n",
       "      }\n",
       "      // store reference to server id on output_area\n",
       "      output_area._bokeh_server_id = output.metadata[EXEC_MIME_TYPE][\"server_id\"];\n",
       "    }\n",
       "  }\n",
       "\n",
       "  function register_renderer(events, OutputArea) {\n",
       "\n",
       "    function append_mime(data, metadata, element) {\n",
       "      // create a DOM node to render to\n",
       "      var toinsert = this.create_output_subarea(\n",
       "        metadata,\n",
       "        CLASS_NAME,\n",
       "        EXEC_MIME_TYPE\n",
       "      );\n",
       "      this.keyboard_manager.register_events(toinsert);\n",
       "      // Render to node\n",
       "      var props = {data: data, metadata: metadata[EXEC_MIME_TYPE]};\n",
       "      render(props, toinsert[0]);\n",
       "      element.append(toinsert);\n",
       "      return toinsert\n",
       "    }\n",
       "\n",
       "    /* Handle when an output is cleared or removed */\n",
       "    events.on('clear_output.CodeCell', handleClearOutput);\n",
       "    events.on('delete.Cell', handleClearOutput);\n",
       "\n",
       "    /* Handle when a new output is added */\n",
       "    events.on('output_added.OutputArea', handleAddOutput);\n",
       "\n",
       "    /**\n",
       "     * Register the mime type and append_mime function with output_area\n",
       "     */\n",
       "    OutputArea.prototype.register_mime_type(EXEC_MIME_TYPE, append_mime, {\n",
       "      /* Is output safe? */\n",
       "      safe: true,\n",
       "      /* Index of renderer in `output_area.display_order` */\n",
       "      index: 0\n",
       "    });\n",
       "  }\n",
       "\n",
       "  // register the mime type if in Jupyter Notebook environment and previously unregistered\n",
       "  if (root.Jupyter !== undefined) {\n",
       "    var events = require('base/js/events');\n",
       "    var OutputArea = require('notebook/js/outputarea').OutputArea;\n",
       "\n",
       "    if (OutputArea.prototype.mime_types().indexOf(EXEC_MIME_TYPE) == -1) {\n",
       "      register_renderer(events, OutputArea);\n",
       "    }\n",
       "  }\n",
       "\n",
       "  \n",
       "  if (typeof (root._bokeh_timeout) === \"undefined\" || force === true) {\n",
       "    root._bokeh_timeout = Date.now() + 5000;\n",
       "    root._bokeh_failed_load = false;\n",
       "  }\n",
       "\n",
       "  var NB_LOAD_WARNING = {'data': {'text/html':\n",
       "     \"<div style='background-color: #fdd'>\\n\"+\n",
       "     \"<p>\\n\"+\n",
       "     \"BokehJS does not appear to have successfully loaded. If loading BokehJS from CDN, this \\n\"+\n",
       "     \"may be due to a slow or bad network connection. Possible fixes:\\n\"+\n",
       "     \"</p>\\n\"+\n",
       "     \"<ul>\\n\"+\n",
       "     \"<li>re-rerun `output_notebook()` to attempt to load from CDN again, or</li>\\n\"+\n",
       "     \"<li>use INLINE resources instead, as so:</li>\\n\"+\n",
       "     \"</ul>\\n\"+\n",
       "     \"<code>\\n\"+\n",
       "     \"from bokeh.resources import INLINE\\n\"+\n",
       "     \"output_notebook(resources=INLINE)\\n\"+\n",
       "     \"</code>\\n\"+\n",
       "     \"</div>\"}};\n",
       "\n",
       "  function display_loaded() {\n",
       "    var el = document.getElementById(\"054bdef3-dcd4-4538-91d9-05c3b2b44349\");\n",
       "    if (el != null) {\n",
       "      el.textContent = \"BokehJS is loading...\";\n",
       "    }\n",
       "    if (root.Bokeh !== undefined) {\n",
       "      if (el != null) {\n",
       "        el.textContent = \"BokehJS \" + root.Bokeh.version + \" successfully loaded.\";\n",
       "      }\n",
       "    } else if (Date.now() < root._bokeh_timeout) {\n",
       "      setTimeout(display_loaded, 100)\n",
       "    }\n",
       "  }\n",
       "\n",
       "\n",
       "  function run_callbacks() {\n",
       "    try {\n",
       "      root._bokeh_onload_callbacks.forEach(function(callback) { callback() });\n",
       "    }\n",
       "    finally {\n",
       "      delete root._bokeh_onload_callbacks\n",
       "    }\n",
       "    console.info(\"Bokeh: all callbacks have finished\");\n",
       "  }\n",
       "\n",
       "  function load_libs(js_urls, callback) {\n",
       "    root._bokeh_onload_callbacks.push(callback);\n",
       "    if (root._bokeh_is_loading > 0) {\n",
       "      console.log(\"Bokeh: BokehJS is being loaded, scheduling callback at\", now());\n",
       "      return null;\n",
       "    }\n",
       "    if (js_urls == null || js_urls.length === 0) {\n",
       "      run_callbacks();\n",
       "      return null;\n",
       "    }\n",
       "    console.log(\"Bokeh: BokehJS not loaded, scheduling load and callback at\", now());\n",
       "    root._bokeh_is_loading = js_urls.length;\n",
       "    for (var i = 0; i < js_urls.length; i++) {\n",
       "      var url = js_urls[i];\n",
       "      var s = document.createElement('script');\n",
       "      s.src = url;\n",
       "      s.async = false;\n",
       "      s.onreadystatechange = s.onload = function() {\n",
       "        root._bokeh_is_loading--;\n",
       "        if (root._bokeh_is_loading === 0) {\n",
       "          console.log(\"Bokeh: all BokehJS libraries loaded\");\n",
       "          run_callbacks()\n",
       "        }\n",
       "      };\n",
       "      s.onerror = function() {\n",
       "        console.warn(\"failed to load library \" + url);\n",
       "      };\n",
       "      console.log(\"Bokeh: injecting script tag for BokehJS library: \", url);\n",
       "      document.getElementsByTagName(\"head\")[0].appendChild(s);\n",
       "    }\n",
       "  };var element = document.getElementById(\"054bdef3-dcd4-4538-91d9-05c3b2b44349\");\n",
       "  if (element == null) {\n",
       "    console.log(\"Bokeh: ERROR: autoload.js configured with elementid '054bdef3-dcd4-4538-91d9-05c3b2b44349' but no matching script tag was found. \")\n",
       "    return false;\n",
       "  }\n",
       "\n",
       "  var js_urls = [\"https://cdn.pydata.org/bokeh/release/bokeh-0.12.13.min.js\", \"https://cdn.pydata.org/bokeh/release/bokeh-widgets-0.12.13.min.js\", \"https://cdn.pydata.org/bokeh/release/bokeh-tables-0.12.13.min.js\", \"https://cdn.pydata.org/bokeh/release/bokeh-gl-0.12.13.min.js\"];\n",
       "\n",
       "  var inline_js = [\n",
       "    function(Bokeh) {\n",
       "      Bokeh.set_log_level(\"info\");\n",
       "    },\n",
       "    \n",
       "    function(Bokeh) {\n",
       "      \n",
       "    },\n",
       "    function(Bokeh) {\n",
       "      console.log(\"Bokeh: injecting CSS: https://cdn.pydata.org/bokeh/release/bokeh-0.12.13.min.css\");\n",
       "      Bokeh.embed.inject_css(\"https://cdn.pydata.org/bokeh/release/bokeh-0.12.13.min.css\");\n",
       "      console.log(\"Bokeh: injecting CSS: https://cdn.pydata.org/bokeh/release/bokeh-widgets-0.12.13.min.css\");\n",
       "      Bokeh.embed.inject_css(\"https://cdn.pydata.org/bokeh/release/bokeh-widgets-0.12.13.min.css\");\n",
       "      console.log(\"Bokeh: injecting CSS: https://cdn.pydata.org/bokeh/release/bokeh-tables-0.12.13.min.css\");\n",
       "      Bokeh.embed.inject_css(\"https://cdn.pydata.org/bokeh/release/bokeh-tables-0.12.13.min.css\");\n",
       "    }\n",
       "  ];\n",
       "\n",
       "  function run_inline_js() {\n",
       "    \n",
       "    if ((root.Bokeh !== undefined) || (force === true)) {\n",
       "      for (var i = 0; i < inline_js.length; i++) {\n",
       "        inline_js[i].call(root, root.Bokeh);\n",
       "      }if (force === true) {\n",
       "        display_loaded();\n",
       "      }} else if (Date.now() < root._bokeh_timeout) {\n",
       "      setTimeout(run_inline_js, 100);\n",
       "    } else if (!root._bokeh_failed_load) {\n",
       "      console.log(\"Bokeh: BokehJS failed to load within specified timeout.\");\n",
       "      root._bokeh_failed_load = true;\n",
       "    } else if (force !== true) {\n",
       "      var cell = $(document.getElementById(\"054bdef3-dcd4-4538-91d9-05c3b2b44349\")).parents('.cell').data().cell;\n",
       "      cell.output_area.append_execute_result(NB_LOAD_WARNING)\n",
       "    }\n",
       "\n",
       "  }\n",
       "\n",
       "  if (root._bokeh_is_loading === 0) {\n",
       "    console.log(\"Bokeh: BokehJS loaded, going straight to plotting\");\n",
       "    run_inline_js();\n",
       "  } else {\n",
       "    load_libs(js_urls, function() {\n",
       "      console.log(\"Bokeh: BokehJS plotting callback run at\", now());\n",
       "      run_inline_js();\n",
       "    });\n",
       "  }\n",
       "}(window));"
      ],
      "application/vnd.bokehjs_load.v0+json": "\n(function(root) {\n  function now() {\n    return new Date();\n  }\n\n  var force = true;\n\n  if (typeof (root._bokeh_onload_callbacks) === \"undefined\" || force === true) {\n    root._bokeh_onload_callbacks = [];\n    root._bokeh_is_loading = undefined;\n  }\n\n  \n\n  \n  if (typeof (root._bokeh_timeout) === \"undefined\" || force === true) {\n    root._bokeh_timeout = Date.now() + 5000;\n    root._bokeh_failed_load = false;\n  }\n\n  var NB_LOAD_WARNING = {'data': {'text/html':\n     \"<div style='background-color: #fdd'>\\n\"+\n     \"<p>\\n\"+\n     \"BokehJS does not appear to have successfully loaded. If loading BokehJS from CDN, this \\n\"+\n     \"may be due to a slow or bad network connection. Possible fixes:\\n\"+\n     \"</p>\\n\"+\n     \"<ul>\\n\"+\n     \"<li>re-rerun `output_notebook()` to attempt to load from CDN again, or</li>\\n\"+\n     \"<li>use INLINE resources instead, as so:</li>\\n\"+\n     \"</ul>\\n\"+\n     \"<code>\\n\"+\n     \"from bokeh.resources import INLINE\\n\"+\n     \"output_notebook(resources=INLINE)\\n\"+\n     \"</code>\\n\"+\n     \"</div>\"}};\n\n  function display_loaded() {\n    var el = document.getElementById(\"054bdef3-dcd4-4538-91d9-05c3b2b44349\");\n    if (el != null) {\n      el.textContent = \"BokehJS is loading...\";\n    }\n    if (root.Bokeh !== undefined) {\n      if (el != null) {\n        el.textContent = \"BokehJS \" + root.Bokeh.version + \" successfully loaded.\";\n      }\n    } else if (Date.now() < root._bokeh_timeout) {\n      setTimeout(display_loaded, 100)\n    }\n  }\n\n\n  function run_callbacks() {\n    try {\n      root._bokeh_onload_callbacks.forEach(function(callback) { callback() });\n    }\n    finally {\n      delete root._bokeh_onload_callbacks\n    }\n    console.info(\"Bokeh: all callbacks have finished\");\n  }\n\n  function load_libs(js_urls, callback) {\n    root._bokeh_onload_callbacks.push(callback);\n    if (root._bokeh_is_loading > 0) {\n      console.log(\"Bokeh: BokehJS is being loaded, scheduling callback at\", now());\n      return null;\n    }\n    if (js_urls == null || js_urls.length === 0) {\n      run_callbacks();\n      return null;\n    }\n    console.log(\"Bokeh: BokehJS not loaded, scheduling load and callback at\", now());\n    root._bokeh_is_loading = js_urls.length;\n    for (var i = 0; i < js_urls.length; i++) {\n      var url = js_urls[i];\n      var s = document.createElement('script');\n      s.src = url;\n      s.async = false;\n      s.onreadystatechange = s.onload = function() {\n        root._bokeh_is_loading--;\n        if (root._bokeh_is_loading === 0) {\n          console.log(\"Bokeh: all BokehJS libraries loaded\");\n          run_callbacks()\n        }\n      };\n      s.onerror = function() {\n        console.warn(\"failed to load library \" + url);\n      };\n      console.log(\"Bokeh: injecting script tag for BokehJS library: \", url);\n      document.getElementsByTagName(\"head\")[0].appendChild(s);\n    }\n  };var element = document.getElementById(\"054bdef3-dcd4-4538-91d9-05c3b2b44349\");\n  if (element == null) {\n    console.log(\"Bokeh: ERROR: autoload.js configured with elementid '054bdef3-dcd4-4538-91d9-05c3b2b44349' but no matching script tag was found. \")\n    return false;\n  }\n\n  var js_urls = [\"https://cdn.pydata.org/bokeh/release/bokeh-0.12.13.min.js\", \"https://cdn.pydata.org/bokeh/release/bokeh-widgets-0.12.13.min.js\", \"https://cdn.pydata.org/bokeh/release/bokeh-tables-0.12.13.min.js\", \"https://cdn.pydata.org/bokeh/release/bokeh-gl-0.12.13.min.js\"];\n\n  var inline_js = [\n    function(Bokeh) {\n      Bokeh.set_log_level(\"info\");\n    },\n    \n    function(Bokeh) {\n      \n    },\n    function(Bokeh) {\n      console.log(\"Bokeh: injecting CSS: https://cdn.pydata.org/bokeh/release/bokeh-0.12.13.min.css\");\n      Bokeh.embed.inject_css(\"https://cdn.pydata.org/bokeh/release/bokeh-0.12.13.min.css\");\n      console.log(\"Bokeh: injecting CSS: https://cdn.pydata.org/bokeh/release/bokeh-widgets-0.12.13.min.css\");\n      Bokeh.embed.inject_css(\"https://cdn.pydata.org/bokeh/release/bokeh-widgets-0.12.13.min.css\");\n      console.log(\"Bokeh: injecting CSS: https://cdn.pydata.org/bokeh/release/bokeh-tables-0.12.13.min.css\");\n      Bokeh.embed.inject_css(\"https://cdn.pydata.org/bokeh/release/bokeh-tables-0.12.13.min.css\");\n    }\n  ];\n\n  function run_inline_js() {\n    \n    if ((root.Bokeh !== undefined) || (force === true)) {\n      for (var i = 0; i < inline_js.length; i++) {\n        inline_js[i].call(root, root.Bokeh);\n      }if (force === true) {\n        display_loaded();\n      }} else if (Date.now() < root._bokeh_timeout) {\n      setTimeout(run_inline_js, 100);\n    } else if (!root._bokeh_failed_load) {\n      console.log(\"Bokeh: BokehJS failed to load within specified timeout.\");\n      root._bokeh_failed_load = true;\n    } else if (force !== true) {\n      var cell = $(document.getElementById(\"054bdef3-dcd4-4538-91d9-05c3b2b44349\")).parents('.cell').data().cell;\n      cell.output_area.append_execute_result(NB_LOAD_WARNING)\n    }\n\n  }\n\n  if (root._bokeh_is_loading === 0) {\n    console.log(\"Bokeh: BokehJS loaded, going straight to plotting\");\n    run_inline_js();\n  } else {\n    load_libs(js_urls, function() {\n      console.log(\"Bokeh: BokehJS plotting callback run at\", now());\n      run_inline_js();\n    });\n  }\n}(window));"
     },
     "metadata": {},
     "output_type": "display_data"
    }
   ],
   "source": [
    "import bokeh\n",
    "import ndlib.viz.bokeh.DiffusionTrend\n",
    "\n",
    "bokeh.plotting.output_notebook()"
   ]
  },
  {
   "cell_type": "code",
   "execution_count": 94,
   "metadata": {},
   "outputs": [
    {
     "data": {
      "text/html": [
       "\n",
       "<div class=\"bk-root\">\n",
       "    <div class=\"bk-plotdiv\" id=\"fe6eeeb3-1098-433c-bfa6-3376331700e6\"></div>\n",
       "</div>"
      ]
     },
     "metadata": {},
     "output_type": "display_data"
    },
    {
     "data": {
      "application/javascript": [
       "(function(root) {\n",
       "  function embed_document(root) {\n",
       "    \n",
       "  var docs_json = {\"12e55825-2b5f-4de2-977b-5a628f81dea4\":{\"roots\":{\"references\":[{\"attributes\":{\"callback\":null},\"id\":\"cce17689-91b4-45a4-809d-1e52f3cb1807\",\"type\":\"DataRange1d\"},{\"attributes\":{},\"id\":\"8e8ab0f3-b400-4257-8027-2f2397e96b87\",\"type\":\"BasicTickFormatter\"},{\"attributes\":{\"label\":{\"value\":\"Susceptible\"},\"renderers\":[{\"id\":\"84477fb6-0fc6-47c8-943f-6ea0db0d97a9\",\"type\":\"GlyphRenderer\"}]},\"id\":\"54db8fa7-dea4-4cef-ac17-b87551d9c1ad\",\"type\":\"LegendItem\"},{\"attributes\":{\"source\":{\"id\":\"f6168bde-bc39-4fae-a68e-80a10f438676\",\"type\":\"ColumnDataSource\"}},\"id\":\"af8bd165-d86d-4b16-9d87-f767563815fa\",\"type\":\"CDSView\"},{\"attributes\":{},\"id\":\"839c7539-e007-4b69-a58e-cd1ff5f270bc\",\"type\":\"BasicTicker\"},{\"attributes\":{\"line_alpha\":0.5,\"line_color\":\"#aec7e8\",\"line_width\":2,\"x\":{\"field\":\"x\"},\"y\":{\"field\":\"y\"}},\"id\":\"7d94a8fd-c1f5-47df-a2e1-5efe4efb3207\",\"type\":\"Line\"},{\"attributes\":{},\"id\":\"dd45872f-64c3-4a2a-9cef-f36a5dddb3fd\",\"type\":\"LinearScale\"},{\"attributes\":{\"line_alpha\":0.1,\"line_color\":\"#1f77b4\",\"line_width\":2,\"x\":{\"field\":\"x\"},\"y\":{\"field\":\"y\"}},\"id\":\"cd589584-9fa2-44a1-8ba5-dc459f1e8a42\",\"type\":\"Line\"},{\"attributes\":{\"label\":{\"value\":\"Infected\"},\"renderers\":[{\"id\":\"40ade9f2-8916-4f7a-a9af-13ef259e8178\",\"type\":\"GlyphRenderer\"}]},\"id\":\"affa70df-b7b9-4bff-a1c2-703ffa26409d\",\"type\":\"LegendItem\"},{\"attributes\":{\"line_alpha\":0.1,\"line_color\":\"#1f77b4\",\"line_width\":2,\"x\":{\"field\":\"x\"},\"y\":{\"field\":\"y\"}},\"id\":\"45cba7d6-addb-478d-b8d0-805523519281\",\"type\":\"Line\"},{\"attributes\":{\"items\":[{\"id\":\"54db8fa7-dea4-4cef-ac17-b87551d9c1ad\",\"type\":\"LegendItem\"},{\"id\":\"affa70df-b7b9-4bff-a1c2-703ffa26409d\",\"type\":\"LegendItem\"}],\"orientation\":\"horizontal\",\"plot\":{\"id\":\"372f84ea-8427-4de3-995e-bc68ce129417\",\"subtype\":\"Figure\",\"type\":\"Plot\"}},\"id\":\"31cb0485-10fb-484e-8030-aa8696947d75\",\"type\":\"Legend\"},{\"attributes\":{\"axis_label\":\"#Nodes\",\"formatter\":{\"id\":\"8e8ab0f3-b400-4257-8027-2f2397e96b87\",\"type\":\"BasicTickFormatter\"},\"plot\":{\"id\":\"372f84ea-8427-4de3-995e-bc68ce129417\",\"subtype\":\"Figure\",\"type\":\"Plot\"},\"ticker\":{\"id\":\"5043d21f-5aff-4716-9fc7-41b8729a8976\",\"type\":\"BasicTicker\"}},\"id\":\"2af2960b-c2dc-4720-8e1e-e93041e054c2\",\"type\":\"LinearAxis\"},{\"attributes\":{},\"id\":\"2046b228-cf0b-4538-a0c7-2d813fc3e642\",\"type\":\"ResetTool\"},{\"attributes\":{\"data_source\":{\"id\":\"3d1fb8bc-990b-4712-8c1d-ac0ca39cea39\",\"type\":\"ColumnDataSource\"},\"glyph\":{\"id\":\"7d94a8fd-c1f5-47df-a2e1-5efe4efb3207\",\"type\":\"Line\"},\"hover_glyph\":null,\"muted_glyph\":null,\"nonselection_glyph\":{\"id\":\"cd589584-9fa2-44a1-8ba5-dc459f1e8a42\",\"type\":\"Line\"},\"selection_glyph\":null,\"view\":{\"id\":\"2bb1d348-c67f-4fd7-b90a-c662c121aa61\",\"type\":\"CDSView\"}},\"id\":\"40ade9f2-8916-4f7a-a9af-13ef259e8178\",\"type\":\"GlyphRenderer\"},{\"attributes\":{\"line_alpha\":0.5,\"line_color\":\"#1f77b4\",\"line_width\":2,\"x\":{\"field\":\"x\"},\"y\":{\"field\":\"y\"}},\"id\":\"2fc53281-d0ba-45c0-8137-5f01b3c89395\",\"type\":\"Line\"},{\"attributes\":{},\"id\":\"166cdf6c-9ef3-47b4-aecc-6ceef935124a\",\"type\":\"WheelZoomTool\"},{\"attributes\":{\"callback\":null,\"column_names\":[\"x\",\"y\"],\"data\":{\"x\":[0,1,2,3,4,5,6,7,8,9,10,11,12,13,14,15,16,17,18,19,20,21,22,23,24,25,26,27,28,29,30,31,32,33,34,35,36,37,38,39,40,41,42,43,44,45,46,47,48,49,50,51,52,53,54,55,56,57,58,59,60,61,62,63,64,65,66,67,68,69,70,71,72,73,74,75,76,77,78,79,80,81,82,83,84,85,86,87,88,89,90,91,92,93,94,95,96,97,98,99,100,101,102,103,104,105,106,107,108,109,110,111,112,113,114,115,116,117,118,119,120,121,122,123,124,125,126,127,128,129,130,131,132,133,134,135,136,137,138,139,140,141,142,143,144,145,146,147,148,149,150,151,152,153,154,155,156,157,158,159,160,161,162,163,164,165,166,167,168,169,170,171,172,173,174,175,176,177,178,179,180,181,182,183,184,185,186,187,188,189,190,191,192,193,194,195,196,197,198,199,200,201,202,203,204,205,206,207,208,209,210,211,212,213,214,215,216,217,218,219,220,221,222,223,224,225,226,227,228,229,230,231,232,233,234,235,236,237,238,239,240,241,242,243,244,245,246,247,248,249,250,251,252,253,254,255,256,257,258,259,260,261,262,263,264,265,266,267,268,269,270,271,272,273,274,275,276,277,278,279,280,281,282,283,284,285,286,287,288,289,290,291,292,293,294,295,296,297,298,299,300,301,302,303,304,305,306,307,308,309,310,311,312,313,314,315,316,317,318,319,320,321,322,323,324,325,326,327,328,329,330,331,332,333,334,335,336,337,338,339,340,341,342,343,344,345,346,347,348,349,350,351,352,353,354,355,356,357,358,359,360,361,362,363,364,365,366,367,368,369,370,371,372,373,374,375,376,377,378,379,380,381,382,383,384,385,386,387,388,389,390,391,392,393,394,395,396,397,398,399,400,401,402,403,404,405,406,407,408,409,410,411,412,413,414,415,416,417,418,419,420,421,422,423,424,425,426,427,428,429,430,431,432,433,434,435,436,437,438,439,440,441,442,443,444,445,446,447,448,449,450,451,452,453,454,455,456,457,458,459,460,461,462,463,464,465,466,467,468,469,470,471,472,473,474,475,476,477,478,479,480,481,482,483,484,485,486,487,488,489,490,491,492,493,494,495,496,497,498,499,500,501,502,503,504,505,506,507,508,509,510,511,512,513,514,515,516,517,518,519,520,521,522,523,524,525,526,527,528,529,530,531,532,533,534,535,536,537,538,539,540,541,542,543,544,545,546,547,548,549,550,551,552,553,554,555,556,557,558,559,560,561,562,563,564,565,566,567,568,569,570,571,572,573,574,575,576,577,578,579,580,581,582,583,584,585,586,587,588,589,590,591,592,593,594,595,596,597,598,599,600,601,602,603,604,605,606,607,608,609,610,611,612,613,614,615,616,617,618,619,620,621,622,623,624,625,626,627,628,629,630,631,632,633,634,635,636,637,638,639,640,641,642,643,644,645,646,647,648,649,650,651,652,653,654,655,656,657,658,659,660,661,662,663,664,665,666,667,668,669,670,671,672,673,674,675,676,677,678,679,680,681,682,683,684,685,686,687,688,689,690,691,692,693,694,695,696,697,698,699,700,701,702,703,704,705,706,707,708,709,710,711,712,713,714,715,716,717,718,719,720,721,722,723,724,725,726,727,728,729,730,731,732,733,734,735,736,737,738,739,740,741,742,743,744,745,746,747,748,749,750,751,752,753,754,755,756,757,758,759,760,761,762,763,764,765,766,767,768,769,770,771,772,773,774,775,776,777,778,779,780,781,782,783,784,785,786,787,788,789,790,791,792,793,794,795,796,797,798,799,800,801,802,803,804,805,806,807,808,809,810,811,812,813,814,815,816,817,818,819,820,821,822,823,824,825,826,827,828,829,830,831,832,833,834,835,836,837,838,839,840,841,842,843,844,845,846,847,848,849,850,851,852,853,854,855,856,857,858,859,860,861,862,863,864,865,866,867,868,869,870,871,872,873,874,875,876,877,878,879,880,881,882,883,884,885,886,887,888,889,890,891,892,893,894,895,896,897,898,899,900,901,902,903,904,905,906,907,908,909,910,911,912,913,914,915,916,917,918,919,920,921,922,923,924,925,926,927,928,929,930,931,932,933,934,935,936,937,938,939,940,941,942,943,944,945,946,947,948,949,950,951,952,953,954,955,956,957,958,959,960,961,962,963,964,965,966,967,968,969,970,971,972,973,974,975,976,977,978,979,980,981,982,983,984,985,986,987,988,989,990,991,992,993,994,995,996,997,998,999],\"y\":{\"__ndarray__\":\"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\",\"dtype\":\"float64\",\"shape\":[1000]}}},\"id\":\"3d1fb8bc-990b-4712-8c1d-ac0ca39cea39\",\"type\":\"ColumnDataSource\"},{\"attributes\":{\"align\":\"center\",\"plot\":{\"id\":\"372f84ea-8427-4de3-995e-bc68ce129417\",\"subtype\":\"Figure\",\"type\":\"Plot\"},\"text\":\"percentage infected: 0.1\"},\"id\":\"3b5d88c5-43f9-4fec-b171-aaa1e9bfc618\",\"type\":\"Title\"},{\"attributes\":{\"bottom_units\":\"screen\",\"fill_alpha\":{\"value\":0.5},\"fill_color\":{\"value\":\"lightgrey\"},\"left_units\":\"screen\",\"level\":\"overlay\",\"line_alpha\":{\"value\":1.0},\"line_color\":{\"value\":\"black\"},\"line_dash\":[4,4],\"line_width\":{\"value\":2},\"plot\":null,\"render_mode\":\"css\",\"right_units\":\"screen\",\"top_units\":\"screen\"},\"id\":\"7e551537-15e2-4f44-9d93-39c7bd4a879a\",\"type\":\"BoxAnnotation\"},{\"attributes\":{\"axis_label\":\"Iterations\",\"formatter\":{\"id\":\"68c6d42b-f557-40ce-adc0-73b65dcd1251\",\"type\":\"BasicTickFormatter\"},\"plot\":{\"id\":\"372f84ea-8427-4de3-995e-bc68ce129417\",\"subtype\":\"Figure\",\"type\":\"Plot\"},\"ticker\":{\"id\":\"839c7539-e007-4b69-a58e-cd1ff5f270bc\",\"type\":\"BasicTicker\"}},\"id\":\"27504859-6cbd-4d3d-9817-70eec0e9876d\",\"type\":\"LinearAxis\"},{\"attributes\":{\"source\":{\"id\":\"3d1fb8bc-990b-4712-8c1d-ac0ca39cea39\",\"type\":\"ColumnDataSource\"}},\"id\":\"2bb1d348-c67f-4fd7-b90a-c662c121aa61\",\"type\":\"CDSView\"},{\"attributes\":{},\"id\":\"784525f4-24a7-426a-ad71-8c34928f1b2f\",\"type\":\"LinearScale\"},{\"attributes\":{\"callback\":null},\"id\":\"18317546-23a6-4a10-b185-114a6b0ce9c8\",\"type\":\"DataRange1d\"},{\"attributes\":{\"data_source\":{\"id\":\"f6168bde-bc39-4fae-a68e-80a10f438676\",\"type\":\"ColumnDataSource\"},\"glyph\":{\"id\":\"2fc53281-d0ba-45c0-8137-5f01b3c89395\",\"type\":\"Line\"},\"hover_glyph\":null,\"muted_glyph\":null,\"nonselection_glyph\":{\"id\":\"45cba7d6-addb-478d-b8d0-805523519281\",\"type\":\"Line\"},\"selection_glyph\":null,\"view\":{\"id\":\"af8bd165-d86d-4b16-9d87-f767563815fa\",\"type\":\"CDSView\"}},\"id\":\"84477fb6-0fc6-47c8-943f-6ea0db0d97a9\",\"type\":\"GlyphRenderer\"},{\"attributes\":{},\"id\":\"68c6d42b-f557-40ce-adc0-73b65dcd1251\",\"type\":\"BasicTickFormatter\"},{\"attributes\":{},\"id\":\"219f1381-f01e-4f59-ac9f-ffba2126650c\",\"type\":\"HelpTool\"},{\"attributes\":{\"dimension\":1,\"grid_line_alpha\":{\"value\":0.5},\"plot\":{\"id\":\"372f84ea-8427-4de3-995e-bc68ce129417\",\"subtype\":\"Figure\",\"type\":\"Plot\"},\"ticker\":{\"id\":\"5043d21f-5aff-4716-9fc7-41b8729a8976\",\"type\":\"BasicTicker\"}},\"id\":\"8a993c3b-a0d4-427a-8456-2ab4751aa7f9\",\"type\":\"Grid\"},{\"attributes\":{},\"id\":\"72812979-6ccc-4e5b-89ea-4df610fd4530\",\"type\":\"SaveTool\"},{\"attributes\":{\"overlay\":{\"id\":\"7e551537-15e2-4f44-9d93-39c7bd4a879a\",\"type\":\"BoxAnnotation\"}},\"id\":\"bd1a10ad-3606-4b66-8384-b0a429f67c1f\",\"type\":\"BoxZoomTool\"},{\"attributes\":{},\"id\":\"c39e2283-de99-4189-a120-16329124439d\",\"type\":\"PanTool\"},{\"attributes\":{\"active_drag\":\"auto\",\"active_inspect\":\"auto\",\"active_scroll\":\"auto\",\"active_tap\":\"auto\",\"tools\":[{\"id\":\"c39e2283-de99-4189-a120-16329124439d\",\"type\":\"PanTool\"},{\"id\":\"166cdf6c-9ef3-47b4-aecc-6ceef935124a\",\"type\":\"WheelZoomTool\"},{\"id\":\"bd1a10ad-3606-4b66-8384-b0a429f67c1f\",\"type\":\"BoxZoomTool\"},{\"id\":\"72812979-6ccc-4e5b-89ea-4df610fd4530\",\"type\":\"SaveTool\"},{\"id\":\"2046b228-cf0b-4538-a0c7-2d813fc3e642\",\"type\":\"ResetTool\"},{\"id\":\"219f1381-f01e-4f59-ac9f-ffba2126650c\",\"type\":\"HelpTool\"}]},\"id\":\"74f35e7e-d246-4e71-bff6-c75b73ecd3ad\",\"type\":\"Toolbar\"},{\"attributes\":{\"grid_line_alpha\":{\"value\":0.5},\"plot\":{\"id\":\"372f84ea-8427-4de3-995e-bc68ce129417\",\"subtype\":\"Figure\",\"type\":\"Plot\"},\"ticker\":{\"id\":\"839c7539-e007-4b69-a58e-cd1ff5f270bc\",\"type\":\"BasicTicker\"}},\"id\":\"4bbdbec9-baed-40b4-8fc9-b25acae183b1\",\"type\":\"Grid\"},{\"attributes\":{\"plot\":null,\"text\":\"Voter - Diffusion Trend\"},\"id\":\"7d425a5e-b7d8-4238-8afe-4bd46c6c10cb\",\"type\":\"Title\"},{\"attributes\":{\"callback\":null,\"column_names\":[\"x\",\"y\"],\"data\":{\"x\":[0,1,2,3,4,5,6,7,8,9,10,11,12,13,14,15,16,17,18,19,20,21,22,23,24,25,26,27,28,29,30,31,32,33,34,35,36,37,38,39,40,41,42,43,44,45,46,47,48,49,50,51,52,53,54,55,56,57,58,59,60,61,62,63,64,65,66,67,68,69,70,71,72,73,74,75,76,77,78,79,80,81,82,83,84,85,86,87,88,89,90,91,92,93,94,95,96,97,98,99,100,101,102,103,104,105,106,107,108,109,110,111,112,113,114,115,116,117,118,119,120,121,122,123,124,125,126,127,128,129,130,131,132,133,134,135,136,137,138,139,140,141,142,143,144,145,146,147,148,149,150,151,152,153,154,155,156,157,158,159,160,161,162,163,164,165,166,167,168,169,170,171,172,173,174,175,176,177,178,179,180,181,182,183,184,185,186,187,188,189,190,191,192,193,194,195,196,197,198,199,200,201,202,203,204,205,206,207,208,209,210,211,212,213,214,215,216,217,218,219,220,221,222,223,224,225,226,227,228,229,230,231,232,233,234,235,236,237,238,239,240,241,242,243,244,245,246,247,248,249,250,251,252,253,254,255,256,257,258,259,260,261,262,263,264,265,266,267,268,269,270,271,272,273,274,275,276,277,278,279,280,281,282,283,284,285,286,287,288,289,290,291,292,293,294,295,296,297,298,299,300,301,302,303,304,305,306,307,308,309,310,311,312,313,314,315,316,317,318,319,320,321,322,323,324,325,326,327,328,329,330,331,332,333,334,335,336,337,338,339,340,341,342,343,344,345,346,347,348,349,350,351,352,353,354,355,356,357,358,359,360,361,362,363,364,365,366,367,368,369,370,371,372,373,374,375,376,377,378,379,380,381,382,383,384,385,386,387,388,389,390,391,392,393,394,395,396,397,398,399,400,401,402,403,404,405,406,407,408,409,410,411,412,413,414,415,416,417,418,419,420,421,422,423,424,425,426,427,428,429,430,431,432,433,434,435,436,437,438,439,440,441,442,443,444,445,446,447,448,449,450,451,452,453,454,455,456,457,458,459,460,461,462,463,464,465,466,467,468,469,470,471,472,473,474,475,476,477,478,479,480,481,482,483,484,485,486,487,488,489,490,491,492,493,494,495,496,497,498,499,500,501,502,503,504,505,506,507,508,509,510,511,512,513,514,515,516,517,518,519,520,521,522,523,524,525,526,527,528,529,530,531,532,533,534,535,536,537,538,539,540,541,542,543,544,545,546,547,548,549,550,551,552,553,554,555,556,557,558,559,560,561,562,563,564,565,566,567,568,569,570,571,572,573,574,575,576,577,578,579,580,581,582,583,584,585,586,587,588,589,590,591,592,593,594,595,596,597,598,599,600,601,602,603,604,605,606,607,608,609,610,611,612,613,614,615,616,617,618,619,620,621,622,623,624,625,626,627,628,629,630,631,632,633,634,635,636,637,638,639,640,641,642,643,644,645,646,647,648,649,650,651,652,653,654,655,656,657,658,659,660,661,662,663,664,665,666,667,668,669,670,671,672,673,674,675,676,677,678,679,680,681,682,683,684,685,686,687,688,689,690,691,692,693,694,695,696,697,698,699,700,701,702,703,704,705,706,707,708,709,710,711,712,713,714,715,716,717,718,719,720,721,722,723,724,725,726,727,728,729,730,731,732,733,734,735,736,737,738,739,740,741,742,743,744,745,746,747,748,749,750,751,752,753,754,755,756,757,758,759,760,761,762,763,764,765,766,767,768,769,770,771,772,773,774,775,776,777,778,779,780,781,782,783,784,785,786,787,788,789,790,791,792,793,794,795,796,797,798,799,800,801,802,803,804,805,806,807,808,809,810,811,812,813,814,815,816,817,818,819,820,821,822,823,824,825,826,827,828,829,830,831,832,833,834,835,836,837,838,839,840,841,842,843,844,845,846,847,848,849,850,851,852,853,854,855,856,857,858,859,860,861,862,863,864,865,866,867,868,869,870,871,872,873,874,875,876,877,878,879,880,881,882,883,884,885,886,887,888,889,890,891,892,893,894,895,896,897,898,899,900,901,902,903,904,905,906,907,908,909,910,911,912,913,914,915,916,917,918,919,920,921,922,923,924,925,926,927,928,929,930,931,932,933,934,935,936,937,938,939,940,941,942,943,944,945,946,947,948,949,950,951,952,953,954,955,956,957,958,959,960,961,962,963,964,965,966,967,968,969,970,971,972,973,974,975,976,977,978,979,980,981,982,983,984,985,986,987,988,989,990,991,992,993,994,995,996,997,998,999],\"y\":{\"__ndarray__\":\"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\",\"dtype\":\"float64\",\"shape\":[1000]}}},\"id\":\"f6168bde-bc39-4fae-a68e-80a10f438676\",\"type\":\"ColumnDataSource\"},{\"attributes\":{},\"id\":\"5043d21f-5aff-4716-9fc7-41b8729a8976\",\"type\":\"BasicTicker\"},{\"attributes\":{\"below\":[{\"id\":\"27504859-6cbd-4d3d-9817-70eec0e9876d\",\"type\":\"LinearAxis\"},{\"id\":\"3b5d88c5-43f9-4fec-b171-aaa1e9bfc618\",\"type\":\"Title\"}],\"left\":[{\"id\":\"2af2960b-c2dc-4720-8e1e-e93041e054c2\",\"type\":\"LinearAxis\"}],\"plot_height\":500,\"plot_width\":500,\"renderers\":[{\"id\":\"27504859-6cbd-4d3d-9817-70eec0e9876d\",\"type\":\"LinearAxis\"},{\"id\":\"4bbdbec9-baed-40b4-8fc9-b25acae183b1\",\"type\":\"Grid\"},{\"id\":\"2af2960b-c2dc-4720-8e1e-e93041e054c2\",\"type\":\"LinearAxis\"},{\"id\":\"8a993c3b-a0d4-427a-8456-2ab4751aa7f9\",\"type\":\"Grid\"},{\"id\":\"7e551537-15e2-4f44-9d93-39c7bd4a879a\",\"type\":\"BoxAnnotation\"},{\"id\":\"31cb0485-10fb-484e-8030-aa8696947d75\",\"type\":\"Legend\"},{\"id\":\"84477fb6-0fc6-47c8-943f-6ea0db0d97a9\",\"type\":\"GlyphRenderer\"},{\"id\":\"40ade9f2-8916-4f7a-a9af-13ef259e8178\",\"type\":\"GlyphRenderer\"},{\"id\":\"3b5d88c5-43f9-4fec-b171-aaa1e9bfc618\",\"type\":\"Title\"}],\"title\":{\"id\":\"7d425a5e-b7d8-4238-8afe-4bd46c6c10cb\",\"type\":\"Title\"},\"toolbar\":{\"id\":\"74f35e7e-d246-4e71-bff6-c75b73ecd3ad\",\"type\":\"Toolbar\"},\"x_range\":{\"id\":\"cce17689-91b4-45a4-809d-1e52f3cb1807\",\"type\":\"DataRange1d\"},\"x_scale\":{\"id\":\"dd45872f-64c3-4a2a-9cef-f36a5dddb3fd\",\"type\":\"LinearScale\"},\"y_range\":{\"id\":\"18317546-23a6-4a10-b185-114a6b0ce9c8\",\"type\":\"DataRange1d\"},\"y_scale\":{\"id\":\"784525f4-24a7-426a-ad71-8c34928f1b2f\",\"type\":\"LinearScale\"}},\"id\":\"372f84ea-8427-4de3-995e-bc68ce129417\",\"subtype\":\"Figure\",\"type\":\"Plot\"}],\"root_ids\":[\"372f84ea-8427-4de3-995e-bc68ce129417\"]},\"title\":\"Bokeh Application\",\"version\":\"0.12.13\"}};\n",
       "  var render_items = [{\"docid\":\"12e55825-2b5f-4de2-977b-5a628f81dea4\",\"elementid\":\"fe6eeeb3-1098-433c-bfa6-3376331700e6\",\"modelid\":\"372f84ea-8427-4de3-995e-bc68ce129417\"}];\n",
       "  root.Bokeh.embed.embed_items_notebook(docs_json, render_items);\n",
       "\n",
       "  }\n",
       "  if (root.Bokeh !== undefined) {\n",
       "    embed_document(root);\n",
       "  } else {\n",
       "    var attempts = 0;\n",
       "    var timer = setInterval(function(root) {\n",
       "      if (root.Bokeh !== undefined) {\n",
       "        embed_document(root);\n",
       "        clearInterval(timer);\n",
       "      }\n",
       "      attempts++;\n",
       "      if (attempts > 100) {\n",
       "        console.log(\"Bokeh: ERROR: Unable to run BokehJS code because BokehJS library is missing\")\n",
       "        clearInterval(timer);\n",
       "      }\n",
       "    }, 10, root)\n",
       "  }\n",
       "})(window);"
      ],
      "application/vnd.bokehjs_exec.v0+json": ""
     },
     "metadata": {
      "application/vnd.bokehjs_exec.v0+json": {
       "id": "372f84ea-8427-4de3-995e-bc68ce129417"
      }
     },
     "output_type": "display_data"
    }
   ],
   "source": [
    "trends = vm.build_trends(it_bunch)\n",
    "viz = ndlib.viz.bokeh.DiffusionTrend.DiffusionTrend(vm, trends)\n",
    "p = viz.plot()\n",
    "bokeh.plotting.show(p)"
   ]
  },
  {
   "cell_type": "markdown",
   "metadata": {},
   "source": [
    "# SIR model\n",
    "\n",
    "[SIR model](http://ndlib.readthedocs.io/en/latest/reference/models/epidemics/SIR.html) parameters are infection probability *β*, and removal probability *γ*, and *percentage_infected*."
   ]
  },
  {
   "cell_type": "code",
   "execution_count": 125,
   "metadata": {},
   "outputs": [],
   "source": [
    "import ndlib.models.epidemics.SIRModel\n",
    "\n",
    "sir_m = ndlib.models.epidemics.SIRModel.SIRModel(G)\n",
    "sir_c = ndlib.models.ModelConfig.Configuration()\n",
    "sir_c.add_model_parameter('beta', 0.015)\n",
    "sir_c.add_model_parameter('gamma', 0.01)\n",
    "sir_c.add_model_parameter('percentage_infected', 0.1)\n",
    "sir_m.set_initial_status(sir_c)"
   ]
  },
  {
   "cell_type": "markdown",
   "metadata": {},
   "source": [
    "Run simulation"
   ]
  },
  {
   "cell_type": "code",
   "execution_count": 126,
   "metadata": {},
   "outputs": [],
   "source": [
    "sir_iters = sir_m.iteration_bunch(500)"
   ]
  },
  {
   "cell_type": "markdown",
   "metadata": {},
   "source": [
    "Visualization"
   ]
  },
  {
   "cell_type": "code",
   "execution_count": 127,
   "metadata": {},
   "outputs": [
    {
     "data": {
      "text/html": [
       "\n",
       "<div class=\"bk-root\">\n",
       "    <div class=\"bk-plotdiv\" id=\"f62e7dab-b52e-413a-b706-1c19a3c5c8f5\"></div>\n",
       "</div>"
      ]
     },
     "metadata": {},
     "output_type": "display_data"
    },
    {
     "data": {
      "application/javascript": [
       "(function(root) {\n",
       "  function embed_document(root) {\n",
       "    \n",
       "  var docs_json = {\"313ad184-73a5-421e-a628-da3cad989e2e\":{\"roots\":{\"references\":[{\"attributes\":{},\"id\":\"e6a4eff0-1c58-4a42-9685-173ae92c8959\",\"type\":\"LinearScale\"},{\"attributes\":{\"grid_line_alpha\":{\"value\":0.5},\"plot\":{\"id\":\"114816b0-fe07-45d5-9baf-47c3acceaba6\",\"subtype\":\"Figure\",\"type\":\"Plot\"},\"ticker\":{\"id\":\"4f539a99-90df-457d-af10-d0fc61736965\",\"type\":\"BasicTicker\"}},\"id\":\"f3bb85e3-0430-4555-8039-6f7dc73aad9e\",\"type\":\"Grid\"},{\"attributes\":{\"axis_label\":\"Iterations\",\"formatter\":{\"id\":\"0c39658a-30e8-4257-b1a1-094f374e37ed\",\"type\":\"BasicTickFormatter\"},\"plot\":{\"id\":\"114816b0-fe07-45d5-9baf-47c3acceaba6\",\"subtype\":\"Figure\",\"type\":\"Plot\"},\"ticker\":{\"id\":\"4f539a99-90df-457d-af10-d0fc61736965\",\"type\":\"BasicTicker\"}},\"id\":\"6d38497e-df23-4453-936b-a58e34c5513b\",\"type\":\"LinearAxis\"},{\"attributes\":{},\"id\":\"4f539a99-90df-457d-af10-d0fc61736965\",\"type\":\"BasicTicker\"},{\"attributes\":{\"axis_label\":\"#Nodes\",\"formatter\":{\"id\":\"a222d1d3-8237-4661-8c1b-4c5750f1f604\",\"type\":\"BasicTickFormatter\"},\"plot\":{\"id\":\"114816b0-fe07-45d5-9baf-47c3acceaba6\",\"subtype\":\"Figure\",\"type\":\"Plot\"},\"ticker\":{\"id\":\"1b272ef8-0a5d-4f02-ad4c-523af4d5b5d9\",\"type\":\"BasicTicker\"}},\"id\":\"bb0dcd05-2ae0-4f83-85ec-6764281a5011\",\"type\":\"LinearAxis\"},{\"attributes\":{},\"id\":\"1b272ef8-0a5d-4f02-ad4c-523af4d5b5d9\",\"type\":\"BasicTicker\"},{\"attributes\":{\"dimension\":1,\"grid_line_alpha\":{\"value\":0.5},\"plot\":{\"id\":\"114816b0-fe07-45d5-9baf-47c3acceaba6\",\"subtype\":\"Figure\",\"type\":\"Plot\"},\"ticker\":{\"id\":\"1b272ef8-0a5d-4f02-ad4c-523af4d5b5d9\",\"type\":\"BasicTicker\"}},\"id\":\"3a85b681-0356-492a-b565-fb3ce7d7d77f\",\"type\":\"Grid\"},{\"attributes\":{\"line_alpha\":0.1,\"line_color\":\"#1f77b4\",\"line_width\":2,\"x\":{\"field\":\"x\"},\"y\":{\"field\":\"y\"}},\"id\":\"9e247c1b-9118-4e6e-966d-3581006462e0\",\"type\":\"Line\"},{\"attributes\":{\"items\":[{\"id\":\"f2ae3637-b3bb-465c-a1d7-b4c159d91391\",\"type\":\"LegendItem\"},{\"id\":\"62b632d7-dbce-463c-8a67-a137c45c5385\",\"type\":\"LegendItem\"},{\"id\":\"2672b97f-dd2c-40f3-b3f2-c56d0e65ab0d\",\"type\":\"LegendItem\"}],\"orientation\":\"horizontal\",\"plot\":{\"id\":\"114816b0-fe07-45d5-9baf-47c3acceaba6\",\"subtype\":\"Figure\",\"type\":\"Plot\"}},\"id\":\"f1e51c83-c132-42ef-961c-1d65e48d6406\",\"type\":\"Legend\"},{\"attributes\":{\"callback\":null,\"column_names\":[\"x\",\"y\"],\"data\":{\"x\":[0,1,2,3,4,5,6,7,8,9,10,11,12,13,14,15,16,17,18,19,20,21,22,23,24,25,26,27,28,29,30,31,32,33,34,35,36,37,38,39,40,41,42,43,44,45,46,47,48,49,50,51,52,53,54,55,56,57,58,59,60,61,62,63,64,65,66,67,68,69,70,71,72,73,74,75,76,77,78,79,80,81,82,83,84,85,86,87,88,89,90,91,92,93,94,95,96,97,98,99,100,101,102,103,104,105,106,107,108,109,110,111,112,113,114,115,116,117,118,119,120,121,122,123,124,125,126,127,128,129,130,131,132,133,134,135,136,137,138,139,140,141,142,143,144,145,146,147,148,149,150,151,152,153,154,155,156,157,158,159,160,161,162,163,164,165,166,167,168,169,170,171,172,173,174,175,176,177,178,179,180,181,182,183,184,185,186,187,188,189,190,191,192,193,194,195,196,197,198,199,200,201,202,203,204,205,206,207,208,209,210,211,212,213,214,215,216,217,218,219,220,221,222,223,224,225,226,227,228,229,230,231,232,233,234,235,236,237,238,239,240,241,242,243,244,245,246,247,248,249,250,251,252,253,254,255,256,257,258,259,260,261,262,263,264,265,266,267,268,269,270,271,272,273,274,275,276,277,278,279,280,281,282,283,284,285,286,287,288,289,290,291,292,293,294,295,296,297,298,299,300,301,302,303,304,305,306,307,308,309,310,311,312,313,314,315,316,317,318,319,320,321,322,323,324,325,326,327,328,329,330,331,332,333,334,335,336,337,338,339,340,341,342,343,344,345,346,347,348,349,350,351,352,353,354,355,356,357,358,359,360,361,362,363,364,365,366,367,368,369,370,371,372,373,374,375,376,377,378,379,380,381,382,383,384,385,386,387,388,389,390,391,392,393,394,395,396,397,398,399,400,401,402,403,404,405,406,407,408,409,410,411,412,413,414,415,416,417,418,419,420,421,422,423,424,425,426,427,428,429,430,431,432,433,434,435,436,437,438,439,440,441,442,443,444,445,446,447,448,449,450,451,452,453,454,455,456,457,458,459,460,461,462,463,464,465,466,467,468,469,470,471,472,473,474,475,476,477,478,479,480,481,482,483,484,485,486,487,488,489,490,491,492,493,494,495,496,497,498,499],\"y\":{\"__ndarray__\":\"zczMzMzM7D8tsp3vp8bfPwAAAAAAAAAAAAAAAAAAAAAAAAAAAAAAAAAAAAAAAAAAAAAAAAAAAAAAAAAAAAAAAAAAAAAAAAAAAAAAAAAAAAAAAAAAAAAAAAAAAAAAAAAAAAAAAAAAAAAAAAAAAAAAAAAAAAAAAAAAAAAAAAAAAAAAAAAAAAAAAAAAAAAAAAAAAAAAAAAAAAAAAAAAAAAAAAAAAAAAAAAAAAAAAAAAAAAAAAAAAAAAAAAAAAAAAAAAAAAAAAAAAAAAAAAAAAAAAAAAAAAAAAAAAAAAAAAAAAAAAAAAAAAAAAAAAAAAAAAAAAAAAAAAAAAAAAAAAAAAAAAAAAAAAAAAAAAAAAAAAAAAAAAAAAAAAAAAAAAAAAAAAAAAAAAAAAAAAAAAAAAAAAAAAAAAAAAAAAAAAAAAAAAAAAAAAAAAAAAAAAAAAAAAAAAAAAAAAAAAAAAAAAAAAAAAAAAAAAAAAAAAAAAAAAAAAAAAAAAAAAAAAAAAAAAAAAAAAAAAAAAAAAAAAAAAAAAAAAAAAAAAAAAAAAAAAAAAAAAAAAAAAAAAAAAAAAAAAAAAAAAAAAAAAAAAAAAAAAAAAAAAAAAAAAAAAAAAAAAAAAAAAAAAAAAAAAAAAAAAAAAAAAAAAAAAAAAAAAAAAAAAAAAAAAAAAAAAAAAAAAAAAAAAAAAAAAAAAAAAAAAAAAAAAAAAAAAAAAAAAAAAAAAAAAAAAAAAAAAAAAAAAAAAAAAAAAAAAAAAAAAAAAAAAAAAAAAAAAAAAAAAAAAAAAAAAAAAAAAAAAAAAAAAAAAAAAAAAAAAAAAAAAAAAAAAAAAAAAAAAAAAAAAAAAAAAAAAAAAAAAAAAAAAAAAAAAAAAAAAAAAAAAAAAAAAAAAAAAAAAAAAAAAAAAAAAAAAAAAAAAAAAAAAAAAAAAAAAAAAAAAAAAAAAAAAAAAAAAAAAAAAAAAAAAAAAAAAAAAAAAAAAAAAAAAAAAAAAAAAAAAAAAAAAAAAAAAAAAAAAAAAAAAAAAAAAAAAAAAAAAAAAAAAAAAAAAAAAAAAAAAAAAAAAAAAAAAAAAAAAAAAAAAAAAAAAAAAAAAAAAAAAAAAAAAAAAAAAAAAAAAAAAAAAAAAAAAAAAAAAAAAAAAAAAAAAAAAAAAAAAAAAAAAAAAAAAAAAAAAAAAAAAAAAAAAAAAAAAAAAAAAAAAAAAAAAAAAAAAAAAAAAAAAAAAAAAAAAAAAAAAAAAAAAAAAAAAAAAAAAAAAAAAAAAAAAAAAAAAAAAAAAAAAAAAAAAAAAAAAAAAAAAAAAAAAAAAAAAAAAAAAAAAAAAAAAAAAAAAAAAAAAAAAAAAAAAAAAAAAAAAAAAAAAAAAAAAAAAAAAAAAAAAAAAAAAAAAAAAAAAAAAAAAAAAAAAAAAAAAAAAAAAAAAAAAAAAAAAAAAAAAAAAAAAAAAAAAAAAAAAAAAAAAAAAAAAAAAAAAAAAAAAAAAAAAAAAAAAAAAAAAAAAAAAAAAAAAAAAAAAAAAAAAAAAAAAAAAAAAAAAAAAAAAAAAAAAAAAAAAAAAAAAAAAAAAAAAAAAAAAAAAAAAAAAAAAAAAAAAAAAAAAAAAAAAAAAAAAAAAAAAAAAAAAAAAAAAAAAAAAAAAAAAAAAAAAAAAAAAAAAAAAAAAAAAAAAAAAAAAAAAAAAAAAAAAAAAAAAAAAAAAAAAAAAAAAAAAAAAAAAAAAAAAAAAAAAAAAAAAAAAAAAAAAAAAAAAAAAAAAAAAAAAAAAAAAAAAAAAAAAAAAAAAAAAAAAAAAAAAAAAAAAAAAAAAAAAAAAAAAAAAAAAAAAAAAAAAAAAAAAAAAAAAAAAAAAAAAAAAAAAAAAAAAAAAAAAAAAAAAAAAAAAAAAAAAAAAAAAAAAAAAAAAAAAAAAAAAAAAAAAAAAAAAAAAAAAAAAAAAAAAAAAAAAAAAAAAAAAAAAAAAAAAAAAAAAAAAAAAAAAAAAAAAAAAAAAAAAAAAAAAAAAAAAAAAAAAAAAAAAAAAAAAAAAAAAAAAAAAAAAAAAAAAAAAAAAAAAAAAAAAAAAAAAAAAAAAAAAAAAAAAAAAAAAAAAAAAAAAAAAAAAAAAAAAAAAAAAAAAAAAAAAAAAAAAAAAAAAAAAAAAAAAAAAAAAAAAAAAAAAAAAAAAAAAAAAAAAAAAAAAAAAAAAAAAAAAAAAAAAAAAAAAAAAAAAAAAAAAAAAAAAAAAAAAAAAAAAAAAAAAAAAAAAAAAAAAAAAAAAAAAAAAAAAAAAAAAAAAAAAAAAAAAAAAAAAAAAAAAAAAAAAAAAAAAAAAAAAAAAAAAAAAAAAAAAAAAAAAAAAAAAAAAAAAAAAAAAAAAAAAAAAAAAAAAAAAAAAAAAAAAAAAAAAAAAAAAAAAAAAAAAAAAAAAAAAAAAAAAAAAAAAAAAAAAAAAAAAAAAAAAAAAAAAAAAAAAAAAAAAAAAAAAAAAAAAAAAAAAAAAAAAAAAAAAAAAAAAAAAAAAAAAAAAAAAAAAAAAAAAAAAAAAAAAAAAAAAAAAAAAAAAAAAAAAAAAAAAAAAAAAAAAAAAAAAAAAAAAAAAAAAAAAAAAAAAAAAAAAAAAAAAAAAAAAAAAAAAAAAAAAAAAAAAAAAAAAAAAAAAAAAAAAAAAAAAAAAAAAAAAAAAAAAAAAAAAAAAAAAAAAAAAAAAAAAAAAAAAAAAAAAAAAAAAAAAAAAAAAAAAAAAAAAAAAAAAAAAAAAAAAAAAAAAAAAAAAAAAAAAAAAAAAAAAAAAAAAAAAAAAAAAAAAAAAAAAAAAAAAAAAAAAAAAAAAAAAAAAAAAAAAAAAAAAAAAAAAAAAAAAAAAAAAAAAAAAAAAAAAAAAAAAAAAAAAAAAAAAAAAAAAAAAAAAAAAAAAAAAAAAAAAAAAAAAAAAAAAAAAAAAAAAAAAAAAAAAAAAAAAAAAAAAAAAAAAAAAAAAAAAAAAAAAAAAAAAAAAAAAAAAAAAAAAAAAAAAAAAAAAAAAAAAAAAAAAAAAAAAAAAAAAAAAAAAAAAAAAAAAAAAAAAAAAAAAAAAAAAAAAAAAAAAAAAAAAAAAAAAAAAAAAAAAAAAAAAAAAAAAAAAAAAAAAAAAAAAAAAAAAAAAAAAAAAAAAAAAAAAAAAAAAAAAAAAAAAAAAAAAAAAAAAAAAAAAAAAAAAAAAAAAAAAAAAAAAAAAAAAAAAAAAAAAAAAAAAAAAAAAAAAAAAAAAAAAAAAAAAAAAAAAAAAAAAAAAAAAAAAAAAAAAAAAAAAAAAAAAAAAAAAAAAAAAAAAAAAAAAAAAAAAAAAAAAAAAAAAAAAAAAAAAAAAAAAAAAAAAAAAAAAAAAAAAAAAAAAAAAAAAAAAAAAAAAAAAAAAAAAAAAAAAAAAAAAAAAAAAAAAAAAAAAAAAAAAAAAAAAAAAAAAAAAAAAAAAAAAAAAAAAAAAAAAAAAAAAAAAAAAAAAAAAAAAAAAAAAAAAAAAAAAAAAAAAAAAAAAAAAAAAAAAAAAAAAAAAAAAAAAAAAAAAAAAAAAAAAAAAAAAAAAAAAAAAAAAAAAAAAAAAAAAAAAAAAAAAAAAAAAAAAAAAAAAAAAAAAAAAAAAAAAAAAAAAAAAAAAAAAAAAAAAAAAAAAAAAAAAAAAAAAAAAAAAAAAAAAAAAAAAAAAAAAAAAAAAAAAAAAAAAAAAAAAAAAAAAAAAAAAAAAAAAAAAAAAAAAAAAAAAAAAAAAAAAAAAAAAAAAAAAAAAAAAAAAAAAAAAAAAAAAAAAAAAAAAAAAAAAAAAAAAAAAAAAAAAAAAAAAAAAAAAAAAAAAAAAAAAAAAAAAAAAAAAAAAAAAAAAAAAAAAAAAAAAAAAAAAAAAAAAAAAAAAAAAAAAAAAAAAAAAAAAAAAAAAAAAAAAAAAAAAAAAAAAAAAAAAAAAAAAAAAAAAAAAAAAAAAAAAAAAAAAAAAAAAAAAAAAAAAAAAAAAAAAAAAAAAAAAAAAAAAAAAAAAAAAAAAAAAAAAAAAAAAAAAAAAAAAAAAAAAAAAAAAAAAAAAAAAAAAAAAAAAAAAAAAAAAAAAAAAAAAAAAAAAAAAAAAAAAAAAAAAAAAAAAAAAAAAAAAAAAAAAAAAAAAAAAAAAAAAAAAAAAAAAAAAAAAAAAAAAAAAAAAAAAAAAAAAAAAAAAAAAAAAAAAAAAAAAAAAAAAAAAAAAAAAAAAAAAAAAAAAAAAAAAAAAAAAAAAAAAAAAAAAAAAAAAAAAAAAAAAAAAAAAAAAAAAAAAAAAAAAAAAAAAAAAAAAAAAAAAAAAAAAAAAAAAAAAAAAAAAAAAAAAAAAAAAAAAAAAAAAAAAAAAAAAAAAAAAAAAAAAAAAAAAAAAAAAAAAAAAAAAAAAAAAAAAAAAAAAAAAAAAAAAAAAAAAAAAAAAAAAAAAAAAAAAAAAAAAAAAAAAAAAAAAAAAAAAAAAAAAAAAAAAAAAAAAAAAAAAAAAAAAAAAAAAAAAAAAAAAAAAAAAAAAAAAAAAAAAAAAAAAAAAAAAAAAAAAAAAAAAAAAAAAAAAAAAAAAAAAAAAAAAAAAAAAAAAAAAAAAAAAAAAAAAAAAAAAAAAAAAAAAAAAAAAAAAAAAAAAAAAAAAAAAAAAAAAAAAAAAAAAAAAAAAAAAAAAAAAAAAAAAAAAAAAAAAAAAAAAAAAAAAAAAAAAAAAAAAAAAAAAAAAAAAAAAAAAAAAAAAAAAAAAAAAAAAAAAAAAAAAAAAAAAAAAAAAAAAAAAAAAAAAAAAAAAAAAAAAAAAAAAAAAAAAAAAAAAAAAAAAAAAAAAAAAAAAAAAAAAAAAAAAAAAAAAAAAAAAAAAAAAAAAAAAAAAAAAAAAAAAAAAAAAAAAAAAAAAAAAAAAAAAAAAAAAAAAAAAAAAAAAAAAAAAAAAAAAAAAAAAAAAAAAAAAAAAAAAAAAAAAAAAAAAAAAAAAAAAAAAAAAAAAAAAAAAAAAAAAAAAAAAAAAAAAAAAAAAAAAAAAAAAAAAAAAAAAAAAAAAAAAAAAAAAAAAAAAAAAAAAAAAAAAAAAAAAAAAAAAAAAAAAAAAAAAAAAAAAAAAAAAAAAAAAAAAAAAAAAAAAAAAAAAAAAAAAAAAAAAAAAAAAAAAAAAAAAAAAAAAAAAAAAAAAAAAAAAAAAAAAAAAAAAAAAAAAAAAAAAAAAAAAAAAAAAAAAAAAAAAAAAAAAAAAAAAAAAAAAAAAAAAAAAAAAAAAAAAAAAAAAAAAAAAAAAAAAAAAAAAAAAAAAAAAAAAAAAAAAAAAAAAAAAAAAAAAAAAAAAAAAAAAAAAAAAAAAAAAAAAAAAAAAAAAAAAAAAAAAAAAAA==\",\"dtype\":\"float64\",\"shape\":[500]}}},\"id\":\"37106fee-d618-4c18-9c35-2bbc5b6c8361\",\"type\":\"ColumnDataSource\"},{\"attributes\":{\"bottom_units\":\"screen\",\"fill_alpha\":{\"value\":0.5},\"fill_color\":{\"value\":\"lightgrey\"},\"left_units\":\"screen\",\"level\":\"overlay\",\"line_alpha\":{\"value\":1.0},\"line_color\":{\"value\":\"black\"},\"line_dash\":[4,4],\"line_width\":{\"value\":2},\"plot\":null,\"render_mode\":\"css\",\"right_units\":\"screen\",\"top_units\":\"screen\"},\"id\":\"b1760cb7-9c16-4805-8c35-6de12ab81820\",\"type\":\"BoxAnnotation\"},{\"attributes\":{},\"id\":\"c88e32f5-7e8d-4bc5-9dd2-078f4da78d4e\",\"type\":\"PanTool\"},{\"attributes\":{},\"id\":\"a222d1d3-8237-4661-8c1b-4c5750f1f604\",\"type\":\"BasicTickFormatter\"},{\"attributes\":{\"source\":{\"id\":\"37106fee-d618-4c18-9c35-2bbc5b6c8361\",\"type\":\"ColumnDataSource\"}},\"id\":\"1044e03a-a6ba-4eaf-a0aa-a00e821f7ae5\",\"type\":\"CDSView\"},{\"attributes\":{\"callback\":null},\"id\":\"072b75b1-60ed-416c-9f88-1251482047b3\",\"type\":\"DataRange1d\"},{\"attributes\":{},\"id\":\"1d6ee882-ed60-4aca-8e08-0b9f1244c3da\",\"type\":\"WheelZoomTool\"},{\"attributes\":{\"callback\":null},\"id\":\"f48bf1ba-8cb3-434e-adaf-51625061a9d5\",\"type\":\"DataRange1d\"},{\"attributes\":{\"overlay\":{\"id\":\"b1760cb7-9c16-4805-8c35-6de12ab81820\",\"type\":\"BoxAnnotation\"}},\"id\":\"26c509b2-adff-48a6-883d-cbc17e92ec4e\",\"type\":\"BoxZoomTool\"},{\"attributes\":{},\"id\":\"6822d71f-a171-4f37-b130-946ea68b2939\",\"type\":\"SaveTool\"},{\"attributes\":{},\"id\":\"9f79a1e4-f9a8-4542-8e93-30691c15ba51\",\"type\":\"ResetTool\"},{\"attributes\":{},\"id\":\"b437c035-bec6-4378-a613-8d0dc0ec92e6\",\"type\":\"HelpTool\"},{\"attributes\":{\"label\":{\"value\":\"Infected\"},\"renderers\":[{\"id\":\"c956ccde-73ac-474c-9d80-89d37f64f366\",\"type\":\"GlyphRenderer\"}]},\"id\":\"62b632d7-dbce-463c-8a67-a137c45c5385\",\"type\":\"LegendItem\"},{\"attributes\":{},\"id\":\"0c39658a-30e8-4257-b1a1-094f374e37ed\",\"type\":\"BasicTickFormatter\"},{\"attributes\":{\"plot\":null,\"text\":\"SIR - Diffusion Trend\"},\"id\":\"a0679bf0-4f96-4785-9d11-e846708305e5\",\"type\":\"Title\"},{\"attributes\":{\"line_alpha\":0.5,\"line_color\":\"#aec7e8\",\"line_width\":2,\"x\":{\"field\":\"x\"},\"y\":{\"field\":\"y\"}},\"id\":\"c6cd2a2a-9bc1-4640-acc9-019e492c455d\",\"type\":\"Line\"},{\"attributes\":{\"callback\":null,\"column_names\":[\"x\",\"y\"],\"data\":{\"x\":[0,1,2,3,4,5,6,7,8,9,10,11,12,13,14,15,16,17,18,19,20,21,22,23,24,25,26,27,28,29,30,31,32,33,34,35,36,37,38,39,40,41,42,43,44,45,46,47,48,49,50,51,52,53,54,55,56,57,58,59,60,61,62,63,64,65,66,67,68,69,70,71,72,73,74,75,76,77,78,79,80,81,82,83,84,85,86,87,88,89,90,91,92,93,94,95,96,97,98,99,100,101,102,103,104,105,106,107,108,109,110,111,112,113,114,115,116,117,118,119,120,121,122,123,124,125,126,127,128,129,130,131,132,133,134,135,136,137,138,139,140,141,142,143,144,145,146,147,148,149,150,151,152,153,154,155,156,157,158,159,160,161,162,163,164,165,166,167,168,169,170,171,172,173,174,175,176,177,178,179,180,181,182,183,184,185,186,187,188,189,190,191,192,193,194,195,196,197,198,199,200,201,202,203,204,205,206,207,208,209,210,211,212,213,214,215,216,217,218,219,220,221,222,223,224,225,226,227,228,229,230,231,232,233,234,235,236,237,238,239,240,241,242,243,244,245,246,247,248,249,250,251,252,253,254,255,256,257,258,259,260,261,262,263,264,265,266,267,268,269,270,271,272,273,274,275,276,277,278,279,280,281,282,283,284,285,286,287,288,289,290,291,292,293,294,295,296,297,298,299,300,301,302,303,304,305,306,307,308,309,310,311,312,313,314,315,316,317,318,319,320,321,322,323,324,325,326,327,328,329,330,331,332,333,334,335,336,337,338,339,340,341,342,343,344,345,346,347,348,349,350,351,352,353,354,355,356,357,358,359,360,361,362,363,364,365,366,367,368,369,370,371,372,373,374,375,376,377,378,379,380,381,382,383,384,385,386,387,388,389,390,391,392,393,394,395,396,397,398,399,400,401,402,403,404,405,406,407,408,409,410,411,412,413,414,415,416,417,418,419,420,421,422,423,424,425,426,427,428,429,430,431,432,433,434,435,436,437,438,439,440,441,442,443,444,445,446,447,448,449,450,451,452,453,454,455,456,457,458,459,460,461,462,463,464,465,466,467,468,469,470,471,472,473,474,475,476,477,478,479,480,481,482,483,484,485,486,487,488,489,490,491,492,493,494,495,496,497,498,499],\"y\":{\"__ndarray__\":\"AAAAAAAAAAAAAAAAAAAAAHsUrkfhenQ/WDm0yHa+jz/pJjEIrByaPzvfT42XbqI/sp3vp8ZLpz8xCKwcWmSrP7ByaJHtfK8/N4lBYOXQsj8X2c73U+O1P/p+arx0k7g/1XjpJjEIvD8QWDm0yHa+P/7UeOkmMcA/8tJNYhBYwT/l0CLb+X7CPy2yne+nxsM/z/dT46WbxD8dWmQ730/FPw4tsp3vp8Y/WmQ730+Nxz9QjZduEoPIP5qZmZmZmck/j8L1KFyPyj/ZzvdT46XLP3npJjEIrMw/cT0K16NwzT8OLbKd76fOPwisHFpkO88/AAAAAAAA0D97FK5H4XrQP3e+nxov3dA/cT0K16Nw0T9t5/up8dLRPxBYObTIdtI/4XoUrkfh0j+HFtnO91PTP1g5tMh2vtM/1XjpJjEI1D/8qfHSTWLUP3npJjEIrNQ/9P3UeOkm1T/FILByaJHVPz81XrpJDNY/ZmZmZmZm1j/fT42XbhLXP1yPwvUoXNc/16NwPQrX1z+oxks3iUHYP6JFtvP91Ng/9P3UeOkm2T/wp8ZLN4nZP5huEoPAytk/6SYxCKwc2j/l0CLb+X7aP42XbhKDwNo/tMh2vp8a2z+wcmiR7XzbP9ejcD0K19s/f2q8dJMY3D/P91PjpZvcP3WTGARWDt0/mG4Sg8DK3T/pJjEIrBzePxBYObTIdt4/jZduEoPA3j9eukkMAivfPzEIrBxaZN8/WDm0yHa+3z8AAAAAAADgP76fGi/dJOA/PQrXo3A94D/8qfHSTWLgP4/C9Shcj+A/eekmMQis4D/NzMzMzMzgP/YoXI/C9eA/NV66SQwC4T/0/dR46SbhP3Noke18P+E/nMQgsHJo4T/wp8ZLN4nhP1g5tMh2vuE/QmDl0CLb4T+WQ4ts5/vhP6rx0k1iEOI/vp8aL90k4j8Sg8DKoUXiP2ZmZmZmZuI/ukkMAiuH4j+4HoXrUbjiP7bz/dR46eI/iUFg5dAi4z+e76fGSzfjP/LSTWIQWOM/8KfGSzeJ4z8EVg4tsp3jPxkEVg4tsuM/mG4Sg8DK4z/ByqFFtvPjPxSuR+F6FOQ/vp8aL90k5D89CtejcD3kP/yp8dJNYuQ/ppvEILBy5D8lBoGVQ4vkP6RwPQrXo+Q/jZduEoPA5D9MN4lBYOXkP3WTGARWDuU/iUFg5dAi5T8zMzMzMzPlP1yPwvUoXOU/Rrbz/dR45T+amZmZmZnlP65H4XoUruU/WDm0yHa+5T8rhxbZzvflP9V46SYxCOY/vp8aL90k5j+oxks3iUHmP1K4HoXrUeY/0SLb+X5q5j97FK5H4XrmP6RwPQrXo+Y/eekmMQis5j/NzMzMzMzmP3e+nxov3eY/tvP91Hjp5j/2KFyPwvXmPx+F61G4Huc/sp3vp8ZL5z+cxCCwcmjnP3E9CtejcOc/sHJoke185z9vEoPAyqHnP65H4XoUruc/LbKd76fG5z9t5/up8dLnPxfZzvdT4+c/K4cW2c735z9qvHSTGAToP+kmMQisHOg/vp8aL90k6D9oke18PzXoPxKDwMqhReg/ke18PzVe6D+mm8QgsHLoP/p+arx0k+g/eekmMQis6D8j2/l+arzoP/hT46WbxOg/d76fGi/d6D8hsHJoke3oP8uhRbbz/eg/tMh2vp8a6T/0/dR46SbpP57vp8ZLN+k/c2iR7Xw/6T+yne+nxkvpP1yPwvUoXOk/BoGVQ4ts6T8v3SQGgZXpP0SLbOf7qek/GQRWDi2y6T9YObTIdr7pP8P1KFyPwuk/LbKd76fG6T9t5/up8dLpP6wcWmQ73+k/K4cW2c736T8/NV66SQzqP1TjpZvEIOo/kxgEVg4t6j8Sg8DKoUXqP7x0kxgEVuo//Knx0k1i6j8730+Nl27qP1CNl24Sg+o/JQaBlUOL6j+PwvUoXI/qP8/3U+Olm+o/eekmMQis6j8j2/l+arzqP3e+nxov3eo/tvP91Hjp6j+LbOf7qfHqPzVeukkMAus/SgwCK4cW6z8fhetRuB7rP3Noke18P+s/hxbZzvdT6z9cj8L1KFzrP5zEILByaOs/2/l+arx06z9GtvP91HjrP4XrUbgehes/xSCwcmiR6z8EVg4tsp3rP65H4XoUrus/WDm0yHa+6z/D9Shcj8LrP23n+6nx0us/rBxaZDvf6z/sUbgehevrPyuHFtnO9+s/1XjpJjEI7D+q8dJNYhDsP39qvHSTGOw/vp8aL90k7D9oke18PzXsPxKDwMqhRew/5/up8dJN7D9SuB6F61HsP/yp8dJNYuw/EFg5tMh27D8QWDm0yHbsP3sUrkfheuw/exSuR+F67D+6SQwCK4fsP4/C9Shcj+w/+n5qvHST7D/6fmq8dJPsP8/3U+Olm+w/eekmMQis7D+4HoXrUbjsP/hT46WbxOw/zczMzMzM7D+28/3UeOnsP4ts5/up8ew/YOXQItv57D81XrpJDALtP0oMAiuHFu0/H4XrUbge7T8fhetRuB7tP166SQwCK+0/MzMzMzMz7T8IrBxaZDvtPwisHFpkO+0/c2iR7Xw/7T9zaJHtfD/tP90kBoGVQ+0/SOF6FK5H7T8dWmQ730/tP/LSTWIQWO0/XI/C9Shc7T9cj8L1KFztPzEIrBxaZO0/BoGVQ4ts7T/b+X5qvHTtP0a28/3UeO0/sHJoke187T8bL90kBoHtP8UgsHJoke0/L90kBoGV7T+amZmZmZntPwRWDi2yne0/BFYOLbKd7T/ZzvdT46XtP0SLbOf7qe0/rkfhehSu7T8ZBFYOLbLtP4PAyqFFtu0/WDm0yHa+7T/D9Shcj8LtP8P1KFyPwu0/mG4Sg8DK7T+YbhKDwMrtP9ejcD0K1+0/16NwPQrX7T+sHFpkO9/tP+xRuB6F6+0/7FG4HoXr7T9WDi2yne/tP8HKoUW28+0/K4cW2c737T8AAAAAAADuP9V46SYxCO4/FK5H4XoU7j8UrkfhehTuP1TjpZvEIO4/VOOlm8Qg7j++nxov3STuPylcj8L1KO4/kxgEVg4t7j/+1HjpJjHuP2iR7Xw/Ne4/001iEFg57j/TTWIQWDnuPz0K16NwPe4/qMZLN4lB7j8Sg8DKoUXuP30/NV66Se4/UrgehetR7j+8dJMYBFbuP7x0kxgEVu4/vHSTGARW7j+8dJMYBFbuPycxCKwcWu4/ZmZmZmZm7j/RItv5fmruP9Ei2/l+au4/ppvEILBy7j+mm8QgsHLuP6abxCCwcu4/EFg5tMh27j97FK5H4XruP+XQItv5fu4/ukkMAiuH7j8lBoGVQ4vuP4/C9Shcj+4/j8L1KFyP7j/6fmq8dJPuP/p+arx0k+4/ZDvfT42X7j9kO99PjZfuP2Q730+Nl+4/z/dT46Wb7j85tMh2vp/uPzm0yHa+n+4/Di2yne+n7j/jpZvEILDuP05iEFg5tO4/TmIQWDm07j9OYhBYObTuPyPb+X5qvO4/jZduEoPA7j9iEFg5tMjuP2IQWDm0yO4/N4lBYOXQ7j83iUFg5dDuPzeJQWDl0O4/N4lBYOXQ7j+iRbbz/dTuP6JFtvP91O4/okW28/3U7j93vp8aL93uP3e+nxov3e4/4XoUrkfh7j/hehSuR+HuP0w3iUFg5e4/TDeJQWDl7j9MN4lBYOXuP0w3iUFg5e4/TDeJQWDl7j+28/3UeOnuP7bz/dR46e4/IbByaJHt7j+LbOf7qfHuP4ts5/up8e4/y6FFtvP97j+gGi/dJAbvPwrXo3A9Cu8/CtejcD0K7z91kxgEVg7vP3WTGARWDu8/dZMYBFYO7z/fT42XbhLvP0oMAiuHFu8/iUFg5dAi7z+JQWDl0CLvP/T91HjpJu8/9P3UeOkm7z/0/dR46SbvP/T91HjpJu8/yXa+nxov7z/Jdr6fGi/vPzMzMzMzM+8/nu+nxks37z+e76fGSzfvPwisHFpkO+8/CKwcWmQ77z9zaJHtfD/vP3Noke18P+8/c2iR7Xw/7z9I4XoUrkfvP7Kd76fGS+8/HVpkO99P7z8dWmQ730/vPx1aZDvfT+8/hxbZzvdT7z+HFtnO91PvP4cW2c73U+8/XI/C9Shc7z9cj8L1KFzvP1yPwvUoXO8/XI/C9Shc7z9cj8L1KFzvP8dLN4lBYO8/x0s3iUFg7z8xCKwcWmTvP5zEILByaO8/BoGVQ4ts7z8GgZVDi2zvP3E9CtejcO8/Rrbz/dR47z+F61G4HoXvP4XrUbgehe8/hetRuB6F7z/wp8ZLN4nvP/Cnxks3ie8/8KfGSzeJ7z/wp8ZLN4nvP/Cnxks3ie8/WmQ730+N7z9aZDvfT43vP1pkO99Pje8/WmQ730+N7z/FILByaJHvP8UgsHJoke8/xSCwcmiR7z/FILByaJHvP5qZmZmZme8/mpmZmZmZ7z+amZmZmZnvPwRWDi2yne8/BFYOLbKd7z8EVg4tsp3vPwRWDi2yne8/BFYOLbKd7z8EVg4tsp3vPwRWDi2yne8/BFYOLbKd7z8EVg4tsp3vPwRWDi2yne8/BFYOLbKd7z9vEoPAyqHvP28Sg8DKoe8/2c73U+Ol7z/ZzvdT46XvP0SLbOf7qe8/rkfhehSu7z+uR+F6FK7vP65H4XoUru8/rkfhehSu7z+uR+F6FK7vP65H4XoUru8/rkfhehSu7z8ZBFYOLbLvP4PAyqFFtu8/g8DKoUW27z+DwMqhRbbvP+58PzVeuu8/7nw/NV667z/ufD81XrrvP+58PzVeuu8/7nw/NV667z9YObTIdr7vP8P1KFyPwu8/w/UoXI/C7z/D9Shcj8LvP8P1KFyPwu8/LbKd76fG7z8tsp3vp8bvPy2yne+nxu8/LbKd76fG7z8tsp3vp8bvPy2yne+nxu8/LbKd76fG7z8tsp3vp8bvPy2yne+nxu8/LbKd76fG7z8tsp3vp8bvPy2yne+nxu8/LbKd76fG7z8tsp3vp8bvPy2yne+nxu8/mG4Sg8DK7z+YbhKDwMrvP5huEoPAyu8/mG4Sg8DK7z+YbhKDwMrvP5huEoPAyu8/mG4Sg8DK7z+YbhKDwMrvP5huEoPAyu8/mG4Sg8DK7z+YbhKDwMrvP5huEoPAyu8/mG4Sg8DK7z+YbhKDwMrvPwIrhxbZzu8/AiuHFtnO7z8CK4cW2c7vPwIrhxbZzu8/AiuHFtnO7z8CK4cW2c7vPwIrhxbZzu8/AiuHFtnO7z8CK4cW2c7vPwIrhxbZzu8/AiuHFtnO7z8CK4cW2c7vPwIrhxbZzu8/AiuHFtnO7z8CK4cW2c7vPwIrhxbZzu8/AiuHFtnO7z8CK4cW2c7vPw==\",\"dtype\":\"float64\",\"shape\":[500]}}},\"id\":\"77cd7105-1665-4383-afe0-1d2a84c6968e\",\"type\":\"ColumnDataSource\"},{\"attributes\":{\"data_source\":{\"id\":\"52029972-7883-458a-9d10-e511fd5ca45c\",\"type\":\"ColumnDataSource\"},\"glyph\":{\"id\":\"c6cd2a2a-9bc1-4640-acc9-019e492c455d\",\"type\":\"Line\"},\"hover_glyph\":null,\"muted_glyph\":null,\"nonselection_glyph\":{\"id\":\"9f33309e-acc6-4f63-bcc0-ef9350467223\",\"type\":\"Line\"},\"selection_glyph\":null,\"view\":{\"id\":\"52a8bc24-0655-41ac-8eae-3ec6b86181ef\",\"type\":\"CDSView\"}},\"id\":\"c956ccde-73ac-474c-9d80-89d37f64f366\",\"type\":\"GlyphRenderer\"},{\"attributes\":{\"label\":{\"value\":\"Susceptible\"},\"renderers\":[{\"id\":\"8c09571d-9f79-4104-b321-9cc5fc38db22\",\"type\":\"GlyphRenderer\"}]},\"id\":\"f2ae3637-b3bb-465c-a1d7-b4c159d91391\",\"type\":\"LegendItem\"},{\"attributes\":{\"callback\":null,\"column_names\":[\"x\",\"y\"],\"data\":{\"x\":[0,1,2,3,4,5,6,7,8,9,10,11,12,13,14,15,16,17,18,19,20,21,22,23,24,25,26,27,28,29,30,31,32,33,34,35,36,37,38,39,40,41,42,43,44,45,46,47,48,49,50,51,52,53,54,55,56,57,58,59,60,61,62,63,64,65,66,67,68,69,70,71,72,73,74,75,76,77,78,79,80,81,82,83,84,85,86,87,88,89,90,91,92,93,94,95,96,97,98,99,100,101,102,103,104,105,106,107,108,109,110,111,112,113,114,115,116,117,118,119,120,121,122,123,124,125,126,127,128,129,130,131,132,133,134,135,136,137,138,139,140,141,142,143,144,145,146,147,148,149,150,151,152,153,154,155,156,157,158,159,160,161,162,163,164,165,166,167,168,169,170,171,172,173,174,175,176,177,178,179,180,181,182,183,184,185,186,187,188,189,190,191,192,193,194,195,196,197,198,199,200,201,202,203,204,205,206,207,208,209,210,211,212,213,214,215,216,217,218,219,220,221,222,223,224,225,226,227,228,229,230,231,232,233,234,235,236,237,238,239,240,241,242,243,244,245,246,247,248,249,250,251,252,253,254,255,256,257,258,259,260,261,262,263,264,265,266,267,268,269,270,271,272,273,274,275,276,277,278,279,280,281,282,283,284,285,286,287,288,289,290,291,292,293,294,295,296,297,298,299,300,301,302,303,304,305,306,307,308,309,310,311,312,313,314,315,316,317,318,319,320,321,322,323,324,325,326,327,328,329,330,331,332,333,334,335,336,337,338,339,340,341,342,343,344,345,346,347,348,349,350,351,352,353,354,355,356,357,358,359,360,361,362,363,364,365,366,367,368,369,370,371,372,373,374,375,376,377,378,379,380,381,382,383,384,385,386,387,388,389,390,391,392,393,394,395,396,397,398,399,400,401,402,403,404,405,406,407,408,409,410,411,412,413,414,415,416,417,418,419,420,421,422,423,424,425,426,427,428,429,430,431,432,433,434,435,436,437,438,439,440,441,442,443,444,445,446,447,448,449,450,451,452,453,454,455,456,457,458,459,460,461,462,463,464,465,466,467,468,469,470,471,472,473,474,475,476,477,478,479,480,481,482,483,484,485,486,487,488,489,490,491,492,493,494,495,496,497,498,499],\"y\":{\"__ndarray__\":\"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\",\"dtype\":\"float64\",\"shape\":[500]}}},\"id\":\"52029972-7883-458a-9d10-e511fd5ca45c\",\"type\":\"ColumnDataSource\"},{\"attributes\":{\"line_alpha\":0.1,\"line_color\":\"#1f77b4\",\"line_width\":2,\"x\":{\"field\":\"x\"},\"y\":{\"field\":\"y\"}},\"id\":\"9f33309e-acc6-4f63-bcc0-ef9350467223\",\"type\":\"Line\"},{\"attributes\":{\"align\":\"center\",\"plot\":{\"id\":\"114816b0-fe07-45d5-9baf-47c3acceaba6\",\"subtype\":\"Figure\",\"type\":\"Plot\"},\"text\":\"beta: 0.015, gamma: 0.01, percentage infected: 0.1\"},\"id\":\"09f8b7ab-03ab-49a2-8c36-07772a5701d6\",\"type\":\"Title\"},{\"attributes\":{\"source\":{\"id\":\"52029972-7883-458a-9d10-e511fd5ca45c\",\"type\":\"ColumnDataSource\"}},\"id\":\"52a8bc24-0655-41ac-8eae-3ec6b86181ef\",\"type\":\"CDSView\"},{\"attributes\":{\"line_alpha\":0.5,\"line_color\":\"#ff7f0e\",\"line_width\":2,\"x\":{\"field\":\"x\"},\"y\":{\"field\":\"y\"}},\"id\":\"18eacf4a-7467-45c5-98b8-6c025da90c99\",\"type\":\"Line\"},{\"attributes\":{\"line_alpha\":0.1,\"line_color\":\"#1f77b4\",\"line_width\":2,\"x\":{\"field\":\"x\"},\"y\":{\"field\":\"y\"}},\"id\":\"137ec322-c1cb-427b-90d2-0379e132e724\",\"type\":\"Line\"},{\"attributes\":{\"source\":{\"id\":\"77cd7105-1665-4383-afe0-1d2a84c6968e\",\"type\":\"ColumnDataSource\"}},\"id\":\"4d70c642-4f3b-4950-af59-24613ee23d0e\",\"type\":\"CDSView\"},{\"attributes\":{\"below\":[{\"id\":\"6d38497e-df23-4453-936b-a58e34c5513b\",\"type\":\"LinearAxis\"},{\"id\":\"09f8b7ab-03ab-49a2-8c36-07772a5701d6\",\"type\":\"Title\"}],\"left\":[{\"id\":\"bb0dcd05-2ae0-4f83-85ec-6764281a5011\",\"type\":\"LinearAxis\"}],\"plot_height\":500,\"plot_width\":500,\"renderers\":[{\"id\":\"6d38497e-df23-4453-936b-a58e34c5513b\",\"type\":\"LinearAxis\"},{\"id\":\"f3bb85e3-0430-4555-8039-6f7dc73aad9e\",\"type\":\"Grid\"},{\"id\":\"bb0dcd05-2ae0-4f83-85ec-6764281a5011\",\"type\":\"LinearAxis\"},{\"id\":\"3a85b681-0356-492a-b565-fb3ce7d7d77f\",\"type\":\"Grid\"},{\"id\":\"b1760cb7-9c16-4805-8c35-6de12ab81820\",\"type\":\"BoxAnnotation\"},{\"id\":\"f1e51c83-c132-42ef-961c-1d65e48d6406\",\"type\":\"Legend\"},{\"id\":\"8c09571d-9f79-4104-b321-9cc5fc38db22\",\"type\":\"GlyphRenderer\"},{\"id\":\"c956ccde-73ac-474c-9d80-89d37f64f366\",\"type\":\"GlyphRenderer\"},{\"id\":\"09194a21-e774-4cc9-98f6-61046ac71443\",\"type\":\"GlyphRenderer\"},{\"id\":\"09f8b7ab-03ab-49a2-8c36-07772a5701d6\",\"type\":\"Title\"}],\"title\":{\"id\":\"a0679bf0-4f96-4785-9d11-e846708305e5\",\"type\":\"Title\"},\"toolbar\":{\"id\":\"76e5e0f2-b509-42a7-9624-78e9fae6ba13\",\"type\":\"Toolbar\"},\"x_range\":{\"id\":\"f48bf1ba-8cb3-434e-adaf-51625061a9d5\",\"type\":\"DataRange1d\"},\"x_scale\":{\"id\":\"9e53f646-5c84-436f-a799-72fc4678fd38\",\"type\":\"LinearScale\"},\"y_range\":{\"id\":\"072b75b1-60ed-416c-9f88-1251482047b3\",\"type\":\"DataRange1d\"},\"y_scale\":{\"id\":\"e6a4eff0-1c58-4a42-9685-173ae92c8959\",\"type\":\"LinearScale\"}},\"id\":\"114816b0-fe07-45d5-9baf-47c3acceaba6\",\"subtype\":\"Figure\",\"type\":\"Plot\"},{\"attributes\":{\"data_source\":{\"id\":\"77cd7105-1665-4383-afe0-1d2a84c6968e\",\"type\":\"ColumnDataSource\"},\"glyph\":{\"id\":\"18eacf4a-7467-45c5-98b8-6c025da90c99\",\"type\":\"Line\"},\"hover_glyph\":null,\"muted_glyph\":null,\"nonselection_glyph\":{\"id\":\"137ec322-c1cb-427b-90d2-0379e132e724\",\"type\":\"Line\"},\"selection_glyph\":null,\"view\":{\"id\":\"4d70c642-4f3b-4950-af59-24613ee23d0e\",\"type\":\"CDSView\"}},\"id\":\"09194a21-e774-4cc9-98f6-61046ac71443\",\"type\":\"GlyphRenderer\"},{\"attributes\":{\"data_source\":{\"id\":\"37106fee-d618-4c18-9c35-2bbc5b6c8361\",\"type\":\"ColumnDataSource\"},\"glyph\":{\"id\":\"f5aae887-0d85-4abf-8d09-ac5a672cbcdd\",\"type\":\"Line\"},\"hover_glyph\":null,\"muted_glyph\":null,\"nonselection_glyph\":{\"id\":\"9e247c1b-9118-4e6e-966d-3581006462e0\",\"type\":\"Line\"},\"selection_glyph\":null,\"view\":{\"id\":\"1044e03a-a6ba-4eaf-a0aa-a00e821f7ae5\",\"type\":\"CDSView\"}},\"id\":\"8c09571d-9f79-4104-b321-9cc5fc38db22\",\"type\":\"GlyphRenderer\"},{\"attributes\":{\"active_drag\":\"auto\",\"active_inspect\":\"auto\",\"active_scroll\":\"auto\",\"active_tap\":\"auto\",\"tools\":[{\"id\":\"c88e32f5-7e8d-4bc5-9dd2-078f4da78d4e\",\"type\":\"PanTool\"},{\"id\":\"1d6ee882-ed60-4aca-8e08-0b9f1244c3da\",\"type\":\"WheelZoomTool\"},{\"id\":\"26c509b2-adff-48a6-883d-cbc17e92ec4e\",\"type\":\"BoxZoomTool\"},{\"id\":\"6822d71f-a171-4f37-b130-946ea68b2939\",\"type\":\"SaveTool\"},{\"id\":\"9f79a1e4-f9a8-4542-8e93-30691c15ba51\",\"type\":\"ResetTool\"},{\"id\":\"b437c035-bec6-4378-a613-8d0dc0ec92e6\",\"type\":\"HelpTool\"}]},\"id\":\"76e5e0f2-b509-42a7-9624-78e9fae6ba13\",\"type\":\"Toolbar\"},{\"attributes\":{\"label\":{\"value\":\"Removed\"},\"renderers\":[{\"id\":\"09194a21-e774-4cc9-98f6-61046ac71443\",\"type\":\"GlyphRenderer\"}]},\"id\":\"2672b97f-dd2c-40f3-b3f2-c56d0e65ab0d\",\"type\":\"LegendItem\"},{\"attributes\":{},\"id\":\"9e53f646-5c84-436f-a799-72fc4678fd38\",\"type\":\"LinearScale\"},{\"attributes\":{\"line_alpha\":0.5,\"line_color\":\"#1f77b4\",\"line_width\":2,\"x\":{\"field\":\"x\"},\"y\":{\"field\":\"y\"}},\"id\":\"f5aae887-0d85-4abf-8d09-ac5a672cbcdd\",\"type\":\"Line\"}],\"root_ids\":[\"114816b0-fe07-45d5-9baf-47c3acceaba6\"]},\"title\":\"Bokeh Application\",\"version\":\"0.12.13\"}};\n",
       "  var render_items = [{\"docid\":\"313ad184-73a5-421e-a628-da3cad989e2e\",\"elementid\":\"f62e7dab-b52e-413a-b706-1c19a3c5c8f5\",\"modelid\":\"114816b0-fe07-45d5-9baf-47c3acceaba6\"}];\n",
       "  root.Bokeh.embed.embed_items_notebook(docs_json, render_items);\n",
       "\n",
       "  }\n",
       "  if (root.Bokeh !== undefined) {\n",
       "    embed_document(root);\n",
       "  } else {\n",
       "    var attempts = 0;\n",
       "    var timer = setInterval(function(root) {\n",
       "      if (root.Bokeh !== undefined) {\n",
       "        embed_document(root);\n",
       "        clearInterval(timer);\n",
       "      }\n",
       "      attempts++;\n",
       "      if (attempts > 100) {\n",
       "        console.log(\"Bokeh: ERROR: Unable to run BokehJS code because BokehJS library is missing\")\n",
       "        clearInterval(timer);\n",
       "      }\n",
       "    }, 10, root)\n",
       "  }\n",
       "})(window);"
      ],
      "application/vnd.bokehjs_exec.v0+json": ""
     },
     "metadata": {
      "application/vnd.bokehjs_exec.v0+json": {
       "id": "114816b0-fe07-45d5-9baf-47c3acceaba6"
      }
     },
     "output_type": "display_data"
    }
   ],
   "source": [
    "sir_trends = sir_m.build_trends(sir_iters)\n",
    "\n",
    "sir_viz = ndlib.viz.bokeh.DiffusionTrend.DiffusionTrend(sir_m, sir_trends)\n",
    "bokeh.plotting.show(sir_viz.plot())"
   ]
  }
 ],
 "metadata": {
  "kernelspec": {
   "display_name": "Python 3",
   "language": "python",
   "name": "python3"
  },
  "language_info": {
   "codemirror_mode": {
    "name": "ipython",
    "version": 3
   },
   "file_extension": ".py",
   "mimetype": "text/x-python",
   "name": "python",
   "nbconvert_exporter": "python",
   "pygments_lexer": "ipython3",
   "version": "3.6.3"
  }
 },
 "nbformat": 4,
 "nbformat_minor": 2
}
