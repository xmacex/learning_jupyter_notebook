{
 "cells": [
  {
   "cell_type": "markdown",
   "metadata": {
    "slideshow": {
     "slide_type": "slide"
    }
   },
   "source": [
    "# RISE\n",
    "\n",
    "I learned about it from the [Teaching with Jupyter Notebooks](https://groups.google.com/forum/#!topic/jupyter-education/SPHzGIpr3OE) group. It is made by [Damian Avila](http://www.damian.oquanta.info/)\n",
    "\n",
    "I immidiately acquired it from [it's website](https://github.com/damianavila/RISE)"
   ]
  },
  {
   "cell_type": "markdown",
   "metadata": {
    "slideshow": {
     "slide_type": "slide"
    }
   },
   "source": [
    "I've used the `nbconvert` before to turn Notebooks to slidedecks, and then served them by running `--post serve`. That was all pretty sweet"
   ]
  },
  {
   "cell_type": "markdown",
   "metadata": {
    "slideshow": {
     "slide_type": "fragment"
    }
   },
   "source": [
    "...but I admit killing a lively software object to a static HTML file hurt my soul somewhat"
   ]
  },
  {
   "cell_type": "markdown",
   "metadata": {
    "slideshow": {
     "slide_type": "slide"
    }
   },
   "source": [
    "So, install with `pip`\n",
    "\n",
    "    pip3 install RISE\n",
    "    \n",
    "install into Jupyter and enable by running\n",
    "\n",
    "    jupyter-nbextension install rise --py --sys-prefix\n",
    "    jupyter-nbextension enable rise --py --sys-prefix"
   ]
  },
  {
   "cell_type": "markdown",
   "metadata": {
    "slideshow": {
     "slide_type": "fragment"
    }
   },
   "source": [
    "I `sudo` the above"
   ]
  },
  {
   "cell_type": "markdown",
   "metadata": {
    "slideshow": {
     "slide_type": "slide"
    }
   },
   "source": [
    "## So, live huh?"
   ]
  },
  {
   "cell_type": "code",
   "execution_count": 3,
   "metadata": {
    "slideshow": {
     "slide_type": "fragment"
    }
   },
   "outputs": [
    {
     "name": "stdout",
     "output_type": "stream",
     "text": [
      "True\n"
     ]
    }
   ],
   "source": [
    "print(True)"
   ]
  },
  {
   "cell_type": "markdown",
   "metadata": {
    "slideshow": {
     "slide_type": "fragment"
    }
   },
   "source": [
    "![](http://www.relatably.com/m/img/nice-memes/dcceadd918f3df44c35aa122b769dbc9e8590cfaa591c1ad2abbe21fa8b7b958.jpg)"
   ]
  },
  {
   "cell_type": "markdown",
   "metadata": {
    "slideshow": {
     "slide_type": "slide"
    }
   },
   "source": [
    "The `nbconvert --to slides` thing continues to be useful when sharing is desired, maybe for configuring Reveal.js, and general robustness in case of missing or uncertain Jupyter Notebook environment or something."
   ]
  },
  {
   "cell_type": "markdown",
   "metadata": {
    "slideshow": {
     "slide_type": "slide"
    }
   },
   "source": [
    "For [some configuration](https://damianavila.github.io/RISE/customize.html), subset small of Reveal.js configuration options, I added the following to *Edit* → *Edit Notebook Metadata*:\n",
    "\n",
    "    \"livereveal\": {\n",
    "        \"theme\": \"serif\",\n",
    "        \"start_slideshow_at\": \"selected\",\n",
    "        \"transition\": \"zoom\"\n",
    "    }"
   ]
  }
 ],
 "metadata": {
  "celltoolbar": "Slideshow",
  "kernelspec": {
   "display_name": "Python 3",
   "language": "python",
   "name": "python3"
  },
  "language_info": {
   "codemirror_mode": {
    "name": "ipython",
    "version": 3
   },
   "file_extension": ".py",
   "mimetype": "text/x-python",
   "name": "python",
   "nbconvert_exporter": "python",
   "pygments_lexer": "ipython3",
   "version": "3.6.2"
  },
  "livereveal": {
   "start_slideshow_at": "selected",
   "theme": "serif",
   "transition": "zoom"
  }
 },
 "nbformat": 4,
 "nbformat_minor": 2
}
