{
 "cells": [
  {
   "cell_type": "markdown",
   "metadata": {},
   "source": [
    "# Nbtutor\n",
    "\n",
    "[Nbtutor](https://github.com/lgpage/nbtutor), a code visualizer as a A Jupyter Notebook extension, which someone linked in the [Jupyter in education](https://groups.google.com/forum/#!topic/jupyter-education/RWVLwpvSxJ0) dicussion group.\n",
    "\n",
    "![](https://github.com/lgpage/nbtutor/raw/master/usage.gif)\n",
    "\n",
    "Inspired by [PythonTutor](http://pythontutor.com/).\n",
    "\n",
    "Ok this is way dope! I wish I had known about over the years of learning and debugging."
   ]
  },
  {
   "cell_type": "markdown",
   "metadata": {},
   "source": [
    "## Installation\n",
    "\n",
    "Download, install as Notebook extension, and enable like so:\n",
    "\n",
    "    pip install nbtutor\n",
    "    jupyter nbextension install --overwrite --py nbtutor\n",
    "    jupyter nbextension enable --py nbtutor"
   ]
  },
  {
   "cell_type": "markdown",
   "metadata": {},
   "source": [
    "## Setup\n",
    "\n",
    "For each notebook you want to use this with, load the extension with some Jupyter `%magic`."
   ]
  },
  {
   "cell_type": "code",
   "execution_count": 6,
   "metadata": {},
   "outputs": [],
   "source": [
    "%load_ext nbtutor"
   ]
  },
  {
   "cell_type": "markdown",
   "metadata": {},
   "source": [
    "Add `%%nbtutor` magic to the top of the cell you with to inspect. Then enable cell metadata view and choose either *Memory* or *Timeline* view. Run the cell, and step through the cells."
   ]
  },
  {
   "cell_type": "code",
   "execution_count": 24,
   "metadata": {},
   "outputs": [
    {
     "name": "nbtutor",
     "output_type": "stream",
     "text": []
    }
   ],
   "source": [
    "%%nbtutor\n",
    "\n",
    "zoo = {\n",
    "    \"kitty\": {\n",
    "        \"legs\": 4,\n",
    "        \"ferocious\": True,\n",
    "        \"nickname\": \"daggermitten\"\n",
    "    },\n",
    "     \"corgy\": {\n",
    "         \"legs\": 4,\n",
    "         \"ferocious\": False,\n",
    "         \"nickname\": \"cuddlesausage\"\n",
    "    },\n",
    "    \"snaky\": {\n",
    "        \"legs\": 0,\n",
    "        \"ferocious\": True,\n",
    "        \"nickname\": \"dangernoodle\"\n",
    "    }\n",
    "}"
   ]
  },
  {
   "cell_type": "code",
   "execution_count": 23,
   "metadata": {},
   "outputs": [
    {
     "name": "nbtutor",
     "output_type": "stream",
     "text": [
      "daggermitten\n"
     ]
    }
   ],
   "source": [
    "%%nbtutor\n",
    "\n",
    "for index, animal in zoo.items():\n",
    "    if animal[\"ferocious\"] == True:\n",
    "        print(animal[\"nickname\"])"
   ]
  }
 ],
 "metadata": {
  "celltoolbar": "Visualize",
  "kernelspec": {
   "display_name": "Python 3",
   "language": "python",
   "name": "python3"
  },
  "language_info": {
   "codemirror_mode": {
    "name": "ipython",
    "version": 3
   },
   "file_extension": ".py",
   "mimetype": "text/x-python",
   "name": "python",
   "nbconvert_exporter": "python",
   "pygments_lexer": "ipython3",
   "version": "3.6.2"
  }
 },
 "nbformat": 4,
 "nbformat_minor": 2
}
