{
 "cells": [
  {
   "cell_type": "markdown",
   "metadata": {},
   "source": [
    "# Interaction\n",
    "\n",
    "Interaction is nice. I've done a bit of stuff on [D3](http://d3js.org) and it is absolutely marvellous, but different. Let's learn how to get interaction in Jupyter Notebooks, with IPython.\n",
    "\n",
    "For sources I have the blogpost [Domino: *Interactive dashboads in Jupyter*](https://blog.dominodatalab.com/interactive-dashboards-in-jupyter/) and [the ipywidgets and jupyter-js-widgets example documentation](http://ipywidgets.readthedocs.io/en/latest/examples/Using%20Interact.html). [ipywidgets is on GitHub](https://github.com/ipython/ipywidgets)."
   ]
  },
  {
   "cell_type": "code",
   "execution_count": 17,
   "metadata": {
    "collapsed": false
   },
   "outputs": [],
   "source": [
    "import ipywidgets"
   ]
  },
  {
   "cell_type": "markdown",
   "metadata": {},
   "source": [
    "For the widgets to work, the `jupyter-js-widgets` extension of Jupyter must be enabled. It brings JavaScript things to the notebooks. The following command, enables it:\n",
    "\n",
    "    sudo jupyter nbextension enable --py --sys-prefix widgetsnbextension"
   ]
  },
  {
   "cell_type": "markdown",
   "metadata": {},
   "source": [
    "Right.\n",
    "\n",
    "The ipywidgets framework is split between UI elements and event handlers, as typical in UI stuff. Let's have a text input field, and it needs to be displayed."
   ]
  },
  {
   "cell_type": "code",
   "execution_count": 33,
   "metadata": {
    "collapsed": false
   },
   "outputs": [
    {
     "name": "stdout",
     "output_type": "stream",
     "text": [
      "KITTY\n"
     ]
    }
   ],
   "source": [
    "import IPython.display\n",
    "\n",
    "def handletext(t):\n",
    "    print(t.value.upper())\n",
    "\n",
    "textinput = ipywidgets.Text()\n",
    "textinput.on_submit(handletext)\n",
    "IPython.display.display(textinput)"
   ]
  },
  {
   "cell_type": "markdown",
   "metadata": {},
   "source": [
    "But the `ipywidgets.interact` object cat create the text object too, when given a string. It's an abstraction."
   ]
  },
  {
   "cell_type": "code",
   "execution_count": 15,
   "metadata": {
    "collapsed": true
   },
   "outputs": [],
   "source": [
    "def f(x):\n",
    "    return x"
   ]
  },
  {
   "cell_type": "code",
   "execution_count": 65,
   "metadata": {
    "collapsed": false
   },
   "outputs": [
    {
     "data": {
      "text/plain": [
       "'Hello world'"
      ]
     },
     "metadata": {},
     "output_type": "display_data"
    },
    {
     "data": {
      "text/plain": [
       "<function __main__.f>"
      ]
     },
     "execution_count": 65,
     "metadata": {},
     "output_type": "execute_result"
    }
   ],
   "source": [
    "ipywidgets.interact(f, x='Hello world')"
   ]
  },
  {
   "cell_type": "markdown",
   "metadata": {},
   "source": [
    "An integer value for `x` below creates a slider."
   ]
  },
  {
   "cell_type": "code",
   "execution_count": 34,
   "metadata": {
    "collapsed": false
   },
   "outputs": [
    {
     "data": {
      "text/plain": [
       "4"
      ]
     },
     "metadata": {},
     "output_type": "display_data"
    },
    {
     "data": {
      "text/plain": [
       "<function __main__.f>"
      ]
     },
     "execution_count": 34,
     "metadata": {},
     "output_type": "execute_result"
    }
   ],
   "source": [
    "ipywidgets.interact(f, x=4)"
   ]
  },
  {
   "cell_type": "markdown",
   "metadata": {},
   "source": [
    "Whereas a boolean value for the `x` parameter of `f` creates a tickbox."
   ]
  },
  {
   "cell_type": "code",
   "execution_count": 37,
   "metadata": {
    "collapsed": false
   },
   "outputs": [
    {
     "data": {
      "text/plain": [
       "False"
      ]
     },
     "metadata": {},
     "output_type": "display_data"
    },
    {
     "data": {
      "text/plain": [
       "<function __main__.f>"
      ]
     },
     "execution_count": 37,
     "metadata": {},
     "output_type": "execute_result"
    }
   ],
   "source": [
    "ipywidgets.interact(f, x=False)"
   ]
  },
  {
   "cell_type": "markdown",
   "metadata": {},
   "source": [
    "Alright what follows is a pretty dope interactive plotting things."
   ]
  },
  {
   "cell_type": "code",
   "execution_count": 64,
   "metadata": {
    "collapsed": false
   },
   "outputs": [
    {
     "data": {
      "image/png": "[encoded data removed]",
      "text/plain": [
       "<matplotlib.figure.Figure at 0x7f5d1c0e9668>"
      ]
     },
     "metadata": {},
     "output_type": "display_data"
    }
   ],
   "source": [
    "import scipy\n",
    "import matplotlib.pyplot\n",
    "%matplotlib inline\n",
    "\n",
    "t = scipy.arange(0.0, 1.0, 0.01)\n",
    "\n",
    "def pltsin(freq):\n",
    "    matplotlib.pyplot.plot(t, scipy.sin(2*scipy.pi*t*freq))\n",
    "    matplotlib.pyplot.ylim(-1, 1)\n",
    "    matplotlib.pyplot.show()\n",
    "    \n",
    "ipywidgets.interact(pltsin, freq=(0.0, 10, 0.1))"
   ]
  },
  {
   "cell_type": "markdown",
   "metadata": {},
   "source": [
    "The `interact` object can also be a decorator (remember from last summer at Gent, with PHP Zend framework?)"
   ]
  },
  {
   "cell_type": "code",
   "execution_count": 125,
   "metadata": {
    "collapsed": false
   },
   "outputs": [
    {
     "data": {
      "text/plain": [
       "True"
      ]
     },
     "metadata": {},
     "output_type": "display_data"
    }
   ],
   "source": [
    "@ipywidgets.interact(s='Hello', l=4)\n",
    "def strlongerthan(s:'a string', l:4): # note the function annotation\n",
    "    if (len(s) > l):\n",
    "        return True\n",
    "    else:\n",
    "        return False"
   ]
  },
  {
   "cell_type": "markdown",
   "metadata": {},
   "source": [
    "`fixed` fixes a parameter, and won't afford interaction with it. Like so:"
   ]
  },
  {
   "cell_type": "code",
   "execution_count": 108,
   "metadata": {
    "collapsed": false
   },
   "outputs": [
    {
     "data": {
      "text/plain": [
       "True"
      ]
     },
     "metadata": {},
     "output_type": "display_data"
    },
    {
     "data": {
      "text/plain": [
       "<function __main__.strlongerthan>"
      ]
     },
     "execution_count": 108,
     "metadata": {},
     "output_type": "execute_result"
    }
   ],
   "source": [
    "ipywidgets.interact(strlongerthan,\n",
    "                    s=ipywidgets.fixed('Hello world'),\n",
    "                    l=ipywidgets.IntSlider(min=0, max=15, step=3))"
   ]
  },
  {
   "cell_type": "markdown",
   "metadata": {},
   "source": [
    "Lists and dicts turn to dropdowns."
   ]
  },
  {
   "cell_type": "code",
   "execution_count": 109,
   "metadata": {
    "collapsed": false
   },
   "outputs": [
    {
     "data": {
      "text/plain": [
       "False"
      ]
     },
     "metadata": {},
     "output_type": "display_data"
    },
    {
     "data": {
      "text/plain": [
       "<function __main__.strlongerthan>"
      ]
     },
     "execution_count": 109,
     "metadata": {},
     "output_type": "execute_result"
    }
   ],
   "source": [
    "ipywidgets.interact(strlongerthan,\n",
    "                    s=('cat', 'fish', 'a giraffe'),\n",
    "                    l=(0, 10)) # shorthand\n",
    "                    #l=ipywidgets.IntSlider(min=0, max=10))"
   ]
  },
  {
   "cell_type": "markdown",
   "metadata": {},
   "source": [
    "Something about [function annotations](https://docs.python.org/3/tutorial/controlflow.html#function-annotations); what's this, some sort of typing system for Python method/function arguments or something? Anyway, those will make interaction neat as the `interaction` object knows what to do already."
   ]
  },
  {
   "cell_type": "markdown",
   "metadata": {},
   "source": [
    "### Also the `Interactive` thing\n",
    "\n",
    "There is also the `interactive`, which doesn't immidiately display the widget, but returns a `ipywidgets.Widget`."
   ]
  },
  {
   "cell_type": "code",
   "execution_count": 128,
   "metadata": {
    "collapsed": false
   },
   "outputs": [
    {
     "name": "stdout",
     "output_type": "stream",
     "text": [
      "<class 'ipywidgets.widgets.widget_box.Box'>\n"
     ]
    },
    {
     "data": {
      "text/plain": [
       "(<ipywidgets.widgets.widget_string.Text at 0x7f5d1c037c88>,\n",
       " <ipywidgets.widgets.widget_int.IntSlider at 0x7f5d1d0da7b8>)"
      ]
     },
     "execution_count": 128,
     "metadata": {},
     "output_type": "execute_result"
    }
   ],
   "source": [
    "wid = ipywidgets.interactive(strlongerthan)\n",
    "print(type(wid))\n",
    "wid.children"
   ]
  },
  {
   "cell_type": "markdown",
   "metadata": {},
   "source": [
    "Such object require to be displayed explicitly, like the `Text` object at the top of this Notebook."
   ]
  },
  {
   "cell_type": "code",
   "execution_count": 127,
   "metadata": {
    "collapsed": false
   },
   "outputs": [
    {
     "data": {
      "text/plain": [
       "True"
      ]
     },
     "metadata": {},
     "output_type": "display_data"
    }
   ],
   "source": [
    "IPython.display.display(wid)"
   ]
  },
  {
   "cell_type": "markdown",
   "metadata": {},
   "source": [
    "Of course one wants to be able to limit continuous interaction. Two ways, firstly the `__manual` flag of `interact`, and secondly the `continuous_update` flag. The first adds a button, the latter does an update on mouse-release event. The first method is here:"
   ]
  },
  {
   "cell_type": "code",
   "execution_count": 135,
   "metadata": {
    "collapsed": false
   },
   "outputs": [
    {
     "data": {
      "image/png": "[encoded data removed]",
      "text/plain": [
       "<matplotlib.figure.Figure at 0x7f5d1c1266a0>"
      ]
     },
     "metadata": {},
     "output_type": "display_data"
    }
   ],
   "source": [
    "ipywidgets.interact(pltsin, freq=(0, 10, 0.1),__manual=True)"
   ]
  },
  {
   "cell_type": "markdown",
   "metadata": {},
   "source": [
    "When interaction widget arguments depend on other widgets"
   ]
  }
 ],
 "metadata": {
  "kernelspec": {
   "display_name": "Python 3",
   "language": "python",
   "name": "python3"
  },
  "language_info": {
   "codemirror_mode": {
    "name": "ipython",
    "version": 3
   },
   "file_extension": ".py",
   "mimetype": "text/x-python",
   "name": "python",
   "nbconvert_exporter": "python",
   "pygments_lexer": "ipython3",
   "version": "3.5.2rc1"
  },
  "widgets": {
   "state": {
    "00114e2f76f1473a87a515fe096ce4d5": {
     "views": []
    },
    "0034660acfe045c5afc6bfd0431fd13d": {
     "views": []
    },
    "005ef66add1a4bdda793f9430f2e5141": {
     "views": [
      {
       "cell_index": 10
      }
     ]
    },
    "00be53c1e7d041b6b57e3bc06a630907": {
     "views": []
    },
    "032b92d4a2034eb2b3dbf4ce3c4adc29": {
     "views": []
    },
    "036f004721854041a73f208fa2f60442": {
     "views": []
    },
    "04cdc46edfb443fa96ad879bd027e9b8": {
     "views": []
    },
    "07142803aee44f93a3da8abcdec6212b": {
     "views": []
    },
    "07193459dad84c51bc69bab8380d62ce": {
     "views": []
    },
    "077880196737401284f8645596117423": {
     "views": []
    },
    "0886d12ced974be0b5d6c08e6c736557": {
     "views": []
    },
    "0b324a4a84e045febabe52bec04144f9": {
     "views": []
    },
    "0b6582cf1e874cd0879de1df321caee3": {
     "views": []
    },
    "0ca5e6a52abc4652956b3b07b98c93df": {
     "views": []
    },
    "0d99a289aa084bd18999a4fa69696313": {
     "views": []
    },
    "10573884658242d4b72dc4e887284765": {
     "views": []
    },
    "10f8204503014a6dac3a9accdfecedb4": {
     "views": []
    },
    "1106d9981d4542d0a55abbe68c0c82e4": {
     "views": []
    },
    "111e97b46f2a4fc9810bc4f9af134f44": {
     "views": []
    },
    "126928ebd07c4eb485d25596d5e1bb67": {
     "views": []
    },
    "1315ade6e2d7431b91ab99de02075fcd": {
     "views": [
      {
       "cell_index": 17
      }
     ]
    },
    "14cef33152f84915ab040618faa49852": {
     "views": [
      {
       "cell_index": 7
      }
     ]
    },
    "1510187a05a04eee8cc0e2ef2d4bb005": {
     "views": []
    },
    "15117b610030465bb733f935fa9c70e9": {
     "views": []
    },
    "156e032521c244069eb9c5c3a5683858": {
     "views": []
    },
    "15dc789e856347a08355413c14d56123": {
     "views": []
    },
    "1652c50c161347dab9cd16b80676e8b5": {
     "views": []
    },
    "184d697e761d4305b12f055d68850084": {
     "views": []
    },
    "19387a639ef84408969dac1cd2d99156": {
     "views": []
    },
    "1a035224a77c4991ace720ad324978b1": {
     "views": []
    },
    "1a456e3e1f0a48a0ac8aa598c94729b9": {
     "views": []
    },
    "1a5aabf4ce504f7cb41916439302f449": {
     "views": []
    },
    "1a8957e5269e4831a1e06f0b8143c4fc": {
     "views": []
    },
    "1b4c663de1064abfb4b397f172c32736": {
     "views": []
    },
    "1b79ad8e8add441e8e12457dd7df4c4a": {
     "views": []
    },
    "1bdd1b0d496b4c8eb187a7ebc269a179": {
     "views": []
    },
    "1c2fe3dddfcd468b8a6b1cdf54b44871": {
     "views": []
    },
    "1cd39ab19f7344e6a5dba3062c8ac529": {
     "views": []
    },
    "1e3d40190249407e88cb80fc2cb8249e": {
     "views": []
    },
    "1e581f9908df42218cb9949de3e3d514": {
     "views": []
    },
    "1f4c39c900074678b198d20d918d09b8": {
     "views": []
    },
    "20af4261572a4767aa419c3ca0d47f32": {
     "views": []
    },
    "20d969da187042d1a74beace414ad874": {
     "views": []
    },
    "20daa3d014d9426ab7e41e68fb310580": {
     "views": []
    },
    "21c91511f38e45fb8acd78f6baaf172c": {
     "views": []
    },
    "21cec42ab89a4b31a52b414d8baf3d80": {
     "views": []
    },
    "22ba41931f9b404aa236a79481368e2f": {
     "views": []
    },
    "22d558ad1e7946328140daab3bcb2994": {
     "views": []
    },
    "2331e159d9bf46e2b29711102815300d": {
     "views": []
    },
    "2524144142714983beba42ffcb73abf4": {
     "views": []
    },
    "2570e390204c44fe94fa1bb2adde80e3": {
     "views": []
    },
    "25cf60e467a049d18d16393c40ef0dbb": {
     "views": []
    },
    "25dccb78afef44219897c37400a8c5e8": {
     "views": []
    },
    "28b23594b8b64e5cb383065992589534": {
     "views": []
    },
    "2929b4e6f06f4b33943e5acbdf3d04ea": {
     "views": []
    },
    "2b4d96fa71ed43bf88adbb7babadcb84": {
     "views": []
    },
    "2c1f35181299411b9474f63fcb7be00e": {
     "views": []
    },
    "2da024046d574952a70a2257b306a03e": {
     "views": []
    },
    "2dd315c8834643b6a6aacb989f298767": {
     "views": []
    },
    "2e4c296724cb4d608664542792125258": {
     "views": []
    },
    "2e90d25c80b64a6f89c959748af9f5ec": {
     "views": []
    },
    "2f818bdc96554ca78fc49702298ca2de": {
     "views": []
    },
    "2facc7c7d6bd439db4f025045379ad74": {
     "views": []
    },
    "30489248bef0427997b24a05b5a72359": {
     "views": []
    },
    "313ae3a9ef404c10969de96e233740ca": {
     "views": []
    },
    "31a624ad64de40b0954aa8ca15e83b60": {
     "views": []
    },
    "31f81cee3e52436cb94d81f6eedbfb0b": {
     "views": []
    },
    "32082d173c2343b7ac7e61313eb56280": {
     "views": []
    },
    "3222a8096f954edd99219582f3dfb7f3": {
     "views": []
    },
    "32470315da52430ebe19c6795ee5ce6e": {
     "views": []
    },
    "333860ac185a427d990c192930a0ee96": {
     "views": []
    },
    "3342d94392a34586b2d15915d7368512": {
     "views": []
    },
    "33f12cbdf0864799af0ffd3763cbb2d3": {
     "views": []
    },
    "3483699908194881ab70e22a0ca940b7": {
     "views": []
    },
    "34cb789fdd86474c8c25e10638efdefe": {
     "views": []
    },
    "36683c72e9b04f03b2601190807354c4": {
     "views": []
    },
    "36d3f8cc1cdf472f8969891fd53335d8": {
     "views": []
    },
    "377a968b263b449d9f364a366cbe9b5a": {
     "views": []
    },
    "378b1fcf737248b7bbb0e8429bde30fc": {
     "views": []
    },
    "37b9106391dc407db9f2c2a9adade262": {
     "views": []
    },
    "38c35cb2d2594309943c8435f66d3aef": {
     "views": []
    },
    "38e7ca0051f346948c97dcb7b9402724": {
     "views": [
      {
       "cell_index": 9
      }
     ]
    },
    "3ada548e330f4c58911ea835965f4622": {
     "views": []
    },
    "3af033cafb264278bfbab5424254d5a2": {
     "views": []
    },
    "3bfce6c68f1a46a79bda2fc3f80c389b": {
     "views": []
    },
    "3cae96c3fc2d463fb19c21f9e8a69898": {
     "views": []
    },
    "3d020169ca6c44bab7b40109fde8fba5": {
     "views": []
    },
    "3e024033cb17460996628a62525ae610": {
     "views": []
    },
    "3f064b0c635a415cb560655e5e433b4d": {
     "views": []
    },
    "405e9df423784e429e3d6c9cb1e8d6d4": {
     "views": []
    },
    "40a617f35f854d818c4d73ab3238bd45": {
     "views": []
    },
    "40aaa7ac694c4f999ed943204cea5c8f": {
     "views": []
    },
    "40b5dc7494e04d6fa897a94e131ed31d": {
     "views": []
    },
    "4244b8a7c6cd45adbedc5ab960219a9e": {
     "views": []
    },
    "425f851a98494e898722d4199975b197": {
     "views": []
    },
    "431003c6cac74c348e7538584f8b10f1": {
     "views": []
    },
    "436d7fb1a1e142aaa5ef6bf3cfac460a": {
     "views": []
    },
    "436d885d4bd14a59a330b0957f506efe": {
     "views": []
    },
    "437074f006294b17a53b0b6c6da0aa5d": {
     "views": []
    },
    "46012c4d06854f1887139fe90ae5f40e": {
     "views": []
    },
    "46d2464acbba4b32ab08db85664e6573": {
     "views": []
    },
    "47584cf9670c455e89bd7d89ddc8cf63": {
     "views": []
    },
    "47c44b3b12f24d538ab36d8c22a2d146": {
     "views": []
    },
    "48092297c2c34f04ba0bf9219537d196": {
     "views": []
    },
    "4851ea1068b74d68812454249ff0eafe": {
     "views": []
    },
    "485444b3c996499ca695e7a161724fd9": {
     "views": []
    },
    "494d7d7d4019416fbd04267780524453": {
     "views": []
    },
    "4a0e74ddd1ea48bfa9915243ae9e3062": {
     "views": []
    },
    "4a2afb7ca1e5403f988df73bf0d74910": {
     "views": []
    },
    "4a4c5f6375fb42609acc1ee959d9097b": {
     "views": []
    },
    "4b09ec69d8a943d8bec16dc1171781e4": {
     "views": []
    },
    "4cb47ab06c2f44ca913c3b70a50a0238": {
     "views": []
    },
    "4d91c01ae8364a8fa4a9dd1dcda99817": {
     "views": []
    },
    "4ddcb301c1014221b64e3cf37d078054": {
     "views": []
    },
    "4eaaa4640d29496ea520faf1f24948c1": {
     "views": []
    },
    "4f183d1bf5bd4649a7049459459a5a6b": {
     "views": []
    },
    "5027f6f92d7f4fd9adbf24599080b307": {
     "views": []
    },
    "51471a89d730430f99deabbe55484a13": {
     "views": []
    },
    "534fbd1a841147c1a3df532207a20c05": {
     "views": [
      {
       "cell_index": 15
      }
     ]
    },
    "545d16e5dcd547c49ede98036407405d": {
     "views": []
    },
    "54dd68aba93e4919b39a89360e25348c": {
     "views": []
    },
    "565a20ddd1da43e68c89e632ea5eae25": {
     "views": []
    },
    "5723bc7cc09242a5863b46e3bdb353e1": {
     "views": []
    },
    "58b0797060d342319cb50041948712d1": {
     "views": []
    },
    "58d320af07084a8f85c4a3b0956be7ee": {
     "views": []
    },
    "5a2d005789bb4249b1a7e3bdbe5445ae": {
     "views": []
    },
    "5baa6579aa33462ba1fc8cb979088f7c": {
     "views": []
    },
    "5bf832f162f04a5088ae27de2aa48748": {
     "views": []
    },
    "5c3018986aa4427ca557c3eab5be4f98": {
     "views": []
    },
    "5e5e29085f0b480d9d7102df963353a4": {
     "views": []
    },
    "5eb4e23ec9f849ceb9baed4cbb85b71f": {
     "views": []
    },
    "5f484b5d57a54b6085b9db36eb8eb696": {
     "views": []
    },
    "5f7795d64ae6427d87bd0fd86a6ac8c7": {
     "views": []
    },
    "5fa8050ff1674eef97d53e6d85d8d8c2": {
     "views": []
    },
    "63f87368c43a44da9d3dc5981673a217": {
     "views": []
    },
    "64727596bb9f4910bd89e8703167fb28": {
     "views": []
    },
    "65124ef73ccc4659b5a36a7074db5a4c": {
     "views": []
    },
    "65184aa8c33145fea8536bb53891a2fa": {
     "views": []
    },
    "657255076071462d956b91a023f352f9": {
     "views": []
    },
    "666b138c4309445d9508d41c4c642bad": {
     "views": []
    },
    "6732db398ab5471c8a015435063123b0": {
     "views": []
    },
    "67378a778c4e45f68f81f8bf46891e8c": {
     "views": []
    },
    "678c2a213abd4d989733883a68166e23": {
     "views": []
    },
    "67948dec072840c8a39998199cee53e9": {
     "views": []
    },
    "6897113b75a24d06a2bd67bf0f6e559f": {
     "views": []
    },
    "69500ef302b4401abe919c9b496a2e6a": {
     "views": []
    },
    "695167bfbbc14dc090cd01a6eb563fee": {
     "views": []
    },
    "6b7d6935e524449dbe1270e34d978a3c": {
     "views": []
    },
    "6bb7e34aae2040e19dd4c0c63fe184dd": {
     "views": []
    },
    "6dc56894befd4b1eb9f573f7a65e55ce": {
     "views": []
    },
    "6df4d9177f0445e8bfbec8a44c3fe73f": {
     "views": []
    },
    "6e998819be7941b38bb02287ec7bc7c2": {
     "views": []
    },
    "6e9ab90a846c457cb8c19250cb226052": {
     "views": []
    },
    "7104c7d8b7fc4946a510bc76729739d8": {
     "views": []
    },
    "71352c86fdea4df995a8c44ea89be334": {
     "views": []
    },
    "717a19c1399c47858e3f70a63757c196": {
     "views": []
    },
    "725570d5346f4fe0bec4d213208c16cb": {
     "views": []
    },
    "7295eef39d8d446bb9cf93f2ac0331b9": {
     "views": []
    },
    "7307500eb0f844f8bda6f25634b04298": {
     "views": []
    },
    "733b5f96d5b84a4eb01026ef49759a55": {
     "views": []
    },
    "73ba91614d774c2ebe74994034da6d83": {
     "views": []
    },
    "74e1b7a252184f49b9670a89007b5b6c": {
     "views": []
    },
    "7547ed722b384463b14325de60d821ac": {
     "views": []
    },
    "75539339dd4544a083832894dcd65eff": {
     "views": []
    },
    "755b96f7c2cf487b9d5e4bfb073b90e4": {
     "views": []
    },
    "75d821da02714183b89b5ee062e77a64": {
     "views": []
    },
    "76741c1781334f23aea01fc42b2a69f3": {
     "views": []
    },
    "768674bca2f0499bb07f1dcd7b4f252b": {
     "views": []
    },
    "7701770f74b34de2ae7ded48e53d8a9f": {
     "views": []
    },
    "77ee9598a79a4d07ab9def536fd48f25": {
     "views": []
    },
    "784da2e89e9744fbbe41b12ec95d4529": {
     "views": []
    },
    "79d3e902f46b46e59a60b86928822a8d": {
     "views": []
    },
    "7a6c1863744b476f8df8ee8b9bcf1d3f": {
     "views": []
    },
    "7ae53844b54540189eff7f155ee986ed": {
     "views": []
    },
    "7b738e68ce6a45a9a802a2b64b69d451": {
     "views": []
    },
    "7c2dfa8cbc54403fbda0a77ac9fbcfe3": {
     "views": []
    },
    "7c347c8d425d42d6940d93d9df817e84": {
     "views": []
    },
    "7d40ccb28fbb45ce8c0510a86df0c3a1": {
     "views": []
    },
    "7d63ca3063a34a308acb2789d6c3e2d0": {
     "views": []
    },
    "7dafb6dd5533441caf618b920fe5fecc": {
     "views": []
    },
    "7db9db78b9164b4f955cce3e785c6b11": {
     "views": []
    },
    "7de09e1c84fe430caa45e591e834af4e": {
     "views": []
    },
    "7e2d774796b14b029ad3b7f97a979c4a": {
     "views": []
    },
    "7e70fbc34f404c3cbc11cfc14f031fba": {
     "views": []
    },
    "7ebb16b14e4a4b459ab36a4410a8a95f": {
     "views": []
    },
    "7ed8880e8e1d4d11ae4164ea32eae5d2": {
     "views": []
    },
    "7f2cefcf8cc248e586ea46e11f7ec938": {
     "views": []
    },
    "7fb659a904dc466286dc8b11795ccca0": {
     "views": []
    },
    "7fc4e4416b7c40ba849b6bc6702740d8": {
     "views": []
    },
    "81c031a88871484a8122a002e2b2c460": {
     "views": []
    },
    "82c6b6639b114a34859c11cfc289793f": {
     "views": [
      {
       "cell_index": 19
      }
     ]
    },
    "83cb8026e9b54a67b8ea866dd9e69ef5": {
     "views": []
    },
    "84b20a8045354b49ba92b5b5a83b3e99": {
     "views": []
    },
    "84ef2650b05a4cefb3ce022b9a55e5e8": {
     "views": []
    },
    "8511cf9cf81c46669ab0b2f634d9819c": {
     "views": []
    },
    "86e562795ac74ebf9c2959014012c272": {
     "views": []
    },
    "86f53f07e11e4cebbefa187fe208b6c0": {
     "views": []
    },
    "87657918260a4565b617a94e0b95eed4": {
     "views": []
    },
    "87a9791ae46448c483c20cf876548183": {
     "views": []
    },
    "87ca876bfaad488ba18fd82512041132": {
     "views": []
    },
    "8896f3143a724f218d7d729d9436d9bc": {
     "views": []
    },
    "892a79e76075421aa6fe4fd9a5e96e7a": {
     "views": []
    },
    "89b6724b6bfd4a96adaf1818f3f35777": {
     "views": []
    },
    "8b35a91b78b842bc9540d1e7bf15304e": {
     "views": []
    },
    "8be51011418d45e6841f406003af0395": {
     "views": []
    },
    "8cb2671a3454478f82be708b315fbbcc": {
     "views": []
    },
    "8d5660e2e8b84b7197c1218c5b386df2": {
     "views": []
    },
    "8d6c92a1ded644558efe9cc7c80eb0e1": {
     "views": []
    },
    "8d94f238c0ac402b90357609291c8460": {
     "views": []
    },
    "8dd351e69bf04e92a79adb755c235ae2": {
     "views": []
    },
    "8e47c1276d6e4c1fad155c960f808923": {
     "views": []
    },
    "8e4a2b75ad7342a8a615d3112c53adb7": {
     "views": []
    },
    "8e66a707ed5a4ef58cfbaf18d46c23cc": {
     "views": []
    },
    "90c9700b1c0b49b4803cb82808a5cb7c": {
     "views": []
    },
    "910182d9636e4540a2b36e4f51025f85": {
     "views": []
    },
    "910f5459e4394d9fa5b73f756d103afb": {
     "views": []
    },
    "9145d230e7db4814a26ddc8c64d3eb3f": {
     "views": []
    },
    "917ab85d633c4ba8ae022bd85d9a814f": {
     "views": []
    },
    "923d97c1df2242d3ba05283eb1a0da60": {
     "views": []
    },
    "93821479866f449a835da47c7e41e645": {
     "views": []
    },
    "93e741884cac414aa561967cc49942ae": {
     "views": []
    },
    "94a005aeb4324ccf8614caaf9e97f2d7": {
     "views": []
    },
    "951999ad71ea4134b5a014b86d728cd9": {
     "views": []
    },
    "95eb8fa079814fa19135c5b15e99c59a": {
     "views": []
    },
    "96aec2ab1e684a87bbac93389a633cb3": {
     "views": []
    },
    "97ddd0ad786e45c3ba68b1f65fdeda74": {
     "views": []
    },
    "97f32b0505d24e219d244bfa58644238": {
     "views": []
    },
    "97f7762d124847948c2cbcac0fcb9e2c": {
     "views": []
    },
    "9993c13dc8944a3e8e8b8b6ee1a4c6b4": {
     "views": []
    },
    "9a06a5868b1249f3a92227e2f8200fa3": {
     "views": []
    },
    "9a8d5e8365524d07911909f3aae4e9ec": {
     "views": []
    },
    "9b938ed8a246488fb73d55ca12d44fce": {
     "views": []
    },
    "9c35f9ac04304d0f9a4169a7106f4fe1": {
     "views": []
    },
    "9c547bd83ed545caa0372e35341c069a": {
     "views": []
    },
    "9d3865e6671940df8b33acb58cc916fe": {
     "views": []
    },
    "9e24113de078402c852ebce924416d5d": {
     "views": []
    },
    "9e7b4a1d4bbc43759be5b187d4a5598f": {
     "views": []
    },
    "9e84366a968743c09f79e626c66a2a17": {
     "views": []
    },
    "9fcbda029bd44811a8900da265d3d637": {
     "views": []
    },
    "9fccc04399944f90bda6cb9d0bac427d": {
     "views": []
    },
    "a24080c6f5ff431288a167585c39b334": {
     "views": []
    },
    "a2cec9276c09429c8f3af404b057a0bc": {
     "views": []
    },
    "a2d0b5e716cb4de5a61521be05a15cc0": {
     "views": []
    },
    "a3c6f9900e4643ef9e2a3e8eb44041f5": {
     "views": []
    },
    "a4567f3059d34f0cab550576de4179b1": {
     "views": []
    },
    "a4a19c68164f4a9aa9b29b7ad56c637b": {
     "views": []
    },
    "a69ad0d7e1f0469d8df4d4a713a0428b": {
     "views": []
    },
    "a6ea25bd0e5d4ea096a2630eaf0390c4": {
     "views": []
    },
    "a8d599abde084475a8b512b13214b4ff": {
     "views": []
    },
    "aa52fb29a0ca4aa99b32375a1f31beca": {
     "views": []
    },
    "aa61ed1ffe2d4a8e97986feb6641257b": {
     "views": []
    },
    "ab601a48c7764564a7c13cecd79fec5b": {
     "views": []
    },
    "ac666c102801493e9c38b2507117051d": {
     "views": []
    },
    "ad400376959741448b39b728dffb157e": {
     "views": []
    },
    "b00ff87ad981420c8ab78c5015bf12d2": {
     "views": []
    },
    "b124e7d0f92c4fcfac1b0e1cf9d095a0": {
     "views": []
    },
    "b5b6a578310c46e88021e8137256af63": {
     "views": []
    },
    "b6674d3657b64c138cc8fd1bcc6eabc9": {
     "views": []
    },
    "b66b917cf51c4d1b9e1601e7b3a3a6a6": {
     "views": []
    },
    "b83eaa0aa46e491ea8b65d389d1c2d21": {
     "views": []
    },
    "b8dc3b97b8d34c1ba2aa62cac70a9131": {
     "views": []
    },
    "baf88bfadad44f7bb087284709b304fb": {
     "views": []
    },
    "bc1467a71af541acb3dbdc5e8e1a11b1": {
     "views": []
    },
    "be6d029c326d4c2bbf82a13bc2c11a19": {
     "views": []
    },
    "be6fe77e50d9403c8e81382cc4bacc08": {
     "views": [
      {
       "cell_index": 26
      }
     ]
    },
    "bea43f5b9c98462c85c4e69dff83f3e8": {
     "views": []
    },
    "bf3f63df62ba4feba7f178061306dbf1": {
     "views": []
    },
    "bf72dae68ef04738b51f2b4125c9f0e8": {
     "views": []
    },
    "bfade0ecfd0245b3bbbabb9307645575": {
     "views": []
    },
    "bfbdc068d7b340258644e639e7155243": {
     "views": []
    },
    "bfd123297a474246919929523da7b5d5": {
     "views": []
    },
    "bfd78ff0dace47e5a04d0e742e361351": {
     "views": []
    },
    "c0757db2e45b43519b78e3c14bc6c80c": {
     "views": []
    },
    "c174b455da624d54b43e3ca6a3c81bef": {
     "views": []
    },
    "c3e60159edc7483f9d73eecc9795f236": {
     "views": []
    },
    "c5153c3111a340f88a6a0bcd7e3ebac9": {
     "views": []
    },
    "c5f6d0b038ee40d38151267cd0722947": {
     "views": []
    },
    "c65dabae2c8d442dacddce0a2e101ea8": {
     "views": []
    },
    "c6e3fb590b704e339fdf9db8fdf3c08a": {
     "views": []
    },
    "c7564bd81c0949668a61522e46ccb61b": {
     "views": []
    },
    "c776a14afc53487cb50df28a2b927fe6": {
     "views": [
      {
       "cell_index": 24
      }
     ]
    },
    "c7f15b45124a4a4eb910a84c1ed5c9fb": {
     "views": []
    },
    "c8ce0105b42840a0a3ed6ca7d9e01f22": {
     "views": []
    },
    "ca3210aaa6974b9b975ea589e8e9e60d": {
     "views": []
    },
    "cca7d92873c44bd68d334a897e3e7e0f": {
     "views": []
    },
    "cdc4f7f47b614508951b841388d7ee55": {
     "views": []
    },
    "ce0a8d9d49de4cf18f830c47b2fefe76": {
     "views": []
    },
    "d000c3d28ada481d9867797bad212fd3": {
     "views": []
    },
    "d0b4343546e44dd297ceda9eade639f8": {
     "views": []
    },
    "d1334d809726423193935eb84470e937": {
     "views": []
    },
    "d212cf8d642c464d931b96bc677221c4": {
     "views": []
    },
    "d2fd7e96d8594de0bac92353d69f4978": {
     "views": []
    },
    "d30d9d094f0a4de790d60b6b3326af8f": {
     "views": []
    },
    "d5ff634fb10d4a8399cdaf326a9ea596": {
     "views": []
    },
    "d678aef264c1436a83eebd1a9e46aed8": {
     "views": []
    },
    "d71131d94254426491bc1f290396231c": {
     "views": []
    },
    "d7283ed400254ab390ab249b48d10dcd": {
     "views": []
    },
    "d86fb02bd8e74f678bdccc7b1c5bd059": {
     "views": []
    },
    "d885c78cd2de4677a1d9c6eadf7e9fe3": {
     "views": []
    },
    "d8c50ba496894d25872a7adcf3015449": {
     "views": []
    },
    "d999a3bbdb034158801a39672d75dda4": {
     "views": []
    },
    "d9c5d55913a9411f9fdfaba8384d4c7f": {
     "views": []
    },
    "da68f0e012d1475ca1d84819c30a1923": {
     "views": []
    },
    "da9718ada75743d0838a808c02812ac9": {
     "views": []
    },
    "dca9a0ff9f834c1e94365601514b68b8": {
     "views": []
    },
    "de46cd63689e44c9b6f25980f4cd5638": {
     "views": []
    },
    "df283eaf10684c429160a183a2db69b0": {
     "views": []
    },
    "dfa98931378e4cfb890197fd844207b0": {
     "views": []
    },
    "e1c9ded9625841458fbaa55e0cbc6319": {
     "views": []
    },
    "e26fa4ac7d4f4999abd05a45381fa91c": {
     "views": []
    },
    "e2a94db10a324ed886029b8cfb19b88d": {
     "views": []
    },
    "e32285864dd24d71ad86f15bb119693a": {
     "views": [
      {
       "cell_index": 4
      }
     ]
    },
    "e349960261464a84b6924fc12ae1dc69": {
     "views": []
    },
    "e35fdd25ccd04dada3135c8f953da85c": {
     "views": []
    },
    "e4e8b0fdd1754edd8e59cad7591d1eac": {
     "views": []
    },
    "e703e5f9743f4763973ce8c07537291a": {
     "views": []
    },
    "e84b28e7a1094b5a81bade456df831f8": {
     "views": []
    },
    "e84c2e1142ce49b1bc96c460d2793cde": {
     "views": []
    },
    "e89f9d7d9ed240c0890f20b9d934f4a9": {
     "views": []
    },
    "e9d6f78512de43cc92b624fec2459b11": {
     "views": []
    },
    "ea24345634c644ff83d32d3400bc373e": {
     "views": []
    },
    "ea5c2c99bed544f0aac64d2174455442": {
     "views": []
    },
    "eb4cddca281547c5825a0fe2df6a7570": {
     "views": []
    },
    "ec6e8552e26b495fa5189142f363bbb7": {
     "views": []
    },
    "ee67139617ec4ea4a8ab622e56b1c395": {
     "views": []
    },
    "ef0f7f0fa130426e8e0d85ff37e981e7": {
     "views": []
    },
    "efe053663cff47a482dc4798d830b6bc": {
     "views": []
    },
    "f095eedb4b4f4f83890b1ebc61afc401": {
     "views": []
    },
    "f102935809794d53929a8c69effb7678": {
     "views": []
    },
    "f1841021cf194b7b9e859756124c3e08": {
     "views": []
    },
    "f1cc79a9648846d8a77655925ac849b7": {
     "views": []
    },
    "f1cd070cb83147a9aa58486d944cf689": {
     "views": []
    },
    "f3968d964b50475fb39fea9db8f7efc9": {
     "views": []
    },
    "f3b4b53b83bf448fae0b2853b1611665": {
     "views": []
    },
    "f474aeae0f2a457fab05c0d1b61b9d76": {
     "views": []
    },
    "f57b5a82f8ec4b76bb19d7eda3edfb6f": {
     "views": []
    },
    "f5a980e7e88b45f6895ad9bbbecd9613": {
     "views": []
    },
    "f72469afc2b84d85b70d329aebe0e145": {
     "views": [
      {
       "cell_index": 7
      }
     ]
    },
    "f74104a299b54ee8a0768e1190bc2990": {
     "views": []
    },
    "f9e1f508396b46c68459593e9c873151": {
     "views": []
    },
    "fa6a1070a4a54fb082fd1fce1f3789b1": {
     "views": []
    },
    "fade483727e94b159a28f07f58162d47": {
     "views": []
    },
    "fb26ac1645e34d8588e56b2cfbcba4a0": {
     "views": []
    },
    "fdebb38b891d478bbe768ad75be1f0d4": {
     "views": []
    },
    "fe6d14e811c64526af457c307c685f95": {
     "views": []
    },
    "ff1592f4a74945a7b1e67be686f6ec7a": {
     "views": []
    }
   },
   "version": "1.1.2"
  }
 },
 "nbformat": 4,
 "nbformat_minor": 0
}
