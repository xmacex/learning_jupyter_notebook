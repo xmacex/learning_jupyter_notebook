{
 "cells": [
  {
   "cell_type": "markdown",
   "metadata": {},
   "source": [
    "# Interaction\n",
    "\n",
    "Interaction is nice. I've done a bit of stuff on [D3](http://d3js.org) and it is absolutely marvellous, but different. Let's learn how to get interaction in Jupyter Notebooks, with IPython.\n",
    "\n",
    "For sources I have the blogpost [Domino: *Interactive dashboads in Jupyter*](https://blog.dominodatalab.com/interactive-dashboards-in-jupyter/) and [the ipywidgets and jupyter-js-widgets example documentation](http://ipywidgets.readthedocs.io/en/latest/examples/Using%20Interact.html). [ipywidgets is on GitHub](https://github.com/ipython/ipywidgets)."
   ]
  },
  {
   "cell_type": "code",
   "execution_count": 17,
   "metadata": {
    "collapsed": false
   },
   "outputs": [],
   "source": [
    "import ipywidgets"
   ]
  },
  {
   "cell_type": "markdown",
   "metadata": {},
   "source": [
    "For the widgets to work, the `jupyter-js-widgets` extension of Jupyter must be enabled. It brings JavaScript things to the notebooks. The following command, enables it:\n",
    "\n",
    "    sudo jupyter nbextension enable --py --sys-prefix widgetsnbextension"
   ]
  },
  {
   "cell_type": "markdown",
   "metadata": {},
   "source": [
    "Right.\n",
    "\n",
    "The ipywidgets framework is split between UI elements and event handlers, as typical in UI stuff. Let's have a text input field, and it needs to be displayed."
   ]
  },
  {
   "cell_type": "code",
   "execution_count": 33,
   "metadata": {
    "collapsed": false
   },
   "outputs": [
    {
     "name": "stdout",
     "output_type": "stream",
     "text": [
      "KITTY\n"
     ]
    }
   ],
   "source": [
    "import IPython.display\n",
    "\n",
    "def handletext(t):\n",
    "    print(t.value.upper())\n",
    "\n",
    "textinput = ipywidgets.Text()\n",
    "textinput.on_submit(handletext)\n",
    "IPython.display.display(textinput)"
   ]
  },
  {
   "cell_type": "markdown",
   "metadata": {},
   "source": [
    "But the `ipywidgets.interact` object cat create the text object too, when given a string. It's an abstraction."
   ]
  },
  {
   "cell_type": "code",
   "execution_count": 15,
   "metadata": {
    "collapsed": true
   },
   "outputs": [],
   "source": [
    "def f(x):\n",
    "    return x"
   ]
  },
  {
   "cell_type": "code",
   "execution_count": 65,
   "metadata": {
    "collapsed": false
   },
   "outputs": [
    {
     "data": {
      "text/plain": [
       "'Hello world'"
      ]
     },
     "metadata": {},
     "output_type": "display_data"
    },
    {
     "data": {
      "text/plain": [
       "<function __main__.f>"
      ]
     },
     "execution_count": 65,
     "metadata": {},
     "output_type": "execute_result"
    }
   ],
   "source": [
    "ipywidgets.interact(f, x='Hello world')"
   ]
  },
  {
   "cell_type": "markdown",
   "metadata": {},
   "source": [
    "An integer value for `x` below creates a slider."
   ]
  },
  {
   "cell_type": "code",
   "execution_count": 34,
   "metadata": {
    "collapsed": false
   },
   "outputs": [
    {
     "data": {
      "text/plain": [
       "4"
      ]
     },
     "metadata": {},
     "output_type": "display_data"
    },
    {
     "data": {
      "text/plain": [
       "<function __main__.f>"
      ]
     },
     "execution_count": 34,
     "metadata": {},
     "output_type": "execute_result"
    }
   ],
   "source": [
    "ipywidgets.interact(f, x=4)"
   ]
  },
  {
   "cell_type": "markdown",
   "metadata": {},
   "source": [
    "Whereas a boolean value for the `x` parameter of `f` creates a tickbox."
   ]
  },
  {
   "cell_type": "code",
   "execution_count": 37,
   "metadata": {
    "collapsed": false
   },
   "outputs": [
    {
     "data": {
      "text/plain": [
       "False"
      ]
     },
     "metadata": {},
     "output_type": "display_data"
    },
    {
     "data": {
      "text/plain": [
       "<function __main__.f>"
      ]
     },
     "execution_count": 37,
     "metadata": {},
     "output_type": "execute_result"
    }
   ],
   "source": [
    "ipywidgets.interact(f, x=False)"
   ]
  },
  {
   "cell_type": "markdown",
   "metadata": {},
   "source": [
    "Alright what follows is a pretty dope interactive plotting things."
   ]
  },
  {
   "cell_type": "code",
   "execution_count": 64,
   "metadata": {
    "collapsed": false
   },
   "outputs": [
    {
     "data": {
      "image/png": "[encoded data removed]",
      "text/plain": [
       "<matplotlib.figure.Figure at 0x7f5d1c0e9668>"
      ]
     },
     "metadata": {},
     "output_type": "display_data"
    }
   ],
   "source": [
    "import scipy\n",
    "import matplotlib.pyplot\n",
    "%matplotlib inline\n",
    "\n",
    "t = scipy.arange(0.0, 1.0, 0.01)\n",
    "\n",
    "def pltsin(freq):\n",
    "    matplotlib.pyplot.plot(t, scipy.sin(2*scipy.pi*t*freq))\n",
    "    matplotlib.pyplot.ylim(-1, 1)\n",
    "    matplotlib.pyplot.show()\n",
    "    \n",
    "ipywidgets.interact(pltsin, freq=(0.0, 10, 0.1))"
   ]
  },
  {
   "cell_type": "markdown",
   "metadata": {},
   "source": [
    "The `interact` object can also be a decorator (remember from last summer at Gent, with PHP Zend framework?)"
   ]
  },
  {
   "cell_type": "code",
   "execution_count": 125,
   "metadata": {
    "collapsed": false
   },
   "outputs": [
    {
     "data": {
      "text/plain": [
       "True"
      ]
     },
     "metadata": {},
     "output_type": "display_data"
    }
   ],
   "source": [
    "@ipywidgets.interact(s='Hello', l=4)\n",
    "def strlongerthan(s:'a string', l:4): # note the function annotation\n",
    "    if (len(s) > l):\n",
    "        return True\n",
    "    else:\n",
    "        return False"
   ]
  },
  {
   "cell_type": "markdown",
   "metadata": {},
   "source": [
    "`fixed` fixes a parameter, and won't afford interaction with it. Like so:"
   ]
  },
  {
   "cell_type": "code",
   "execution_count": 108,
   "metadata": {
    "collapsed": false
   },
   "outputs": [
    {
     "data": {
      "text/plain": [
       "True"
      ]
     },
     "metadata": {},
     "output_type": "display_data"
    },
    {
     "data": {
      "text/plain": [
       "<function __main__.strlongerthan>"
      ]
     },
     "execution_count": 108,
     "metadata": {},
     "output_type": "execute_result"
    }
   ],
   "source": [
    "ipywidgets.interact(strlongerthan,\n",
    "                    s=ipywidgets.fixed('Hello world'),\n",
    "                    l=ipywidgets.IntSlider(min=0, max=15, step=3))"
   ]
  },
  {
   "cell_type": "markdown",
   "metadata": {},
   "source": [
    "Lists and dicts turn to dropdowns."
   ]
  },
  {
   "cell_type": "code",
   "execution_count": 109,
   "metadata": {
    "collapsed": false
   },
   "outputs": [
    {
     "data": {
      "text/plain": [
       "False"
      ]
     },
     "metadata": {},
     "output_type": "display_data"
    },
    {
     "data": {
      "text/plain": [
       "<function __main__.strlongerthan>"
      ]
     },
     "execution_count": 109,
     "metadata": {},
     "output_type": "execute_result"
    }
   ],
   "source": [
    "ipywidgets.interact(strlongerthan,\n",
    "                    s=('cat', 'fish', 'a giraffe'),\n",
    "                    l=(0, 10)) # shorthand\n",
    "                    #l=ipywidgets.IntSlider(min=0, max=10))"
   ]
  },
  {
   "cell_type": "markdown",
   "metadata": {},
   "source": [
    "Something about [function annotations](https://docs.python.org/3/tutorial/controlflow.html#function-annotations); what's this, some sort of typing system for Python method/function arguments or something? Anyway, those will make interaction neat as the `interaction` object knows what to do already."
   ]
  },
  {
   "cell_type": "markdown",
   "metadata": {},
   "source": [
    "### Also the `Interactive` thing\n",
    "\n",
    "There is also the `interactive`, which doesn't immidiately display the widget, but returns a `ipywidgets.Widget`."
   ]
  },
  {
   "cell_type": "code",
   "execution_count": 128,
   "metadata": {
    "collapsed": false
   },
   "outputs": [
    {
     "name": "stdout",
     "output_type": "stream",
     "text": [
      "<class 'ipywidgets.widgets.widget_box.Box'>\n"
     ]
    },
    {
     "data": {
      "text/plain": [
       "(<ipywidgets.widgets.widget_string.Text at 0x7f5d1c037c88>,\n",
       " <ipywidgets.widgets.widget_int.IntSlider at 0x7f5d1d0da7b8>)"
      ]
     },
     "execution_count": 128,
     "metadata": {},
     "output_type": "execute_result"
    }
   ],
   "source": [
    "wid = ipywidgets.interactive(strlongerthan)\n",
    "print(type(wid))\n",
    "wid.children"
   ]
  },
  {
   "cell_type": "markdown",
   "metadata": {},
   "source": [
    "Such object require to be displayed explicitly, like the `Text` object at the top of this Notebook."
   ]
  },
  {
   "cell_type": "code",
   "execution_count": 127,
   "metadata": {
    "collapsed": false
   },
   "outputs": [
    {
     "data": {
      "text/plain": [
       "True"
      ]
     },
     "metadata": {},
     "output_type": "display_data"
    }
   ],
   "source": [
    "IPython.display.display(wid)"
   ]
  },
  {
   "cell_type": "markdown",
   "metadata": {},
   "source": [
    "Of course one wants to be able to limit continuous interaction. Two ways, firstly the `__manual` flag of `interact`, and secondly the `continuous_update` flag. The first adds a button, the latter does an update on mouse-release event. The first method is here:"
   ]
  },
  {
   "cell_type": "code",
   "execution_count": 135,
   "metadata": {
    "collapsed": false
   },
   "outputs": [
    {
     "data": {
      "image/png": "[encoded data removed]",
      "text/plain": [
       "<matplotlib.figure.Figure at 0x7f5d1c1262e8>"
      ]
     },
     "metadata": {},
     "output_type": "display_data"
    }
   ],
   "source": [
    "ipywidgets.interact(pltsin, freq=(0, 10, 0.1),__manual=True)"
   ]
  },
  {
   "cell_type": "markdown",
   "metadata": {},
   "source": [
    "When interaction widget arguments depend on other widgets, use `ipywidgets.Widget.observe`. There are \"traitlets\", which I think get passed around when one interacts with a widget. One can link several widgets either in the Python backend, or in the JavaScript frontend.\n",
    "\n",
    "A summary of the available widgets is [available online](https://github.com/ipython/ipywidgets/blob/d3dc17843435539e8030d08197627c858d853223/docs/source/examples/Widget%20List.ipynb), one worth paying attention to is `ipywidgets.Play` (complemented by `ipywidgets.VBox` controls), which animates by I believe stepping through a sequence of integers, but which I don't see to have available right now.\n",
    "\n",
    "One can do all kinds of styling and layout adjustments, through the ipywidgets API, which exposes properties in the `layout` attribute. There is a generic set of properties, and each widget class may expose more specific properties e.g. the `ipywidgets.Button` exposes `button_style`."
   ]
  },
  {
   "cell_type": "code",
   "execution_count": 147,
   "metadata": {
    "collapsed": false
   },
   "outputs": [
    {
     "data": {
      "text/plain": [
       "{'_cross_validation_lock': False,\n",
       " '_model_id': '9993c13dc8944a3e8e8b8b6ee1a4c6b4',\n",
       " '_trait_notifiers': {'config': {'change': [<traitlets.traitlets.ObserveHandler at 0x7f5d45f33550>]}},\n",
       " '_trait_validators': {},\n",
       " '_trait_values': {'_display_callbacks': <ipywidgets.widgets.widget.CallbackDispatcher at 0x7f5d1c120940>,\n",
       "  '_model_module': 'jupyter-js-widgets',\n",
       "  '_model_name': 'LayoutModel',\n",
       "  '_view_module': 'jupyter-js-widgets',\n",
       "  '_view_name': 'LayoutView',\n",
       "  'align_content': '',\n",
       "  'align_items': '',\n",
       "  'align_self': '',\n",
       "  'border': '',\n",
       "  'bottom': '',\n",
       "  'comm': <ipykernel.comm.comm.Comm at 0x7f5d1d08f780>,\n",
       "  'config': {},\n",
       "  'display': '',\n",
       "  'flex': '',\n",
       "  'flex_flow': '',\n",
       "  'height': '',\n",
       "  'justify_content': '',\n",
       "  'keys': ['align_self',\n",
       "   'flex',\n",
       "   'height',\n",
       "   'align_content',\n",
       "   'right',\n",
       "   'visibility',\n",
       "   'left',\n",
       "   'align_items',\n",
       "   'width',\n",
       "   'msg_throttle',\n",
       "   '_model_name',\n",
       "   'border',\n",
       "   'min_width',\n",
       "   'margin',\n",
       "   'padding',\n",
       "   'overflow',\n",
       "   'max_width',\n",
       "   'flex_flow',\n",
       "   'top',\n",
       "   'max_height',\n",
       "   '_view_name',\n",
       "   'display',\n",
       "   'justify_content',\n",
       "   'bottom',\n",
       "   '_model_module',\n",
       "   '_view_module',\n",
       "   'min_height'],\n",
       "  'left': '',\n",
       "  'margin': '',\n",
       "  'max_height': '',\n",
       "  'max_width': '',\n",
       "  'min_height': '',\n",
       "  'min_width': '',\n",
       "  'msg_throttle': 3,\n",
       "  'overflow': '',\n",
       "  'padding': '',\n",
       "  'parent': None,\n",
       "  'right': '',\n",
       "  'top': '',\n",
       "  'visibility': '',\n",
       "  'width': ''}}"
      ]
     },
     "execution_count": 147,
     "metadata": {},
     "output_type": "execute_result"
    }
   ],
   "source": [
    "wid.layout.__dict__"
   ]
  },
  {
   "cell_type": "markdown",
   "metadata": {},
   "source": [
    "A slippery slope into getting carried away by UI/UX design! Especially when layout can be done with `HBox` and `VBox`, and the Flexbox layout (which I know nothing about, but looks like some sort of a CSS framework). Actually there is a whole MVC model down there for building extensions.\n",
    "\n",
    "A number of example notebooks are available, here's a [random graph explorer](https://github.com/ipython/ipywidgets/blob/d3dc17843435539e8030d08197627c858d853223/docs/source/examples/Exploring%20Graphs.ipynb)."
   ]
  },
  {
   "cell_type": "code",
   "execution_count": 201,
   "metadata": {
    "collapsed": false
   },
   "outputs": [
    {
     "data": {
      "image/png": "[encoded data removed]",
      "text/plain": [
       "<matplotlib.figure.Figure at 0x7f5d1cb44630>"
      ]
     },
     "metadata": {},
     "output_type": "display_data"
    }
   ],
   "source": [
    "import networkx as nx\n",
    "\n",
    "g = None\n",
    "\n",
    "def random_lobster(n, m, k, p):\n",
    "    return nx.random_lobster(n, p, p/m)\n",
    "\n",
    "def powerlaw_cluster(n, m, k ,p):\n",
    "    return nx.powerlaw_cluster_graph(n, m, p)\n",
    "\n",
    "def erdos_renyi(n, m, k, p):\n",
    "    return nx.erdos_renyi_graph(n, p)\n",
    "\n",
    "def newman_watts_strogatz(n, m, k, p):\n",
    "    return nx.newman_watts_strogatz_graph(n, k, p)\n",
    "\n",
    "def plot_random_graph(n, m, k, p, generator):\n",
    "    global g # also nonlocal should work here\n",
    "    g = generator(n, m, k, p)\n",
    "    nx.draw(g)\n",
    "    matplotlib.pyplot.show()\n",
    "\n",
    "ipywidgets.interact(plot_random_graph, n=(2, 30), m=(1, 10), k=(1, 10), p=(0.0, 1.0, 0.001),\n",
    "         generator={'Lobster': random_lobster,\n",
    "                    'Power law': powerlaw_cluster,\n",
    "                   'Erdős-Rényi': erdos_renyi,\n",
    "                   'Newman-W'})"
   ]
  },
  {
   "cell_type": "markdown",
   "metadata": {},
   "source": [
    "In the above, a reference to the graph is captured in `g`, though maybe a prettier way to do so, minding scoping constraints, exists."
   ]
  },
  {
   "cell_type": "code",
   "execution_count": 203,
   "metadata": {
    "collapsed": false
   },
   "outputs": [
    {
     "data": {
      "text/plain": [
       "[(0, 2), (0, 3), (0, 4), (1, 3), (2, 3), (2, 4), (3, 4)]"
      ]
     },
     "execution_count": 203,
     "metadata": {},
     "output_type": "execute_result"
    }
   ],
   "source": [
    "g.edges()"
   ]
  }
 ],
 "metadata": {
  "kernelspec": {
   "display_name": "Python 3",
   "language": "python",
   "name": "python3"
  },
  "language_info": {
   "codemirror_mode": {
    "name": "ipython",
    "version": 3
   },
   "file_extension": ".py",
   "mimetype": "text/x-python",
   "name": "python",
   "nbconvert_exporter": "python",
   "pygments_lexer": "ipython3",
   "version": "3.5.2rc1"
  },
  "widgets": {
   "state": {
    "00114e2f76f1473a87a515fe096ce4d5": {
     "views": []
    },
    "0034660acfe045c5afc6bfd0431fd13d": {
     "views": []
    },
    "005ef66add1a4bdda793f9430f2e5141": {
     "views": [
      {
       "cell_index": 10
      }
     ]
    },
    "00be53c1e7d041b6b57e3bc06a630907": {
     "views": []
    },
    "02d7c1af9ea449baa29e28a9891c1bd0": {
     "views": []
    },
    "032b92d4a2034eb2b3dbf4ce3c4adc29": {
     "views": []
    },
    "036f004721854041a73f208fa2f60442": {
     "views": []
    },
    "042d64ece02c42629215c8c3ad6c2209": {
     "views": []
    },
    "04cdc46edfb443fa96ad879bd027e9b8": {
     "views": []
    },
    "053082cc1f3a42f7a7551b7586385229": {
     "views": []
    },
    "060eb09d4f724529932773dac8f72bdb": {
     "views": []
    },
    "07142803aee44f93a3da8abcdec6212b": {
     "views": []
    },
    "07193459dad84c51bc69bab8380d62ce": {
     "views": []
    },
    "077880196737401284f8645596117423": {
     "views": []
    },
    "07a849906e134c04a2e00f2a1725c91c": {
     "views": []
    },
    "0886d12ced974be0b5d6c08e6c736557": {
     "views": []
    },
    "08a65699ecee4d47ab2faa1341f8ef72": {
     "views": []
    },
    "0b324a4a84e045febabe52bec04144f9": {
     "views": []
    },
    "0b6582cf1e874cd0879de1df321caee3": {
     "views": []
    },
    "0ca5e6a52abc4652956b3b07b98c93df": {
     "views": []
    },
    "0d99a289aa084bd18999a4fa69696313": {
     "views": []
    },
    "10573884658242d4b72dc4e887284765": {
     "views": []
    },
    "109020415ab34aff8750592593a87383": {
     "views": []
    },
    "10f8204503014a6dac3a9accdfecedb4": {
     "views": []
    },
    "1106d9981d4542d0a55abbe68c0c82e4": {
     "views": []
    },
    "111e97b46f2a4fc9810bc4f9af134f44": {
     "views": []
    },
    "126928ebd07c4eb485d25596d5e1bb67": {
     "views": []
    },
    "1315ade6e2d7431b91ab99de02075fcd": {
     "views": [
      {
       "cell_index": 17
      }
     ]
    },
    "13ee5c984fa04cc18a68ca2c2845dbd2": {
     "views": []
    },
    "14cef33152f84915ab040618faa49852": {
     "views": [
      {
       "cell_index": 7
      }
     ]
    },
    "14fdaa135b5942cfafdba2a7e9f2c1f2": {
     "views": []
    },
    "1510187a05a04eee8cc0e2ef2d4bb005": {
     "views": []
    },
    "15117b610030465bb733f935fa9c70e9": {
     "views": []
    },
    "156e032521c244069eb9c5c3a5683858": {
     "views": []
    },
    "15dc789e856347a08355413c14d56123": {
     "views": []
    },
    "1652c50c161347dab9cd16b80676e8b5": {
     "views": []
    },
    "16efa6c959294bc1861fa79b9e07fc6f": {
     "views": []
    },
    "181cab12d2954afe8c5ff5b493f004f5": {
     "views": []
    },
    "184d697e761d4305b12f055d68850084": {
     "views": []
    },
    "19387a639ef84408969dac1cd2d99156": {
     "views": []
    },
    "1a035224a77c4991ace720ad324978b1": {
     "views": []
    },
    "1a456e3e1f0a48a0ac8aa598c94729b9": {
     "views": []
    },
    "1a5aabf4ce504f7cb41916439302f449": {
     "views": []
    },
    "1a8957e5269e4831a1e06f0b8143c4fc": {
     "views": []
    },
    "1b4c663de1064abfb4b397f172c32736": {
     "views": []
    },
    "1b79ad8e8add441e8e12457dd7df4c4a": {
     "views": []
    },
    "1bdd1b0d496b4c8eb187a7ebc269a179": {
     "views": []
    },
    "1c2fe3dddfcd468b8a6b1cdf54b44871": {
     "views": []
    },
    "1cd39ab19f7344e6a5dba3062c8ac529": {
     "views": []
    },
    "1d4fecadce66425fa87dd1cf980dd335": {
     "views": []
    },
    "1dca526e791d4d6b8bf2d4cb100c6ada": {
     "views": []
    },
    "1e3d40190249407e88cb80fc2cb8249e": {
     "views": []
    },
    "1e581f9908df42218cb9949de3e3d514": {
     "views": []
    },
    "1e802f524603475ab3334af9bec6e464": {
     "views": []
    },
    "1f3e757a6ab54777904690d4ca44879b": {
     "views": []
    },
    "1f4c39c900074678b198d20d918d09b8": {
     "views": []
    },
    "202ae8cc0f794410a46299465c5bbd5c": {
     "views": []
    },
    "20af4261572a4767aa419c3ca0d47f32": {
     "views": []
    },
    "20d969da187042d1a74beace414ad874": {
     "views": []
    },
    "20daa3d014d9426ab7e41e68fb310580": {
     "views": []
    },
    "215491e2941c4ee3ab93fa959a6933ce": {
     "views": []
    },
    "21849aa5631a45f2b463a1320a947d09": {
     "views": []
    },
    "21c91511f38e45fb8acd78f6baaf172c": {
     "views": []
    },
    "21cec42ab89a4b31a52b414d8baf3d80": {
     "views": []
    },
    "22572090d2ba41c3a32cb11933ac5f62": {
     "views": []
    },
    "22ba41931f9b404aa236a79481368e2f": {
     "views": []
    },
    "22d558ad1e7946328140daab3bcb2994": {
     "views": []
    },
    "2331e159d9bf46e2b29711102815300d": {
     "views": []
    },
    "23f0304cc8c54c15bf2abf28be326f3c": {
     "views": []
    },
    "23fcfd9570c64fd3aa85c83d1f2badd4": {
     "views": []
    },
    "243f137e796c48d3946db981a1c1673b": {
     "views": []
    },
    "24e5a5ba48594c428fe23cbd943d8c8a": {
     "views": []
    },
    "2524144142714983beba42ffcb73abf4": {
     "views": []
    },
    "2570e390204c44fe94fa1bb2adde80e3": {
     "views": []
    },
    "25cf60e467a049d18d16393c40ef0dbb": {
     "views": []
    },
    "25dccb78afef44219897c37400a8c5e8": {
     "views": []
    },
    "25df1fbc51c6401fa8e013c5da75ea79": {
     "views": []
    },
    "260b62320bef4f7493453c6629199dbd": {
     "views": []
    },
    "28b23594b8b64e5cb383065992589534": {
     "views": []
    },
    "2929b4e6f06f4b33943e5acbdf3d04ea": {
     "views": []
    },
    "2a68755198f9451d9a340cd562625e37": {
     "views": []
    },
    "2ad569c3839545d6bdbbfc6b99721353": {
     "views": []
    },
    "2b4d96fa71ed43bf88adbb7babadcb84": {
     "views": []
    },
    "2b9cff94261d4ec5a9077ea2a6737005": {
     "views": [
      {
       "cell_index": 30
      }
     ]
    },
    "2c1f35181299411b9474f63fcb7be00e": {
     "views": []
    },
    "2c95f6613beb4d45b4da9367f96788d8": {
     "views": []
    },
    "2da024046d574952a70a2257b306a03e": {
     "views": []
    },
    "2dd315c8834643b6a6aacb989f298767": {
     "views": []
    },
    "2e2f632dfa624401b7f6788ea01a865d": {
     "views": []
    },
    "2e4c296724cb4d608664542792125258": {
     "views": []
    },
    "2e90d25c80b64a6f89c959748af9f5ec": {
     "views": []
    },
    "2ee01d3c0e92469babdd308a28f0b272": {
     "views": []
    },
    "2f818bdc96554ca78fc49702298ca2de": {
     "views": []
    },
    "2facc7c7d6bd439db4f025045379ad74": {
     "views": []
    },
    "30489248bef0427997b24a05b5a72359": {
     "views": []
    },
    "313ae3a9ef404c10969de96e233740ca": {
     "views": []
    },
    "31a624ad64de40b0954aa8ca15e83b60": {
     "views": []
    },
    "31d80e159bf64960ad581a56a1f6f64d": {
     "views": []
    },
    "31f81cee3e52436cb94d81f6eedbfb0b": {
     "views": []
    },
    "32082d173c2343b7ac7e61313eb56280": {
     "views": []
    },
    "3222a8096f954edd99219582f3dfb7f3": {
     "views": []
    },
    "32470315da52430ebe19c6795ee5ce6e": {
     "views": []
    },
    "333860ac185a427d990c192930a0ee96": {
     "views": []
    },
    "3342d94392a34586b2d15915d7368512": {
     "views": []
    },
    "33f12cbdf0864799af0ffd3763cbb2d3": {
     "views": []
    },
    "3483699908194881ab70e22a0ca940b7": {
     "views": []
    },
    "349c13f1b355430cbb855b4cbb9a34f7": {
     "views": []
    },
    "34cb789fdd86474c8c25e10638efdefe": {
     "views": []
    },
    "36388591be0241faa2afa36efd9ada84": {
     "views": []
    },
    "36683c72e9b04f03b2601190807354c4": {
     "views": []
    },
    "36c3171feb6c4d4998e7b4bc1dfc0d85": {
     "views": []
    },
    "36d3f8cc1cdf472f8969891fd53335d8": {
     "views": []
    },
    "36e535eec09b4fc58ba927d0406d8883": {
     "views": []
    },
    "377a968b263b449d9f364a366cbe9b5a": {
     "views": []
    },
    "378b1fcf737248b7bbb0e8429bde30fc": {
     "views": []
    },
    "37b9106391dc407db9f2c2a9adade262": {
     "views": []
    },
    "3845aab85e564e708fe86ba6cdd4fa59": {
     "views": []
    },
    "38a1d25a06af47749fdc21d2bb93212b": {
     "views": []
    },
    "38b9213fbf5842aaa0c78facbf4efc6d": {
     "views": []
    },
    "38c35cb2d2594309943c8435f66d3aef": {
     "views": []
    },
    "38e7ca0051f346948c97dcb7b9402724": {
     "views": [
      {
       "cell_index": 9
      }
     ]
    },
    "38f235722a6b4ff1ad6a9a55356327ca": {
     "views": []
    },
    "3ada548e330f4c58911ea835965f4622": {
     "views": []
    },
    "3af033cafb264278bfbab5424254d5a2": {
     "views": []
    },
    "3bfce6c68f1a46a79bda2fc3f80c389b": {
     "views": []
    },
    "3c27292aca8a401ab5a10ef6018959a8": {
     "views": []
    },
    "3c8ffee678524ef1a1a62b2038903c72": {
     "views": []
    },
    "3cae96c3fc2d463fb19c21f9e8a69898": {
     "views": []
    },
    "3d020169ca6c44bab7b40109fde8fba5": {
     "views": []
    },
    "3e024033cb17460996628a62525ae610": {
     "views": []
    },
    "3f064b0c635a415cb560655e5e433b4d": {
     "views": []
    },
    "403974ac73e849619e3e39d56631a6be": {
     "views": []
    },
    "405e9df423784e429e3d6c9cb1e8d6d4": {
     "views": []
    },
    "40a617f35f854d818c4d73ab3238bd45": {
     "views": []
    },
    "40aaa7ac694c4f999ed943204cea5c8f": {
     "views": []
    },
    "40b5dc7494e04d6fa897a94e131ed31d": {
     "views": []
    },
    "411ccb35672043d6a4754bc383204823": {
     "views": []
    },
    "419855acabd64b35b9e586e18dfdc8be": {
     "views": []
    },
    "4244b8a7c6cd45adbedc5ab960219a9e": {
     "views": []
    },
    "425f851a98494e898722d4199975b197": {
     "views": []
    },
    "428e36292858429996895a26ca6380d8": {
     "views": []
    },
    "431003c6cac74c348e7538584f8b10f1": {
     "views": []
    },
    "436d7fb1a1e142aaa5ef6bf3cfac460a": {
     "views": []
    },
    "436d885d4bd14a59a330b0957f506efe": {
     "views": []
    },
    "437074f006294b17a53b0b6c6da0aa5d": {
     "views": []
    },
    "44dff419c875420d9365ca9b9efb7010": {
     "views": []
    },
    "46012c4d06854f1887139fe90ae5f40e": {
     "views": []
    },
    "46d2464acbba4b32ab08db85664e6573": {
     "views": []
    },
    "47584cf9670c455e89bd7d89ddc8cf63": {
     "views": []
    },
    "47c44b3b12f24d538ab36d8c22a2d146": {
     "views": []
    },
    "47dd389e7bc646aba4b965491100677d": {
     "views": []
    },
    "48092297c2c34f04ba0bf9219537d196": {
     "views": []
    },
    "4851ea1068b74d68812454249ff0eafe": {
     "views": []
    },
    "485444b3c996499ca695e7a161724fd9": {
     "views": []
    },
    "494d7d7d4019416fbd04267780524453": {
     "views": []
    },
    "4a0e74ddd1ea48bfa9915243ae9e3062": {
     "views": []
    },
    "4a2afb7ca1e5403f988df73bf0d74910": {
     "views": []
    },
    "4a4c5f6375fb42609acc1ee959d9097b": {
     "views": []
    },
    "4b09ec69d8a943d8bec16dc1171781e4": {
     "views": []
    },
    "4bbf4b1f5a574a67b9787d0a6593962f": {
     "views": []
    },
    "4cb47ab06c2f44ca913c3b70a50a0238": {
     "views": []
    },
    "4d91c01ae8364a8fa4a9dd1dcda99817": {
     "views": []
    },
    "4ddcb301c1014221b64e3cf37d078054": {
     "views": []
    },
    "4e03844dcb874f569af93362d338192c": {
     "views": []
    },
    "4e663641efff45fab422d1eec53c3af7": {
     "views": []
    },
    "4eaaa4640d29496ea520faf1f24948c1": {
     "views": []
    },
    "4f183d1bf5bd4649a7049459459a5a6b": {
     "views": []
    },
    "4ff6df5b1e004821b3ee7aa6772b2c64": {
     "views": []
    },
    "5027f6f92d7f4fd9adbf24599080b307": {
     "views": []
    },
    "51471a89d730430f99deabbe55484a13": {
     "views": []
    },
    "5234d7e8bcf94940bac905ab7e5cdc63": {
     "views": []
    },
    "534fbd1a841147c1a3df532207a20c05": {
     "views": [
      {
       "cell_index": 15
      }
     ]
    },
    "545d16e5dcd547c49ede98036407405d": {
     "views": []
    },
    "54dd68aba93e4919b39a89360e25348c": {
     "views": []
    },
    "55427389bbf2418fb3f539535b82af75": {
     "views": []
    },
    "562b919c63084dd4acc036e8b61d65bf": {
     "views": []
    },
    "5630c97b573b4a87a6bdaf356710bf99": {
     "views": []
    },
    "565a20ddd1da43e68c89e632ea5eae25": {
     "views": []
    },
    "5723bc7cc09242a5863b46e3bdb353e1": {
     "views": []
    },
    "5737af4ba2794995a2103679fd577dbf": {
     "views": []
    },
    "58b0797060d342319cb50041948712d1": {
     "views": []
    },
    "58d320af07084a8f85c4a3b0956be7ee": {
     "views": []
    },
    "58d4d35f30444a588a65ff148f629f3d": {
     "views": []
    },
    "59900406451545d7a923bfb7e2f78c17": {
     "views": []
    },
    "5a18e7b9480c4eb99af4171d5a3cda3d": {
     "views": []
    },
    "5a2d005789bb4249b1a7e3bdbe5445ae": {
     "views": []
    },
    "5a719cdeeca3472fb1b8c528fbcca77b": {
     "views": []
    },
    "5aa86da518134c489b33ca4e7ef73437": {
     "views": []
    },
    "5aab9f8fc0b243b09db2f3a6749c1fbe": {
     "views": []
    },
    "5baa6579aa33462ba1fc8cb979088f7c": {
     "views": []
    },
    "5bd5083b82c444299381aa223562dfe5": {
     "views": []
    },
    "5bf832f162f04a5088ae27de2aa48748": {
     "views": []
    },
    "5c3018986aa4427ca557c3eab5be4f98": {
     "views": []
    },
    "5d1a5b66219a454b861d0f618c0ba581": {
     "views": []
    },
    "5e5e29085f0b480d9d7102df963353a4": {
     "views": []
    },
    "5eb4e23ec9f849ceb9baed4cbb85b71f": {
     "views": []
    },
    "5f484b5d57a54b6085b9db36eb8eb696": {
     "views": []
    },
    "5f7795d64ae6427d87bd0fd86a6ac8c7": {
     "views": []
    },
    "5fa8050ff1674eef97d53e6d85d8d8c2": {
     "views": []
    },
    "603d9167be3046e88f9b27b2606af7bc": {
     "views": []
    },
    "6056b498add14ea48caf8ae393492fcf": {
     "views": []
    },
    "60628d85a205461a912839bbb1a7ebf5": {
     "views": []
    },
    "63273e69cc1a417fb8aadf0c4c6335e1": {
     "views": []
    },
    "63a182bdcce048e79377a8b5ebdd24cf": {
     "views": []
    },
    "63f87368c43a44da9d3dc5981673a217": {
     "views": []
    },
    "64727596bb9f4910bd89e8703167fb28": {
     "views": []
    },
    "64c1c5f6f36e41b588d9af8c1e2e6589": {
     "views": []
    },
    "65124ef73ccc4659b5a36a7074db5a4c": {
     "views": []
    },
    "65184aa8c33145fea8536bb53891a2fa": {
     "views": []
    },
    "657255076071462d956b91a023f352f9": {
     "views": []
    },
    "666b138c4309445d9508d41c4c642bad": {
     "views": []
    },
    "670f637f7c9c48b680e3d3a581e7b489": {
     "views": []
    },
    "6732db398ab5471c8a015435063123b0": {
     "views": []
    },
    "67378a778c4e45f68f81f8bf46891e8c": {
     "views": []
    },
    "678c2a213abd4d989733883a68166e23": {
     "views": []
    },
    "67948dec072840c8a39998199cee53e9": {
     "views": []
    },
    "6897113b75a24d06a2bd67bf0f6e559f": {
     "views": []
    },
    "69500ef302b4401abe919c9b496a2e6a": {
     "views": []
    },
    "695167bfbbc14dc090cd01a6eb563fee": {
     "views": []
    },
    "6ab647e9b9074e80a2b0082ce320a56d": {
     "views": []
    },
    "6b7d6935e524449dbe1270e34d978a3c": {
     "views": []
    },
    "6bb7e34aae2040e19dd4c0c63fe184dd": {
     "views": []
    },
    "6bf6dbe6722e44519144aa8f30259471": {
     "views": []
    },
    "6cc55568f9894bde9c699fed73554b3f": {
     "views": []
    },
    "6dc56894befd4b1eb9f573f7a65e55ce": {
     "views": []
    },
    "6df4d9177f0445e8bfbec8a44c3fe73f": {
     "views": []
    },
    "6e5c3050018f4298992d00d3dea160a1": {
     "views": []
    },
    "6e998819be7941b38bb02287ec7bc7c2": {
     "views": []
    },
    "6e9ab90a846c457cb8c19250cb226052": {
     "views": []
    },
    "7104c7d8b7fc4946a510bc76729739d8": {
     "views": []
    },
    "71352c86fdea4df995a8c44ea89be334": {
     "views": []
    },
    "717a19c1399c47858e3f70a63757c196": {
     "views": []
    },
    "725570d5346f4fe0bec4d213208c16cb": {
     "views": []
    },
    "7295eef39d8d446bb9cf93f2ac0331b9": {
     "views": []
    },
    "7307500eb0f844f8bda6f25634b04298": {
     "views": []
    },
    "733b5f96d5b84a4eb01026ef49759a55": {
     "views": []
    },
    "73ba91614d774c2ebe74994034da6d83": {
     "views": []
    },
    "74e1b7a252184f49b9670a89007b5b6c": {
     "views": []
    },
    "7547ed722b384463b14325de60d821ac": {
     "views": []
    },
    "75539339dd4544a083832894dcd65eff": {
     "views": []
    },
    "755b96f7c2cf487b9d5e4bfb073b90e4": {
     "views": []
    },
    "75d821da02714183b89b5ee062e77a64": {
     "views": []
    },
    "76741c1781334f23aea01fc42b2a69f3": {
     "views": []
    },
    "768674bca2f0499bb07f1dcd7b4f252b": {
     "views": []
    },
    "7701770f74b34de2ae7ded48e53d8a9f": {
     "views": []
    },
    "77ee9598a79a4d07ab9def536fd48f25": {
     "views": []
    },
    "7833f5b415d1472bbdc365979fbb5d90": {
     "views": []
    },
    "784da2e89e9744fbbe41b12ec95d4529": {
     "views": []
    },
    "79863572df054ad3a694c8e40aa79399": {
     "views": []
    },
    "79d3e902f46b46e59a60b86928822a8d": {
     "views": []
    },
    "7a6c1863744b476f8df8ee8b9bcf1d3f": {
     "views": []
    },
    "7ae53844b54540189eff7f155ee986ed": {
     "views": []
    },
    "7b738e68ce6a45a9a802a2b64b69d451": {
     "views": []
    },
    "7bf8bd10da9b43a8adb43ca41c529741": {
     "views": []
    },
    "7c2dfa8cbc54403fbda0a77ac9fbcfe3": {
     "views": []
    },
    "7c347c8d425d42d6940d93d9df817e84": {
     "views": []
    },
    "7c6d451805b84c8db48859c309d79611": {
     "views": []
    },
    "7d40ccb28fbb45ce8c0510a86df0c3a1": {
     "views": []
    },
    "7d526e9988be48488d0bc1d85e34d7f6": {
     "views": []
    },
    "7d5428753d7b4346b21a66f81ffb4bb8": {
     "views": []
    },
    "7d63ca3063a34a308acb2789d6c3e2d0": {
     "views": []
    },
    "7dafb6dd5533441caf618b920fe5fecc": {
     "views": []
    },
    "7db9db78b9164b4f955cce3e785c6b11": {
     "views": []
    },
    "7de09e1c84fe430caa45e591e834af4e": {
     "views": []
    },
    "7e2d774796b14b029ad3b7f97a979c4a": {
     "views": []
    },
    "7e70fbc34f404c3cbc11cfc14f031fba": {
     "views": []
    },
    "7ebb16b14e4a4b459ab36a4410a8a95f": {
     "views": []
    },
    "7ed8880e8e1d4d11ae4164ea32eae5d2": {
     "views": []
    },
    "7f2cefcf8cc248e586ea46e11f7ec938": {
     "views": []
    },
    "7fb659a904dc466286dc8b11795ccca0": {
     "views": []
    },
    "7fc4e4416b7c40ba849b6bc6702740d8": {
     "views": []
    },
    "7fd9925a95894d7d963d7d664fc6a9d0": {
     "views": []
    },
    "806d3ec9b2764258b9a5b0d9b072f038": {
     "views": []
    },
    "81c031a88871484a8122a002e2b2c460": {
     "views": []
    },
    "82c6b6639b114a34859c11cfc289793f": {
     "views": [
      {
       "cell_index": 19
      }
     ]
    },
    "83cb8026e9b54a67b8ea866dd9e69ef5": {
     "views": []
    },
    "842a4109c277441795c7aa8fbb55742d": {
     "views": []
    },
    "84b20a8045354b49ba92b5b5a83b3e99": {
     "views": []
    },
    "84ef2650b05a4cefb3ce022b9a55e5e8": {
     "views": []
    },
    "8511cf9cf81c46669ab0b2f634d9819c": {
     "views": []
    },
    "8602e33fb01b4d1b95d40de53577caee": {
     "views": []
    },
    "8680462be90844988116ef84cde1d591": {
     "views": []
    },
    "86abc22ea8b14bc2a74238b729d189cb": {
     "views": []
    },
    "86e562795ac74ebf9c2959014012c272": {
     "views": []
    },
    "86f53f07e11e4cebbefa187fe208b6c0": {
     "views": []
    },
    "87657918260a4565b617a94e0b95eed4": {
     "views": []
    },
    "87a9791ae46448c483c20cf876548183": {
     "views": []
    },
    "87ca876bfaad488ba18fd82512041132": {
     "views": []
    },
    "882ef9d152844c8980a43dd01cc0ec24": {
     "views": []
    },
    "8896f3143a724f218d7d729d9436d9bc": {
     "views": []
    },
    "892a79e76075421aa6fe4fd9a5e96e7a": {
     "views": []
    },
    "89b6724b6bfd4a96adaf1818f3f35777": {
     "views": []
    },
    "89e7711a3e6949febaa1c1b606a6c396": {
     "views": []
    },
    "8b35a91b78b842bc9540d1e7bf15304e": {
     "views": []
    },
    "8be51011418d45e6841f406003af0395": {
     "views": []
    },
    "8c229272e6424a99bcdd011f076548fe": {
     "views": []
    },
    "8cb2671a3454478f82be708b315fbbcc": {
     "views": []
    },
    "8d4bd9bea39e45ee94f0683f16b641d3": {
     "views": []
    },
    "8d5660e2e8b84b7197c1218c5b386df2": {
     "views": []
    },
    "8d6c92a1ded644558efe9cc7c80eb0e1": {
     "views": []
    },
    "8d94f238c0ac402b90357609291c8460": {
     "views": []
    },
    "8dd351e69bf04e92a79adb755c235ae2": {
     "views": []
    },
    "8e0cd62e7f7c48f5b185b41eec544561": {
     "views": []
    },
    "8e47c1276d6e4c1fad155c960f808923": {
     "views": []
    },
    "8e4a2b75ad7342a8a615d3112c53adb7": {
     "views": []
    },
    "8e66a707ed5a4ef58cfbaf18d46c23cc": {
     "views": []
    },
    "8ef3180c7f814ba581453ec6e10d3bfd": {
     "views": []
    },
    "8fa2b2c1f3bf47708c1fd27eac6abc48": {
     "views": []
    },
    "90c9700b1c0b49b4803cb82808a5cb7c": {
     "views": []
    },
    "910182d9636e4540a2b36e4f51025f85": {
     "views": []
    },
    "910f5459e4394d9fa5b73f756d103afb": {
     "views": []
    },
    "9145d230e7db4814a26ddc8c64d3eb3f": {
     "views": []
    },
    "917ab85d633c4ba8ae022bd85d9a814f": {
     "views": []
    },
    "91fa0f25512e4de8ba8eafc5e9e1f9db": {
     "views": []
    },
    "9218b1d931354bf385176fb6d5afdfcd": {
     "views": []
    },
    "923d97c1df2242d3ba05283eb1a0da60": {
     "views": []
    },
    "92c8e501a8754db8971dc2d5a8f664c3": {
     "views": []
    },
    "93821479866f449a835da47c7e41e645": {
     "views": []
    },
    "93e741884cac414aa561967cc49942ae": {
     "views": []
    },
    "94a005aeb4324ccf8614caaf9e97f2d7": {
     "views": []
    },
    "951999ad71ea4134b5a014b86d728cd9": {
     "views": []
    },
    "95d2b65e6c3a449dbea1d4767b4af3ac": {
     "views": []
    },
    "95eb8fa079814fa19135c5b15e99c59a": {
     "views": []
    },
    "96aec2ab1e684a87bbac93389a633cb3": {
     "views": []
    },
    "97c3daad5a584fae8d39337e155d22b4": {
     "views": []
    },
    "97ddd0ad786e45c3ba68b1f65fdeda74": {
     "views": []
    },
    "97f32b0505d24e219d244bfa58644238": {
     "views": []
    },
    "97f7762d124847948c2cbcac0fcb9e2c": {
     "views": []
    },
    "982ce29af2264cdaa243e24bae19712e": {
     "views": []
    },
    "9993c13dc8944a3e8e8b8b6ee1a4c6b4": {
     "views": []
    },
    "9a06a5868b1249f3a92227e2f8200fa3": {
     "views": []
    },
    "9a4181c8323143d2a00673c90dbbd6af": {
     "views": []
    },
    "9a83b7176cc04e829aa43c7a3680cf12": {
     "views": []
    },
    "9a8d5e8365524d07911909f3aae4e9ec": {
     "views": []
    },
    "9b938ed8a246488fb73d55ca12d44fce": {
     "views": []
    },
    "9c35f9ac04304d0f9a4169a7106f4fe1": {
     "views": []
    },
    "9c547bd83ed545caa0372e35341c069a": {
     "views": []
    },
    "9d3865e6671940df8b33acb58cc916fe": {
     "views": []
    },
    "9dc6eff560514c39b901065944cff651": {
     "views": []
    },
    "9e24113de078402c852ebce924416d5d": {
     "views": []
    },
    "9e6f68d0ba7d44a0b7ccdf86c3f7bf13": {
     "views": []
    },
    "9e7b4a1d4bbc43759be5b187d4a5598f": {
     "views": []
    },
    "9e84366a968743c09f79e626c66a2a17": {
     "views": []
    },
    "9f2dfbab91414fe2857365abe4b71bf3": {
     "views": []
    },
    "9fcbda029bd44811a8900da265d3d637": {
     "views": []
    },
    "9fccc04399944f90bda6cb9d0bac427d": {
     "views": []
    },
    "a24080c6f5ff431288a167585c39b334": {
     "views": []
    },
    "a2cec9276c09429c8f3af404b057a0bc": {
     "views": []
    },
    "a2d0b5e716cb4de5a61521be05a15cc0": {
     "views": []
    },
    "a3c6f9900e4643ef9e2a3e8eb44041f5": {
     "views": []
    },
    "a4567f3059d34f0cab550576de4179b1": {
     "views": []
    },
    "a4a19c68164f4a9aa9b29b7ad56c637b": {
     "views": []
    },
    "a56c0c8934bc4bc0a7fb47ac951f7d1e": {
     "views": []
    },
    "a5fd7fe6b7054037bf05dbe7e04de581": {
     "views": []
    },
    "a6942e1dfd454271b36cc17802e6ede0": {
     "views": []
    },
    "a69ad0d7e1f0469d8df4d4a713a0428b": {
     "views": []
    },
    "a6ea25bd0e5d4ea096a2630eaf0390c4": {
     "views": []
    },
    "a763bc0d66b741ceb4b5cf8c711e39db": {
     "views": []
    },
    "a892247f50344aa0bbbf2abe0bc6b5f7": {
     "views": []
    },
    "a8d599abde084475a8b512b13214b4ff": {
     "views": []
    },
    "aa52fb29a0ca4aa99b32375a1f31beca": {
     "views": []
    },
    "aa61ed1ffe2d4a8e97986feb6641257b": {
     "views": []
    },
    "ab0739cc6ffb47f1acdd330f273b8a61": {
     "views": []
    },
    "ab601a48c7764564a7c13cecd79fec5b": {
     "views": []
    },
    "ac63c13f8465411a8e72817b6efc00d0": {
     "views": []
    },
    "ac666c102801493e9c38b2507117051d": {
     "views": []
    },
    "acd760ae38ac4024b392ce8feef31098": {
     "views": []
    },
    "ad400376959741448b39b728dffb157e": {
     "views": []
    },
    "ae3c4e3e245d48cf8a47468a4161d498": {
     "views": []
    },
    "ae41045af91e471d91f76087238d77fd": {
     "views": []
    },
    "aed2caf762314dd1a80a25c3f957abc0": {
     "views": []
    },
    "b00ff87ad981420c8ab78c5015bf12d2": {
     "views": []
    },
    "b124e7d0f92c4fcfac1b0e1cf9d095a0": {
     "views": []
    },
    "b3a69641af99476b83e46e7c790bc44c": {
     "views": []
    },
    "b440f2735fb34fedaabf216727124722": {
     "views": []
    },
    "b441de512fe84e859b155eda07fbdb53": {
     "views": []
    },
    "b4689ebb533340b994fbf3bffb21cf97": {
     "views": []
    },
    "b5b6a578310c46e88021e8137256af63": {
     "views": []
    },
    "b6674d3657b64c138cc8fd1bcc6eabc9": {
     "views": []
    },
    "b66b917cf51c4d1b9e1601e7b3a3a6a6": {
     "views": []
    },
    "b71f941d6519415ea4388d495f30bf37": {
     "views": []
    },
    "b772447142084594a5b85ff4039bbaa5": {
     "views": []
    },
    "b7a0b1ea4e8546479b2e1985e8662eaa": {
     "views": []
    },
    "b83eaa0aa46e491ea8b65d389d1c2d21": {
     "views": []
    },
    "b8825631d1164ec5935a9d184ae9eb10": {
     "views": []
    },
    "b89ee856ce3549eda9e9cb36f0c70091": {
     "views": []
    },
    "b8c5c8ed6d69493ca4d3244ee0dde6b2": {
     "views": []
    },
    "b8dc3b97b8d34c1ba2aa62cac70a9131": {
     "views": []
    },
    "b91d69b15c5e427d9bc2500a84ca644a": {
     "views": []
    },
    "bab161b69da14412a56412448a3d3c19": {
     "views": []
    },
    "baf88bfadad44f7bb087284709b304fb": {
     "views": []
    },
    "bafddc3d27384118a026dc5153b7edff": {
     "views": []
    },
    "bb3b31303a06447a9ac2f5bb142d1e16": {
     "views": []
    },
    "bbf47d47554c4d1099c2a4911341f15b": {
     "views": []
    },
    "bc1467a71af541acb3dbdc5e8e1a11b1": {
     "views": []
    },
    "bddee5ad35264159b49b38284c93a52b": {
     "views": []
    },
    "be2dde31098942d6ac49d2592d60a70d": {
     "views": []
    },
    "be380c11276f4eae95bf56b9d7db7164": {
     "views": []
    },
    "be6d029c326d4c2bbf82a13bc2c11a19": {
     "views": []
    },
    "be6fe77e50d9403c8e81382cc4bacc08": {
     "views": [
      {
       "cell_index": 26
      }
     ]
    },
    "bea43f5b9c98462c85c4e69dff83f3e8": {
     "views": []
    },
    "bf3f63df62ba4feba7f178061306dbf1": {
     "views": []
    },
    "bf72dae68ef04738b51f2b4125c9f0e8": {
     "views": []
    },
    "bfade0ecfd0245b3bbbabb9307645575": {
     "views": []
    },
    "bfbdc068d7b340258644e639e7155243": {
     "views": []
    },
    "bfd123297a474246919929523da7b5d5": {
     "views": []
    },
    "bfd78ff0dace47e5a04d0e742e361351": {
     "views": []
    },
    "c0757db2e45b43519b78e3c14bc6c80c": {
     "views": []
    },
    "c0850fe3a9784df4b084c5add4053405": {
     "views": []
    },
    "c174b455da624d54b43e3ca6a3c81bef": {
     "views": []
    },
    "c3cd89f375584a5ba3563032111bd125": {
     "views": []
    },
    "c3e60159edc7483f9d73eecc9795f236": {
     "views": []
    },
    "c5153c3111a340f88a6a0bcd7e3ebac9": {
     "views": []
    },
    "c5f6d0b038ee40d38151267cd0722947": {
     "views": []
    },
    "c65dabae2c8d442dacddce0a2e101ea8": {
     "views": []
    },
    "c6e3fb590b704e339fdf9db8fdf3c08a": {
     "views": []
    },
    "c7564bd81c0949668a61522e46ccb61b": {
     "views": []
    },
    "c776a14afc53487cb50df28a2b927fe6": {
     "views": [
      {
       "cell_index": 24
      }
     ]
    },
    "c78cc9c6393642ebac200ab0b6ef1f22": {
     "views": []
    },
    "c7f15b45124a4a4eb910a84c1ed5c9fb": {
     "views": []
    },
    "c8ce0105b42840a0a3ed6ca7d9e01f22": {
     "views": []
    },
    "c9c0721079da401e94d95183b45e0a50": {
     "views": []
    },
    "ca3210aaa6974b9b975ea589e8e9e60d": {
     "views": []
    },
    "cbfe6ff5b9314d9b9644ced6c84283c5": {
     "views": []
    },
    "cc0237e9b65044799c6b8ad7411235ae": {
     "views": []
    },
    "cca7d92873c44bd68d334a897e3e7e0f": {
     "views": []
    },
    "cd3f40a02e0a4a1db13086cd0f8a0f8c": {
     "views": []
    },
    "cdc4f7f47b614508951b841388d7ee55": {
     "views": []
    },
    "ce0a8d9d49de4cf18f830c47b2fefe76": {
     "views": []
    },
    "cf8320cb0a494365a8ad22fd96bdc2c9": {
     "views": []
    },
    "cfc36e6847304c0b8a15bb57e32e2e52": {
     "views": []
    },
    "d000c3d28ada481d9867797bad212fd3": {
     "views": []
    },
    "d01749e0389c432f80955553dcfb8601": {
     "views": []
    },
    "d05ce29579ed4337a129d009a310a9c4": {
     "views": []
    },
    "d0b4343546e44dd297ceda9eade639f8": {
     "views": []
    },
    "d1334d809726423193935eb84470e937": {
     "views": []
    },
    "d17f3cf98a6149eb9bd1a0af766549f1": {
     "views": []
    },
    "d20a9496e0bd41b2a79967c71daa8271": {
     "views": []
    },
    "d212cf8d642c464d931b96bc677221c4": {
     "views": []
    },
    "d2fd7e96d8594de0bac92353d69f4978": {
     "views": []
    },
    "d30d9d094f0a4de790d60b6b3326af8f": {
     "views": []
    },
    "d30fdf8084f045d9aa9f18299c9a6ee8": {
     "views": []
    },
    "d3d4543082814956852c4b19210d6444": {
     "views": []
    },
    "d4720441c476495fa729ad42b412e76b": {
     "views": []
    },
    "d4d82d83ea2d430fa8bc591df6358341": {
     "views": []
    },
    "d4e65af49d7c49dca3a92fe8c5e029eb": {
     "views": []
    },
    "d5ff634fb10d4a8399cdaf326a9ea596": {
     "views": []
    },
    "d678aef264c1436a83eebd1a9e46aed8": {
     "views": []
    },
    "d71131d94254426491bc1f290396231c": {
     "views": []
    },
    "d7283ed400254ab390ab249b48d10dcd": {
     "views": []
    },
    "d8286bda7e874d9592a79bee233cc948": {
     "views": []
    },
    "d86fb02bd8e74f678bdccc7b1c5bd059": {
     "views": []
    },
    "d885c78cd2de4677a1d9c6eadf7e9fe3": {
     "views": []
    },
    "d8c50ba496894d25872a7adcf3015449": {
     "views": []
    },
    "d999a3bbdb034158801a39672d75dda4": {
     "views": []
    },
    "d9c5d55913a9411f9fdfaba8384d4c7f": {
     "views": []
    },
    "da299debd61845e7a038caa53344ee20": {
     "views": []
    },
    "da68f0e012d1475ca1d84819c30a1923": {
     "views": []
    },
    "da9718ada75743d0838a808c02812ac9": {
     "views": []
    },
    "db4988862670455fb70820ce537ab01e": {
     "views": []
    },
    "dca9a0ff9f834c1e94365601514b68b8": {
     "views": []
    },
    "dd0fcbf2f15f44228e587a86d2521163": {
     "views": []
    },
    "de46cd63689e44c9b6f25980f4cd5638": {
     "views": []
    },
    "deaa868dc38843c8ae7fae40971ecae4": {
     "views": []
    },
    "df17aa0927d8466bbdc380f8e2ebb94b": {
     "views": []
    },
    "df283eaf10684c429160a183a2db69b0": {
     "views": []
    },
    "dfa98931378e4cfb890197fd844207b0": {
     "views": []
    },
    "e0f393b4ecbc4bac80aecffe8e03a33c": {
     "views": []
    },
    "e1c9ded9625841458fbaa55e0cbc6319": {
     "views": []
    },
    "e1e84034b91c4e6bb641d11a1c29ceb4": {
     "views": []
    },
    "e26fa4ac7d4f4999abd05a45381fa91c": {
     "views": []
    },
    "e2a94db10a324ed886029b8cfb19b88d": {
     "views": []
    },
    "e32285864dd24d71ad86f15bb119693a": {
     "views": [
      {
       "cell_index": 4
      }
     ]
    },
    "e349960261464a84b6924fc12ae1dc69": {
     "views": []
    },
    "e35fdd25ccd04dada3135c8f953da85c": {
     "views": []
    },
    "e4e8b0fdd1754edd8e59cad7591d1eac": {
     "views": []
    },
    "e66600db37214175bbfaf9a651a31987": {
     "views": []
    },
    "e6c19e713343422ea873f87d96296ca8": {
     "views": []
    },
    "e703e5f9743f4763973ce8c07537291a": {
     "views": []
    },
    "e736d77699164c67be70831670983aef": {
     "views": []
    },
    "e7a881ecbb3e4c25b2ae1ff6d4c7320c": {
     "views": []
    },
    "e84b28e7a1094b5a81bade456df831f8": {
     "views": []
    },
    "e84c2e1142ce49b1bc96c460d2793cde": {
     "views": []
    },
    "e89f9d7d9ed240c0890f20b9d934f4a9": {
     "views": []
    },
    "e98cf5daf5e84c5abd578ac9254a4bfb": {
     "views": []
    },
    "e9d6f78512de43cc92b624fec2459b11": {
     "views": []
    },
    "ea24345634c644ff83d32d3400bc373e": {
     "views": []
    },
    "ea5c2c99bed544f0aac64d2174455442": {
     "views": []
    },
    "eaad54100bf64658af4f6cf42810bd1c": {
     "views": []
    },
    "eb4cddca281547c5825a0fe2df6a7570": {
     "views": []
    },
    "ec5cbf42ac224e20af646ad015768e8a": {
     "views": []
    },
    "ec6e8552e26b495fa5189142f363bbb7": {
     "views": []
    },
    "ed7cb479191843c2a6b9ea8ee9cf591d": {
     "views": []
    },
    "ee67139617ec4ea4a8ab622e56b1c395": {
     "views": []
    },
    "ef0f7f0fa130426e8e0d85ff37e981e7": {
     "views": []
    },
    "efe053663cff47a482dc4798d830b6bc": {
     "views": []
    },
    "f095eedb4b4f4f83890b1ebc61afc401": {
     "views": []
    },
    "f0c4c73380cb4553a47158961d52968c": {
     "views": []
    },
    "f102935809794d53929a8c69effb7678": {
     "views": []
    },
    "f119198bfea549c4ae53285a27ebfcc7": {
     "views": []
    },
    "f1841021cf194b7b9e859756124c3e08": {
     "views": []
    },
    "f1cc79a9648846d8a77655925ac849b7": {
     "views": []
    },
    "f1cd070cb83147a9aa58486d944cf689": {
     "views": []
    },
    "f2382b1ed98142ff895fd5b4344b893d": {
     "views": []
    },
    "f3968d964b50475fb39fea9db8f7efc9": {
     "views": []
    },
    "f3b4b53b83bf448fae0b2853b1611665": {
     "views": []
    },
    "f3e7fd5613ca4bffb02adf5681b3645a": {
     "views": []
    },
    "f474aeae0f2a457fab05c0d1b61b9d76": {
     "views": []
    },
    "f49c50424a7b4f8d80952385280f790e": {
     "views": []
    },
    "f4e6ceec4c74446f962571fd0a6b02bc": {
     "views": []
    },
    "f4f5414d78d8461ab2e9c183f6d5fcab": {
     "views": []
    },
    "f57b5a82f8ec4b76bb19d7eda3edfb6f": {
     "views": []
    },
    "f5a980e7e88b45f6895ad9bbbecd9613": {
     "views": []
    },
    "f72469afc2b84d85b70d329aebe0e145": {
     "views": [
      {
       "cell_index": 7
      }
     ]
    },
    "f74104a299b54ee8a0768e1190bc2990": {
     "views": []
    },
    "f9e1f508396b46c68459593e9c873151": {
     "views": []
    },
    "fa3dd9ea968f40018a58fcb4bf8a38e7": {
     "views": []
    },
    "fa6a1070a4a54fb082fd1fce1f3789b1": {
     "views": []
    },
    "fade483727e94b159a28f07f58162d47": {
     "views": []
    },
    "fb26ac1645e34d8588e56b2cfbcba4a0": {
     "views": []
    },
    "fc3bf0d8b5ab40dda0ad6316e429e567": {
     "views": []
    },
    "fd435b04f3b8409d85b5f73336a836e3": {
     "views": []
    },
    "fdb2b2593270422a9eaab4949344989e": {
     "views": []
    },
    "fdebb38b891d478bbe768ad75be1f0d4": {
     "views": []
    },
    "fe6d14e811c64526af457c307c685f95": {
     "views": []
    },
    "ff1592f4a74945a7b1e67be686f6ec7a": {
     "views": []
    },
    "ff676b70b2ef47faab8f81dd6d497669": {
     "views": []
    },
    "ff6d6255f85243afa41030aeb3ce3c54": {
     "views": []
    }
   },
   "version": "1.1.2"
  }
 },
 "nbformat": 4,
 "nbformat_minor": 0
}
