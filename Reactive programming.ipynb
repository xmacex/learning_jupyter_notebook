{
 "cells": [
  {
   "cell_type": "markdown",
   "metadata": {},
   "source": [
    "# Reactive programming\n",
    "\n",
    "In *reactive programming*, which goes well with functional programming (FRP), we have *Observables* which emit events, and *Observers* which consume them, and we also have *operators*.\n",
    "\n",
    "    →→e→→→→→→f→→→→g→h→→→→→→\n",
    "    ↓↓↓↓↓↓ operator ↓↓↓↓↓↓↓\n",
    "    →→→E→→→→→→→→F→→→G→→→→H→\n",
    "\n",
    "We are thinking about streams. Almost everything is a stream."
   ]
  },
  {
   "cell_type": "markdown",
   "metadata": {},
   "source": [
    "## Resources\n",
    "\n",
    "Some resources I read are\n",
    "* [The introduction to Reactive Programming you've been missing](https://gist.github.com/staltz/868e7e9bc2a7b8c1f754)\n",
    "* [What is Reactive Programming?](https://medium.com/@kevalpatel2106/what-is-reactive-programming-da37c1611382)\n",
    "* [Code your next android app using RxJava](https://medium.com/@kevalpatel2106/code-your-next-android-app-using-rxjava-d1db30ac9fcc)\n",
    "* [An introduction to reactive programming](https://codewords.recurse.com/issues/two/an-introduction-to-reactive-programming) examples in Scala, with `Future` and `Promise`, and `async` and `await` constructs too\n",
    "* [Notes on Reactive Programming Part I: The Reactive Landscape](https://spring.io/blog/2016/06/07/notes-on-reactive-programming-part-i-the-reactive-landscape)\n",
    "* [Notes on Reactive Programming Part II: Writing Some Code](https://spring.io/blog/2016/06/13/notes-on-reactive-programming-part-ii-writing-some-code)"
   ]
  },
  {
   "cell_type": "markdown",
   "metadata": {},
   "source": [
    "One of the libraries which brings the paradigm and Reactive Extensions aka Rx to Python is [RxPY](https://github.com/ReactiveX/RxPY)."
   ]
  },
  {
   "cell_type": "code",
   "execution_count": 1,
   "metadata": {},
   "outputs": [],
   "source": [
    "from rx import Observable, Observer"
   ]
  },
  {
   "cell_type": "markdown",
   "metadata": {},
   "source": [
    "## Basic observables and observers"
   ]
  },
  {
   "cell_type": "markdown",
   "metadata": {},
   "source": [
    "Let's define a function for this, though we will soon want to use an interable for this, right?"
   ]
  },
  {
   "cell_type": "code",
   "execution_count": 10,
   "metadata": {},
   "outputs": [],
   "source": [
    "def push_five_strings(observer):\n",
    "    observer.on_next(\"Alpha\")\n",
    "    observer.on_next(\"Beta\")\n",
    "    observer.on_next(\"Gamma\")\n",
    "    observer.on_next(\"Delta\")\n",
    "    observer.on_next(\"Epsilon\")\n",
    "    observer.on_completed()"
   ]
  },
  {
   "cell_type": "markdown",
   "metadata": {},
   "source": [
    "A simple observer, which just gets events, and prints them."
   ]
  },
  {
   "cell_type": "code",
   "execution_count": 11,
   "metadata": {},
   "outputs": [],
   "source": [
    "class PrintObserver(Observer):\n",
    "    def on_next(self, value):\n",
    "        print(\"Received {0}\".format(value))\n",
    "\n",
    "    def on_completed(self):\n",
    "        print(\"Done!\")\n",
    "\n",
    "    def on_error(self, error):\n",
    "        print(\"Error occurred: {0}\".format(error))"
   ]
  },
  {
   "cell_type": "markdown",
   "metadata": {},
   "source": [
    "Lets create the observable with the `Observable.create()` factory, and call it `source`."
   ]
  },
  {
   "cell_type": "code",
   "execution_count": 12,
   "metadata": {},
   "outputs": [],
   "source": [
    "source = Observable.create(push_five_strings)"
   ]
  },
  {
   "cell_type": "markdown",
   "metadata": {},
   "source": [
    "Then let's just connect to it, which will flow the data."
   ]
  },
  {
   "cell_type": "code",
   "execution_count": 14,
   "metadata": {},
   "outputs": [
    {
     "name": "stdout",
     "output_type": "stream",
     "text": [
      "Received Alpha\n",
      "Received Beta\n",
      "Received Gamma\n",
      "Received Delta\n",
      "Received Epsilon\n",
      "Done!\n"
     ]
    },
    {
     "data": {
      "text/plain": [
       "<rx.disposables.anonymousdisposable.AnonymousDisposable at 0x10e677fd0>"
      ]
     },
     "execution_count": 14,
     "metadata": {},
     "output_type": "execute_result"
    }
   ],
   "source": [
    "source.subscribe(PrintObserver())"
   ]
  },
  {
   "cell_type": "markdown",
   "metadata": {},
   "source": [
    "The above tastes redundant, we should be able to create an observable from a Python iterable. We indeed can, with `Observable.from_()`."
   ]
  },
  {
   "cell_type": "code",
   "execution_count": 15,
   "metadata": {},
   "outputs": [],
   "source": [
    "source = Observable.from_(['Kitten', 'Giraffe', 'Snake', 'Penguin'])"
   ]
  },
  {
   "cell_type": "code",
   "execution_count": 16,
   "metadata": {},
   "outputs": [
    {
     "name": "stdout",
     "output_type": "stream",
     "text": [
      "Received Kitten\n",
      "Received Giraffe\n",
      "Received Snake\n",
      "Received Penguin\n",
      "Done!\n"
     ]
    },
    {
     "data": {
      "text/plain": [
       "<rx.disposables.anonymousdisposable.AnonymousDisposable at 0x10e654780>"
      ]
     },
     "execution_count": 16,
     "metadata": {},
     "output_type": "execute_result"
    }
   ],
   "source": [
    "source.subscribe(PrintObserver())"
   ]
  },
  {
   "cell_type": "markdown",
   "metadata": {},
   "source": [
    "Instead of actually implementing the Observer via inheritance, we can and often want – says the documentation – to pass three lambdas:"
   ]
  },
  {
   "cell_type": "code",
   "execution_count": 21,
   "metadata": {},
   "outputs": [
    {
     "name": "stdout",
     "output_type": "stream",
     "text": [
      "Received Kitten\n",
      "Received Giraffe\n",
      "Received Snake\n",
      "Received Penguin\n"
     ]
    },
    {
     "data": {
      "text/plain": [
       "<rx.disposables.anonymousdisposable.AnonymousDisposable at 0x10e82c160>"
      ]
     },
     "execution_count": 21,
     "metadata": {},
     "output_type": "execute_result"
    }
   ],
   "source": [
    "source.subscribe(lambda l: print(\"Received {}\".format(l)))"
   ]
  },
  {
   "cell_type": "markdown",
   "metadata": {},
   "source": [
    "## Operators and chaining"
   ]
  },
  {
   "cell_type": "markdown",
   "metadata": {},
   "source": [
    "The RxPY documentation says there are 130 operators, I don't know at all what they do. Map, filter, reduce sound familiar of course."
   ]
  },
  {
   "cell_type": "code",
   "execution_count": 29,
   "metadata": {},
   "outputs": [
    {
     "name": "stdout",
     "output_type": "stream",
     "text": [
      "Received animal of length ⦿⦿⦿⦿⦿⦿\n",
      "Received animal of length ⦿⦿⦿⦿⦿⦿⦿⦿\n",
      "Received animal of length ⦿⦿⦿⦿⦿⦿⦿⦿⦿⦿⦿⦿⦿⦿⦿\n"
     ]
    },
    {
     "data": {
      "text/plain": [
       "<rx.disposables.anonymousdisposable.AnonymousDisposable at 0x10e859828>"
      ]
     },
     "execution_count": 29,
     "metadata": {},
     "output_type": "execute_result"
    }
   ],
   "source": [
    "Observable.from_(['Kitten', 'Puppy', 'Aardvark', 'Murder of crows']) \\\n",
    "    .map(lambda s: len(s)) \\\n",
    "    .filter(lambda l: l > 5) \\\n",
    "    .subscribe(lambda v: print(\"Received animal of length {}\".format('⦿' * v)))"
   ]
  },
  {
   "cell_type": "markdown",
   "metadata": {},
   "source": [
    "## Multicasting\n",
    "\n",
    "Having many observers is useful."
   ]
  },
  {
   "cell_type": "code",
   "execution_count": 30,
   "metadata": {},
   "outputs": [],
   "source": [
    "import random"
   ]
  },
  {
   "cell_type": "code",
   "execution_count": 32,
   "metadata": {
    "slideshow": {
     "slide_type": "subslide"
    }
   },
   "outputs": [
    {
     "name": "stdout",
     "output_type": "stream",
     "text": [
      "S1 received 5\n",
      "S1 received 10\n",
      "S1 received 21\n",
      "S2 received 62\n",
      "S2 received 25\n",
      "S2 received 6\n"
     ]
    },
    {
     "data": {
      "text/plain": [
       "<rx.disposables.anonymousdisposable.AnonymousDisposable at 0x10e82c2b0>"
      ]
     },
     "execution_count": 32,
     "metadata": {},
     "output_type": "execute_result"
    }
   ],
   "source": [
    "three_emissions = Observable.range(1, 3)\n",
    "three_random_ints = three_emissions.map(lambda i: random.randint(1, 100))\n",
    "\n",
    "three_random_ints.subscribe(lambda i: print(\"S1 received {}\".format(i)))\n",
    "three_random_ints.subscribe(lambda i: print(\"S2 received {}\".format(i)))"
   ]
  },
  {
   "cell_type": "markdown",
   "metadata": {},
   "source": [
    "Instead if same stream should go to each subscriber, we can use `publish()` on the observable, and then use `connect()` of the observers to get the events. This defers the emission."
   ]
  },
  {
   "cell_type": "code",
   "execution_count": 33,
   "metadata": {},
   "outputs": [
    {
     "data": {
      "text/plain": [
       "<rx.disposables.anonymousdisposable.AnonymousDisposable at 0x10e9e83c8>"
      ]
     },
     "execution_count": 33,
     "metadata": {},
     "output_type": "execute_result"
    }
   ],
   "source": [
    "three_emissions = Observable.range(1, 3)\n",
    "three_random_ints = three_emissions.map(lambda i: random.randint(1, 100)).publish()\n",
    "\n",
    "three_random_ints.subscribe(lambda i: print(\"S1 received {}\".format(i)))\n",
    "three_random_ints.subscribe(lambda i: print(\"S2 received {}\".format(i)))"
   ]
  },
  {
   "cell_type": "code",
   "execution_count": 34,
   "metadata": {},
   "outputs": [
    {
     "name": "stdout",
     "output_type": "stream",
     "text": [
      "S1 received 96\n",
      "S2 received 96\n",
      "S1 received 84\n",
      "S2 received 84\n",
      "S1 received 33\n",
      "S2 received 33\n"
     ]
    },
    {
     "data": {
      "text/plain": [
       "<rx.disposables.compositedisposable.CompositeDisposable at 0x10ea04ef0>"
      ]
     },
     "execution_count": 34,
     "metadata": {},
     "output_type": "execute_result"
    }
   ],
   "source": [
    "three_random_ints.connect()"
   ]
  },
  {
   "cell_type": "markdown",
   "metadata": {},
   "source": [
    "With `auto_connect()` on the observable we can defer emission until *n* observers (\"subscribers\") are connected."
   ]
  },
  {
   "cell_type": "code",
   "execution_count": 35,
   "metadata": {},
   "outputs": [
    {
     "data": {
      "text/plain": [
       "<rx.disposables.anonymousdisposable.AnonymousDisposable at 0x10e639e10>"
      ]
     },
     "execution_count": 35,
     "metadata": {},
     "output_type": "execute_result"
    }
   ],
   "source": [
    "three_emissions = Observable.range(1, 3)\n",
    "three_random_ints = three_emissions.map(lambda i: random.randint(1, 100)).publish().auto_connect(2)\n",
    "\n",
    "three_random_ints.subscribe(lambda i: print(\"S1 received {}\".format(i)))"
   ]
  },
  {
   "cell_type": "code",
   "execution_count": 36,
   "metadata": {},
   "outputs": [
    {
     "name": "stdout",
     "output_type": "stream",
     "text": [
      "S1 received 25\n",
      "S2 received 25\n",
      "S1 received 20\n",
      "S2 received 20\n",
      "S1 received 42\n",
      "S2 received 42\n"
     ]
    },
    {
     "data": {
      "text/plain": [
       "<rx.disposables.anonymousdisposable.AnonymousDisposable at 0x10e3f6358>"
      ]
     },
     "execution_count": 36,
     "metadata": {},
     "output_type": "execute_result"
    }
   ],
   "source": [
    "three_random_ints.subscribe(lambda i: print(\"S2 received {}\".format(i)))"
   ]
  },
  {
   "cell_type": "markdown",
   "metadata": {},
   "source": [
    "## Combining subscribers\n",
    "\n",
    "There are plenty of factories on `Observable`, for instance `zip`, `concat`, `merge` and `latest`. Let's use `interval` here to do something slowly."
   ]
  },
  {
   "cell_type": "code",
   "execution_count": 37,
   "metadata": {},
   "outputs": [
    {
     "data": {
      "text/plain": [
       "<rx.disposables.anonymousdisposable.AnonymousDisposable at 0x10e6bd400>"
      ]
     },
     "execution_count": 37,
     "metadata": {},
     "output_type": "execute_result"
    },
    {
     "name": "stdout",
     "output_type": "stream",
     "text": [
      "('Alpha', 0)\n",
      "('Beta', 1)\n",
      "('Gamma', 2)\n",
      "('Delta', 3)\n",
      "('Epsilon', 4)\n"
     ]
    }
   ],
   "source": [
    "letters = Observable.from_(['Alpha', 'Beta', 'Gamma', 'Delta', 'Epsilon'])\n",
    "intervals = Observable.interval(1000)\n",
    "\n",
    "Observable.zip(letters, intervals, lambda s, i: (s, i)) \\\n",
    "    .subscribe(lambda t: print(t))"
   ]
  },
  {
   "cell_type": "markdown",
   "metadata": {},
   "source": [
    "`flat_map()` is worth learning about. Concurrencty is achieved with `subscribe_on()` and `observe_on()`. I didn't check that bit."
   ]
  },
  {
   "cell_type": "markdown",
   "metadata": {},
   "source": [
    "## Pythonics\n",
    "\n",
    "We can concatenate observable with `+` and repeat them with `*` and slice with `[start:stop:step]`. As in"
   ]
  },
  {
   "cell_type": "code",
   "execution_count": 42,
   "metadata": {},
   "outputs": [
    {
     "data": {
      "text/plain": [
       "<rx.disposables.anonymousdisposable.AnonymousDisposable at 0x10e566588>"
      ]
     },
     "execution_count": 42,
     "metadata": {},
     "output_type": "execute_result"
    },
    {
     "name": "stdout",
     "output_type": "stream",
     "text": [
      "('Beta', 0)\n",
      "('Delta', 1)\n",
      "('Beta', 2)\n",
      "('Delta', 3)\n"
     ]
    }
   ],
   "source": [
    "Observable.zip(letters[1:4:2] * 2, intervals, lambda s, i: (s, i)) \\\n",
    "    .subscribe(lambda t: print(t))"
   ]
  }
 ],
 "metadata": {
  "kernelspec": {
   "display_name": "Python 3",
   "language": "python",
   "name": "python3"
  },
  "language_info": {
   "codemirror_mode": {
    "name": "ipython",
    "version": 3
   },
   "file_extension": ".py",
   "mimetype": "text/x-python",
   "name": "python",
   "nbconvert_exporter": "python",
   "pygments_lexer": "ipython3",
   "version": "3.6.2"
  }
 },
 "nbformat": 4,
 "nbformat_minor": 2
}
