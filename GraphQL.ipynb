{
 "cells": [
  {
   "cell_type": "markdown",
   "metadata": {},
   "source": [
    "# GraphQL"
   ]
  },
  {
   "cell_type": "markdown",
   "metadata": {},
   "source": [
    "GraphQL is this query language thing from Facebook\n",
    "\n",
    "<img style='width: 100px;' src='https://graphql.org/img/logo.svg' />\n",
    "\n",
    "The blurb on the website is\n",
    "\n",
    "> #### A query language for your API\n",
    "> GraphQL is a query language for APIs and a runtime for fulfilling those queries with your existing data. GraphQL provides a complete and understandable description of the data in your API, gives clients the power to ask for exactly what they need and nothing more, makes it easier to evolve APIs over time, and enables powerful developer tools.\n",
    "\n",
    "This post by Alan Johnson titled [Is GraphQL the future?](http://artsy.github.io/blog/2018/05/08/is-graphql-the-future/) rephrases in his own words what he thinks it is.\n",
    "\n",
    "> GraphQL is better known as a query language designed for clients to fetch exactly the data they need. While this is sort of true, I would argue that GraphQL actually fails this test in reality. It’s neither a query language, nor particularly graph-oriented. I argue that it's not a query language because it comes with no native concepts of operators and expressions that build up to queries. You build whatever facilities for specifying and fulfilling queries on your own. Likewise, if your data is a graph, it’s on you to expose that structure. But your requests are, if anything, trees.\n",
    "\n",
    "> Most applications are designed in the form of discrete pages, which are seeded with some tiny chunk of data—say, a key or slug for some domain object—and then perform a cascade of contingent fetches to get the data needed to populate the templates rendered to a user. This is the basis of designing applications driven by URL-based routing and it has been a mainstay of the MVC approach to web application architecture for the past decade.\n",
    "\n",
    "Two classes of types, *scalar* and *objects*, that latter of which type, union and interface. The former are actually returned to the client, the latter are kinds of operations. Johnson explains GraphQL as a tree, so scalars are leaves, and objects are branches. The totality of an API is known as a schema, and it has one root.\n",
    "\n",
    "    # The root query object type\n",
    "    type Query {\n",
    "      artwork(id: ID): Artwork\n",
    "      artist(name: String)\n",
    "      # … a whole bunch more root fields\n",
    "    }\n",
    "\n",
    "    type Artwork {\n",
    "      title: String\n",
    "      artist: Artist\n",
    "    }\n",
    "\n",
    "    type Artist {\n",
    "      name: String\n",
    "    }\n",
    "\n",
    "and an examples query to it\n",
    "\n",
    "    {\n",
    "      artwork(id: \"andy-warhol-campbells-soup-i-black-bean\") {\n",
    "        title\n",
    "        artist {\n",
    "          name\n",
    "        }\n",
    "      }\n",
    "    }\n",
    "\n",
    "He then discusses how GraphQL is a programming language.\n",
    "\n",
    "Every field has a resolver.\n",
    "\n",
    "GraphQL is not Turing-complete, which is important. The resolvers can be.\n",
    "\n",
    "> Subtly, this paradigm is a sharp step away from a whole body of knowledge that models APIs as resources with fixed verbs, which we know as REST. It’s more appropriate to think of GraphQL requests as a script of remote procedure calls (RPC). From this perspective, the design of the schema is a lot less about data modeling than it is a question of how you want your entire API to be traversed. This encourages a verb-oriented mindset.\n",
    "\n",
    "There are verbs, and the default one is kind of fetch, but they're all function calls."
   ]
  },
  {
   "cell_type": "markdown",
   "metadata": {},
   "source": [
    "# In Python\n",
    "\n",
    "The Python implementation of GraphQL is [Graphene](http://graphene-python.org/). [It connects with SQLAlchemy](http://docs.graphene-python.org/projects/sqlalchemy/en/latest/), and there is [Flask-GraphQL](https://github.com/graphql-python/flask-graphql) too. I better first learn GraphQL basics with Graphene, and then move on from there."
   ]
  },
  {
   "cell_type": "markdown",
   "metadata": {},
   "source": [
    "## Graphene"
   ]
  },
  {
   "cell_type": "code",
   "execution_count": 1,
   "metadata": {},
   "outputs": [],
   "source": [
    "import graphene"
   ]
  },
  {
   "cell_type": "markdown",
   "metadata": {},
   "source": [
    "Define an object type"
   ]
  },
  {
   "cell_type": "code",
   "execution_count": 2,
   "metadata": {},
   "outputs": [],
   "source": [
    "class Query(graphene.ObjectType):\n",
    "    hello = graphene.String(name=graphene.String(default_value=\"stranger\"))\n",
    "\n",
    "    def resolve_hello(self, info, name):\n",
    "        return 'Hello ' + name"
   ]
  },
  {
   "cell_type": "markdown",
   "metadata": {},
   "source": [
    "Define a schema, with the type above"
   ]
  },
  {
   "cell_type": "code",
   "execution_count": 3,
   "metadata": {},
   "outputs": [],
   "source": [
    "schema = graphene.Schema(query=Query)"
   ]
  },
  {
   "cell_type": "markdown",
   "metadata": {},
   "source": [
    "Now, a query"
   ]
  },
  {
   "cell_type": "code",
   "execution_count": 4,
   "metadata": {},
   "outputs": [
    {
     "name": "stdout",
     "output_type": "stream",
     "text": [
      "Hello stranger\n"
     ]
    }
   ],
   "source": [
    "result = schema.execute('{ hello }')\n",
    "print(result.data['hello'])"
   ]
  },
  {
   "cell_type": "markdown",
   "metadata": {},
   "source": [
    "Ok. The types reference includes Enums, Scalars, Lists and Non-Null, Interfaces, AbstractTypes, Unions, ObjectTypes, Schema and Mutations."
   ]
  }
 ],
 "metadata": {
  "kernelspec": {
   "display_name": "Python 3",
   "language": "python",
   "name": "python3"
  },
  "language_info": {
   "codemirror_mode": {
    "name": "ipython",
    "version": 3
   },
   "file_extension": ".py",
   "mimetype": "text/x-python",
   "name": "python",
   "nbconvert_exporter": "python",
   "pygments_lexer": "ipython3",
   "version": "3.6.3"
  }
 },
 "nbformat": 4,
 "nbformat_minor": 2
}
