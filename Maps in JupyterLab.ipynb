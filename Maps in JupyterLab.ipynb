{
 "cells": [
  {
   "cell_type": "markdown",
   "metadata": {},
   "source": [
    "# JupyterLab\n",
    "\n",
    "It is a different kind of a thing, less of a document and more of an explorative environment whatever."
   ]
  },
  {
   "cell_type": "markdown",
   "metadata": {},
   "source": [
    "## A world map with Vega\n",
    "\n",
    "JupyterLab has Vega included, so let's download a [Vega specification for an interactive map](https://vega.github.io/vega/examples/world-map/), it's data file, and it should be should be available with JupyterLab's own Vega viewer."
   ]
  },
  {
   "cell_type": "code",
   "execution_count": 1,
   "metadata": {},
   "outputs": [],
   "source": [
    "import os\n",
    "import requests\n",
    "import json\n",
    "import altair"
   ]
  },
  {
   "cell_type": "markdown",
   "metadata": {},
   "source": [
    "Load the Vega specification is it is not here already"
   ]
  },
  {
   "cell_type": "code",
   "execution_count": 2,
   "metadata": {},
   "outputs": [],
   "source": [
    "if not os.path.exists('world-map.vg.json'):\n",
    "    with open('world-map.vg.json', 'w') as fd:\n",
    "        fd.write(requests.get('https://vega.github.io/vega/examples/world-map.vg.json').text)"
   ]
  },
  {
   "cell_type": "markdown",
   "metadata": {},
   "source": [
    "Figure out where the specification has it's data, and if the data isn't available locally already, load it."
   ]
  },
  {
   "cell_type": "code",
   "execution_count": 3,
   "metadata": {},
   "outputs": [],
   "source": [
    "with open('world-map.vg.json') as fd:\n",
    "    world_map = json.loads(fd.read())"
   ]
  },
  {
   "cell_type": "code",
   "execution_count": 4,
   "metadata": {},
   "outputs": [],
   "source": [
    "datapath = world_map['data'][0]['url']"
   ]
  },
  {
   "cell_type": "code",
   "execution_count": 5,
   "metadata": {},
   "outputs": [],
   "source": [
    "if not os.path.isdir(os.path.dirname(datapath)):\n",
    "    os.mkdir(os.path.dirname(datapath))\n",
    "\n",
    "if not os.path.exists(datapath):\n",
    "    with open(datapath, 'w') as fd:\n",
    "        fd.write(requests.get('https://vega.github.io/vega/data/world-110m.json').text)"
   ]
  },
  {
   "cell_type": "markdown",
   "metadata": {},
   "source": [
    "Now JupyterLab recognizes the `.vg.json` file extension and opens it in a Vega viewer. Also the JSON viewer is available via right click and then *Open with…*. I bet it is possible to open them computationally too, like RStudio's `View()`."
   ]
  },
  {
   "cell_type": "code",
   "execution_count": 6,
   "metadata": {},
   "outputs": [
    {
     "ename": "ValidationError",
     "evalue": "{'$schema': 'https://vega.github.io/schema/vega/v4.json', 'width': 900, 'height': 500, 'autosize': 'none', 'encode': {'update': {'fill': {'signal': 'background'}}}, 'signals': [{'name': 'type', 'value': 'mercator', 'bind': {'input': 'select', 'options': ['albers', 'albersUsa', 'azimuthalEqualArea', 'azimuthalEquidistant', 'conicConformal', 'conicEqualArea', 'conicEquidistant', 'equirectangular', 'gnomonic', 'mercator', 'orthographic', 'stereographic', 'transverseMercator']}}, {'name': 'scale', 'value': 150, 'bind': {'input': 'range', 'min': 50, 'max': 2000, 'step': 1}}, {'name': 'rotate0', 'value': 0, 'bind': {'input': 'range', 'min': -180, 'max': 180, 'step': 1}}, {'name': 'rotate1', 'value': 0, 'bind': {'input': 'range', 'min': -90, 'max': 90, 'step': 1}}, {'name': 'rotate2', 'value': 0, 'bind': {'input': 'range', 'min': -180, 'max': 180, 'step': 1}}, {'name': 'center0', 'value': 0, 'bind': {'input': 'range', 'min': -180, 'max': 180, 'step': 1}}, {'name': 'center1', 'value': 0, 'bind': {'input': 'range', 'min': -90, 'max': 90, 'step': 1}}, {'name': 'translate0', 'update': 'width / 2'}, {'name': 'translate1', 'update': 'height / 2'}, {'name': 'graticuleDash', 'value': 0, 'bind': {'input': 'radio', 'options': [0, 3, 5, 10]}}, {'name': 'borderWidth', 'value': 1, 'bind': {'input': 'text'}}, {'name': 'background', 'value': '#ffffff', 'bind': {'input': 'color'}}, {'name': 'invert', 'value': False, 'bind': {'input': 'checkbox'}}], 'projections': [{'name': 'projection', 'type': {'signal': 'type'}, 'scale': {'signal': 'scale'}, 'rotate': [{'signal': 'rotate0'}, {'signal': 'rotate1'}, {'signal': 'rotate2'}], 'center': [{'signal': 'center0'}, {'signal': 'center1'}], 'translate': [{'signal': 'translate0'}, {'signal': 'translate1'}]}], 'data': [{'name': 'world', 'url': 'data/world-110m.json', 'format': {'type': 'topojson', 'feature': 'countries'}}, {'name': 'graticule', 'transform': [{'type': 'graticule'}]}], 'marks': [{'type': 'shape', 'from': {'data': 'graticule'}, 'encode': {'update': {'strokeWidth': {'value': 1}, 'strokeDash': {'signal': '[+graticuleDash, +graticuleDash]'}, 'stroke': {'signal': \"invert ? '#444' : '#ddd'\"}, 'fill': {'value': None}}}, 'transform': [{'type': 'geoshape', 'projection': 'projection'}]}, {'type': 'shape', 'from': {'data': 'world'}, 'encode': {'update': {'strokeWidth': {'signal': '+borderWidth'}, 'stroke': {'signal': \"invert ? '#777' : '#bbb'\"}, 'fill': {'signal': \"invert ? '#fff' : '#000'\"}, 'zindex': {'value': 0}}, 'hover': {'strokeWidth': {'signal': '+borderWidth + 1'}, 'stroke': {'value': 'firebrick'}, 'zindex': {'value': 1}}}, 'transform': [{'type': 'geoshape', 'projection': 'projection'}]}]} is not valid under any of the given schemas\n\nFailed validating 'anyOf' in schema:\n    {'anyOf': [{'$ref': '#/definitions/TopLevelFacetedUnitSpec'},\n               {'$ref': '#/definitions/TopLevelFacetSpec'},\n               {'$ref': '#/definitions/TopLevelLayerSpec'},\n               {'$ref': '#/definitions/TopLevelRepeatSpec'},\n               {'$ref': '#/definitions/TopLevelVConcatSpec'},\n               {'$ref': '#/definitions/TopLevelHConcatSpec'}]}\n\nOn instance:\n    {'$schema': 'https://vega.github.io/schema/vega/v4.json',\n     'autosize': 'none',\n     'data': [{'format': {'feature': 'countries', 'type': 'topojson'},\n               'name': 'world',\n               'url': 'data/world-110m.json'},\n              {'name': 'graticule', 'transform': [{'type': 'graticule'}]}],\n     'encode': {'update': {'fill': {'signal': 'background'}}},\n     'height': 500,\n     'marks': [{'encode': {'update': {'fill': {'value': None},\n                                      'stroke': {'signal': 'invert ? '\n                                                           \"'#444' : \"\n                                                           \"'#ddd'\"},\n                                      'strokeDash': {'signal': '[+graticuleDash, '\n                                                               '+graticuleDash]'},\n                                      'strokeWidth': {'value': 1}}},\n                'from': {'data': 'graticule'},\n                'transform': [{'projection': 'projection',\n                               'type': 'geoshape'}],\n                'type': 'shape'},\n               {'encode': {'hover': {'stroke': {'value': 'firebrick'},\n                                     'strokeWidth': {'signal': '+borderWidth '\n                                                               '+ 1'},\n                                     'zindex': {'value': 1}},\n                           'update': {'fill': {'signal': \"invert ? '#fff' \"\n                                                         \": '#000'\"},\n                                      'stroke': {'signal': 'invert ? '\n                                                           \"'#777' : \"\n                                                           \"'#bbb'\"},\n                                      'strokeWidth': {'signal': '+borderWidth'},\n                                      'zindex': {'value': 0}}},\n                'from': {'data': 'world'},\n                'transform': [{'projection': 'projection',\n                               'type': 'geoshape'}],\n                'type': 'shape'}],\n     'projections': [{'center': [{'signal': 'center0'},\n                                 {'signal': 'center1'}],\n                      'name': 'projection',\n                      'rotate': [{'signal': 'rotate0'},\n                                 {'signal': 'rotate1'},\n                                 {'signal': 'rotate2'}],\n                      'scale': {'signal': 'scale'},\n                      'translate': [{'signal': 'translate0'},\n                                    {'signal': 'translate1'}],\n                      'type': {'signal': 'type'}}],\n     'signals': [{'bind': {'input': 'select',\n                           'options': ['albers',\n                                       'albersUsa',\n                                       'azimuthalEqualArea',\n                                       'azimuthalEquidistant',\n                                       'conicConformal',\n                                       'conicEqualArea',\n                                       'conicEquidistant',\n                                       'equirectangular',\n                                       'gnomonic',\n                                       'mercator',\n                                       'orthographic',\n                                       'stereographic',\n                                       'transverseMercator']},\n                  'name': 'type',\n                  'value': 'mercator'},\n                 {'bind': {'input': 'range',\n                           'max': 2000,\n                           'min': 50,\n                           'step': 1},\n                  'name': 'scale',\n                  'value': 150},\n                 {'bind': {'input': 'range',\n                           'max': 180,\n                           'min': -180,\n                           'step': 1},\n                  'name': 'rotate0',\n                  'value': 0},\n                 {'bind': {'input': 'range',\n                           'max': 90,\n                           'min': -90,\n                           'step': 1},\n                  'name': 'rotate1',\n                  'value': 0},\n                 {'bind': {'input': 'range',\n                           'max': 180,\n                           'min': -180,\n                           'step': 1},\n                  'name': 'rotate2',\n                  'value': 0},\n                 {'bind': {'input': 'range',\n                           'max': 180,\n                           'min': -180,\n                           'step': 1},\n                  'name': 'center0',\n                  'value': 0},\n                 {'bind': {'input': 'range',\n                           'max': 90,\n                           'min': -90,\n                           'step': 1},\n                  'name': 'center1',\n                  'value': 0},\n                 {'name': 'translate0', 'update': 'width / 2'},\n                 {'name': 'translate1', 'update': 'height / 2'},\n                 {'bind': {'input': 'radio', 'options': [0, 3, 5, 10]},\n                  'name': 'graticuleDash',\n                  'value': 0},\n                 {'bind': {'input': 'text'},\n                  'name': 'borderWidth',\n                  'value': 1},\n                 {'bind': {'input': 'color'},\n                  'name': 'background',\n                  'value': '#ffffff'},\n                 {'bind': {'input': 'checkbox'},\n                  'name': 'invert',\n                  'value': False}],\n     'width': 900}",
     "output_type": "error",
     "traceback": [
      "\u001b[0;31m---------------------------------------------------------------------------\u001b[0m",
      "\u001b[0;31mValidationError\u001b[0m                           Traceback (most recent call last)",
      "\u001b[0;32m<ipython-input-6-ae95a28d877b>\u001b[0m in \u001b[0;36m<module>\u001b[0;34m()\u001b[0m\n\u001b[0;32m----> 1\u001b[0;31m \u001b[0maltair\u001b[0m\u001b[0;34m.\u001b[0m\u001b[0mChart\u001b[0m\u001b[0;34m.\u001b[0m\u001b[0mfrom_dict\u001b[0m\u001b[0;34m(\u001b[0m\u001b[0mworld_map\u001b[0m\u001b[0;34m)\u001b[0m\u001b[0;34m\u001b[0m\u001b[0m\n\u001b[0m",
      "\u001b[0;32m/Library/Frameworks/Python.framework/Versions/3.6/lib/python3.6/site-packages/altair/vegalite/v2/api.py\u001b[0m in \u001b[0;36mfrom_dict\u001b[0;34m(cls, dct, validate)\u001b[0m\n\u001b[1;32m   1117\u001b[0m \u001b[0;34m\u001b[0m\u001b[0m\n\u001b[1;32m   1118\u001b[0m         \u001b[0;31m# As a last resort, try using the Root vegalite object\u001b[0m\u001b[0;34m\u001b[0m\u001b[0;34m\u001b[0m\u001b[0m\n\u001b[0;32m-> 1119\u001b[0;31m         \u001b[0;32mreturn\u001b[0m \u001b[0mcore\u001b[0m\u001b[0;34m.\u001b[0m\u001b[0mRoot\u001b[0m\u001b[0;34m.\u001b[0m\u001b[0mfrom_dict\u001b[0m\u001b[0;34m(\u001b[0m\u001b[0mdct\u001b[0m\u001b[0;34m,\u001b[0m \u001b[0mvalidate\u001b[0m\u001b[0;34m)\u001b[0m\u001b[0;34m\u001b[0m\u001b[0m\n\u001b[0m\u001b[1;32m   1120\u001b[0m \u001b[0;34m\u001b[0m\u001b[0m\n\u001b[1;32m   1121\u001b[0m     \u001b[0;32mdef\u001b[0m \u001b[0minteractive\u001b[0m\u001b[0;34m(\u001b[0m\u001b[0mself\u001b[0m\u001b[0;34m,\u001b[0m \u001b[0mname\u001b[0m\u001b[0;34m=\u001b[0m\u001b[0;32mNone\u001b[0m\u001b[0;34m,\u001b[0m \u001b[0mbind_x\u001b[0m\u001b[0;34m=\u001b[0m\u001b[0;32mTrue\u001b[0m\u001b[0;34m,\u001b[0m \u001b[0mbind_y\u001b[0m\u001b[0;34m=\u001b[0m\u001b[0;32mTrue\u001b[0m\u001b[0;34m)\u001b[0m\u001b[0;34m:\u001b[0m\u001b[0;34m\u001b[0m\u001b[0m\n",
      "\u001b[0;32m/Library/Frameworks/Python.framework/Versions/3.6/lib/python3.6/site-packages/altair/utils/schemapi.py\u001b[0m in \u001b[0;36mfrom_dict\u001b[0;34m(cls, dct, validate, _wrapper_classes)\u001b[0m\n\u001b[1;32m    318\u001b[0m         \"\"\"\n\u001b[1;32m    319\u001b[0m         \u001b[0;32mif\u001b[0m \u001b[0mvalidate\u001b[0m\u001b[0;34m:\u001b[0m\u001b[0;34m\u001b[0m\u001b[0m\n\u001b[0;32m--> 320\u001b[0;31m             \u001b[0mcls\u001b[0m\u001b[0;34m.\u001b[0m\u001b[0mvalidate\u001b[0m\u001b[0;34m(\u001b[0m\u001b[0mdct\u001b[0m\u001b[0;34m)\u001b[0m\u001b[0;34m\u001b[0m\u001b[0m\n\u001b[0m\u001b[1;32m    321\u001b[0m         \u001b[0;32mif\u001b[0m \u001b[0m_wrapper_classes\u001b[0m \u001b[0;32mis\u001b[0m \u001b[0;32mNone\u001b[0m\u001b[0;34m:\u001b[0m\u001b[0;34m\u001b[0m\u001b[0m\n\u001b[1;32m    322\u001b[0m             \u001b[0m_wrapper_classes\u001b[0m \u001b[0;34m=\u001b[0m \u001b[0mcls\u001b[0m\u001b[0;34m.\u001b[0m\u001b[0m_default_wrapper_classes\u001b[0m\u001b[0;34m(\u001b[0m\u001b[0;34m)\u001b[0m\u001b[0;34m\u001b[0m\u001b[0m\n",
      "\u001b[0;32m/Library/Frameworks/Python.framework/Versions/3.6/lib/python3.6/site-packages/altair/utils/schemapi.py\u001b[0m in \u001b[0;36mvalidate\u001b[0;34m(cls, instance, schema)\u001b[0m\n\u001b[1;32m    355\u001b[0m             \u001b[0mschema\u001b[0m \u001b[0;34m=\u001b[0m \u001b[0mcls\u001b[0m\u001b[0;34m.\u001b[0m\u001b[0m_schema\u001b[0m\u001b[0;34m\u001b[0m\u001b[0m\n\u001b[1;32m    356\u001b[0m         \u001b[0mresolver\u001b[0m \u001b[0;34m=\u001b[0m \u001b[0mjsonschema\u001b[0m\u001b[0;34m.\u001b[0m\u001b[0mRefResolver\u001b[0m\u001b[0;34m.\u001b[0m\u001b[0mfrom_schema\u001b[0m\u001b[0;34m(\u001b[0m\u001b[0mcls\u001b[0m\u001b[0;34m.\u001b[0m\u001b[0m_rootschema\u001b[0m \u001b[0;32mor\u001b[0m \u001b[0mcls\u001b[0m\u001b[0;34m.\u001b[0m\u001b[0m_schema\u001b[0m\u001b[0;34m)\u001b[0m\u001b[0;34m\u001b[0m\u001b[0m\n\u001b[0;32m--> 357\u001b[0;31m         \u001b[0;32mreturn\u001b[0m \u001b[0mjsonschema\u001b[0m\u001b[0;34m.\u001b[0m\u001b[0mvalidate\u001b[0m\u001b[0;34m(\u001b[0m\u001b[0minstance\u001b[0m\u001b[0;34m,\u001b[0m \u001b[0mschema\u001b[0m\u001b[0;34m,\u001b[0m \u001b[0mresolver\u001b[0m\u001b[0;34m=\u001b[0m\u001b[0mresolver\u001b[0m\u001b[0;34m)\u001b[0m\u001b[0;34m\u001b[0m\u001b[0m\n\u001b[0m\u001b[1;32m    358\u001b[0m \u001b[0;34m\u001b[0m\u001b[0m\n\u001b[1;32m    359\u001b[0m     \u001b[0;34m@\u001b[0m\u001b[0mclassmethod\u001b[0m\u001b[0;34m\u001b[0m\u001b[0m\n",
      "\u001b[0;32m/Library/Frameworks/Python.framework/Versions/3.6/lib/python3.6/site-packages/jsonschema/validators.py\u001b[0m in \u001b[0;36mvalidate\u001b[0;34m(instance, schema, cls, *args, **kwargs)\u001b[0m\n\u001b[1;32m    539\u001b[0m         \u001b[0mcls\u001b[0m \u001b[0;34m=\u001b[0m \u001b[0mvalidator_for\u001b[0m\u001b[0;34m(\u001b[0m\u001b[0mschema\u001b[0m\u001b[0;34m)\u001b[0m\u001b[0;34m\u001b[0m\u001b[0m\n\u001b[1;32m    540\u001b[0m     \u001b[0mcls\u001b[0m\u001b[0;34m.\u001b[0m\u001b[0mcheck_schema\u001b[0m\u001b[0;34m(\u001b[0m\u001b[0mschema\u001b[0m\u001b[0;34m)\u001b[0m\u001b[0;34m\u001b[0m\u001b[0m\n\u001b[0;32m--> 541\u001b[0;31m     \u001b[0mcls\u001b[0m\u001b[0;34m(\u001b[0m\u001b[0mschema\u001b[0m\u001b[0;34m,\u001b[0m \u001b[0;34m*\u001b[0m\u001b[0margs\u001b[0m\u001b[0;34m,\u001b[0m \u001b[0;34m**\u001b[0m\u001b[0mkwargs\u001b[0m\u001b[0;34m)\u001b[0m\u001b[0;34m.\u001b[0m\u001b[0mvalidate\u001b[0m\u001b[0;34m(\u001b[0m\u001b[0minstance\u001b[0m\u001b[0;34m)\u001b[0m\u001b[0;34m\u001b[0m\u001b[0m\n\u001b[0m",
      "\u001b[0;32m/Library/Frameworks/Python.framework/Versions/3.6/lib/python3.6/site-packages/jsonschema/validators.py\u001b[0m in \u001b[0;36mvalidate\u001b[0;34m(self, *args, **kwargs)\u001b[0m\n\u001b[1;32m    128\u001b[0m         \u001b[0;32mdef\u001b[0m \u001b[0mvalidate\u001b[0m\u001b[0;34m(\u001b[0m\u001b[0mself\u001b[0m\u001b[0;34m,\u001b[0m \u001b[0;34m*\u001b[0m\u001b[0margs\u001b[0m\u001b[0;34m,\u001b[0m \u001b[0;34m**\u001b[0m\u001b[0mkwargs\u001b[0m\u001b[0;34m)\u001b[0m\u001b[0;34m:\u001b[0m\u001b[0;34m\u001b[0m\u001b[0m\n\u001b[1;32m    129\u001b[0m             \u001b[0;32mfor\u001b[0m \u001b[0merror\u001b[0m \u001b[0;32min\u001b[0m \u001b[0mself\u001b[0m\u001b[0;34m.\u001b[0m\u001b[0miter_errors\u001b[0m\u001b[0;34m(\u001b[0m\u001b[0;34m*\u001b[0m\u001b[0margs\u001b[0m\u001b[0;34m,\u001b[0m \u001b[0;34m**\u001b[0m\u001b[0mkwargs\u001b[0m\u001b[0;34m)\u001b[0m\u001b[0;34m:\u001b[0m\u001b[0;34m\u001b[0m\u001b[0m\n\u001b[0;32m--> 130\u001b[0;31m                 \u001b[0;32mraise\u001b[0m \u001b[0merror\u001b[0m\u001b[0;34m\u001b[0m\u001b[0m\n\u001b[0m\u001b[1;32m    131\u001b[0m \u001b[0;34m\u001b[0m\u001b[0m\n\u001b[1;32m    132\u001b[0m         \u001b[0;32mdef\u001b[0m \u001b[0mis_type\u001b[0m\u001b[0;34m(\u001b[0m\u001b[0mself\u001b[0m\u001b[0;34m,\u001b[0m \u001b[0minstance\u001b[0m\u001b[0;34m,\u001b[0m \u001b[0mtype\u001b[0m\u001b[0;34m)\u001b[0m\u001b[0;34m:\u001b[0m\u001b[0;34m\u001b[0m\u001b[0m\n",
      "\u001b[0;31mValidationError\u001b[0m: {'$schema': 'https://vega.github.io/schema/vega/v4.json', 'width': 900, 'height': 500, 'autosize': 'none', 'encode': {'update': {'fill': {'signal': 'background'}}}, 'signals': [{'name': 'type', 'value': 'mercator', 'bind': {'input': 'select', 'options': ['albers', 'albersUsa', 'azimuthalEqualArea', 'azimuthalEquidistant', 'conicConformal', 'conicEqualArea', 'conicEquidistant', 'equirectangular', 'gnomonic', 'mercator', 'orthographic', 'stereographic', 'transverseMercator']}}, {'name': 'scale', 'value': 150, 'bind': {'input': 'range', 'min': 50, 'max': 2000, 'step': 1}}, {'name': 'rotate0', 'value': 0, 'bind': {'input': 'range', 'min': -180, 'max': 180, 'step': 1}}, {'name': 'rotate1', 'value': 0, 'bind': {'input': 'range', 'min': -90, 'max': 90, 'step': 1}}, {'name': 'rotate2', 'value': 0, 'bind': {'input': 'range', 'min': -180, 'max': 180, 'step': 1}}, {'name': 'center0', 'value': 0, 'bind': {'input': 'range', 'min': -180, 'max': 180, 'step': 1}}, {'name': 'center1', 'value': 0, 'bind': {'input': 'range', 'min': -90, 'max': 90, 'step': 1}}, {'name': 'translate0', 'update': 'width / 2'}, {'name': 'translate1', 'update': 'height / 2'}, {'name': 'graticuleDash', 'value': 0, 'bind': {'input': 'radio', 'options': [0, 3, 5, 10]}}, {'name': 'borderWidth', 'value': 1, 'bind': {'input': 'text'}}, {'name': 'background', 'value': '#ffffff', 'bind': {'input': 'color'}}, {'name': 'invert', 'value': False, 'bind': {'input': 'checkbox'}}], 'projections': [{'name': 'projection', 'type': {'signal': 'type'}, 'scale': {'signal': 'scale'}, 'rotate': [{'signal': 'rotate0'}, {'signal': 'rotate1'}, {'signal': 'rotate2'}], 'center': [{'signal': 'center0'}, {'signal': 'center1'}], 'translate': [{'signal': 'translate0'}, {'signal': 'translate1'}]}], 'data': [{'name': 'world', 'url': 'data/world-110m.json', 'format': {'type': 'topojson', 'feature': 'countries'}}, {'name': 'graticule', 'transform': [{'type': 'graticule'}]}], 'marks': [{'type': 'shape', 'from': {'data': 'graticule'}, 'encode': {'update': {'strokeWidth': {'value': 1}, 'strokeDash': {'signal': '[+graticuleDash, +graticuleDash]'}, 'stroke': {'signal': \"invert ? '#444' : '#ddd'\"}, 'fill': {'value': None}}}, 'transform': [{'type': 'geoshape', 'projection': 'projection'}]}, {'type': 'shape', 'from': {'data': 'world'}, 'encode': {'update': {'strokeWidth': {'signal': '+borderWidth'}, 'stroke': {'signal': \"invert ? '#777' : '#bbb'\"}, 'fill': {'signal': \"invert ? '#fff' : '#000'\"}, 'zindex': {'value': 0}}, 'hover': {'strokeWidth': {'signal': '+borderWidth + 1'}, 'stroke': {'value': 'firebrick'}, 'zindex': {'value': 1}}}, 'transform': [{'type': 'geoshape', 'projection': 'projection'}]}]} is not valid under any of the given schemas\n\nFailed validating 'anyOf' in schema:\n    {'anyOf': [{'$ref': '#/definitions/TopLevelFacetedUnitSpec'},\n               {'$ref': '#/definitions/TopLevelFacetSpec'},\n               {'$ref': '#/definitions/TopLevelLayerSpec'},\n               {'$ref': '#/definitions/TopLevelRepeatSpec'},\n               {'$ref': '#/definitions/TopLevelVConcatSpec'},\n               {'$ref': '#/definitions/TopLevelHConcatSpec'}]}\n\nOn instance:\n    {'$schema': 'https://vega.github.io/schema/vega/v4.json',\n     'autosize': 'none',\n     'data': [{'format': {'feature': 'countries', 'type': 'topojson'},\n               'name': 'world',\n               'url': 'data/world-110m.json'},\n              {'name': 'graticule', 'transform': [{'type': 'graticule'}]}],\n     'encode': {'update': {'fill': {'signal': 'background'}}},\n     'height': 500,\n     'marks': [{'encode': {'update': {'fill': {'value': None},\n                                      'stroke': {'signal': 'invert ? '\n                                                           \"'#444' : \"\n                                                           \"'#ddd'\"},\n                                      'strokeDash': {'signal': '[+graticuleDash, '\n                                                               '+graticuleDash]'},\n                                      'strokeWidth': {'value': 1}}},\n                'from': {'data': 'graticule'},\n                'transform': [{'projection': 'projection',\n                               'type': 'geoshape'}],\n                'type': 'shape'},\n               {'encode': {'hover': {'stroke': {'value': 'firebrick'},\n                                     'strokeWidth': {'signal': '+borderWidth '\n                                                               '+ 1'},\n                                     'zindex': {'value': 1}},\n                           'update': {'fill': {'signal': \"invert ? '#fff' \"\n                                                         \": '#000'\"},\n                                      'stroke': {'signal': 'invert ? '\n                                                           \"'#777' : \"\n                                                           \"'#bbb'\"},\n                                      'strokeWidth': {'signal': '+borderWidth'},\n                                      'zindex': {'value': 0}}},\n                'from': {'data': 'world'},\n                'transform': [{'projection': 'projection',\n                               'type': 'geoshape'}],\n                'type': 'shape'}],\n     'projections': [{'center': [{'signal': 'center0'},\n                                 {'signal': 'center1'}],\n                      'name': 'projection',\n                      'rotate': [{'signal': 'rotate0'},\n                                 {'signal': 'rotate1'},\n                                 {'signal': 'rotate2'}],\n                      'scale': {'signal': 'scale'},\n                      'translate': [{'signal': 'translate0'},\n                                    {'signal': 'translate1'}],\n                      'type': {'signal': 'type'}}],\n     'signals': [{'bind': {'input': 'select',\n                           'options': ['albers',\n                                       'albersUsa',\n                                       'azimuthalEqualArea',\n                                       'azimuthalEquidistant',\n                                       'conicConformal',\n                                       'conicEqualArea',\n                                       'conicEquidistant',\n                                       'equirectangular',\n                                       'gnomonic',\n                                       'mercator',\n                                       'orthographic',\n                                       'stereographic',\n                                       'transverseMercator']},\n                  'name': 'type',\n                  'value': 'mercator'},\n                 {'bind': {'input': 'range',\n                           'max': 2000,\n                           'min': 50,\n                           'step': 1},\n                  'name': 'scale',\n                  'value': 150},\n                 {'bind': {'input': 'range',\n                           'max': 180,\n                           'min': -180,\n                           'step': 1},\n                  'name': 'rotate0',\n                  'value': 0},\n                 {'bind': {'input': 'range',\n                           'max': 90,\n                           'min': -90,\n                           'step': 1},\n                  'name': 'rotate1',\n                  'value': 0},\n                 {'bind': {'input': 'range',\n                           'max': 180,\n                           'min': -180,\n                           'step': 1},\n                  'name': 'rotate2',\n                  'value': 0},\n                 {'bind': {'input': 'range',\n                           'max': 180,\n                           'min': -180,\n                           'step': 1},\n                  'name': 'center0',\n                  'value': 0},\n                 {'bind': {'input': 'range',\n                           'max': 90,\n                           'min': -90,\n                           'step': 1},\n                  'name': 'center1',\n                  'value': 0},\n                 {'name': 'translate0', 'update': 'width / 2'},\n                 {'name': 'translate1', 'update': 'height / 2'},\n                 {'bind': {'input': 'radio', 'options': [0, 3, 5, 10]},\n                  'name': 'graticuleDash',\n                  'value': 0},\n                 {'bind': {'input': 'text'},\n                  'name': 'borderWidth',\n                  'value': 1},\n                 {'bind': {'input': 'color'},\n                  'name': 'background',\n                  'value': '#ffffff'},\n                 {'bind': {'input': 'checkbox'},\n                  'name': 'invert',\n                  'value': False}],\n     'width': 900}"
     ]
    }
   ],
   "source": [
    "altair.Chart.from_dict(world_map)"
   ]
  },
  {
   "cell_type": "code",
   "execution_count": null,
   "metadata": {},
   "outputs": [],
   "source": [
    "world_map"
   ]
  },
  {
   "cell_type": "markdown",
   "metadata": {},
   "source": [
    "# ipyleaflet for Jupyter Notebooks\n",
    "\n",
    "For Jupyter Notebooks, we can use `ipyleaflet` for mapping tasks. Check that it's available with `jupyter labextension list` or `jupyter nbextension list`, whichever environment you are working in."
   ]
  },
  {
   "cell_type": "code",
   "execution_count": 7,
   "metadata": {},
   "outputs": [
    {
     "name": "stdout",
     "output_type": "stream",
     "text": [
      "JupyterLab v0.32.1\n",
      "Known labextensions:\n",
      "   app dir: /Library/Frameworks/Python.framework/Versions/3.6/share/jupyter/lab\n",
      "@jupyter-widgets/jupyterlab-manager\n",
      "        @jupyter-widgets/jupyterlab-manager v0.35.0 \u001b[32m enabled \u001b[0m \u001b[32mOK\u001b[0m\n",
      "jupyter-leaflet\n",
      "        jupyter-leaflet v0.8.1 \u001b[32m enabled \u001b[0m \u001b[32mOK\u001b[0m\n"
     ]
    }
   ],
   "source": [
    "!jupyter labextension list"
   ]
  },
  {
   "cell_type": "code",
   "execution_count": 8,
   "metadata": {},
   "outputs": [
    {
     "name": "stdout",
     "output_type": "stream",
     "text": [
      "Known nbextensions:\n",
      "  config dir: /Users/maco/.jupyter/nbconfig\n",
      "    notebook section\n",
      "      rise/main \u001b[32m enabled \u001b[0m\n",
      "      - Validating: \u001b[32mOK\u001b[0m\n",
      "      jupyter-js-widgets/extension \u001b[32m enabled \u001b[0m\n",
      "      - Validating: \u001b[32mOK\u001b[0m\n",
      "  config dir: /Library/Frameworks/Python.framework/Versions/3.6/etc/jupyter/nbconfig\n",
      "    notebook section\n",
      "      jupyter-leaflet/extension \u001b[32m enabled \u001b[0m\n",
      "      - Validating: \u001b[32mOK\u001b[0m\n",
      "      rise/main \u001b[32m enabled \u001b[0m\n",
      "      - Validating: \u001b[32mOK\u001b[0m\n",
      "      jupyter-vega/index \u001b[32m enabled \u001b[0m\n",
      "      - Validating: \u001b[32mOK\u001b[0m\n",
      "      jupyter-vega3/index \u001b[32m enabled \u001b[0m\n",
      "      - Validating: \u001b[32mOK\u001b[0m\n",
      "      jupyter-js-widgets/extension \u001b[32m enabled \u001b[0m\n",
      "      - Validating: \u001b[32mOK\u001b[0m\n"
     ]
    }
   ],
   "source": [
    "!jupyter nbextension list"
   ]
  },
  {
   "cell_type": "code",
   "execution_count": 9,
   "metadata": {},
   "outputs": [],
   "source": [
    "import ipyleaflet"
   ]
  },
  {
   "cell_type": "markdown",
   "metadata": {},
   "source": [
    "Just a generic example map, not related to the Vega thing above."
   ]
  },
  {
   "cell_type": "code",
   "execution_count": 10,
   "metadata": {},
   "outputs": [
    {
     "data": {
      "application/vnd.jupyter.widget-view+json": {
       "model_id": "543cbb57b76947579fc7c4df5b663e43",
       "version_major": 2,
       "version_minor": 0
      },
      "text/plain": [
       "Map(basemap={'url': 'http://{s}.tile.openstreetmap.se/hydda/full/{z}/{x}/{y}.png', 'max_zoom': 18, 'attributio…"
      ]
     },
     "metadata": {},
     "output_type": "display_data"
    }
   ],
   "source": [
    "m = ipyleaflet.Map(center=(52, 10), zoom=8, basemap=ipyleaflet.basemaps.Hydda.Full)\n",
    "m"
   ]
  }
 ],
 "metadata": {
  "kernelspec": {
   "display_name": "Python 3",
   "language": "python",
   "name": "python3"
  },
  "language_info": {
   "codemirror_mode": {
    "name": "ipython",
    "version": 3
   },
   "file_extension": ".py",
   "mimetype": "text/x-python",
   "name": "python",
   "nbconvert_exporter": "python",
   "pygments_lexer": "ipython3",
   "version": "3.6.3"
  }
 },
 "nbformat": 4,
 "nbformat_minor": 2
}
