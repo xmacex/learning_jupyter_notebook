{
 "cells": [
  {
   "cell_type": "markdown",
   "metadata": {
    "slideshow": {
     "slide_type": "slide"
    }
   },
   "source": [
    "# D3 in Jupyter Notebooks\n",
    "\n",
    "Ok so what does it take – and mean – to have [D3](https://d3js.org) in Notebooks?"
   ]
  },
  {
   "cell_type": "markdown",
   "metadata": {
    "slideshow": {
     "slide_type": "slide"
    }
   },
   "source": [
    "# Getting D3"
   ]
  },
  {
   "cell_type": "markdown",
   "metadata": {
    "slideshow": {
     "slide_type": "slide"
    }
   },
   "source": [
    "## Just source it\n",
    "\n",
    "We might source it from `https://d3js.org/d3.v4.min.js`"
   ]
  },
  {
   "cell_type": "markdown",
   "metadata": {
    "slideshow": {
     "slide_type": "fragment"
    }
   },
   "source": [
    "<script src=\"https://d3js.org/d3.v4.min.js\"></script>"
   ]
  },
  {
   "cell_type": "markdown",
   "metadata": {
    "slideshow": {
     "slide_type": "fragment"
    }
   },
   "source": [
    "Meh that got sanitized."
   ]
  },
  {
   "cell_type": "markdown",
   "metadata": {
    "slideshow": {
     "slide_type": "slide"
    }
   },
   "source": [
    "## Source with jQuery"
   ]
  },
  {
   "cell_type": "markdown",
   "metadata": {
    "slideshow": {
     "slide_type": "-"
    }
   },
   "source": [
    "First check out if any `jQuery.getScript()` works."
   ]
  },
  {
   "cell_type": "code",
   "execution_count": 1,
   "metadata": {
    "slideshow": {
     "slide_type": "subslide"
    }
   },
   "outputs": [
    {
     "data": {
      "application/javascript": [
       "jQuery.getScript(\"getscript.js\", function(script, textStatus, jqxhr) {\n",
       "    console.log(\"load\", textStatus, jqxhr.status);\n",
       "    getscript();\n",
       "})"
      ],
      "text/plain": [
       "<IPython.core.display.Javascript object>"
      ]
     },
     "metadata": {},
     "output_type": "display_data"
    }
   ],
   "source": [
    "%%javascript\n",
    "jQuery.getScript(\"getscript.js\", function(script, textStatus, jqxhr) {\n",
    "    console.log(\"load\", textStatus, jqxhr.status);\n",
    "    getscript();\n",
    "})"
   ]
  },
  {
   "cell_type": "markdown",
   "metadata": {
    "slideshow": {
     "slide_type": "fragment"
    }
   },
   "source": [
    "Ok that worked, so what about getting D3 over the network?"
   ]
  },
  {
   "cell_type": "code",
   "execution_count": 2,
   "metadata": {
    "slideshow": {
     "slide_type": "subslide"
    }
   },
   "outputs": [
    {
     "data": {
      "application/javascript": [
       "jQuery.getScript(\"https://d3js.org/d3.v4.min.js\", function(script, textStatus, jqxhr) {\n",
       "    console.log(\"load\", textStatus, jqxhr.status);\n",
       "    console.log(\"D3 version\", d3.version);\n",
       "})"
      ],
      "text/plain": [
       "<IPython.core.display.Javascript object>"
      ]
     },
     "metadata": {},
     "output_type": "display_data"
    }
   ],
   "source": [
    "%%javascript\n",
    "jQuery.getScript(\"https://d3js.org/d3.v4.min.js\", function(script, textStatus, jqxhr) {\n",
    "    console.log(\"load\", textStatus, jqxhr.status);\n",
    "    console.log(\"D3 version\", d3.version);\n",
    "})"
   ]
  },
  {
   "cell_type": "markdown",
   "metadata": {
    "slideshow": {
     "slide_type": "fragment"
    }
   },
   "source": [
    "Appears to have gotten sanitized."
   ]
  },
  {
   "cell_type": "markdown",
   "metadata": {
    "slideshow": {
     "slide_type": "slide"
    }
   },
   "source": [
    "# What about `require`\n",
    "\n",
    "We have [RequireJS](requirejs.org) available here."
   ]
  },
  {
   "cell_type": "code",
   "execution_count": 3,
   "metadata": {
    "slideshow": {
     "slide_type": "fragment"
    }
   },
   "outputs": [
    {
     "data": {
      "application/javascript": [
       "alert(\"require version \" + require.version)"
      ],
      "text/plain": [
       "<IPython.core.display.Javascript object>"
      ]
     },
     "metadata": {},
     "output_type": "display_data"
    }
   ],
   "source": [
    "%%javascript\n",
    "alert(\"require version \" + require.version)"
   ]
  },
  {
   "cell_type": "code",
   "execution_count": 6,
   "metadata": {
    "slideshow": {
     "slide_type": "subslide"
    }
   },
   "outputs": [
    {
     "data": {
      "application/javascript": [
       "requirejs(['https://d3js.org/d3.v4.min.js'], function(d3) {\n",
       "  console.log(d3.version)\n",
       "})"
      ],
      "text/plain": [
       "<IPython.core.display.Javascript object>"
      ]
     },
     "metadata": {},
     "output_type": "display_data"
    }
   ],
   "source": [
    "%%javascript\n",
    "requirejs(['https://d3js.org/d3.v4.min.js'], function(d3) {\n",
    "  console.log(d3.version)\n",
    "})"
   ]
  },
  {
   "cell_type": "markdown",
   "metadata": {
    "slideshow": {
     "slide_type": "subslide"
    }
   },
   "source": [
    "Ok that worked. So, let's see action"
   ]
  },
  {
   "cell_type": "markdown",
   "metadata": {
    "slideshow": {
     "slide_type": "fragment"
    }
   },
   "source": [
    "<div id=\"hello\">here is a div</div>"
   ]
  },
  {
   "cell_type": "code",
   "execution_count": 7,
   "metadata": {
    "slideshow": {
     "slide_type": "-"
    }
   },
   "outputs": [
    {
     "data": {
      "application/javascript": [
       "// A synthetic data source\n",
       "function randn(min, max, n) {\n",
       "    var rands = [];\n",
       "    for(var i = 0; i < n; i++) {\n",
       "        var r = min + Math.floor((max - min) * Math.random());\n",
       "        // var r = (Math.floor(Math.random() * 10))\n",
       "        rands.push(r)\n",
       "    }\n",
       "    return rands;\n",
       "}\n",
       "\n",
       "// Get D3, and run stuff\n",
       "requirejs(['https://d3js.org/d3.v4.min.js'], function(d3) {\n",
       "    // Clear the container div\n",
       "    jQuery(\"div#hello\")[0].innerHTML = \"\";\n",
       "    var width = 600;\n",
       "    var height = 60;\n",
       "\n",
       "    var svg = d3.select(\"div#hello\").append(\"svg\")\n",
       "        .attr(\"width\", width)\n",
       "        .attr(\"height\", height)\n",
       "        \n",
       "    var data = randn(3, 20, 10);\n",
       "    console.log(data)\n",
       "    \n",
       "    function x(i) {\n",
       "        return (data.reduce(function(a, b) {return Math.max(a, b)})) + (i * width / data.length)\n",
       "    }\n",
       "    \n",
       "    svg.selectAll(\"circle\")\n",
       "        .data(data)\n",
       "        .enter()\n",
       "        .append(\"circle\")\n",
       "        .attr(\"cx\", function(d, i) {return x(i)})\n",
       "        .attr(\"cy\", 30)\n",
       "        .attr(\"r\", function(d) {return d})\n",
       "        .style(\"fill\", \"lightgreen\")\n",
       "    \n",
       "    console.log(svg)\n",
       "})"
      ],
      "text/plain": [
       "<IPython.core.display.Javascript object>"
      ]
     },
     "metadata": {},
     "output_type": "display_data"
    }
   ],
   "source": [
    "%%javascript\n",
    "// A synthetic data source\n",
    "function randn(min, max, n) {\n",
    "    var rands = [];\n",
    "    for(var i = 0; i < n; i++) {\n",
    "        var r = min + Math.floor((max - min) * Math.random());\n",
    "        // var r = (Math.floor(Math.random() * 10))\n",
    "        rands.push(r)\n",
    "    }\n",
    "    return rands;\n",
    "}\n",
    "\n",
    "// Get D3, and run stuff\n",
    "requirejs(['https://d3js.org/d3.v4.min.js'], function(d3) {\n",
    "    // Clear the container div\n",
    "    jQuery(\"div#hello\")[0].innerHTML = \"\";\n",
    "    var width = 600;\n",
    "    var height = 60;\n",
    "\n",
    "    var svg = d3.select(\"div#hello\").append(\"svg\")\n",
    "        .attr(\"width\", width)\n",
    "        .attr(\"height\", height)\n",
    "        \n",
    "    var data = randn(3, 20, 10);\n",
    "    console.log(data)\n",
    "    \n",
    "    function x(i) {\n",
    "        return (data.reduce(function(a, b) {return Math.max(a, b)})) + (i * width / data.length)\n",
    "    }\n",
    "    \n",
    "    svg.selectAll(\"circle\")\n",
    "        .data(data)\n",
    "        .enter()\n",
    "        .append(\"circle\")\n",
    "        .attr(\"cx\", function(d, i) {return x(i)})\n",
    "        .attr(\"cy\", 30)\n",
    "        .attr(\"r\", function(d) {return d})\n",
    "        .style(\"fill\", \"lightgreen\")\n",
    "    \n",
    "    console.log(svg)\n",
    "})"
   ]
  },
  {
   "cell_type": "markdown",
   "metadata": {
    "slideshow": {
     "slide_type": "subslide"
    }
   },
   "source": [
    "What about [a force layout](https://bl.ocks.org/mbostock/2675ff61ea5e063ede2b5d63c08020c7), would that work?"
   ]
  },
  {
   "cell_type": "markdown",
   "metadata": {
    "slideshow": {
     "slide_type": "fragment"
    }
   },
   "source": [
    "<div id=\"graph\"></div>"
   ]
  },
  {
   "cell_type": "code",
   "execution_count": 8,
   "metadata": {
    "slideshow": {
     "slide_type": "fragment"
    }
   },
   "outputs": [
    {
     "data": {
      "application/javascript": [
       "requirejs(['https://d3js.org/d3.v4.min.js'], function(d3) {\n",
       "    // Clear the container div\n",
       "    jQuery(\"div#graph\")[0].innerHTML = \"\";\n",
       "    \n",
       "    var svg = d3.select(\"div#graph\").append(\"svg\")\n",
       "        .attr(\"width\", jQuery(\"div#graph\").parent().width())\n",
       "        .attr(\"height\", 250)\n",
       "        .style(\"background\", \"LavenderBlush\");\n",
       "    var width = +svg.attr(\"width\");\n",
       "    var height = +svg.attr(\"height\");\n",
       "    \n",
       "    var color = d3.scaleOrdinal(d3.schemeCategory10);\n",
       "    \n",
       "    var simulation = d3.forceSimulation()\n",
       "        .force(\"link\", d3.forceLink().id(function(d) { return d.id; }))\n",
       "        .force(\"charge\", d3.forceManyBody().strength(-5))\n",
       "        .force(\"center\", d3.forceCenter(width / 2, height / 2));\n",
       "\n",
       "    d3.json(\"miserables.json\", function(error, graph) {\n",
       "      if (error) throw error;\n",
       "\n",
       "      var link = svg.append(\"g\")\n",
       "          .attr(\"class\", \"links\")\n",
       "        .selectAll(\"line\")\n",
       "        .data(graph.links)\n",
       "        .enter().append(\"line\")\n",
       "        .style(\"stroke\", \"#000\")\n",
       "        .style(\"stroke-opacity\", 0.1);\n",
       "\n",
       "      var node = svg.append(\"g\")\n",
       "          .attr(\"class\", \"nodes\")\n",
       "        .selectAll(\"circle\")\n",
       "        .data(graph.nodes)\n",
       "        .enter().append(\"circle\")\n",
       "          .attr(\"r\", 3)\n",
       "          .style(\"stroke\", function(d) {return color(+d.group)})\n",
       "          .style(\"stroke-width\", 10)\n",
       "          .style(\"stroke-opacity\", 0.3)\n",
       "          .call(d3.drag()\n",
       "              .on(\"start\", dragstarted)\n",
       "              .on(\"drag\", dragged)\n",
       "              .on(\"end\", dragended));\n",
       "\n",
       "      node.append(\"title\")\n",
       "          .text(function(d) { return d.id; });\n",
       "\n",
       "      simulation\n",
       "          .nodes(graph.nodes)\n",
       "          .on(\"tick\", ticked);\n",
       "\n",
       "      simulation.force(\"link\")\n",
       "          .links(graph.links);\n",
       "\n",
       "      function ticked() {\n",
       "        link\n",
       "            .attr(\"x1\", function(d) { return d.source.x; })\n",
       "            .attr(\"y1\", function(d) { return d.source.y; })\n",
       "            .attr(\"x2\", function(d) { return d.target.x; })\n",
       "            .attr(\"y2\", function(d) { return d.target.y; });\n",
       "\n",
       "        node\n",
       "            .attr(\"cx\", function(d) { return d.x; })\n",
       "            .attr(\"cy\", function(d) { return d.y; });\n",
       "      }\n",
       "    });\n",
       "\n",
       "    function dragstarted(d) {\n",
       "      if (!d3.event.active) simulation.alphaTarget(0.3).restart();\n",
       "      d.fx = d.x;\n",
       "      d.fy = d.y;\n",
       "    }\n",
       "\n",
       "    function dragged(d) {\n",
       "      d.fx = d3.event.x;\n",
       "      d.fy = d3.event.y;\n",
       "    }\n",
       "\n",
       "    function dragended(d) {\n",
       "      if (!d3.event.active) simulation.alphaTarget(0);\n",
       "      d.fx = null;\n",
       "      d.fy = null;\n",
       "    }\n",
       "})"
      ],
      "text/plain": [
       "<IPython.core.display.Javascript object>"
      ]
     },
     "metadata": {},
     "output_type": "display_data"
    }
   ],
   "source": [
    "%%javascript\n",
    "requirejs(['https://d3js.org/d3.v4.min.js'], function(d3) {\n",
    "    // Clear the container div\n",
    "    jQuery(\"div#graph\")[0].innerHTML = \"\";\n",
    "    \n",
    "    var svg = d3.select(\"div#graph\").append(\"svg\")\n",
    "        .attr(\"width\", jQuery(\"div#graph\").parent().width())\n",
    "        .attr(\"height\", 250)\n",
    "        .style(\"background\", \"LavenderBlush\");\n",
    "    var width = +svg.attr(\"width\");\n",
    "    var height = +svg.attr(\"height\");\n",
    "    \n",
    "    var color = d3.scaleOrdinal(d3.schemeCategory10);\n",
    "    \n",
    "    var simulation = d3.forceSimulation()\n",
    "        .force(\"link\", d3.forceLink().id(function(d) { return d.id; }))\n",
    "        .force(\"charge\", d3.forceManyBody().strength(-5))\n",
    "        .force(\"center\", d3.forceCenter(width / 2, height / 2));\n",
    "\n",
    "    d3.json(\"miserables.json\", function(error, graph) {\n",
    "      if (error) throw error;\n",
    "\n",
    "      var link = svg.append(\"g\")\n",
    "          .attr(\"class\", \"links\")\n",
    "        .selectAll(\"line\")\n",
    "        .data(graph.links)\n",
    "        .enter().append(\"line\")\n",
    "        .style(\"stroke\", \"#000\")\n",
    "        .style(\"stroke-opacity\", 0.1);\n",
    "\n",
    "      var node = svg.append(\"g\")\n",
    "          .attr(\"class\", \"nodes\")\n",
    "        .selectAll(\"circle\")\n",
    "        .data(graph.nodes)\n",
    "        .enter().append(\"circle\")\n",
    "          .attr(\"r\", 3)\n",
    "          .style(\"stroke\", function(d) {return color(+d.group)})\n",
    "          .style(\"stroke-width\", 10)\n",
    "          .style(\"stroke-opacity\", 0.3)\n",
    "          .call(d3.drag()\n",
    "              .on(\"start\", dragstarted)\n",
    "              .on(\"drag\", dragged)\n",
    "              .on(\"end\", dragended));\n",
    "\n",
    "      node.append(\"title\")\n",
    "          .text(function(d) { return d.id; });\n",
    "\n",
    "      simulation\n",
    "          .nodes(graph.nodes)\n",
    "          .on(\"tick\", ticked);\n",
    "\n",
    "      simulation.force(\"link\")\n",
    "          .links(graph.links);\n",
    "\n",
    "      function ticked() {\n",
    "        link\n",
    "            .attr(\"x1\", function(d) { return d.source.x; })\n",
    "            .attr(\"y1\", function(d) { return d.source.y; })\n",
    "            .attr(\"x2\", function(d) { return d.target.x; })\n",
    "            .attr(\"y2\", function(d) { return d.target.y; });\n",
    "\n",
    "        node\n",
    "            .attr(\"cx\", function(d) { return d.x; })\n",
    "            .attr(\"cy\", function(d) { return d.y; });\n",
    "      }\n",
    "    });\n",
    "\n",
    "    function dragstarted(d) {\n",
    "      if (!d3.event.active) simulation.alphaTarget(0.3).restart();\n",
    "      d.fx = d.x;\n",
    "      d.fy = d.y;\n",
    "    }\n",
    "\n",
    "    function dragged(d) {\n",
    "      d.fx = d3.event.x;\n",
    "      d.fy = d3.event.y;\n",
    "    }\n",
    "\n",
    "    function dragended(d) {\n",
    "      if (!d3.event.active) simulation.alphaTarget(0);\n",
    "      d.fx = null;\n",
    "      d.fy = null;\n",
    "    }\n",
    "})"
   ]
  },
  {
   "cell_type": "markdown",
   "metadata": {
    "slideshow": {
     "slide_type": "slide"
    }
   },
   "source": [
    "## py_d3\n",
    "\n",
    "There is a the Notebook module [py_d3](https://github.com/ResidentMario/py_d3) which does it too."
   ]
  },
  {
   "cell_type": "markdown",
   "metadata": {
    "slideshow": {
     "slide_type": "slide"
    }
   },
   "source": [
    "# Python ⇆ JS\n",
    "\n",
    "This can be done, I'm sure. The post [*Embedding D3 in an IPython Notebook*](https://blog.thedataincubator.com/2015/08/embedding-d3-in-an-ipython-notebook/) achieves it Python to JS in following manner, first starting with finding out that `element` is bound in Javascript, it is a jQuery selected item and points to the output cell of the respective code cell."
   ]
  },
  {
   "cell_type": "code",
   "execution_count": 9,
   "metadata": {
    "slideshow": {
     "slide_type": "subslide"
    }
   },
   "outputs": [
    {
     "data": {
      "application/javascript": [
       "console.log(element);\n",
       "element.append(\"<div>appended from JS</div>\")"
      ],
      "text/plain": [
       "<IPython.core.display.Javascript object>"
      ]
     },
     "metadata": {},
     "output_type": "display_data"
    }
   ],
   "source": [
    "%%javascript\n",
    "console.log(element);\n",
    "element.append(\"<div>appended from JS</div>\")"
   ]
  },
  {
   "cell_type": "markdown",
   "metadata": {
    "slideshow": {
     "slide_type": "fragment"
    }
   },
   "source": [
    "So that's cool, we have a designated, related output DOM object to manipulate without selecting."
   ]
  },
  {
   "cell_type": "markdown",
   "metadata": {
    "slideshow": {
     "slide_type": "subslide"
    }
   },
   "source": [
    "Then the question of transferring data. The same post uses the following way to bind data from Python to the `window` DOM object, by running arbitrary client-side JS with `IPython.display.Javascript`."
   ]
  },
  {
   "cell_type": "code",
   "execution_count": 10,
   "metadata": {
    "slideshow": {
     "slide_type": "fragment"
    }
   },
   "outputs": [],
   "source": [
    "from IPython.display import Javascript\n",
    "import numpy as np\n",
    "import pandas as pd\n",
    "import seaborn as sns\n",
    "import json"
   ]
  },
  {
   "cell_type": "code",
   "execution_count": 11,
   "metadata": {
    "slideshow": {
     "slide_type": "subslide"
    }
   },
   "outputs": [],
   "source": [
    "some_data = np.random.randn(2, 10)\n",
    "df = pd.DataFrame(some_data.T, columns=list('AB'))"
   ]
  },
  {
   "cell_type": "code",
   "execution_count": 12,
   "metadata": {
    "slideshow": {
     "slide_type": "fragment"
    }
   },
   "outputs": [
    {
     "data": {
      "image/png": "[encoded data removed]",
      "text/plain": [
       "<matplotlib.figure.Figure at 0x105158048>"
      ]
     },
     "metadata": {},
     "output_type": "display_data"
    }
   ],
   "source": [
    "df.plot();"
   ]
  },
  {
   "cell_type": "markdown",
   "metadata": {
    "slideshow": {
     "slide_type": "subslide"
    }
   },
   "source": [
    "And then reproduced in Javascript side, with D3. First bind the data to `window`"
   ]
  },
  {
   "cell_type": "code",
   "execution_count": 13,
   "metadata": {
    "slideshow": {
     "slide_type": "fragment"
    }
   },
   "outputs": [
    {
     "data": {
      "application/javascript": [
       "\n",
       "           window.vizObj={\"A\":{\"0\":-0.0639496243,\"1\":0.3351526826,\"2\":-1.6627088768,\"3\":-0.0084261586,\"4\":-0.7294978378,\"5\":1.3339311874,\"6\":0.1223034328,\"7\":1.4550862151,\"8\":-0.6179809347,\"9\":-0.0860777002},\"B\":{\"0\":0.0012967202,\"1\":-1.816765905,\"2\":-0.3980847186,\"3\":-0.3029518387,\"4\":-0.6593529012,\"5\":0.74350811,\"6\":-0.7725970886,\"7\":-1.1911698805,\"8\":0.7945122403,\"9\":2.4284837189}};\n",
       "           console.log(window.vizObj);\n",
       "           element.append(\"Bound items of data to <code>window.vizObj</code>\");\n",
       "           "
      ],
      "text/plain": [
       "<IPython.core.display.Javascript object>"
      ]
     },
     "execution_count": 13,
     "metadata": {},
     "output_type": "execute_result"
    }
   ],
   "source": [
    "Javascript(\"\"\"\n",
    "           window.vizObj={data};\n",
    "           console.log(window.vizObj);\n",
    "           element.append(\"Bound items of data to <code>window.vizObj</code>\");\n",
    "           \"\"\".format(data=df.to_json()))"
   ]
  },
  {
   "cell_type": "markdown",
   "metadata": {
    "slideshow": {
     "slide_type": "subslide"
    }
   },
   "source": [
    "And then plot in Javascript"
   ]
  },
  {
   "cell_type": "code",
   "execution_count": 14,
   "metadata": {
    "scrolled": true,
    "slideshow": {
     "slide_type": "fragment"
    }
   },
   "outputs": [
    {
     "data": {
      "application/javascript": [
       "requirejs(['https://d3js.org/d3.v4.min.js'], function(d3) {\n",
       "    function dfToList(df) {\n",
       "        var d = [];\n",
       "        for (var k of Object.keys(df)) {\n",
       "            d.push(Object.values(df[k]));\n",
       "        }\n",
       "        return d\n",
       "    }\n",
       "    \n",
       "    function dfToDict(df) {\n",
       "        var d = {};\n",
       "        for (var k of Object.keys(df)) {\n",
       "            d[k] = Object.values(df[k]);\n",
       "        }\n",
       "        return d\n",
       "    }\n",
       "    \n",
       "    var svg = d3.select(element[0]).append(\"svg\")\n",
       "        .attr(\"width\", 300)\n",
       "        .style(\"background\", \"#fbfbfb\")\n",
       "        .style(\"border\", \"3px dashed lightgrey\");\n",
       "    \n",
       "    var linedata = dfToList(window.vizObj);\n",
       "    console.log(linedata);\n",
       "    \n",
       "    var x = d3.scaleLinear()\n",
       "        .domain([0, 9])\n",
       "        .range([0, 300]);\n",
       "    \n",
       "    var y = d3.scaleLinear()\n",
       "        .domain([-2, 2])\n",
       "        .range([150, 0]);\n",
       "    \n",
       "    var color = d3.scaleOrdinal(d3.schemeCategory10);\n",
       "   \n",
       "    var line = d3.line()\n",
       "        .x(function(d, i) {return x(i)})\n",
       "        .y(function(d) {return y(d)})\n",
       "    \n",
       "    svg.selectAll(\"path\")\n",
       "        .data(linedata)\n",
       "        .enter()\n",
       "        .append(\"path\")\n",
       "        .attr(\"d\", line)\n",
       "        .style(\"stroke\", function(d) {return color(d)})\n",
       "        .style(\"stroke-width\", 2)\n",
       "        .style(\"fill\", \"none\")\n",
       "        .on(\"mouseover\", function(d) {\n",
       "            console.log(this)\n",
       "            d3.select(this).style(\"stroke-width\", 5)\n",
       "            d3.select(this).attr(\"d\", line.curve(d3.curveBundle))\n",
       "            console.log(d)\n",
       "        })\n",
       "        .on(\"mouseout\", function(d) {\n",
       "            d3.select(this).style(\"stroke-width\", 3);\n",
       "            d3.select(this).attr(\"d\", line.curve(d3.curveLinear))\n",
       "        })\n",
       "})"
      ],
      "text/plain": [
       "<IPython.core.display.Javascript object>"
      ]
     },
     "metadata": {},
     "output_type": "display_data"
    }
   ],
   "source": [
    "%%javascript\n",
    "requirejs(['https://d3js.org/d3.v4.min.js'], function(d3) {\n",
    "    function dfToList(df) {\n",
    "        var d = [];\n",
    "        for (var k of Object.keys(df)) {\n",
    "            d.push(Object.values(df[k]));\n",
    "        }\n",
    "        return d\n",
    "    }\n",
    "    \n",
    "    function dfToDict(df) {\n",
    "        var d = {};\n",
    "        for (var k of Object.keys(df)) {\n",
    "            d[k] = Object.values(df[k]);\n",
    "        }\n",
    "        return d\n",
    "    }\n",
    "    \n",
    "    var svg = d3.select(element[0]).append(\"svg\")\n",
    "        .attr(\"width\", 300)\n",
    "        .style(\"background\", \"#fbfbfb\")\n",
    "        .style(\"border\", \"3px dashed lightgrey\");\n",
    "    \n",
    "    var linedata = dfToList(window.vizObj);\n",
    "    console.log(linedata);\n",
    "    \n",
    "    var x = d3.scaleLinear()\n",
    "        .domain([0, 9])\n",
    "        .range([0, 300]);\n",
    "    \n",
    "    var y = d3.scaleLinear()\n",
    "        .domain([-2, 2])\n",
    "        .range([150, 0]);\n",
    "    \n",
    "    var color = d3.scaleOrdinal(d3.schemeCategory10);\n",
    "   \n",
    "    var line = d3.line()\n",
    "        .x(function(d, i) {return x(i)})\n",
    "        .y(function(d) {return y(d)})\n",
    "    \n",
    "    svg.selectAll(\"path\")\n",
    "        .data(linedata)\n",
    "        .enter()\n",
    "        .append(\"path\")\n",
    "        .attr(\"d\", line)\n",
    "        .style(\"stroke\", function(d) {return color(d)})\n",
    "        .style(\"stroke-width\", 2)\n",
    "        .style(\"fill\", \"none\")\n",
    "        .on(\"mouseover\", function(d) {\n",
    "            console.log(this)\n",
    "            d3.select(this).style(\"stroke-width\", 5)\n",
    "            d3.select(this).attr(\"d\", line.curve(d3.curveBundle))\n",
    "            console.log(d)\n",
    "        })\n",
    "        .on(\"mouseout\", function(d) {\n",
    "            d3.select(this).style(\"stroke-width\", 3);\n",
    "            d3.select(this).attr(\"d\", line.curve(d3.curveLinear))\n",
    "        })\n",
    "})"
   ]
  },
  {
   "cell_type": "code",
   "execution_count": 15,
   "metadata": {},
   "outputs": [
    {
     "ename": "NameError",
     "evalue": "name 'window' is not defined",
     "output_type": "error",
     "traceback": [
      "\u001b[0;31m---------------------------------------------------------------------------\u001b[0m",
      "\u001b[0;31mNameError\u001b[0m                                 Traceback (most recent call last)",
      "\u001b[0;32m<ipython-input-15-8f561217362d>\u001b[0m in \u001b[0;36m<module>\u001b[0;34m()\u001b[0m\n\u001b[0;32m----> 1\u001b[0;31m \u001b[0mJavascript\u001b[0m\u001b[0;34m(\u001b[0m\u001b[0mwindow\u001b[0m\u001b[0;34m.\u001b[0m\u001b[0mvizObj\u001b[0m\u001b[0;34m)\u001b[0m\u001b[0;34m\u001b[0m\u001b[0m\n\u001b[0m",
      "\u001b[0;31mNameError\u001b[0m: name 'window' is not defined"
     ]
    }
   ],
   "source": [
    "Javascript(window.vizObj)"
   ]
  }
 ],
 "metadata": {
  "celltoolbar": "Slideshow",
  "kernelspec": {
   "display_name": "Python 3",
   "language": "python",
   "name": "python3"
  },
  "language_info": {
   "codemirror_mode": {
    "name": "ipython",
    "version": 3
   },
   "file_extension": ".py",
   "mimetype": "text/x-python",
   "name": "python",
   "nbconvert_exporter": "python",
   "pygments_lexer": "ipython3",
   "version": "3.6.3"
  },
  "livereveal": {
   "scroll": true
  }
 },
 "nbformat": 4,
 "nbformat_minor": 2
}
