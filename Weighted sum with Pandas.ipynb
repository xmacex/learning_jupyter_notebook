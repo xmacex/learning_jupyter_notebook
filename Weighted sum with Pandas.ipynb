{
 "cells": [
  {
   "cell_type": "markdown",
   "metadata": {},
   "source": [
    "# Weighted sum with Pandas\n",
    "\n",
    "I had some issues with doing basic weighted sum for item-item collaborative filtering on the Introduction to Recommender Systems course via Coursera. Let's learn this.\n",
    "\n",
    "One was predictions how a user $u$ would rate item $i$, given a similarity function $sim(i, j)$, a neighbourhood of similar items $N$, and knowledge of the target user's rating $r_{uj}$ for those items $j \\in N$.\n",
    "\n",
    "$p_{ui} = \\frac{\\sum_{j \\in N}sim(i, j)r_{uj}}{\\sum_{j \\in N} \\left| sim(i, j) \\right|}$"
   ]
  },
  {
   "cell_type": "code",
   "execution_count": 59,
   "metadata": {
    "collapsed": true
   },
   "outputs": [],
   "source": [
    "import pandas as pd\n",
    "import scipy"
   ]
  },
  {
   "cell_type": "markdown",
   "metadata": {},
   "source": [
    "Next, some data."
   ]
  },
  {
   "cell_type": "code",
   "execution_count": 116,
   "metadata": {
    "collapsed": false
   },
   "outputs": [],
   "source": [
    "animals = ['kitten', 'puppy', 'giraffe', 'pokemon', 'snake']\n",
    "\n",
    "ratings = pd.Series([5, 5, 10, 1, 5], index = animals)\n",
    "weights = pd.Series([0.5, 0.9, 0.6, 0.1, 0.3], index = animals)"
   ]
  },
  {
   "cell_type": "code",
   "execution_count": 80,
   "metadata": {
    "collapsed": false
   },
   "outputs": [
    {
     "data": {
      "text/plain": [
       "kitten     2.5\n",
       "puppy      4.5\n",
       "giraffe    1.2\n",
       "pokemon    0.1\n",
       "snake      1.5\n",
       "dtype: float64"
      ]
     },
     "execution_count": 80,
     "metadata": {},
     "output_type": "execute_result"
    }
   ],
   "source": [
    "ratings * weights"
   ]
  },
  {
   "cell_type": "markdown",
   "metadata": {},
   "source": [
    "In our scenario, the data is sparse, and while there are similarities between each pair of $i$ and $j$, the ratings matrix is sparse. The task is to predict the mission ratings. So let's similate that. For the neighbourhood $N$ let's just use all the other items."
   ]
  },
  {
   "cell_type": "code",
   "execution_count": 119,
   "metadata": {
    "collapsed": false
   },
   "outputs": [
    {
     "data": {
      "text/plain": [
       "kitten      5\n",
       "puppy       5\n",
       "giraffe   NaN\n",
       "pokemon     1\n",
       "snake       5\n",
       "dtype: float64"
      ]
     },
     "execution_count": 119,
     "metadata": {},
     "output_type": "execute_result"
    }
   ],
   "source": [
    "#sparseratings = ratings.drop('pokemon')\n",
    "sparseratings = ratings.copy()# .loc[5277]['giraffe']\n",
    "sparseratings['giraffe'] = scipy.nan\n",
    "sparseratings"
   ]
  },
  {
   "cell_type": "markdown",
   "metadata": {},
   "source": [
    "Right. Let's walk throught this step-by-step to see how Pandas takes care of missing values."
   ]
  },
  {
   "cell_type": "code",
   "execution_count": 120,
   "metadata": {
    "collapsed": false
   },
   "outputs": [
    {
     "data": {
      "text/plain": [
       "kitten     2.5\n",
       "puppy      4.5\n",
       "giraffe    NaN\n",
       "pokemon    0.1\n",
       "snake      1.5\n",
       "dtype: float64"
      ]
     },
     "execution_count": 120,
     "metadata": {},
     "output_type": "execute_result"
    }
   ],
   "source": [
    "sparseratings * weights"
   ]
  },
  {
   "cell_type": "code",
   "execution_count": 122,
   "metadata": {
    "collapsed": false
   },
   "outputs": [
    {
     "data": {
      "text/plain": [
       "2.3999999999999999"
      ]
     },
     "execution_count": 122,
     "metadata": {},
     "output_type": "execute_result"
    }
   ],
   "source": [
    "weights.sum()"
   ]
  },
  {
   "cell_type": "code",
   "execution_count": 121,
   "metadata": {
    "collapsed": false
   },
   "outputs": [
    {
     "data": {
      "text/plain": [
       "kitten     0.5\n",
       "puppy      0.9\n",
       "giraffe    0.6\n",
       "pokemon    0.1\n",
       "snake      0.3\n",
       "dtype: float64"
      ]
     },
     "execution_count": 121,
     "metadata": {},
     "output_type": "execute_result"
    }
   ],
   "source": [
    "weights.filter(sparseratings.index)"
   ]
  },
  {
   "cell_type": "markdown",
   "metadata": {},
   "source": [
    "Ok predict the removed values. To remind ourselves, they are:"
   ]
  },
  {
   "cell_type": "code",
   "execution_count": 123,
   "metadata": {
    "collapsed": false
   },
   "outputs": [
    {
     "name": "stdout",
     "output_type": "stream",
     "text": [
      "giraffe missings, with rating 10, weight 0.6\n"
     ]
    }
   ],
   "source": [
    "for missing in ratings.loc[sparseratings.isnull()].index:\n",
    "    print(\"{a} missings, with rating {r}, weight {w}\".format(a = missing, r = ratings.loc[missing], w = weights.loc[missing]))"
   ]
  },
  {
   "cell_type": "code",
   "execution_count": 124,
   "metadata": {
    "collapsed": false
   },
   "outputs": [
    {
     "data": {
      "text/plain": [
       "3.5833333333333335"
      ]
     },
     "execution_count": 124,
     "metadata": {},
     "output_type": "execute_result"
    }
   ],
   "source": [
    "(sparseratings * weights.filter(sparseratings.index)).sum() / weights.filter(sparseratings.index).sum()"
   ]
  }
 ],
 "metadata": {
  "kernelspec": {
   "display_name": "Python 3",
   "language": "python",
   "name": "python3"
  },
  "language_info": {
   "codemirror_mode": {
    "name": "ipython",
    "version": 3
   },
   "file_extension": ".py",
   "mimetype": "text/x-python",
   "name": "python",
   "nbconvert_exporter": "python",
   "pygments_lexer": "ipython3",
   "version": "3.5.2"
  }
 },
 "nbformat": 4,
 "nbformat_minor": 0
}
