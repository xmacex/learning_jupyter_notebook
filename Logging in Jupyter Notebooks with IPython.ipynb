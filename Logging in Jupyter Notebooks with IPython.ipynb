{
 "cells": [
  {
   "cell_type": "markdown",
   "metadata": {},
   "source": [
    "# Logging in Jupyter Notebooks with IPython\n",
    "\n",
    "Logging is a happy thing. Let's learn how to do professional quality logging. How to properly do it with Jupyter Notebooks, and IPython? [The general Python logging infrastructure is described here](https://docs.python.org/3/library/logging.html), and is implemented by the `logging` module.\n",
    "\n",
    "![](https://upload.wikimedia.org/wikipedia/commons/8/8a/H96566k.jpg \"The first bug, Courtesy of the Naval Surface Warfare Center, Dahlgren, VA., 1988. - U.S. Naval Historical Center Online Library Photograph NH 96566-KN, Public Domain, https://commons.wikimedia.org/w/index.php?curid=165211\")"
   ]
  },
  {
   "cell_type": "markdown",
   "metadata": {},
   "source": [
    "## First, IPython magic (⊃｡•́‿•̀｡)⊃━☆ﾟ.*･｡ﾟ\n",
    "\n",
    "IPython offers some [magic for logging](http://ipython.readthedocs.io/en/stable/interactive/magics.html#magic-logstart). I don't yet have any idea if this is about logging the IPython environment itself, or is this also useful for logging application development.\n",
    "\n",
    "* `%logstart`: activates logging to a file\n",
    "* `%logstop`: stops the above\n",
    "* `%logoff`: for temporarily suspending logging after it has been started\n",
    "* `%logon`: for resuming suspended logging\n",
    "* `%logstate`: queries the status"
   ]
  },
  {
   "cell_type": "code",
   "execution_count": 13,
   "metadata": {
    "collapsed": false
   },
   "outputs": [
    {
     "name": "stdout",
     "output_type": "stream",
     "text": [
      "Activating auto-logging. Current session state plus future input saved.\n",
      "Filename       : ipython_log.py\n",
      "Mode           : rotate\n",
      "Output logging : False\n",
      "Raw input log  : False\n",
      "Timestamping   : False\n",
      "State          : active\n"
     ]
    }
   ],
   "source": [
    "%logstart"
   ]
  },
  {
   "cell_type": "code",
   "execution_count": 14,
   "metadata": {
    "collapsed": false
   },
   "outputs": [
    {
     "name": "stdout",
     "output_type": "stream",
     "text": [
      "Filename       : ipython_log.py\n",
      "Mode           : rotate\n",
      "Output logging : False\n",
      "Raw input log  : False\n",
      "Timestamping   : False\n",
      "State          : active\n"
     ]
    }
   ],
   "source": [
    "%logstate"
   ]
  },
  {
   "cell_type": "code",
   "execution_count": 15,
   "metadata": {
    "collapsed": false
   },
   "outputs": [],
   "source": [
    "%logstop"
   ]
  },
  {
   "cell_type": "markdown",
   "metadata": {},
   "source": [
    "I'll try some new style print formatting, while i'm on it."
   ]
  },
  {
   "cell_type": "code",
   "execution_count": 32,
   "metadata": {
    "collapsed": false
   },
   "outputs": [
    {
     "name": "stdout",
     "output_type": "stream",
     "text": [
      "Log contains total of 17 lines, of which 7 are unique\n",
      "   1: get_ipython().magic('logon')\n",
      "   1: get_ipython().magic('logend')\n",
      "   4: get_ipython().magic('logstop')\n",
      "   3: get_ipython().magic('logstart')\n",
      "   1: # IPython log file\n",
      "   1: \n",
      "   6: get_ipython().magic('logstate')\n"
     ]
    }
   ],
   "source": [
    "with open('ipython_log.py') as fd:\n",
    "    loglines = fd.readlines()\n",
    "    \n",
    "print(\"Log contains total of {n_lines} lines, of which {n_unique} are unique\".format(n_lines=len(loglines), n_unique=len(set(loglines))))\n",
    "for line in set(loglines):\n",
    "    print(\"{count:4}: {l}\".format(count=loglines.count(line), l=line.strip()))"
   ]
  },
  {
   "cell_type": "markdown",
   "metadata": {},
   "source": [
    "## Normal Python logging\n",
    "\n",
    "Anyhow, in Python the typical logging capabilities are provided by the `logging` module."
   ]
  },
  {
   "cell_type": "code",
   "execution_count": 36,
   "metadata": {
    "collapsed": false
   },
   "outputs": [],
   "source": [
    "import logging"
   ]
  },
  {
   "cell_type": "markdown",
   "metadata": {},
   "source": [
    "Now,"
   ]
  },
  {
   "cell_type": "code",
   "execution_count": 37,
   "metadata": {
    "collapsed": true
   },
   "outputs": [],
   "source": [
    "logging.info(\"hello\")"
   ]
  },
  {
   "cell_type": "markdown",
   "metadata": {},
   "source": [
    "does not *seem* to do anything, because IPython already has started logging, and called `logging.basicConfig`. Let's get a reference to it."
   ]
  },
  {
   "cell_type": "code",
   "execution_count": 58,
   "metadata": {
    "collapsed": false
   },
   "outputs": [
    {
     "data": {
      "text/plain": [
       "{'disabled': False,\n",
       " 'filters': [],\n",
       " 'handlers': [<logging.StreamHandler at 0x7f2592ba5390>],\n",
       " 'level': 30,\n",
       " 'name': 'root',\n",
       " 'parent': None,\n",
       " 'propagate': True}"
      ]
     },
     "execution_count": 58,
     "metadata": {},
     "output_type": "execute_result"
    }
   ],
   "source": [
    "logger = logging.getLogger()\n",
    "logger.__dict__ # standard Python object description"
   ]
  },
  {
   "cell_type": "code",
   "execution_count": 64,
   "metadata": {
    "collapsed": false
   },
   "outputs": [
    {
     "data": {
      "text/plain": [
       "{'_name': None,\n",
       " 'filters': [],\n",
       " 'formatter': <logging.Formatter at 0x7f2591dbaf98>,\n",
       " 'level': 0,\n",
       " 'lock': <unlocked _thread.RLock object owner=0 count=0 at 0x7f2591de6cf0>,\n",
       " 'stream': <_io.TextIOWrapper name='<stderr>' mode='w' encoding='UTF-8'>}"
      ]
     },
     "execution_count": 64,
     "metadata": {},
     "output_type": "execute_result"
    }
   ],
   "source": [
    "logger.handlers[0].__dict__"
   ]
  },
  {
   "cell_type": "markdown",
   "metadata": {},
   "source": [
    "Ok so that goes to stderr. The default `root` logger defaults to level 30.\n",
    "\n",
    "The following should be visible on the console from where IPython was conjured, or wherever this IPython happens to send it's standard error, because level of `logger.critical` is strictly higher than what we have at the root logger level (ie. >30)."
   ]
  },
  {
   "cell_type": "code",
   "execution_count": 66,
   "metadata": {
    "collapsed": true
   },
   "outputs": [],
   "source": [
    "logger.critical('hello')"
   ]
  },
  {
   "cell_type": "markdown",
   "metadata": {},
   "source": [
    "And indeed it does!\n",
    "\n",
    "![](a critical log message.png)"
   ]
  },
  {
   "cell_type": "markdown",
   "metadata": {},
   "source": [
    "From the [`logging` module documentation](https://docs.python.org/3/library/logging.html#levels) we learn that the logging levels are:\n",
    "\n",
    "|Level    |Numeric value|\n",
    "|---------|------------:|\n",
    "|CRITICAL |50|\n",
    "|ERROR    |40|\n",
    "|WARNING  |30|\n",
    "|INFO     |20|\n",
    "|DEBUG    |10|\n",
    "|NOTSET   |0|"
   ]
  },
  {
   "cell_type": "markdown",
   "metadata": {},
   "source": [
    "Ok, so the logger called *root* has been defined, and is accessible by getting it. I believe what I want is to create my own logger."
   ]
  },
  {
   "cell_type": "code",
   "execution_count": 68,
   "metadata": {
    "collapsed": false
   },
   "outputs": [
    {
     "data": {
      "text/plain": [
       "{'disabled': False,\n",
       " 'filters': [],\n",
       " 'handlers': [],\n",
       " 'level': 0,\n",
       " 'manager': <logging.Manager at 0x7f25975da2b0>,\n",
       " 'name': 'mylogger',\n",
       " 'parent': <logging.RootLogger at 0x7f25975da240>,\n",
       " 'propagate': True}"
      ]
     },
     "execution_count": 68,
     "metadata": {},
     "output_type": "execute_result"
    }
   ],
   "source": [
    "mylogger = logging.getLogger('mylogger')\n",
    "mylogger.__dict__"
   ]
  },
  {
   "cell_type": "code",
   "execution_count": 72,
   "metadata": {
    "collapsed": true
   },
   "outputs": [],
   "source": [
    "mylogger.setLevel(logging.INFO)\n",
    "mylogger.info('I is I')"
   ]
  },
  {
   "cell_type": "markdown",
   "metadata": {},
   "source": [
    "## Integrating to workflows\n",
    "\n",
    "Great, a new logger was greated and it does log into the console.\n",
    "\n",
    "Now, how to tie it to the literate programming Notebook workflow? [Having a root logger is reported as an issue on IPython GitHub](https://github.com/ipython/ipython/issues/8282), which is weird since I think it's ok to have a logger. The logger framework is quite a construction on it's own.\n",
    "\n",
    "One idea is to set the logging level of the default logger when doing developing work, like so:"
   ]
  },
  {
   "cell_type": "code",
   "execution_count": 81,
   "metadata": {
    "collapsed": false
   },
   "outputs": [],
   "source": [
    "def workit(i):\n",
    "    for i in range(0, i):\n",
    "        logging.debug(\"Starting a costly computational operation, i={}\".format(i))\n",
    "        print(i, end=' ')"
   ]
  },
  {
   "cell_type": "code",
   "execution_count": 84,
   "metadata": {
    "collapsed": false
   },
   "outputs": [
    {
     "name": "stdout",
     "output_type": "stream",
     "text": [
      "0 1 2 3 4 "
     ]
    }
   ],
   "source": [
    "logging.getLogger().setLevel(logging.DEBUG)\n",
    "workit(5)"
   ]
  },
  {
   "cell_type": "markdown",
   "metadata": {},
   "source": [
    "The above does print to the log. And then when done with developing, set"
   ]
  },
  {
   "cell_type": "code",
   "execution_count": 85,
   "metadata": {
    "collapsed": false
   },
   "outputs": [
    {
     "name": "stdout",
     "output_type": "stream",
     "text": [
      "0 1 "
     ]
    }
   ],
   "source": [
    "logging.getLogger().setLevel(logging.WARNING)\n",
    "workit(2)"
   ]
  },
  {
   "cell_type": "markdown",
   "metadata": {},
   "source": [
    "Two ideas were tried above: getting a new logger which defaults to level `logging.NOTSET` = 0 and using it for all logging purposes, or getting the previously existing root logger and adjusting it's level. Both seem to work. The former has the advantage that the logging messages bear a more specific name than \"root\".\n",
    "\n",
    "What one would like to do further is adjust log handlers for creating f.ex. logfiles, and somehow getting logging messages into the Notebooks perhaps? Is this a useful workflow, for f.ex. data analysis jobs? On one hand logging messages are clutter, but on the other hand one want's to do literate programming. Hmm perhaps level `INFO` should come to the Notebook, and `DEBUG` should only go to the console in the background. That sounds like setting up a logging handler for `INFO` messages."
   ]
  }
 ],
 "metadata": {
  "kernelspec": {
   "display_name": "Python 3",
   "language": "python",
   "name": "python3"
  },
  "language_info": {
   "codemirror_mode": {
    "name": "ipython",
    "version": 3
   },
   "file_extension": ".py",
   "mimetype": "text/x-python",
   "name": "python",
   "nbconvert_exporter": "python",
   "pygments_lexer": "ipython3",
   "version": "3.5.2rc1"
  }
 },
 "nbformat": 4,
 "nbformat_minor": 0
}
