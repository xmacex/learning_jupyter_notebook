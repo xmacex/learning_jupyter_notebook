{
 "cells": [
  {
   "cell_type": "markdown",
   "metadata": {},
   "source": [
    "# Logging in Jupyter Notebooks with IPython\n",
    "\n",
    "Logging is a happy thing. Let's learn how to do professional quality logging. How to properly do it with Jupyter Notebooks, and IPython? [The general Python logging infrastructure is described here](https://docs.python.org/3/library/logging.html), and is implemented by the `logging` module.\n",
    "\n",
    "![](https://upload.wikimedia.org/wikipedia/commons/8/8a/H96566k.jpg \"The first bug, Courtesy of the Naval Surface Warfare Center, Dahlgren, VA., 1988. - U.S. Naval Historical Center Online Library Photograph NH 96566-KN, Public Domain, https://commons.wikimedia.org/w/index.php?curid=165211\")"
   ]
  },
  {
   "cell_type": "markdown",
   "metadata": {},
   "source": [
    "## First, IPython magic (⊃｡•́‿•̀｡)⊃━☆ﾟ.*･｡ﾟ\n",
    "\n",
    "IPython offers some [magic for logging](http://ipython.readthedocs.io/en/stable/interactive/magics.html#magic-logstart). I don't yet have any idea if this is about logging the IPython environment itself, or is this also useful for logging application development.\n",
    "\n",
    "* `%logstart`: activates logging to a file\n",
    "* `%logstop`: stops the above\n",
    "* `%logoff`: for temporarily suspending logging after it has been started\n",
    "* `%logon`: for resuming suspended logging\n",
    "* `%logstate`: queries the status"
   ]
  },
  {
   "cell_type": "code",
   "execution_count": 1,
   "metadata": {},
   "outputs": [
    {
     "name": "stdout",
     "output_type": "stream",
     "text": [
      "Activating auto-logging. Current session state plus future input saved.\n",
      "Filename       : ipython_log.py\n",
      "Mode           : rotate\n",
      "Output logging : False\n",
      "Raw input log  : False\n",
      "Timestamping   : False\n",
      "State          : active\n"
     ]
    }
   ],
   "source": [
    "%logstart"
   ]
  },
  {
   "cell_type": "code",
   "execution_count": 2,
   "metadata": {},
   "outputs": [
    {
     "name": "stdout",
     "output_type": "stream",
     "text": [
      "Filename       : ipython_log.py\n",
      "Mode           : rotate\n",
      "Output logging : False\n",
      "Raw input log  : False\n",
      "Timestamping   : False\n",
      "State          : active\n"
     ]
    }
   ],
   "source": [
    "%logstate"
   ]
  },
  {
   "cell_type": "code",
   "execution_count": 3,
   "metadata": {},
   "outputs": [],
   "source": [
    "%logstop"
   ]
  },
  {
   "cell_type": "markdown",
   "metadata": {},
   "source": [
    "I'll try some new style print formatting, while i'm on it."
   ]
  },
  {
   "cell_type": "code",
   "execution_count": 4,
   "metadata": {},
   "outputs": [
    {
     "name": "stdout",
     "output_type": "stream",
     "text": [
      "Log contains total of 5 lines, of which 5 are unique\n",
      "   1: \n",
      "   1: get_ipython().run_line_magic('logstart', '')\n",
      "   1: get_ipython().run_line_magic('logstop', '')\n",
      "   1: # IPython log file\n",
      "   1: get_ipython().run_line_magic('logstate', '')\n"
     ]
    }
   ],
   "source": [
    "with open('ipython_log.py') as fd:\n",
    "    loglines = fd.readlines()\n",
    "    \n",
    "print(\"Log contains total of {n_lines} lines, of which {n_unique} are unique\".format(n_lines=len(loglines), n_unique=len(set(loglines))))\n",
    "for line in set(loglines):\n",
    "    print(\"{count:4}: {l}\".format(count=loglines.count(line), l=line.strip()))"
   ]
  },
  {
   "cell_type": "markdown",
   "metadata": {},
   "source": [
    "## Normal Python logging\n",
    "\n",
    "Anyhow, in Python the typical logging capabilities are provided by the `logging` module."
   ]
  },
  {
   "cell_type": "code",
   "execution_count": 5,
   "metadata": {},
   "outputs": [],
   "source": [
    "import logging"
   ]
  },
  {
   "cell_type": "markdown",
   "metadata": {},
   "source": [
    "Now,"
   ]
  },
  {
   "cell_type": "code",
   "execution_count": 6,
   "metadata": {},
   "outputs": [],
   "source": [
    "logging.info(\"hello\")"
   ]
  },
  {
   "cell_type": "markdown",
   "metadata": {},
   "source": [
    "does not *seem* to do anything, because IPython already has started logging, and called `logging.basicConfig`. Let's get a reference to it."
   ]
  },
  {
   "cell_type": "code",
   "execution_count": 7,
   "metadata": {},
   "outputs": [
    {
     "data": {
      "text/plain": [
       "{'disabled': False,\n",
       " 'filters': [],\n",
       " 'handlers': [<StreamHandler stderr (NOTSET)>],\n",
       " 'level': 30,\n",
       " 'name': 'root',\n",
       " 'parent': None,\n",
       " 'propagate': True}"
      ]
     },
     "execution_count": 7,
     "metadata": {},
     "output_type": "execute_result"
    }
   ],
   "source": [
    "logger = logging.getLogger()\n",
    "logger.__dict__ # standard Python object description"
   ]
  },
  {
   "cell_type": "code",
   "execution_count": 8,
   "metadata": {},
   "outputs": [
    {
     "data": {
      "text/plain": [
       "{'_name': None,\n",
       " 'filters': [],\n",
       " 'formatter': <logging.Formatter at 0x106584860>,\n",
       " 'level': 0,\n",
       " 'lock': <unlocked _thread.RLock object owner=0 count=0 at 0x1065711e0>,\n",
       " 'stream': <ipykernel.iostream.OutStream at 0x1064358d0>}"
      ]
     },
     "execution_count": 8,
     "metadata": {},
     "output_type": "execute_result"
    }
   ],
   "source": [
    "logger.handlers[0].__dict__"
   ]
  },
  {
   "cell_type": "markdown",
   "metadata": {},
   "source": [
    "Ok so that is configured to go to stderr stream, and Jupyter catches that. The default `root` logger defaults to level 30."
   ]
  },
  {
   "cell_type": "markdown",
   "metadata": {},
   "source": [
    "## Logging levels"
   ]
  },
  {
   "cell_type": "markdown",
   "metadata": {},
   "source": [
    "From the [`logging` module documentation](https://docs.python.org/3/library/logging.html#levels) we learn that the logging levels are:\n",
    "\n",
    "|Level    |Numeric value|\n",
    "|---------|------------:|\n",
    "|CRITICAL |50|\n",
    "|ERROR    |40|\n",
    "|WARNING  |30|\n",
    "|INFO     |20|\n",
    "|DEBUG    |10|\n",
    "|NOTSET   |0|"
   ]
  },
  {
   "cell_type": "markdown",
   "metadata": {},
   "source": [
    "## Creating a logger."
   ]
  },
  {
   "cell_type": "markdown",
   "metadata": {},
   "source": [
    "Ok, so the logger called *root* has been defined, and is accessible by getting it. I believe what I want is to create my own logger."
   ]
  },
  {
   "cell_type": "code",
   "execution_count": 9,
   "metadata": {},
   "outputs": [
    {
     "data": {
      "text/plain": [
       "{'disabled': False,\n",
       " 'filters': [],\n",
       " 'handlers': [],\n",
       " 'level': 0,\n",
       " 'manager': <logging.Manager at 0x1046a2128>,\n",
       " 'name': 'mylogger',\n",
       " 'parent': <RootLogger root (WARNING)>,\n",
       " 'propagate': True}"
      ]
     },
     "execution_count": 9,
     "metadata": {},
     "output_type": "execute_result"
    }
   ],
   "source": [
    "mylogger = logging.getLogger('mylogger')\n",
    "mylogger.__dict__"
   ]
  },
  {
   "cell_type": "code",
   "execution_count": 10,
   "metadata": {},
   "outputs": [
    {
     "name": "stderr",
     "output_type": "stream",
     "text": [
      "INFO:mylogger:I is I\n"
     ]
    }
   ],
   "source": [
    "mylogger.setLevel(logging.INFO)\n",
    "mylogger.info('I is I')"
   ]
  },
  {
   "cell_type": "markdown",
   "metadata": {},
   "source": [
    "## Unclarity if it goes to the terminal, or the Notebook"
   ]
  },
  {
   "cell_type": "markdown",
   "metadata": {},
   "source": [
    "Previously when I wrote this notebook, the following was be visible on the console from where IPython was conjured, or wherever this IPython happens to send it's standard error."
   ]
  },
  {
   "cell_type": "code",
   "execution_count": 11,
   "metadata": {},
   "outputs": [
    {
     "name": "stderr",
     "output_type": "stream",
     "text": [
      "CRITICAL:root:hello\n"
     ]
    }
   ],
   "source": [
    "logger.critical('hello')"
   ]
  },
  {
   "cell_type": "markdown",
   "metadata": {},
   "source": [
    "And indeed so it did!\n",
    "\n",
    "![](a critical log message.png)"
   ]
  },
  {
   "cell_type": "markdown",
   "metadata": {},
   "source": [
    " This behaviour of going just to the terminal where Jupyter is running was reported as an issue [*Python log in the jupyter notebook appears only in the terminal, not in the output cell*](https://github.com/ipython/ipykernel/issues/111) for [ipykernel](https://github.com/ipython/ipykernel). Things have since changed (back to how they were earlier), and logs appear in the Notebook; unless one adds other places for them to go to. These are called *handlers*."
   ]
  },
  {
   "cell_type": "code",
   "execution_count": 12,
   "metadata": {},
   "outputs": [
    {
     "name": "stdout",
     "output_type": "stream",
     "text": [
      "{'filters': [], 'name': 'terminal', 'level': 0, 'parent': None, 'propagate': True, 'handlers': [<RotatingFileHandler /dev/stdout (NOTSET)>], 'disabled': False}\n"
     ]
    }
   ],
   "source": [
    "terminal_handler = logging.handlers.RotatingFileHandler('/dev/stdout')\n",
    "\n",
    "terminal_logger = logging.Logger('terminal')\n",
    "terminal_logger.addHandler(terminal_handler)\n",
    "\n",
    "print(terminal_logger.__dict__)"
   ]
  },
  {
   "cell_type": "markdown",
   "metadata": {},
   "source": [
    "And then"
   ]
  },
  {
   "cell_type": "code",
   "execution_count": 13,
   "metadata": {},
   "outputs": [],
   "source": [
    "terminal_logger.info(\"hello to terminal\")"
   ]
  },
  {
   "cell_type": "markdown",
   "metadata": {},
   "source": [
    "Of the things in `logging.handlers`, at least `RotatingFileHandler`, `QueueHandler` and `SyslogHandler` look obviously interesting."
   ]
  },
  {
   "cell_type": "markdown",
   "metadata": {},
   "source": [
    "## Integrating to workflows\n",
    "\n",
    "Great, a new logger was greated and it does log into the console.\n",
    "\n",
    "Now, how to tie it to the literate programming Notebook workflow? [Having a root logger is reported as an issue on IPython GitHub](https://github.com/ipython/ipython/issues/8282), which is weird since I think it's ok to have a logger. The logger framework is quite a construction on it's own.\n",
    "\n",
    "One idea is to set the logging level of the default logger when doing developing work, like so:"
   ]
  },
  {
   "cell_type": "code",
   "execution_count": 14,
   "metadata": {},
   "outputs": [],
   "source": [
    "def prime(number):\n",
    "    \"\"\"Is n prime?\n",
    "    \n",
    "    >>> prime(20047)\n",
    "    True\n",
    "    \n",
    "    >>> prime(4)\n",
    "    False\n",
    "    \"\"\"\n",
    "    for factor in range(2, number):\n",
    "        if (number % factor) == 0:\n",
    "            return False\n",
    "    return True\n",
    "\n",
    "def primes(number, start=2):\n",
    "    \"\"\"A generator which searches n primes upwards of start.\n",
    "    \n",
    "    >>> list(primes(3))\n",
    "    [2, 3, 5]\n",
    "    \n",
    "    >>> list(primes(5, start=5413))\n",
    "    [5413, 5417, 5419, 5431, 5437]\n",
    "    \"\"\"\n",
    "    count = 0\n",
    "    candidate = start\n",
    "    while count < number:\n",
    "        logging.debug(\"Starting a costly computational operation, {} primes so far\".format(count))\n",
    "        if prime(candidate):\n",
    "            # print(num, end=' ')\n",
    "            yield candidate\n",
    "            count += 1\n",
    "        candidate += 1"
   ]
  },
  {
   "cell_type": "markdown",
   "metadata": {},
   "source": [
    "Run the examples as unit tests"
   ]
  },
  {
   "cell_type": "code",
   "execution_count": 15,
   "metadata": {},
   "outputs": [
    {
     "data": {
      "text/plain": [
       "TestResults(failed=0, attempted=4)"
      ]
     },
     "execution_count": 15,
     "metadata": {},
     "output_type": "execute_result"
    }
   ],
   "source": [
    "import doctest\n",
    "doctest.testmod()"
   ]
  },
  {
   "cell_type": "markdown",
   "metadata": {},
   "source": [
    "Here I am using the root logger, though maybe I should adopt the habit of using my own loggers instead. I've defined `mylogger` above."
   ]
  },
  {
   "cell_type": "code",
   "execution_count": 16,
   "metadata": {},
   "outputs": [
    {
     "name": "stderr",
     "output_type": "stream",
     "text": [
      "DEBUG:root:Starting a costly computational operation, 0 primes so far\n",
      "DEBUG:root:Starting a costly computational operation, 1 primes so far\n",
      "DEBUG:root:Starting a costly computational operation, 1 primes so far\n",
      "DEBUG:root:Starting a costly computational operation, 2 primes so far\n",
      "DEBUG:root:Starting a costly computational operation, 2 primes so far\n"
     ]
    },
    {
     "data": {
      "text/plain": [
       "[3, 5, 7]"
      ]
     },
     "execution_count": 16,
     "metadata": {},
     "output_type": "execute_result"
    }
   ],
   "source": [
    "logging.getLogger().setLevel(logging.DEBUG)\n",
    "[prime for prime in primes(3, start=3)]"
   ]
  },
  {
   "cell_type": "code",
   "execution_count": 17,
   "metadata": {},
   "outputs": [
    {
     "name": "stdout",
     "output_type": "stream",
     "text": [
      "2000003\n",
      "2000029\n",
      "2000039\n",
      "2000081\n",
      "2000083\n",
      "2000093\n",
      "2000107\n",
      "2000113\n",
      "2000143\n",
      "2000147\n"
     ]
    },
    {
     "data": {
      "text/plain": [
       "[None, None, None, None, None, None, None, None, None, None]"
      ]
     },
     "execution_count": 17,
     "metadata": {},
     "output_type": "execute_result"
    }
   ],
   "source": [
    "logging.getLogger().setLevel(logging.WARNING)\n",
    "[print(prime) for prime in primes(10, start=2000000)]"
   ]
  },
  {
   "cell_type": "markdown",
   "metadata": {},
   "source": [
    "![](http://www.lyonsinbeta.com/post-images/logging.jpg)\n",
    "\n",
    "Two ideas were tried above: getting a new logger which defaults to level `logging.NOTSET` = 0 and using it for all logging purposes, or getting the previously existing root logger and adjusting it's level. Both seem to work. The former has the advantage that the logging messages bear a more specific name than \"root\".\n",
    "\n",
    "What one does want to do further is adjust log handlers for creating f.ex. logfiles, and often getting the logging into Notebooks? Is this a useful workflow, for f.ex. data analysis jobs? On one hand logging messages are clutter, but on the other hand one wants to do literate programming. Hmm perhaps level `INFO` should come to the Notebook, and `DEBUG` should only go to the console in the background. That sounds like setting up a logging handler for `INFO` messages."
   ]
  }
 ],
 "metadata": {
  "kernelspec": {
   "display_name": "Python 3",
   "language": "python",
   "name": "python3"
  },
  "language_info": {
   "codemirror_mode": {
    "name": "ipython",
    "version": 3
   },
   "file_extension": ".py",
   "mimetype": "text/x-python",
   "name": "python",
   "nbconvert_exporter": "python",
   "pygments_lexer": "ipython3",
   "version": "3.6.3"
  }
 },
 "nbformat": 4,
 "nbformat_minor": 1
}
