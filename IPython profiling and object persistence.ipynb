{
 "cells": [
  {
   "cell_type": "markdown",
   "metadata": {},
   "source": [
    "# Profiling and object persistence\n",
    "\n",
    "Let's try to learn some quick Python profiling, especially IPython memory things."
   ]
  },
  {
   "cell_type": "code",
   "execution_count": 36,
   "metadata": {
    "collapsed": false
   },
   "outputs": [],
   "source": [
    "import sys, pickle\n",
    "%reload_ext memory_profiler"
   ]
  },
  {
   "cell_type": "code",
   "execution_count": 15,
   "metadata": {
    "collapsed": true
   },
   "outputs": [],
   "source": [
    "class Animal():\n",
    "    def __init__(self, legs, tail, sound, diet):\n",
    "        self.legs = legs\n",
    "        self.tail = tail\n",
    "        self.sound = sound\n",
    "        self.diet = diet"
   ]
  },
  {
   "cell_type": "code",
   "execution_count": 51,
   "metadata": {
    "collapsed": false
   },
   "outputs": [],
   "source": [
    "fishie = Animal(0, True, None, ['plankton'])\n",
    "kitty = Animal(4, True, 'meow', [fishie, 'cheezeburger'])\n",
    "puppy = Animal(4, True, 'yap', [kitty, 'couch', 'barf'])\n",
    "apie = Animal(2, True, 'wooh wooh', ['bananarama'])\n",
    "spidie = Animal(8, False, None, ['dust', 'fly', 'soul'])"
   ]
  },
  {
   "cell_type": "code",
   "execution_count": 52,
   "metadata": {
    "collapsed": false
   },
   "outputs": [
    {
     "data": {
      "text/plain": [
       "[None, 'meow', 'yap', 'wooh wooh', None]"
      ]
     },
     "execution_count": 52,
     "metadata": {},
     "output_type": "execute_result"
    }
   ],
   "source": [
    "zoo = [fishie, kitty, puppy, apie, spidie]\n",
    "[m for m in map(lambda l: l.sound, zoo)]"
   ]
  },
  {
   "cell_type": "code",
   "execution_count": 53,
   "metadata": {
    "collapsed": false
   },
   "outputs": [],
   "source": [
    "pickle.dump(puppy, open('puppypersist', 'wb'))\n",
    "pickle.dump(zoo, open('zoopersist', 'wb'))"
   ]
  },
  {
   "cell_type": "code",
   "execution_count": 54,
   "metadata": {
    "collapsed": false
   },
   "outputs": [
    {
     "name": "stdout",
     "output_type": "stream",
     "text": [
      "56 104\n"
     ]
    }
   ],
   "source": [
    "print(sys.getsizeof(kitty), sys.getsizeof(zoo))"
   ]
  },
  {
   "cell_type": "code",
   "execution_count": 57,
   "metadata": {
    "collapsed": false
   },
   "outputs": [
    {
     "data": {
      "text/plain": [
       "'meow'"
      ]
     },
     "execution_count": 57,
     "metadata": {},
     "output_type": "execute_result"
    }
   ],
   "source": [
    "persistedpuppy = pickle.load(open('puppypersist', 'rb'))\n",
    "persistedpuppy.diet[0].sound"
   ]
  },
  {
   "cell_type": "code",
   "execution_count": 27,
   "metadata": {
    "collapsed": false
   },
   "outputs": [
    {
     "name": "stdout",
     "output_type": "stream",
     "text": [
      "peak memory: 34.94 MiB, increment: 0.00 MiB\n"
     ]
    }
   ],
   "source": [
    "%memit -r 1 zoo"
   ]
  },
  {
   "cell_type": "markdown",
   "metadata": {},
   "source": [
    "And then..."
   ]
  },
  {
   "cell_type": "code",
   "execution_count": 42,
   "metadata": {
    "collapsed": false
   },
   "outputs": [],
   "source": [
    "#@profile\n",
    "def work(item):\n",
    "    return item ** 2\n",
    "\n",
    "a = 10\n",
    "b = 30\n",
    "c = a**2 + b\n",
    "for i in sorted(range(0, b), reverse=True):\n",
    "    work(i)"
   ]
  }
 ],
 "metadata": {
  "kernelspec": {
   "display_name": "Python 3",
   "language": "python",
   "name": "python3"
  },
  "language_info": {
   "codemirror_mode": {
    "name": "ipython",
    "version": 3
   },
   "file_extension": ".py",
   "mimetype": "text/x-python",
   "name": "python",
   "nbconvert_exporter": "python",
   "pygments_lexer": "ipython3",
   "version": "3.5.2rc1"
  }
 },
 "nbformat": 4,
 "nbformat_minor": 0
}
